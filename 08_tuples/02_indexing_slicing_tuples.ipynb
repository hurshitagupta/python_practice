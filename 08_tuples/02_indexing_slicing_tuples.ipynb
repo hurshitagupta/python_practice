{
 "cells": [
  {
   "cell_type": "markdown",
   "id": "f52084db",
   "metadata": {},
   "source": [
    "# INDEXING"
   ]
  },
  {
   "cell_type": "markdown",
   "id": "4075754c",
   "metadata": {},
   "source": [
    "Positive Indexing"
   ]
  },
  {
   "cell_type": "code",
   "execution_count": null,
   "id": "09cc064f",
   "metadata": {},
   "outputs": [
    {
     "name": "stdout",
     "output_type": "stream",
     "text": [
      "apple\n",
      "cherry litchi\n"
     ]
    }
   ],
   "source": [
    "fruits = (\"apple\", \"banana\", \"cherry\",\"litchi\",\"mango\")\n",
    "\n",
    "print(fruits[0])   #extracting 1st elem\n",
    "print(fruits[2], fruits[3]) #extracting 3rd and 4th elem"
   ]
  },
  {
   "cell_type": "markdown",
   "id": "19abdbf6",
   "metadata": {},
   "source": [
    "Negative Indexing"
   ]
  },
  {
   "cell_type": "code",
   "execution_count": null,
   "id": "abf78d0e",
   "metadata": {},
   "outputs": [
    {
     "name": "stdout",
     "output_type": "stream",
     "text": [
      "mango\n",
      "apple\n",
      "('banana', 'cherry')\n"
     ]
    }
   ],
   "source": [
    "fruits = (\"apple\", \"banana\", \"cherry\",\"litchi\",\"mango\")\n",
    "\n",
    "print(fruits[-1]) #extracting the last elem\n",
    "print(fruits[-5]) #extracting the first elem\n"
   ]
  },
  {
   "cell_type": "markdown",
   "id": "4a85133b",
   "metadata": {},
   "source": [
    "# SLICING"
   ]
  },
  {
   "cell_type": "code",
   "execution_count": 10,
   "id": "5030ed72",
   "metadata": {},
   "outputs": [
    {
     "name": "stdout",
     "output_type": "stream",
     "text": [
      "('apple', 'banana', 'cherry', 'litchi', 'mango')\n",
      "('apple', 'cherry')\n",
      "('banana', 'cherry', 'litchi')\n",
      "('banana', 'cherry')\n",
      "('cherry', 'litchi', 'mango')\n"
     ]
    }
   ],
   "source": [
    "print(fruits[::])\n",
    "print(fruits[:3:2])\n",
    "print(fruits[1:4]) #extracting the 2nd ,3rd and 4th elem\n",
    "print(fruits[-4:-2]) #extracting 2nd,3rd elem\n",
    "print(fruits[-3:])"
   ]
  },
  {
   "cell_type": "markdown",
   "id": "da567789",
   "metadata": {},
   "source": [
    "Reversing the tuple"
   ]
  },
  {
   "cell_type": "code",
   "execution_count": 11,
   "id": "eb68ec41",
   "metadata": {},
   "outputs": [
    {
     "name": "stdout",
     "output_type": "stream",
     "text": [
      "(8, 7, 6, 5, 4, 3)\n"
     ]
    }
   ],
   "source": [
    "my_tup = (3,4,5,6,7,8)\n",
    "print(my_tup[::-1])"
   ]
  },
  {
   "cell_type": "markdown",
   "id": "57630b58",
   "metadata": {},
   "source": [
    "# METHODS IN TUPLE"
   ]
  },
  {
   "cell_type": "markdown",
   "id": "7a722524",
   "metadata": {},
   "source": [
    "Count Method\n",
    "\n",
    "It counts the number of elements appearing in the tuple"
   ]
  },
  {
   "cell_type": "code",
   "execution_count": 14,
   "id": "e21805bb",
   "metadata": {},
   "outputs": [
    {
     "name": "stdout",
     "output_type": "stream",
     "text": [
      "3\n",
      "2\n",
      "0\n"
     ]
    }
   ],
   "source": [
    "tup1 = (23, 89, 76, 34, 23, 45, 87, 45, 12, 23, 54, 76)\n",
    "print(tup1.count(23))\n",
    "print(tup1.count(76))\n",
    "print(tup1.count(90))"
   ]
  },
  {
   "cell_type": "markdown",
   "id": "4ae4e04f",
   "metadata": {},
   "source": [
    "Index Method\n",
    "\n",
    "It returns the index of a particular element"
   ]
  },
  {
   "cell_type": "code",
   "execution_count": 16,
   "id": "b68a22b0",
   "metadata": {},
   "outputs": [
    {
     "name": "stdout",
     "output_type": "stream",
     "text": [
      "0\n",
      "5\n"
     ]
    }
   ],
   "source": [
    "tup2 = (34, 56, 43, 23, 78, 87 , 90, 0)\n",
    "\n",
    "print(tup2.index(34))\n",
    "print(tup2.index(87))"
   ]
  }
 ],
 "metadata": {
  "kernelspec": {
   "display_name": "Python 3",
   "language": "python",
   "name": "python3"
  },
  "language_info": {
   "codemirror_mode": {
    "name": "ipython",
    "version": 3
   },
   "file_extension": ".py",
   "mimetype": "text/x-python",
   "name": "python",
   "nbconvert_exporter": "python",
   "pygments_lexer": "ipython3",
   "version": "3.10.9"
  }
 },
 "nbformat": 4,
 "nbformat_minor": 5
}
