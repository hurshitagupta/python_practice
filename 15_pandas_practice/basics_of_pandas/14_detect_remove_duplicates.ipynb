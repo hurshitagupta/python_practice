{
 "cells": [
  {
   "cell_type": "markdown",
   "id": "de2a1ee2",
   "metadata": {},
   "source": [
    "Detecting And Removing The Duplicates "
   ]
  },
  {
   "cell_type": "code",
   "execution_count": 5,
   "id": "9179410f",
   "metadata": {},
   "outputs": [
    {
     "name": "stdout",
     "output_type": "stream",
     "text": [
      "    Name     City  Age\n",
      "0   Amit    Delhi   25\n",
      "1  Priya   Mumbai   30\n",
      "2   John  Chennai   22\n",
      "3   Amit    Delhi   25\n",
      "4   Ravi  Kolkata   28\n",
      "5   John  Chennai   22\n",
      "6   Neha     Pune   29\n"
     ]
    }
   ],
   "source": [
    "import pandas as pd\n",
    "\n",
    "data = {\n",
    "    'Name': ['Amit', 'Priya', 'John', 'Amit', 'Ravi', 'John', 'Neha'],\n",
    "    'City': ['Delhi', 'Mumbai', 'Chennai', 'Delhi', 'Kolkata', 'Chennai', 'Pune'],\n",
    "    'Age': [25, 30, 22, 25, 28, 22, 29]\n",
    "}\n",
    "\n",
    "df = pd.DataFrame(data)\n",
    "print(df)"
   ]
  },
  {
   "cell_type": "markdown",
   "id": "ecd5850e",
   "metadata": {},
   "source": [
    "Finding the duplicates"
   ]
  },
  {
   "cell_type": "code",
   "execution_count": 6,
   "id": "3da2988f",
   "metadata": {},
   "outputs": [
    {
     "name": "stdout",
     "output_type": "stream",
     "text": [
      "0    False\n",
      "1    False\n",
      "2    False\n",
      "3     True\n",
      "4    False\n",
      "5     True\n",
      "6    False\n",
      "dtype: bool\n",
      "   Name     City  Age\n",
      "3  Amit    Delhi   25\n",
      "5  John  Chennai   22\n"
     ]
    }
   ],
   "source": [
    "print(df.duplicated())\n",
    "\n",
    "#to see only the duplicated rows\n",
    "print(df[df.duplicated()])"
   ]
  },
  {
   "cell_type": "markdown",
   "id": "d83f23fe",
   "metadata": {},
   "source": [
    "Remove duplicate rows"
   ]
  },
  {
   "cell_type": "code",
   "execution_count": 7,
   "id": "8bd0dc83",
   "metadata": {},
   "outputs": [
    {
     "name": "stdout",
     "output_type": "stream",
     "text": [
      "    Name     City  Age\n",
      "0   Amit    Delhi   25\n",
      "1  Priya   Mumbai   30\n",
      "2   John  Chennai   22\n",
      "4   Ravi  Kolkata   28\n",
      "6   Neha     Pune   29\n"
     ]
    }
   ],
   "source": [
    "print(df.drop_duplicates())\n"
   ]
  },
  {
   "cell_type": "markdown",
   "id": "0db28bd2",
   "metadata": {},
   "source": [
    "Checking duplicates in for the specific column"
   ]
  },
  {
   "cell_type": "code",
   "execution_count": 9,
   "id": "29aba5db",
   "metadata": {},
   "outputs": [
    {
     "name": "stdout",
     "output_type": "stream",
     "text": [
      "   Name     City  Age\n",
      "3  Amit    Delhi   25\n",
      "5  John  Chennai   22\n"
     ]
    }
   ],
   "source": [
    "print(df[df.duplicated(subset=\"Name\")])\n"
   ]
  },
  {
   "cell_type": "markdown",
   "id": "7923a8da",
   "metadata": {},
   "source": [
    "Removing the duplicates for specific columns"
   ]
  },
  {
   "cell_type": "code",
   "execution_count": 10,
   "id": "69785d87",
   "metadata": {},
   "outputs": [
    {
     "name": "stdout",
     "output_type": "stream",
     "text": [
      "    Name     City  Age\n",
      "0   Amit    Delhi   25\n",
      "1  Priya   Mumbai   30\n",
      "2   John  Chennai   22\n",
      "4   Ravi  Kolkata   28\n",
      "6   Neha     Pune   29\n"
     ]
    }
   ],
   "source": [
    "print(df.drop_duplicates(subset=[\"Name\",\"Age\"]))"
   ]
  },
  {
   "cell_type": "markdown",
   "id": "dc39211f",
   "metadata": {},
   "source": [
    "### Practice Tasks\n",
    "\n"
   ]
  },
  {
   "cell_type": "markdown",
   "id": "2af95284",
   "metadata": {},
   "source": [
    "Q1: How many duplicate rows are there in the \n",
    "dataset?\n",
    "\n",
    "Q2: Show the duplicate rows only\n",
    "\n",
    "Q3: Drop all duplicate rows and print the result\n",
    "\n",
    "Q4: Drop duplicates based only on 'Name' and 'Age'"
   ]
  },
  {
   "cell_type": "code",
   "execution_count": null,
   "id": "65c1d115",
   "metadata": {},
   "outputs": [
    {
     "name": "stdout",
     "output_type": "stream",
     "text": [
      "2\n",
      "   Name     City  Age\n",
      "3  Amit    Delhi   25\n",
      "5  John  Chennai   22\n",
      "    Name     City  Age\n",
      "0   Amit    Delhi   25\n",
      "1  Priya   Mumbai   30\n",
      "2   John  Chennai   22\n",
      "4   Ravi  Kolkata   28\n",
      "6   Neha     Pune   29\n",
      "    Name     City  Age\n",
      "0   Amit    Delhi   25\n",
      "1  Priya   Mumbai   30\n",
      "2   John  Chennai   22\n",
      "4   Ravi  Kolkata   28\n",
      "6   Neha     Pune   29\n"
     ]
    }
   ],
   "source": [
    "import pandas as pd\n",
    "\n",
    "data = {\n",
    "    'Name': ['Amit', 'Priya', 'John', 'Amit', 'Ravi', 'John', 'Neha'],\n",
    "    'City': ['Delhi', 'Mumbai', 'Chennai', 'Delhi', 'Kolkata', 'Chennai', 'Pune'],\n",
    "    'Age': [25, 30, 22, 25, 28, 22, 29]\n",
    "}\n",
    "\n",
    "df = pd.DataFrame(data)\n",
    "# print(df)\n",
    "\n",
    "# q1 - how many duplicate rows are there in the dataset\n",
    "print(df.duplicated().sum())\n",
    "\n",
    "#q2 - show the duplicat rows only\n",
    "print(df[df.duplicated()])\n",
    "\n",
    "#q3 - drop all duplicate rows and print th result\n",
    "print(df.drop_duplicates())\n",
    "\n",
    "#q4 - drop duplicates based on name and age\n",
    "print(df.drop_duplicates(subset=[\"Name\",\"Age\"]))\n"
   ]
  }
 ],
 "metadata": {
  "kernelspec": {
   "display_name": "Python 3",
   "language": "python",
   "name": "python3"
  },
  "language_info": {
   "codemirror_mode": {
    "name": "ipython",
    "version": 3
   },
   "file_extension": ".py",
   "mimetype": "text/x-python",
   "name": "python",
   "nbconvert_exporter": "python",
   "pygments_lexer": "ipython3",
   "version": "3.10.9"
  }
 },
 "nbformat": 4,
 "nbformat_minor": 5
}
