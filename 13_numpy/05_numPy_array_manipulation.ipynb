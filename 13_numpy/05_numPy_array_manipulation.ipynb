{
 "cells": [
  {
   "cell_type": "markdown",
   "id": "3262794d",
   "metadata": {},
   "source": [
    "Boolean Masking/ Filtering"
   ]
  },
  {
   "cell_type": "markdown",
   "id": "e949bd0e",
   "metadata": {},
   "source": [
    "###### This helps in filtering the data through conditions"
   ]
  },
  {
   "cell_type": "code",
   "execution_count": 6,
   "id": "e194da64",
   "metadata": {},
   "outputs": [
    {
     "name": "stdout",
     "output_type": "stream",
     "text": [
      "[False False False  True  True]\n",
      "[40 50]\n",
      "[40 50]\n"
     ]
    }
   ],
   "source": [
    "import numpy as np\n",
    "arr = np.array([10,20,30,40,50])\n",
    "\n",
    "#1. find elements which are greater than 30\n",
    "mask = arr > 30\n",
    "print(mask)\n",
    "\n",
    "#2. use the mask to filter the values\n",
    "print(arr[mask])\n",
    "\n",
    "#3. direct filtering\n",
    "print(arr[arr>30])"
   ]
  },
  {
   "cell_type": "markdown",
   "id": "b902154c",
   "metadata": {},
   "source": [
    "When there is more than 1 condition"
   ]
  },
  {
   "cell_type": "code",
   "execution_count": 9,
   "id": "ffb64d3b",
   "metadata": {},
   "outputs": [
    {
     "name": "stdout",
     "output_type": "stream",
     "text": [
      "[False  True  True  True False]\n",
      "[2 3 4]\n",
      "[2 3 4]\n"
     ]
    }
   ],
   "source": [
    "arr = np.array([1,2,3,4,5])\n",
    "\n",
    "#printing the values which is greater than 1 and less than 5 (1<val<5)\n",
    "\n",
    "result = (arr > 1) & (arr < 5)\n",
    "print(result)\n",
    "print(arr[result])\n",
    "\n",
    "#combining both the print statements into one/ one liner solution\n",
    "print(arr[(arr>1)&(arr<5)])"
   ]
  },
  {
   "cell_type": "markdown",
   "id": "8718620e",
   "metadata": {},
   "source": [
    "Modify: set all values to > 3  to 3"
   ]
  },
  {
   "cell_type": "code",
   "execution_count": 11,
   "id": "23f97e58",
   "metadata": {},
   "outputs": [
    {
     "name": "stdout",
     "output_type": "stream",
     "text": [
      "[1 2 3 3 3]\n"
     ]
    }
   ],
   "source": [
    "arr = np.array([1,2,3,4,5])\n",
    "\n",
    "arr[arr > 3] = 3\n",
    "print(arr)"
   ]
  },
  {
   "cell_type": "markdown",
   "id": "c4e9c29c",
   "metadata": {},
   "source": [
    "Count how many values are above 10"
   ]
  },
  {
   "cell_type": "code",
   "execution_count": 15,
   "id": "c17d7225",
   "metadata": {},
   "outputs": [
    {
     "name": "stdout",
     "output_type": "stream",
     "text": [
      "4\n"
     ]
    }
   ],
   "source": [
    "arr1 = np.array([1,10,2,20,3,30,4,40,5,50])\n",
    "\n",
    "count = np.sum(arr1 > 10)\n",
    "print(count)"
   ]
  },
  {
   "cell_type": "markdown",
   "id": "bb5a230a",
   "metadata": {},
   "source": [
    "Get positions where value == 30"
   ]
  },
  {
   "cell_type": "code",
   "execution_count": 18,
   "id": "d9af925f",
   "metadata": {},
   "outputs": [
    {
     "name": "stdout",
     "output_type": "stream",
     "text": [
      "(array([4, 5]),)\n"
     ]
    }
   ],
   "source": [
    "arr1 = np.array([1,10,2,20,30,30,4,40,5,50])\n",
    "\n",
    "pos = np.where(arr1 == 30)\n",
    "print(pos)"
   ]
  },
  {
   "cell_type": "markdown",
   "id": "d62713cc",
   "metadata": {},
   "source": [
    "Reshaping -> converting a 1D into 2D or NDarray"
   ]
  },
  {
   "cell_type": "code",
   "execution_count": 1,
   "id": "bd5a8786",
   "metadata": {},
   "outputs": [
    {
     "name": "stdout",
     "output_type": "stream",
     "text": [
      "[[1 2 3]\n",
      " [4 5 6]]\n"
     ]
    }
   ],
   "source": [
    "import numpy as np\n",
    "\n",
    "arr1 = np.array([1,2,3,4,5,6])\n",
    "\n",
    "print(arr1.reshape(2,3))"
   ]
  },
  {
   "cell_type": "markdown",
   "id": "0f86e80c",
   "metadata": {},
   "source": [
    "Ravel -> converts 2D/ND array into 1D (makes a  view)"
   ]
  },
  {
   "cell_type": "code",
   "execution_count": 2,
   "id": "d7e0a84f",
   "metadata": {},
   "outputs": [
    {
     "name": "stdout",
     "output_type": "stream",
     "text": [
      "[1 2 3 4 5 6]\n"
     ]
    }
   ],
   "source": [
    "import numpy as np\n",
    "\n",
    "# create a 2D array\n",
    "\n",
    "arr2 = np.array([[1,2,3],[4,5,6]])\n",
    "print(arr2.ravel())"
   ]
  },
  {
   "cell_type": "markdown",
   "id": "9dd2d8de",
   "metadata": {},
   "source": [
    "Flatten -> converts 2D/ND into 1D (makes a copy)"
   ]
  },
  {
   "cell_type": "code",
   "execution_count": 3,
   "id": "d8bbb6a4",
   "metadata": {},
   "outputs": [
    {
     "name": "stdout",
     "output_type": "stream",
     "text": [
      "[10 20 30 40 50 60]\n"
     ]
    }
   ],
   "source": [
    "import numpy as np\n",
    "\n",
    "#create a 2D array\n",
    "arr_2d = np.array([[10,20,30],[40,50,60]])\n",
    "print(arr_2d.flatten())"
   ]
  }
 ],
 "metadata": {
  "kernelspec": {
   "display_name": "Python 3",
   "language": "python",
   "name": "python3"
  },
  "language_info": {
   "codemirror_mode": {
    "name": "ipython",
    "version": 3
   },
   "file_extension": ".py",
   "mimetype": "text/x-python",
   "name": "python",
   "nbconvert_exporter": "python",
   "pygments_lexer": "ipython3",
   "version": "3.10.9"
  }
 },
 "nbformat": 4,
 "nbformat_minor": 5
}
