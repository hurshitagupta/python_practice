{
 "cells": [
  {
   "cell_type": "markdown",
   "id": "6b2a1304",
   "metadata": {},
   "source": [
    "# Practice Question\n",
    "\n",
    "Question\n",
    "Define two sets students_passed_math and students_passed_science containing student IDs who passed Math and SCience respectively. Write python code to:\n",
    "\n",
    "1. Print the number of students who passed both math and science\n",
    "2. Print the student ids who passed only Math\n",
    "3. Print the student ids who passed only Science\n",
    "4. Determine if students_passed_math is a subset of student_passed_science\n",
    "5. Determine if students_passed_science is a superset of student_passed_math\n",
    "\n"
   ]
  },
  {
   "cell_type": "code",
   "execution_count": 3,
   "id": "e9e3214e",
   "metadata": {},
   "outputs": [
    {
     "name": "stdout",
     "output_type": "stream",
     "text": [
      "Students who passed both science and maths are:  {2, 8, 10, 12, 23}\n",
      "Students who only passed in math are:  {4, 5, 9, 13, 16, 17, 24}\n",
      "Students who only passed in math are:  {1, 3, 6, 14, 18, 19, 25}\n",
      "False\n",
      "False\n"
     ]
    }
   ],
   "source": [
    "students_passed_math = {2, 4, 5,8, 9,10, 12,13,16, 17, 23, 24}\n",
    "student_passed_science = {1,2,3,6,8,10,12,14,18,19,23,25}\n",
    "\n",
    "passed_both = students_passed_math.intersection(student_passed_science)\n",
    "print(\"Students who passed both science and maths are: \", passed_both)\n",
    "\n",
    "passed_math_only = students_passed_math.difference(student_passed_science)\n",
    "print(\"Students who only passed in math are: \", passed_math_only)\n",
    "\n",
    "passed_science_only = student_passed_science.difference(students_passed_math)\n",
    "print(\"Students who only passed in math are: \", passed_science_only)\n",
    "\n",
    "subset = students_passed_math.issubset(student_passed_science)\n",
    "print(subset)\n",
    "\n",
    "superset = students_passed_math.issuperset(student_passed_science)\n",
    "print(superset)\n"
   ]
  }
 ],
 "metadata": {
  "kernelspec": {
   "display_name": "Python 3",
   "language": "python",
   "name": "python3"
  },
  "language_info": {
   "codemirror_mode": {
    "name": "ipython",
    "version": 3
   },
   "file_extension": ".py",
   "mimetype": "text/x-python",
   "name": "python",
   "nbconvert_exporter": "python",
   "pygments_lexer": "ipython3",
   "version": "3.10.9"
  }
 },
 "nbformat": 4,
 "nbformat_minor": 5
}
