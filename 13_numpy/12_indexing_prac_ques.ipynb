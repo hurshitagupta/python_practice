{
 "cells": [
  {
   "cell_type": "markdown",
   "id": "a440db8e",
   "metadata": {},
   "source": [
    "#### Practice Question (Part -2)"
   ]
  },
  {
   "cell_type": "markdown",
   "id": "efdea23b",
   "metadata": {},
   "source": [
    "Q1: Extract the last row\n",
    "\n",
    "Q2: Extract the last column\n",
    "\n",
    "Q3: Get the middle 2x2 block from the modified array\n",
    "\n",
    "Q4: Set the first row to all 0s\n",
    "\n",
    "Q5: Create a 3D array of shape (2, 3, 4) and get:\n",
    "- The second block\n",
    "- The value at block 1, row 2, col 3"
   ]
  },
  {
   "cell_type": "code",
   "execution_count": 17,
   "id": "032e337c",
   "metadata": {},
   "outputs": [
    {
     "name": "stdout",
     "output_type": "stream",
     "text": [
      "[[ 1  2  3  4]\n",
      " [ 5  6  7  8]\n",
      " [ 9 10 11 12]]\n",
      "[ 9 10 11 12]\n",
      "[ 4  8 12]\n",
      "[[ 6  7]\n",
      " [10 11]]\n",
      "[[ 0  0  0  0]\n",
      " [ 5  6  7  8]\n",
      " [ 9 10 11 12]]\n",
      "[[[ 1  2  3  4]\n",
      "  [ 5  6  7  8]\n",
      "  [ 9 10 11 12]]\n",
      "\n",
      " [[13 14 15 16]\n",
      "  [17 18 19 20]\n",
      "  [21 22 23 24]]]\n",
      "[[13 14 15 16]\n",
      " [17 18 19 20]\n",
      " [21 22 23 24]]\n",
      "7\n"
     ]
    }
   ],
   "source": [
    "import numpy as np\n",
    "\n",
    "arr = np.arange(1,13).reshape(3,4)\n",
    "print(arr)\n",
    "\n",
    "#extracting last row\n",
    "last_row = arr[2]\n",
    "print(last_row)\n",
    "\n",
    "#extracting the last column\n",
    "last_col = arr[:,3]\n",
    "print(last_col)\n",
    "\n",
    "#extracting the middle 2X2 block\n",
    "block_arr = arr[1:, 1:3]\n",
    "print(block_arr)\n",
    "\n",
    "#setting first row to all zeros\n",
    "arr[0,:] = 0\n",
    "print(arr)\n",
    "\n",
    "# creating a 3d array of shape(2,3,4)\n",
    "arr_3d = np.arange(1,25).reshape(2,3,4)\n",
    "print(arr_3d)\n",
    "\n",
    "#extracting second block of 3d array\n",
    "second_block = arr_3d[1,:,:]\n",
    "print(second_block)\n",
    "\n",
    "#extracting the value of block 1: row2 and col3\n",
    "block_1 = arr_3d[0,1,2]\n",
    "print(block_1)"
   ]
  }
 ],
 "metadata": {
  "kernelspec": {
   "display_name": "Python 3",
   "language": "python",
   "name": "python3"
  },
  "language_info": {
   "codemirror_mode": {
    "name": "ipython",
    "version": 3
   },
   "file_extension": ".py",
   "mimetype": "text/x-python",
   "name": "python",
   "nbconvert_exporter": "python",
   "pygments_lexer": "ipython3",
   "version": "3.10.9"
  }
 },
 "nbformat": 4,
 "nbformat_minor": 5
}
