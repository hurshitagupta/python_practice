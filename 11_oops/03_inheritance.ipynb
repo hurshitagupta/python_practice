{
 "cells": [
  {
   "cell_type": "markdown",
   "id": "8361d04a",
   "metadata": {},
   "source": [
    "Inheritance"
   ]
  },
  {
   "cell_type": "markdown",
   "id": "d12bdd9d",
   "metadata": {},
   "source": [
    "Single Level Inheritance"
   ]
  },
  {
   "cell_type": "code",
   "execution_count": 1,
   "id": "a2bd27f9",
   "metadata": {},
   "outputs": [
    {
     "name": "stdout",
     "output_type": "stream",
     "text": [
      "Mom cooks\n",
      "Child plays\n"
     ]
    }
   ],
   "source": [
    "class Mom:\n",
    "\n",
    "    def cook(self):\n",
    "        print(\"Mom cooks\")\n",
    "\n",
    "class Child(Mom): #inherits cook method from mom\n",
    "\n",
    "    def play(self):\n",
    "        print(\"Child plays\")\n",
    "\n",
    "#creating objects for Child class\n",
    "c = Child()\n",
    "\n",
    "#calling the methods through child\n",
    "c.cook()\n",
    "c.play()"
   ]
  },
  {
   "cell_type": "markdown",
   "id": "74dfdf77",
   "metadata": {},
   "source": [
    "Multi Level Inheritance"
   ]
  },
  {
   "cell_type": "code",
   "execution_count": 3,
   "id": "3dcf58ba",
   "metadata": {},
   "outputs": [
    {
     "name": "stdout",
     "output_type": "stream",
     "text": [
      "mom cooks\n",
      "sister sings\n",
      "i play\n"
     ]
    }
   ],
   "source": [
    "class Mom:\n",
    "    def cook(self):\n",
    "        print(\"mom cooks\")\n",
    "\n",
    "class Sister(Mom):\n",
    "    def study(self):\n",
    "        print(\"sister sings\")\n",
    "    \n",
    "class Me(Sister):\n",
    "    def play(self):\n",
    "        print(\"i play\")\n",
    "\n",
    "#creating object for Me class\n",
    "me = Me()\n",
    "\n",
    "#calling the methods:\n",
    "me.cook()\n",
    "me.study()\n",
    "me.play()\n",
    "\n",
    "#Me class inherits the methods from Sister and Mom class"
   ]
  },
  {
   "cell_type": "markdown",
   "id": "a174a8aa",
   "metadata": {},
   "source": [
    "Multiple Inheritance"
   ]
  },
  {
   "cell_type": "code",
   "execution_count": 5,
   "id": "b93a4786",
   "metadata": {},
   "outputs": [
    {
     "name": "stdout",
     "output_type": "stream",
     "text": [
      "This is mother class\n",
      "This is father class\n",
      "I am child class\n"
     ]
    }
   ],
   "source": [
    "class Mother:\n",
    "\n",
    "    def show_mother(self):\n",
    "        print(\"This is mother class\")\n",
    "\n",
    "class Father:\n",
    "\n",
    "    def show_father(self):\n",
    "        print(\"This is father class\")\n",
    "\n",
    "class Child(Mother,Father):\n",
    "\n",
    "    def show_child(self):\n",
    "        print(\"I am child class\")\n",
    "\n",
    "#creating an object for child class\n",
    "\n",
    "child = Child()\n",
    "\n",
    "#calling all methods through child object\n",
    "child.show_mother()\n",
    "child.show_father()\n",
    "child.show_child()"
   ]
  },
  {
   "cell_type": "markdown",
   "id": "72e26096",
   "metadata": {},
   "source": [
    "Hierarchical Inheritance"
   ]
  },
  {
   "cell_type": "code",
   "execution_count": 6,
   "id": "dce368f8",
   "metadata": {},
   "outputs": [
    {
     "name": "stdout",
     "output_type": "stream",
     "text": [
      "I am a parent property\n",
      "I am a parent property\n"
     ]
    }
   ],
   "source": [
    "class Parent:\n",
    "\n",
    "    def parent_prop(self):\n",
    "        print(\"I am a parent property\")\n",
    "\n",
    "class Sister(Parent):\n",
    "\n",
    "    def sister_prop(self):\n",
    "        print(\"I am a sister property\")\n",
    "\n",
    "class Brother(Parent):\n",
    "\n",
    "    def brother_prop(self):\n",
    "        print(\"I am a brother property\")\n",
    "\n",
    "#creating objects for Brother and Sister class\n",
    "\n",
    "sister = Sister()\n",
    "brother = Brother()\n",
    "\n",
    "#calling parent method from both the objects\n",
    "\n",
    "sister.parent_prop()\n",
    "brother.parent_prop()"
   ]
  }
 ],
 "metadata": {
  "kernelspec": {
   "display_name": "Python 3",
   "language": "python",
   "name": "python3"
  },
  "language_info": {
   "codemirror_mode": {
    "name": "ipython",
    "version": 3
   },
   "file_extension": ".py",
   "mimetype": "text/x-python",
   "name": "python",
   "nbconvert_exporter": "python",
   "pygments_lexer": "ipython3",
   "version": "3.10.9"
  }
 },
 "nbformat": 4,
 "nbformat_minor": 5
}
