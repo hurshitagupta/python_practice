{
 "cells": [
  {
   "cell_type": "markdown",
   "id": "74ed2fc4",
   "metadata": {},
   "source": [
    "# SET METHODS"
   ]
  },
  {
   "cell_type": "markdown",
   "id": "f4418316",
   "metadata": {},
   "source": [
    "1. Checking if an item is in set or not"
   ]
  },
  {
   "cell_type": "code",
   "execution_count": 3,
   "id": "5fea8664",
   "metadata": {},
   "outputs": [
    {
     "name": "stdout",
     "output_type": "stream",
     "text": [
      "True\n",
      "False\n"
     ]
    }
   ],
   "source": [
    "set1 = {\"hello\",\"python\",\"data\",1,2,3,4}\n",
    "print(\"data\" in set1)\n",
    "print(\"science\" in set1)"
   ]
  },
  {
   "cell_type": "markdown",
   "id": "a66721fe",
   "metadata": {},
   "source": [
    "2. Length of Set"
   ]
  },
  {
   "cell_type": "code",
   "execution_count": 4,
   "id": "e6f43efb",
   "metadata": {},
   "outputs": [
    {
     "name": "stdout",
     "output_type": "stream",
     "text": [
      "4\n"
     ]
    }
   ],
   "source": [
    "set2 = {\"rat\",\"cat\",\"bat\",\"mat\"}\n",
    "print(len(set2))"
   ]
  },
  {
   "cell_type": "markdown",
   "id": "d6f8aa50",
   "metadata": {},
   "source": [
    "3. Inserting an Item"
   ]
  },
  {
   "cell_type": "code",
   "execution_count": null,
   "id": "3fadd94c",
   "metadata": {},
   "outputs": [
    {
     "name": "stdout",
     "output_type": "stream",
     "text": [
      "{1, 2, 3, 'c', 'd', 'b', 'a'}\n"
     ]
    }
   ],
   "source": [
    "# we cannot change the item in a set but we can add an item to it\n",
    "\n",
    "set3 = {\"a\",\"b\",\"c\",1,2,3}\n",
    "set3.add(\"d\")\n",
    "print(set3)\n",
    "\n"
   ]
  },
  {
   "cell_type": "markdown",
   "id": "68c06120",
   "metadata": {},
   "source": [
    "4. Updating a Set"
   ]
  },
  {
   "cell_type": "code",
   "execution_count": 6,
   "id": "c2bb4bd0",
   "metadata": {},
   "outputs": [
    {
     "name": "stdout",
     "output_type": "stream",
     "text": [
      "{1, 2, 3, 4, 5, 6, 'science', 'car', 'python', 'hello', 'data'}\n"
     ]
    }
   ],
   "source": [
    "set4 = {\"data\",\"car\",\"science\",\"hello\",\"python\"}\n",
    "set5 = {1,2,3,4,5,6}\n",
    "set4.update(set5)\n",
    "print(set4)"
   ]
  },
  {
   "cell_type": "markdown",
   "id": "342b6448",
   "metadata": {},
   "source": [
    "4. Removing an Item"
   ]
  },
  {
   "cell_type": "code",
   "execution_count": 8,
   "id": "0018d12e",
   "metadata": {},
   "outputs": [
    {
     "name": "stdout",
     "output_type": "stream",
     "text": [
      "{1, 2, 3, 4.5, 6.7, 'code', 8.8, 'hello', 'print', 'world'}\n",
      "{1, 2, 3, 4.5, 6.7, 'code', 'hello', 'print', 'world'}\n"
     ]
    }
   ],
   "source": [
    "set6= {\"print\",\"hello\",\"world\",\"code\",\"science\",1,2,3,4.5,6.7,8.8}\n",
    "set6.remove(\"science\")\n",
    "print(set6)\n",
    "set6.remove(8.8)\n",
    "print(set6)"
   ]
  },
  {
   "cell_type": "markdown",
   "id": "d59069b7",
   "metadata": {},
   "source": [
    "5. POP method"
   ]
  },
  {
   "cell_type": "code",
   "execution_count": null,
   "id": "196bc402",
   "metadata": {},
   "outputs": [
    {
     "name": "stdout",
     "output_type": "stream",
     "text": [
      "{'are', 'hello', 'you', 'hi', 'how'}\n",
      "{'hello', 'you', 'hi', 'how'}\n"
     ]
    }
   ],
   "source": [
    "set7 = {\"hi\",\"hello\",\"how\",\"are\",\"you\"}\n",
    "print(set7)\n",
    "set7.pop()\n",
    "print(set7)\n",
    "\n",
    "# any random value will be deleted\n"
   ]
  },
  {
   "cell_type": "markdown",
   "id": "3c87dbd8",
   "metadata": {},
   "source": [
    "6. CLEAR method"
   ]
  },
  {
   "cell_type": "code",
   "execution_count": 10,
   "id": "d40f6768",
   "metadata": {},
   "outputs": [
    {
     "name": "stdout",
     "output_type": "stream",
     "text": [
      "{1, 2, 3, 'cat', 'bat', 8.9, 9, 654, 'print'}\n",
      "set()\n"
     ]
    }
   ],
   "source": [
    "set8 = {\"cat\",\"bat\",1,2,3,8.9,9,654,\"print\"}\n",
    "print(set8)\n",
    "set8.clear()\n",
    "print(set8)"
   ]
  },
  {
   "cell_type": "markdown",
   "id": "80cc9f39",
   "metadata": {},
   "source": [
    "7. DELETE method"
   ]
  },
  {
   "cell_type": "code",
   "execution_count": null,
   "id": "2bcc25b7",
   "metadata": {},
   "outputs": [],
   "source": [
    "set9 = {\"hi\",\"hello\",\"how\",\"are\",\"you\"}\n",
    "\n",
    "del set9\n",
    "# print(set9) it will show an error because set is no more available"
   ]
  }
 ],
 "metadata": {
  "kernelspec": {
   "display_name": "Python 3",
   "language": "python",
   "name": "python3"
  },
  "language_info": {
   "codemirror_mode": {
    "name": "ipython",
    "version": 3
   },
   "file_extension": ".py",
   "mimetype": "text/x-python",
   "name": "python",
   "nbconvert_exporter": "python",
   "pygments_lexer": "ipython3",
   "version": "3.10.9"
  }
 },
 "nbformat": 4,
 "nbformat_minor": 5
}
