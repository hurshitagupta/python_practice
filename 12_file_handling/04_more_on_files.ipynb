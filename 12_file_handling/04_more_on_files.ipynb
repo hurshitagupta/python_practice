{
 "cells": [
  {
   "cell_type": "markdown",
   "id": "55c0fb2e",
   "metadata": {},
   "source": [
    "### More On Files"
   ]
  },
  {
   "cell_type": "markdown",
   "id": "e6404dd1",
   "metadata": {},
   "source": [
    "Another syntax for file using \"with\" keyword"
   ]
  },
  {
   "cell_type": "code",
   "execution_count": 1,
   "id": "bfb940e9",
   "metadata": {},
   "outputs": [
    {
     "name": "stdout",
     "output_type": "stream",
     "text": [
      "Hi, I am a random file.\n"
     ]
    }
   ],
   "source": [
    "with open(\"random.txt\",\"r\") as f:\n",
    "\n",
    "    data = f.read() #reading the file\n",
    "    print(data)\n",
    "\n",
    "#in this syntax we do not need to close the file explicitly."
   ]
  },
  {
   "cell_type": "markdown",
   "id": "a068febc",
   "metadata": {},
   "source": [
    "Deleting a File"
   ]
  },
  {
   "cell_type": "code",
   "execution_count": 2,
   "id": "82207d17",
   "metadata": {},
   "outputs": [],
   "source": [
    "import os\n",
    "\n",
    "os.remove(\"random1.txt\") #this will delete the file\n",
    "\n",
    "#Note: If you are running this code on your system make a new file called random1.txt and then run this code, then only you will be able to see that it is removed."
   ]
  }
 ],
 "metadata": {
  "kernelspec": {
   "display_name": "Python 3",
   "language": "python",
   "name": "python3"
  },
  "language_info": {
   "codemirror_mode": {
    "name": "ipython",
    "version": 3
   },
   "file_extension": ".py",
   "mimetype": "text/x-python",
   "name": "python",
   "nbconvert_exporter": "python",
   "pygments_lexer": "ipython3",
   "version": "3.10.9"
  }
 },
 "nbformat": 4,
 "nbformat_minor": 5
}
