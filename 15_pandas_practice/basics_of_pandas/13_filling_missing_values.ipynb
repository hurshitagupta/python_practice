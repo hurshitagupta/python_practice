{
 "cells": [
  {
   "cell_type": "markdown",
   "id": "f65bf6d1",
   "metadata": {},
   "source": [
    "Filling missing values in dataframe"
   ]
  },
  {
   "cell_type": "code",
   "execution_count": 4,
   "id": "df1991a2",
   "metadata": {},
   "outputs": [
    {
     "name": "stdout",
     "output_type": "stream",
     "text": [
      "    Name  Score  Subject\n",
      "0  Aryan   90.0     Math\n",
      "1   Riya    NaN     None\n",
      "2  Megha   75.0  Science\n",
      "3   None    NaN  English\n"
     ]
    }
   ],
   "source": [
    "import pandas as pd\n",
    "import numpy as np\n",
    "\n",
    "data = {\n",
    "    'Name': ['Aryan', 'Riya', 'Megha', None],\n",
    "    'Score': [90, None, 75, None],\n",
    "    'Subject': ['Math', None, 'Science', 'English']\n",
    "}\n",
    "\n",
    "df = pd.DataFrame(data)\n",
    "print(df)\n"
   ]
  },
  {
   "cell_type": "markdown",
   "id": "9417edbf",
   "metadata": {},
   "source": [
    "Filling the null values with a particular value"
   ]
  },
  {
   "cell_type": "code",
   "execution_count": 5,
   "id": "bac48bb6",
   "metadata": {},
   "outputs": [
    {
     "name": "stdout",
     "output_type": "stream",
     "text": [
      "Filling the null values with 0\n",
      "    Name  Score  Subject\n",
      "0  Aryan   90.0     Math\n",
      "1   Riya    0.0        0\n",
      "2  Megha   75.0  Science\n",
      "3      0    0.0  English\n"
     ]
    }
   ],
   "source": [
    "print(\"Filling the null values with 0\")\n",
    "print(df.fillna(0))"
   ]
  },
  {
   "cell_type": "markdown",
   "id": "bf923d58",
   "metadata": {},
   "source": [
    "Filling the null values with either : mean, mode or median"
   ]
  },
  {
   "cell_type": "markdown",
   "id": "523307c1",
   "metadata": {},
   "source": [
    "1. Mean"
   ]
  },
  {
   "cell_type": "code",
   "execution_count": 6,
   "id": "ea9ac07e",
   "metadata": {},
   "outputs": [
    {
     "name": "stdout",
     "output_type": "stream",
     "text": [
      "0    90.0\n",
      "1    82.5\n",
      "2    75.0\n",
      "3    82.5\n",
      "Name: Score, dtype: float64\n"
     ]
    }
   ],
   "source": [
    "print(df[\"Score\"].fillna(df[\"Score\"].mean()))"
   ]
  },
  {
   "cell_type": "markdown",
   "id": "28d0f8f3",
   "metadata": {},
   "source": [
    "2. Mode"
   ]
  },
  {
   "cell_type": "code",
   "execution_count": 7,
   "id": "fe2f6b49",
   "metadata": {},
   "outputs": [
    {
     "name": "stdout",
     "output_type": "stream",
     "text": [
      "0    90.0\n",
      "1    90.0\n",
      "2    75.0\n",
      "3     NaN\n",
      "Name: Score, dtype: float64\n"
     ]
    }
   ],
   "source": [
    "print(df[\"Score\"].fillna(df[\"Score\"].mode()))"
   ]
  },
  {
   "cell_type": "markdown",
   "id": "778bd515",
   "metadata": {},
   "source": [
    "3. Median"
   ]
  },
  {
   "cell_type": "code",
   "execution_count": 8,
   "id": "4bf465c8",
   "metadata": {},
   "outputs": [
    {
     "name": "stdout",
     "output_type": "stream",
     "text": [
      "0    90.0\n",
      "1    82.5\n",
      "2    75.0\n",
      "3    82.5\n",
      "Name: Score, dtype: float64\n"
     ]
    }
   ],
   "source": [
    "print(df[\"Score\"].fillna(df[\"Score\"].median()))"
   ]
  },
  {
   "cell_type": "markdown",
   "id": "d5cd5190",
   "metadata": {},
   "source": [
    "Filling the values with forward value"
   ]
  },
  {
   "cell_type": "code",
   "execution_count": 9,
   "id": "08b26927",
   "metadata": {},
   "outputs": [
    {
     "name": "stdout",
     "output_type": "stream",
     "text": [
      "    Name  Score  Subject\n",
      "0  Aryan   90.0     Math\n",
      "1   Riya   90.0     Math\n",
      "2  Megha   75.0  Science\n",
      "3  Megha   75.0  English\n"
     ]
    },
    {
     "name": "stderr",
     "output_type": "stream",
     "text": [
      "C:\\Users\\Hurshita Gupta\\AppData\\Local\\Temp\\ipykernel_11856\\1103946584.py:1: FutureWarning: DataFrame.fillna with 'method' is deprecated and will raise in a future version. Use obj.ffill() or obj.bfill() instead.\n",
      "  print(df.fillna(method=\"ffill\"))\n"
     ]
    }
   ],
   "source": [
    "print(df.fillna(method=\"ffill\"))"
   ]
  },
  {
   "cell_type": "markdown",
   "id": "959f7f56",
   "metadata": {},
   "source": [
    "Filling the values with backward value"
   ]
  },
  {
   "cell_type": "code",
   "execution_count": 10,
   "id": "8e740e35",
   "metadata": {},
   "outputs": [
    {
     "name": "stdout",
     "output_type": "stream",
     "text": [
      "    Name  Score  Subject\n",
      "0  Aryan   90.0     Math\n",
      "1   Riya   75.0  Science\n",
      "2  Megha   75.0  Science\n",
      "3   None    NaN  English\n"
     ]
    },
    {
     "name": "stderr",
     "output_type": "stream",
     "text": [
      "C:\\Users\\Hurshita Gupta\\AppData\\Local\\Temp\\ipykernel_11856\\2162010091.py:1: FutureWarning: DataFrame.fillna with 'method' is deprecated and will raise in a future version. Use obj.ffill() or obj.bfill() instead.\n",
      "  print(df.fillna(method=\"bfill\"))\n"
     ]
    }
   ],
   "source": [
    "print(df.fillna(method=\"bfill\"))"
   ]
  },
  {
   "cell_type": "markdown",
   "id": "956ccf57",
   "metadata": {},
   "source": [
    "Filling only one null value in each column"
   ]
  },
  {
   "cell_type": "code",
   "execution_count": 11,
   "id": "6b954f82",
   "metadata": {},
   "outputs": [
    {
     "name": "stdout",
     "output_type": "stream",
     "text": [
      "    Name  Score  Subject\n",
      "0  Aryan   90.0     Math\n",
      "1   Riya    0.0        0\n",
      "2  Megha   75.0  Science\n",
      "3      0    NaN  English\n"
     ]
    }
   ],
   "source": [
    "print(df.fillna(0,limit=1))"
   ]
  },
  {
   "cell_type": "markdown",
   "id": "c6e3c01a",
   "metadata": {},
   "source": [
    "### Practice Task"
   ]
  },
  {
   "cell_type": "markdown",
   "id": "1231c0b5",
   "metadata": {},
   "source": [
    "Q1. Fill all missing values in the 'Age' column with the mean age.\n",
    "\n",
    "Q2. Fill the 'City' column using forward fill (ffill).\n",
    "\n",
    "Q3. Fill the 'Score' column with the median score.\n",
    "\n",
    "Q4. Replace all missing values in the entire DataFrame with the word 'Unknown' (for both text & numbers).\n",
    "\n",
    "Q5. Create a copy of the DataFrame and only fill the first NaN in each column with 0.\n",
    "(Use the limit parameter in fillna())\n",
    "\n",
    "Q6. Create a version of the DataFrame where:\n",
    "\n",
    "'Name' missing values = 'Guest'\n",
    "\n",
    "'Age' missing values = mean age\n",
    "\n",
    "'City' missing values = 'Not Provided'\n",
    "\n",
    "'Score' missing values = mode score\n",
    "\n",
    "Do this in one go (no line-by-line filling)"
   ]
  },
  {
   "cell_type": "code",
   "execution_count": 25,
   "id": "da1bd8da",
   "metadata": {},
   "outputs": [
    {
     "name": "stdout",
     "output_type": "stream",
     "text": [
      "     Name   Age    City  Score\n",
      "0    Aman  24.0   Delhi   88.0\n",
      "1   Divya   NaN  Mumbai    NaN\n",
      "2    None  29.0   Delhi   92.0\n",
      "3    Ravi   NaN    None   75.0\n",
      "4  Simran  26.0    None    NaN\n",
      "0    24.000000\n",
      "1    26.333333\n",
      "2    29.000000\n",
      "3    26.333333\n",
      "4    26.000000\n",
      "Name: Age, dtype: float64\n",
      "0     Delhi\n",
      "1    Mumbai\n",
      "2     Delhi\n",
      "3     Delhi\n",
      "4     Delhi\n",
      "Name: City, dtype: object\n",
      "0    88.0\n",
      "1    88.0\n",
      "2    92.0\n",
      "3    75.0\n",
      "4    88.0\n",
      "Name: Score, dtype: float64\n",
      "      Name      Age     City    Score\n",
      "0     Aman     24.0    Delhi     88.0\n",
      "1    Divya  Unknown   Mumbai  Unknown\n",
      "2  Unknown     29.0    Delhi     92.0\n",
      "3     Ravi  Unknown  Unknown     75.0\n",
      "4   Simran     26.0  Unknown  Unknown\n",
      "     Name   Age    City  Score\n",
      "0    Aman  24.0   Delhi   88.0\n",
      "1   Divya   0.0  Mumbai    0.0\n",
      "2       0  29.0   Delhi   92.0\n",
      "3    Ravi   NaN       0   75.0\n",
      "4  Simran  26.0    None    NaN\n",
      "     Name        Age          City  Score\n",
      "0    Aman  24.000000         Delhi   88.0\n",
      "1   Divya  26.333333        Mumbai   75.0\n",
      "2   Guest  29.000000         Delhi   92.0\n",
      "3    Ravi  26.333333  Not Provided   75.0\n",
      "4  Simran  26.000000  Not Provided   75.0\n"
     ]
    },
    {
     "name": "stderr",
     "output_type": "stream",
     "text": [
      "C:\\Users\\Hurshita Gupta\\AppData\\Local\\Temp\\ipykernel_11856\\1140894537.py:18: FutureWarning: Series.fillna with 'method' is deprecated and will raise in a future version. Use obj.ffill() or obj.bfill() instead.\n",
      "  print(df[\"City\"].fillna(method=\"ffill\"))\n"
     ]
    }
   ],
   "source": [
    "import pandas as pd\n",
    "import numpy as np\n",
    "\n",
    "data = {\n",
    "    'Name': ['Aman', 'Divya', None, 'Ravi', 'Simran'],\n",
    "    'Age': [24, np.nan, 29, np.nan, 26],\n",
    "    'City': ['Delhi', 'Mumbai', 'Delhi', None, None],\n",
    "    'Score': [88, np.nan, 92, 75, np.nan]\n",
    "}\n",
    "\n",
    "df = pd.DataFrame(data)\n",
    "print(df)\n",
    "\n",
    "#q1 fill null values in age column with age mean\n",
    "print(df[\"Age\"].fillna(df['Age'].mean()))\n",
    "\n",
    "#q2 fill city column using ffill\n",
    "print(df[\"City\"].fillna(method=\"ffill\"))\n",
    "\n",
    "#q3 fill score column with median score\n",
    "print(df[\"Score\"].fillna(df['Score'].median()))\n",
    "\n",
    "#q4 replace all missing values with unknown\n",
    "print(df.fillna(\"Unknown\"))\n",
    "\n",
    "#q5\n",
    "copy_df = df.copy()\n",
    "copy_df.fillna(0,limit=1,inplace=True)\n",
    "print(copy_df)\n",
    "\n",
    "#q6\n",
    "print(df.fillna({\"Name\":\"Guest\",\"Age\":df['Age'].mean(),\"City\":\"Not Provided\",\"Score\": df['Score'].mode()[0]}))\n"
   ]
  }
 ],
 "metadata": {
  "kernelspec": {
   "display_name": "Python 3",
   "language": "python",
   "name": "python3"
  },
  "language_info": {
   "codemirror_mode": {
    "name": "ipython",
    "version": 3
   },
   "file_extension": ".py",
   "mimetype": "text/x-python",
   "name": "python",
   "nbconvert_exporter": "python",
   "pygments_lexer": "ipython3",
   "version": "3.10.9"
  }
 },
 "nbformat": 4,
 "nbformat_minor": 5
}
