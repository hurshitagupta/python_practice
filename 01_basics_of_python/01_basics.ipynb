{
 "cells": [
  {
   "cell_type": "markdown",
   "id": "35c3efd6",
   "metadata": {},
   "source": [
    "# Basics Of Python\n"
   ]
  },
  {
   "cell_type": "markdown",
   "id": "f42415c3",
   "metadata": {},
   "source": [
    "Print Function"
   ]
  },
  {
   "cell_type": "code",
   "execution_count": 3,
   "id": "d7e6cdbb",
   "metadata": {},
   "outputs": [
    {
     "name": "stdout",
     "output_type": "stream",
     "text": [
      "Hello World!\n",
      "My first program in python..\n",
      "Learning to be a data scientist\n"
     ]
    }
   ],
   "source": [
    "print(\"Hello World!\")\n",
    "print(\"My first program in python..\")\n",
    "print(\"Learning to be a data scientist\")\n",
    "      "
   ]
  },
  {
   "cell_type": "markdown",
   "id": "8acfd741",
   "metadata": {},
   "source": [
    "Comments : Useful to make people understand your code"
   ]
  },
  {
   "cell_type": "code",
   "execution_count": 4,
   "id": "3136ae99",
   "metadata": {},
   "outputs": [],
   "source": [
    "#I am a comment\n",
    "#You can add comments using hash"
   ]
  },
  {
   "cell_type": "markdown",
   "id": "2c678b4f",
   "metadata": {},
   "source": [
    "Data Types  \n",
    "\n",
    "1. Numeric : int, float and complex\n",
    "2. Boolean : True/False\n",
    "3. Strings : conbination of characters"
   ]
  },
  {
   "cell_type": "code",
   "execution_count": 7,
   "id": "30d7cafd",
   "metadata": {},
   "outputs": [
    {
     "name": "stdout",
     "output_type": "stream",
     "text": [
      "Integer: 23\n",
      "Float: 21.8\n",
      "Complex: (33+9j)\n",
      "Boolean: True\n",
      "String: John Smith\n"
     ]
    }
   ],
   "source": [
    "int_data_type = 23\n",
    "float_data_type = 21.8\n",
    "complex_data_type = 33+9j\n",
    "\n",
    "boolean_data_type = True\n",
    "\n",
    "string_data_type = \"John Smith\"\n",
    "\n",
    "print(\"Integer:\",int_data_type)\n",
    "print(\"Float:\",float_data_type)\n",
    "print(\"Complex:\",complex_data_type)\n",
    "print(\"Boolean:\",boolean_data_type)\n",
    "print(\"String:\",string_data_type)\n"
   ]
  },
  {
   "cell_type": "markdown",
   "id": "399c47d7",
   "metadata": {},
   "source": [
    "Practice Questions:\n",
    "\n",
    "Q1. Imagine you are working on a customer management system, you have the first name and last name od a customer stored as seperate variables. You're developing a CMS for a retail store. In your database, you have the first name and last name of a customer stored as seperate variables.\n",
    "\n",
    "first_name = \"John\" and last_name = \"Doe\".\n",
    "\n",
    "How would you concatenate these strings to form the full name \"John Doe\" for the customer's profile."
   ]
  },
  {
   "cell_type": "code",
   "execution_count": null,
   "id": "9e3df786",
   "metadata": {},
   "outputs": [
    {
     "name": "stdout",
     "output_type": "stream",
     "text": [
      "John Doe\n"
     ]
    }
   ],
   "source": [
    "first_name = \"John\"\n",
    "last_name = \"Doe\"\n",
    "\n",
    "print(first_name + \" \" + last_name)"
   ]
  },
  {
   "cell_type": "markdown",
   "id": "f625dfa4",
   "metadata": {},
   "source": [
    "Q2. You have a variable x with value 5. How would you reassign x to have the value 10?\n"
   ]
  },
  {
   "cell_type": "code",
   "execution_count": 9,
   "id": "5f7a0bc7",
   "metadata": {},
   "outputs": [
    {
     "name": "stdout",
     "output_type": "stream",
     "text": [
      "Initial Value: 5\n",
      "Reassigned: 10\n"
     ]
    }
   ],
   "source": [
    "x = 5\n",
    "print(\"Initial Value:\",x)\n",
    "x = 10\n",
    "print(\"Reassigned:\",x)"
   ]
  }
 ],
 "metadata": {
  "kernelspec": {
   "display_name": "Python 3",
   "language": "python",
   "name": "python3"
  },
  "language_info": {
   "codemirror_mode": {
    "name": "ipython",
    "version": 3
   },
   "file_extension": ".py",
   "mimetype": "text/x-python",
   "name": "python",
   "nbconvert_exporter": "python",
   "pygments_lexer": "ipython3",
   "version": "3.10.9"
  }
 },
 "nbformat": 4,
 "nbformat_minor": 5
}
