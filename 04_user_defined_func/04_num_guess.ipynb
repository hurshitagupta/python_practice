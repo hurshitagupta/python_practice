{
 "cells": [
  {
   "cell_type": "markdown",
   "id": "6db57fb7",
   "metadata": {},
   "source": [
    "# Practice Question"
   ]
  },
  {
   "cell_type": "markdown",
   "id": "e5923f82",
   "metadata": {},
   "source": [
    "Ques. You are creating a number guessing game where the computer generates a random number between 1 and 100 and the player has to guess it. \n",
    "\n",
    "Write a Python Code to generate a random number between 1 and 100. Use control flow statements and loops to allow the player to guess the number and provide feedback(too high, too low, or correct)\n",
    "\n",
    "Define a user-defined function to encapsulate the game logic and call this function to play the game"
   ]
  },
  {
   "cell_type": "code",
   "execution_count": 1,
   "id": "225e6ec5",
   "metadata": {},
   "outputs": [
    {
     "name": "stdout",
     "output_type": "stream",
     "text": [
      "your number:  56\n",
      "too high\n",
      "your number:  43\n",
      "too low\n",
      "your number:  45\n",
      "too low\n",
      "your number:  50\n",
      "too high\n",
      "your number:  48\n",
      "Correct guess\n"
     ]
    }
   ],
   "source": [
    "import random\n",
    "\n",
    "random_num = random.randint(1,100)\n",
    "user_num = int(input(\"Guess the number between 1-100: \"))\n",
    "\n",
    "def guess_num():\n",
    "    if(user_num==random_num):\n",
    "        print(\"Correct guess\")\n",
    "    elif(user_num>random_num):\n",
    "        print(\"too high\")\n",
    "    else:\n",
    "        print(\"too low\")\n",
    "    \n",
    "print(\"your number: \", user_num)\n",
    "guess_num()\n",
    "\n",
    "while(random_num!=user_num):\n",
    "    user_num = int(input(\"Guess the number between 1-100: \"))\n",
    "    print(\"your number: \", user_num)\n",
    "    guess_num()"
   ]
  }
 ],
 "metadata": {
  "kernelspec": {
   "display_name": "Python 3",
   "language": "python",
   "name": "python3"
  },
  "language_info": {
   "codemirror_mode": {
    "name": "ipython",
    "version": 3
   },
   "file_extension": ".py",
   "mimetype": "text/x-python",
   "name": "python",
   "nbconvert_exporter": "python",
   "pygments_lexer": "ipython3",
   "version": "3.10.9"
  }
 },
 "nbformat": 4,
 "nbformat_minor": 5
}
