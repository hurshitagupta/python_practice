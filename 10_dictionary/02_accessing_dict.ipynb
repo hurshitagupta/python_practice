{
 "cells": [
  {
   "cell_type": "markdown",
   "id": "c87db911",
   "metadata": {},
   "source": [
    "Accessing Data in a Dictionary\n"
   ]
  },
  {
   "cell_type": "code",
   "execution_count": 1,
   "id": "f841529c",
   "metadata": {},
   "outputs": [
    {
     "name": "stdout",
     "output_type": "stream",
     "text": [
      "Johnny\n",
      "True\n"
     ]
    }
   ],
   "source": [
    "dict1 = {\n",
    "    \"name\":\"Johnny\",\n",
    "    \"age\":23,\n",
    "    \"isStudent\":True,\n",
    "    \"subjects\":[\"Physics\",\"Chemistry\",\"Science\"]\n",
    "}\n",
    "\n",
    "print(dict1[\"name\"])\n",
    "print(dict1[\"isStudent\"])"
   ]
  },
  {
   "cell_type": "markdown",
   "id": "a316de3a",
   "metadata": {},
   "source": [
    "Flexible dictionary keys"
   ]
  },
  {
   "cell_type": "code",
   "execution_count": null,
   "id": "3beb68b6",
   "metadata": {},
   "outputs": [
    {
     "name": "stdout",
     "output_type": "stream",
     "text": [
      "{'name': 'string key type', 23: 'int key type', 40.5: 'float key type', (1, 2, 4, 5): 'tuple data type', False: 'Boolean data type', (32+9j): 'Complex data type'}\n"
     ]
    }
   ],
   "source": [
    "#this concept basically explains that we can have any data type as our dictionary key except of lists,sets and dictionary as they are unhashable\n",
    "\n",
    "dict_keys = {\n",
    "    \"name\": \"string key type\",\n",
    "    23 : \"int key type\",\n",
    "    40.5 : \"float key type\",\n",
    "    (1,2,4,5) : \"tuple data type\",\n",
    "    False : \"Boolean data type\",\n",
    "    32+9j : \"Complex data type\",\n",
    "}\n",
    "\n",
    "print(dict_keys)\n",
    "\n",
    "#if taken dict as a key , error will be produced:\n",
    "dict_dictionary = {\n",
    "    {\"A\":\"apple\",\"B\":\"Ball\"} : \"dictionary data type\"\n",
    "}\n",
    "\n",
    "print(dict_dictionary)\n",
    "\n",
    "#if taken list as a key , error will be produced:\n",
    "dict_dictionary = {\n",
    "    [\"cat\",\"bat\",\"mat\",\"rat\"] : \"list data type\"\n",
    "}\n",
    "\n",
    "print(dict_dictionary)"
   ]
  }
 ],
 "metadata": {
  "kernelspec": {
   "display_name": "Python 3",
   "language": "python",
   "name": "python3"
  },
  "language_info": {
   "codemirror_mode": {
    "name": "ipython",
    "version": 3
   },
   "file_extension": ".py",
   "mimetype": "text/x-python",
   "name": "python",
   "nbconvert_exporter": "python",
   "pygments_lexer": "ipython3",
   "version": "3.10.9"
  }
 },
 "nbformat": 4,
 "nbformat_minor": 5
}
