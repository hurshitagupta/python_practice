{
 "cells": [
  {
   "cell_type": "markdown",
   "id": "f5944732",
   "metadata": {},
   "source": [
    "Pivot Table in Pandas"
   ]
  },
  {
   "cell_type": "code",
   "execution_count": 1,
   "id": "954df375",
   "metadata": {},
   "outputs": [
    {
     "name": "stdout",
     "output_type": "stream",
     "text": [
      "City  Delhi  Mumbai\n",
      "Day                \n",
      "Mon     100     150\n",
      "Tue      80     200\n"
     ]
    },
    {
     "name": "stderr",
     "output_type": "stream",
     "text": [
      "C:\\Users\\Hurshita Gupta\\AppData\\Local\\Temp\\ipykernel_19016\\4128192317.py:11: FutureWarning: The provided callable <built-in function sum> is currently using DataFrameGroupBy.sum. In a future version of pandas, the provided callable will be used directly. To keep current behavior pass the string \"sum\" instead.\n",
      "  pivot = df.pivot_table(index=\"Day\", columns=\"City\", values=\"Sales\", aggfunc=sum)\n"
     ]
    }
   ],
   "source": [
    "import pandas as pd\n",
    "\n",
    "data = {\n",
    "    'Day': ['Mon', 'Mon', 'Tue', 'Tue'],\n",
    "    'City': ['Delhi', 'Mumbai', 'Delhi', 'Mumbai'],\n",
    "    'Sales': [100, 150, 80, 200]\n",
    "}\n",
    "\n",
    "df = pd.DataFrame(data)\n",
    "\n",
    "pivot = df.pivot_table(index=\"Day\", columns=\"City\", values=\"Sales\", aggfunc=sum)\n",
    "print(pivot)"
   ]
  },
  {
   "cell_type": "markdown",
   "id": "57456fef",
   "metadata": {},
   "source": [
    "### Practice Task"
   ]
  },
  {
   "cell_type": "markdown",
   "id": "719fa312",
   "metadata": {},
   "source": [
    "Use pivot_table() to answer these:\n",
    "\n",
    "Q1: On each date, how many total pizzas were sold in each city?\n",
    "\n",
    "Q2: How many of each pizza type were sold per city (combined for all dates)?\n",
    "\n",
    "Q3: Show total quantity of pizzas sold per city.\n",
    "\n",
    "Q4: Find average quantity sold per Pizza Type and City.\n",
    "\n",
    "Q5: Display total quantity sold per Date and Pizza Type."
   ]
  },
  {
   "cell_type": "code",
   "execution_count": 23,
   "id": "8ca82626",
   "metadata": {},
   "outputs": [
    {
     "name": "stdout",
     "output_type": "stream",
     "text": [
      "         date    city        type  quantity\n",
      "0  2025-07-17  Mumbai  Margherita        12\n",
      "1  2025-07-17   Delhi   Pepperoni         9\n",
      "2  2025-07-18  Mumbai   Pepperoni        14\n",
      "3  2025-07-18   Delhi  Margherita         7\n",
      "4  2025-07-18  Mumbai  Margherita        10\n",
      "5  2025-07-19   Delhi   Pepperoni        13\n",
      "6  2025-07-19  Mumbai  Margherita         8\n",
      "city        Delhi  Mumbai\n",
      "date                     \n",
      "2025-07-17      9      12\n",
      "2025-07-18      7      24\n",
      "2025-07-19     13       8\n",
      "city        Delhi  Mumbai\n",
      "type                     \n",
      "Margherita      7      30\n",
      "Pepperoni      22      14\n",
      "        quantity\n",
      "city            \n",
      "Delhi         29\n",
      "Mumbai        44\n",
      "city        Delhi  Mumbai\n",
      "type                     \n",
      "Margherita    7.0    10.0\n",
      "Pepperoni    11.0    14.0\n",
      "type        Margherita  Pepperoni\n",
      "date                             \n",
      "2025-07-17          12          9\n",
      "2025-07-18          17         14\n",
      "2025-07-19           8         13\n"
     ]
    },
    {
     "name": "stderr",
     "output_type": "stream",
     "text": [
      "C:\\Users\\Hurshita Gupta\\AppData\\Local\\Temp\\ipykernel_19016\\54817039.py:14: FutureWarning: The provided callable <built-in function sum> is currently using DataFrameGroupBy.sum. In a future version of pandas, the provided callable will be used directly. To keep current behavior pass the string \"sum\" instead.\n",
      "  pivot_1 = df.pivot_table(index=\"date\",columns=\"city\",values=\"quantity\",aggfunc=sum)\n",
      "C:\\Users\\Hurshita Gupta\\AppData\\Local\\Temp\\ipykernel_19016\\54817039.py:18: FutureWarning: The provided callable <built-in function sum> is currently using DataFrameGroupBy.sum. In a future version of pandas, the provided callable will be used directly. To keep current behavior pass the string \"sum\" instead.\n",
      "  pivot_2 = df.pivot_table(index=\"type\",columns=\"city\",values='quantity',aggfunc=sum)\n",
      "C:\\Users\\Hurshita Gupta\\AppData\\Local\\Temp\\ipykernel_19016\\54817039.py:22: FutureWarning: The provided callable <built-in function sum> is currently using DataFrameGroupBy.sum. In a future version of pandas, the provided callable will be used directly. To keep current behavior pass the string \"sum\" instead.\n",
      "  pivot3 = df.pivot_table(values=\"quantity\",index=\"city\",aggfunc=sum)\n",
      "C:\\Users\\Hurshita Gupta\\AppData\\Local\\Temp\\ipykernel_19016\\54817039.py:30: FutureWarning: The provided callable <built-in function sum> is currently using DataFrameGroupBy.sum. In a future version of pandas, the provided callable will be used directly. To keep current behavior pass the string \"sum\" instead.\n",
      "  pivot5 = df.pivot_table(index=\"date\",columns=\"type\",values=\"quantity\",aggfunc=sum)\n"
     ]
    }
   ],
   "source": [
    "import pandas as pd\n",
    "\n",
    "df = pd.DataFrame({\n",
    "    \"date\":[\"2025-07-17\",\"2025-07-17\",\"2025-07-18\",\"2025-07-18\",\"2025-07-18\",\"2025-07-19\",\"2025-07-19\"],\n",
    "    \"city\":[\"Mumbai\",\"Delhi\",\"Mumbai\",\"Delhi\",\"Mumbai\",\"Delhi\",\"Mumbai\"],\n",
    "    \"type\":[\"Margherita\",\"Pepperoni\",\"Pepperoni\",\"Margherita\",\"Margherita\",\"Pepperoni\",\"Margherita\"],\n",
    "    \"quantity\":[12,9,14,7,10,13,8]\n",
    "})\n",
    "\n",
    "print(df)\n",
    "\n",
    "#q1\n",
    "\n",
    "pivot_1 = df.pivot_table(index=\"date\",columns=\"city\",values=\"quantity\",aggfunc=sum)\n",
    "print(pivot_1)\n",
    "\n",
    "#q2\n",
    "pivot_2 = df.pivot_table(index=\"type\",columns=\"city\",values='quantity',aggfunc=sum)\n",
    "print(pivot_2)\n",
    "\n",
    "#q3\n",
    "pivot3 = df.pivot_table(values=\"quantity\",index=\"city\",aggfunc=sum)\n",
    "print(pivot3)\n",
    "\n",
    "#q4\n",
    "pivot4 = df.pivot_table(index=\"type\",columns=\"city\",values=\"quantity\",aggfunc=\"mean\")\n",
    "print(pivot4)\n",
    "\n",
    "#q5\n",
    "pivot5 = df.pivot_table(index=\"date\",columns=\"type\",values=\"quantity\",aggfunc=sum)\n",
    "print(pivot5)\n"
   ]
  }
 ],
 "metadata": {
  "kernelspec": {
   "display_name": "Python 3",
   "language": "python",
   "name": "python3"
  },
  "language_info": {
   "codemirror_mode": {
    "name": "ipython",
    "version": 3
   },
   "file_extension": ".py",
   "mimetype": "text/x-python",
   "name": "python",
   "nbconvert_exporter": "python",
   "pygments_lexer": "ipython3",
   "version": "3.10.9"
  }
 },
 "nbformat": 4,
 "nbformat_minor": 5
}
