{
 "cells": [
  {
   "cell_type": "markdown",
   "id": "f49935ed",
   "metadata": {},
   "source": [
    "# User Defined Function"
   ]
  },
  {
   "cell_type": "markdown",
   "id": "4e81e139",
   "metadata": {},
   "source": [
    "Creating a Function"
   ]
  },
  {
   "cell_type": "code",
   "execution_count": 1,
   "id": "2597d11d",
   "metadata": {},
   "outputs": [],
   "source": [
    "def my_function():\n",
    "    print(\"Hello from a function..\")"
   ]
  },
  {
   "cell_type": "markdown",
   "id": "cb5063fa",
   "metadata": {},
   "source": [
    "Calling a Function"
   ]
  },
  {
   "cell_type": "code",
   "execution_count": 2,
   "id": "d1ae8dd8",
   "metadata": {},
   "outputs": [
    {
     "name": "stdout",
     "output_type": "stream",
     "text": [
      "Hello from a function..\n"
     ]
    }
   ],
   "source": [
    "my_function()"
   ]
  },
  {
   "cell_type": "markdown",
   "id": "303959fc",
   "metadata": {},
   "source": [
    "Arguments in a Function"
   ]
  },
  {
   "cell_type": "markdown",
   "id": "deb4b4a6",
   "metadata": {},
   "source": [
    "Ques. Create a function, which checks the number is odd or even. Take the number as an input from the user"
   ]
  },
  {
   "cell_type": "code",
   "execution_count": 4,
   "id": "c7e2cbbe",
   "metadata": {},
   "outputs": [
    {
     "name": "stdout",
     "output_type": "stream",
     "text": [
      "The number is odd.\n"
     ]
    }
   ],
   "source": [
    "num = int(input(\"Enter a number: \"))\n",
    "\n",
    "def odd_or_even(num):\n",
    "    if num%2==0 :\n",
    "        print(\"The number is even\")\n",
    "    else:\n",
    "        print(\"The number is odd.\")\n",
    "\n",
    "odd_or_even(num)"
   ]
  }
 ],
 "metadata": {
  "kernelspec": {
   "display_name": "Python 3",
   "language": "python",
   "name": "python3"
  },
  "language_info": {
   "codemirror_mode": {
    "name": "ipython",
    "version": 3
   },
   "file_extension": ".py",
   "mimetype": "text/x-python",
   "name": "python",
   "nbconvert_exporter": "python",
   "pygments_lexer": "ipython3",
   "version": "3.10.9"
  }
 },
 "nbformat": 4,
 "nbformat_minor": 5
}
