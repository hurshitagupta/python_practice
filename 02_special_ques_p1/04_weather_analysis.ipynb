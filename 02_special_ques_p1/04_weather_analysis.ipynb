{
 "cells": [
  {
   "cell_type": "markdown",
   "id": "c282ec40",
   "metadata": {},
   "source": [
    "Question. You are working on a project to analyze weather data. Create variables to store the current temperature, the minimum temperature recorded and the maximum temperature recorded.\n",
    "\n",
    "Determine whether the current temperature is within the range of the minimum and maximum temperatures recorded using logical operators."
   ]
  },
  {
   "cell_type": "code",
   "execution_count": null,
   "id": "5d64f560",
   "metadata": {},
   "outputs": [
    {
     "name": "stdout",
     "output_type": "stream",
     "text": [
      "The current temperature is within the range of max and min temperature:  True\n"
     ]
    }
   ],
   "source": [
    "curr_temp = float(input(\"Enter the current temp: \"))\n",
    "min_temp = float(input(\"Enter the min temperature recorded: \"))\n",
    "max_temp = float(input(\"Enter the maximum temperature recorded: \"))\n",
    "\n",
    "range_temp = min_temp <= curr_temp <= max_temp\n",
    "print(\"The current temperature is within the range of max and min temperature:\", range_temp)"
   ]
  }
 ],
 "metadata": {
  "kernelspec": {
   "display_name": "Python 3",
   "language": "python",
   "name": "python3"
  },
  "language_info": {
   "codemirror_mode": {
    "name": "ipython",
    "version": 3
   },
   "file_extension": ".py",
   "mimetype": "text/x-python",
   "name": "python",
   "nbconvert_exporter": "python",
   "pygments_lexer": "ipython3",
   "version": "3.10.9"
  }
 },
 "nbformat": 4,
 "nbformat_minor": 5
}
