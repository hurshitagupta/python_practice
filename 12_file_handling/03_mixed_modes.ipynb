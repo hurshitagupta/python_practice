{
 "cells": [
  {
   "cell_type": "markdown",
   "id": "c9ae7cad",
   "metadata": {},
   "source": [
    "Mixed Modes of files in python"
   ]
  },
  {
   "cell_type": "markdown",
   "id": "93aa4390",
   "metadata": {},
   "source": [
    "#### r+ = reads + writes"
   ]
  },
  {
   "cell_type": "code",
   "execution_count": 5,
   "id": "b76fa92d",
   "metadata": {},
   "outputs": [
    {
     "name": "stdout",
     "output_type": "stream",
     "text": [
      "Hellon is an interpreted, object-oriented, high-level programming language with dynamic semantics.\n",
      "\n"
     ]
    }
   ],
   "source": [
    "#open a file in r+ mode:\n",
    "f = open(\"./03_example_files/data.txt\",\"r+\")\n",
    "\n",
    "#write the file\n",
    "f.write(\"Hello\") #this will overwrite the text from start but will not truncate\n",
    "line1 = f.readline()\n",
    "print(line1)\n",
    "\n",
    "#close the file\n",
    "f.close()"
   ]
  },
  {
   "cell_type": "markdown",
   "id": "cf5bf344",
   "metadata": {},
   "source": [
    "#### w+ = read + truncate"
   ]
  },
  {
   "cell_type": "code",
   "execution_count": null,
   "id": "a865f3de",
   "metadata": {},
   "outputs": [
    {
     "name": "stdout",
     "output_type": "stream",
     "text": [
      "\n",
      "\n"
     ]
    }
   ],
   "source": [
    "#open a file\n",
    "\n",
    "f = open(\"./03_example_files/sample.txt\",\"w+\")\n",
    "\n",
    "#write something in file\n",
    "f.write(\"Overwritten\")\n",
    "\n",
    "new_data = f.read()\n",
    "print(new_data)  #nothing will be printed as pointer is pointing towards empty lines"
   ]
  },
  {
   "cell_type": "markdown",
   "id": "9df0d8ab",
   "metadata": {},
   "source": [
    "#### a+ = appends+reads but does not truncate"
   ]
  },
  {
   "cell_type": "code",
   "execution_count": null,
   "id": "6194f1aa",
   "metadata": {},
   "outputs": [
    {
     "name": "stdout",
     "output_type": "stream",
     "text": [
      "\n"
     ]
    }
   ],
   "source": [
    "#open a file\n",
    "f = open(\"./03_example_files/sample1.txt\",\"a+\")\n",
    "\n",
    "#write to the file\n",
    "f.write(\"Hi, I am appended\")\n",
    "\n",
    "#close the file\n",
    "f.close()"
   ]
  }
 ],
 "metadata": {
  "kernelspec": {
   "display_name": "Python 3",
   "language": "python",
   "name": "python3"
  },
  "language_info": {
   "codemirror_mode": {
    "name": "ipython",
    "version": 3
   },
   "file_extension": ".py",
   "mimetype": "text/x-python",
   "name": "python",
   "nbconvert_exporter": "python",
   "pygments_lexer": "ipython3",
   "version": "3.10.9"
  }
 },
 "nbformat": 4,
 "nbformat_minor": 5
}
