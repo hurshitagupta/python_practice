{
 "cells": [
  {
   "cell_type": "markdown",
   "id": "a83c5e14",
   "metadata": {},
   "source": [
    "### NUMPY"
   ]
  },
  {
   "cell_type": "markdown",
   "id": "0a59ec86",
   "metadata": {},
   "source": [
    "##### To use numpy, we first need to install it and then import it in our files:\n",
    "     import numpy as np (and now we are good to go and use the built in functions)"
   ]
  },
  {
   "cell_type": "markdown",
   "id": "b77c4da7",
   "metadata": {},
   "source": [
    "Creating an array using python lists"
   ]
  },
  {
   "cell_type": "code",
   "execution_count": 1,
   "id": "0017b6a9",
   "metadata": {},
   "outputs": [
    {
     "name": "stdout",
     "output_type": "stream",
     "text": [
      "[1 2 3 4 5]\n"
     ]
    }
   ],
   "source": [
    "import numpy as np\n",
    "list = [1,2,3,4,5]\n",
    "#we use built in array function of numpy to create an array\n",
    "my_arr = np.array(list)\n",
    "\n",
    "print(my_arr)"
   ]
  },
  {
   "cell_type": "markdown",
   "id": "d735a940",
   "metadata": {},
   "source": [
    "Creating a 1-D array"
   ]
  },
  {
   "cell_type": "code",
   "execution_count": 2,
   "id": "61895b48",
   "metadata": {},
   "outputs": [
    {
     "name": "stdout",
     "output_type": "stream",
     "text": [
      "1-D array: [1 2 3 4 5]\n"
     ]
    }
   ],
   "source": [
    "arr = np.array([1,2,3,4,5])\n",
    "\n",
    "print(\"1-D array:\",arr)"
   ]
  },
  {
   "cell_type": "markdown",
   "id": "e4fea5d7",
   "metadata": {},
   "source": [
    "Creating a 2-D array"
   ]
  },
  {
   "cell_type": "code",
   "execution_count": 4,
   "id": "21f93c65",
   "metadata": {},
   "outputs": [
    {
     "name": "stdout",
     "output_type": "stream",
     "text": [
      "[[1 2 3]\n",
      " [4 5 6]\n",
      " [7 8 9]]\n"
     ]
    }
   ],
   "source": [
    "arr = np.array([[1,2,3],\n",
    "                [4,5,6],\n",
    "                [7,8,9]])\n",
    "\n",
    "print(arr)"
   ]
  },
  {
   "cell_type": "markdown",
   "id": "2bb93641",
   "metadata": {},
   "source": [
    "Creating array with default value 0 "
   ]
  },
  {
   "cell_type": "code",
   "execution_count": 10,
   "id": "2c3ddd1a",
   "metadata": {},
   "outputs": [
    {
     "name": "stdout",
     "output_type": "stream",
     "text": [
      "One dimensional array: \n",
      "[0. 0. 0.]\n",
      "Two dimensional array: \n",
      "[[0. 0. 0.]\n",
      " [0. 0. 0.]]\n"
     ]
    }
   ],
   "source": [
    "#default value will be zero, 3 is the shape that is the number of elements\n",
    "\n",
    "#one dimensional\n",
    "print(\"One dimensional array: \")\n",
    "zero_arr = np.zeros(3)\n",
    "print(zero_arr)\n",
    "\n",
    "#two dimensional\n",
    "print(\"Two dimensional array: \")\n",
    "arr_zero = np.zeros((2,3))\n",
    "print(arr_zero)"
   ]
  },
  {
   "cell_type": "markdown",
   "id": "95644d07",
   "metadata": {},
   "source": [
    "Creating array with default value as 1"
   ]
  },
  {
   "cell_type": "code",
   "execution_count": 9,
   "id": "48a3306e",
   "metadata": {},
   "outputs": [
    {
     "name": "stdout",
     "output_type": "stream",
     "text": [
      "One dimensional array: \n",
      "[1. 1. 1. 1.]\n",
      "Two dimensional array: \n",
      "[[1. 1. 1.]\n",
      " [1. 1. 1.]]\n"
     ]
    }
   ],
   "source": [
    "#creating one dimensional\n",
    "print(\"One dimensional array: \")\n",
    "arr1 = np.ones(4)\n",
    "print(arr1)\n",
    "\n",
    "#creating two dimensional\n",
    "print(\"Two dimensional array: \")\n",
    "arr2 = np.ones((2,3))\n",
    "print(arr2)"
   ]
  },
  {
   "cell_type": "markdown",
   "id": "81705a0f",
   "metadata": {},
   "source": [
    "Creating array with any custom default value"
   ]
  },
  {
   "cell_type": "code",
   "execution_count": 12,
   "id": "de41a077",
   "metadata": {},
   "outputs": [
    {
     "name": "stdout",
     "output_type": "stream",
     "text": [
      "[[9 9 9]\n",
      " [9 9 9]]\n"
     ]
    }
   ],
   "source": [
    "#custom value taken as 9\n",
    "full_array = np.full((2,3),9)\n",
    "\n",
    "print(full_array)"
   ]
  },
  {
   "cell_type": "markdown",
   "id": "01a6520a",
   "metadata": {},
   "source": [
    "Creating sequence of numbers in numpy"
   ]
  },
  {
   "cell_type": "code",
   "execution_count": 13,
   "id": "ecc77d3b",
   "metadata": {},
   "outputs": [
    {
     "name": "stdout",
     "output_type": "stream",
     "text": [
      "[1 3 5 7 9]\n"
     ]
    }
   ],
   "source": [
    "#use arange()\n",
    "\n",
    "seq = np.arange(1,10,2)\n",
    "print(seq)"
   ]
  },
  {
   "cell_type": "markdown",
   "id": "85e3307c",
   "metadata": {},
   "source": [
    "Creating an identity matrix"
   ]
  },
  {
   "cell_type": "code",
   "execution_count": 16,
   "id": "3ad3ee0e",
   "metadata": {},
   "outputs": [
    {
     "name": "stdout",
     "output_type": "stream",
     "text": [
      "[[1. 0. 0.]\n",
      " [0. 1. 0.]\n",
      " [0. 0. 1.]]\n"
     ]
    }
   ],
   "source": [
    "#use eye function\n",
    "\n",
    "new_arr = np.eye(3,3)\n",
    "print(new_arr)"
   ]
  }
 ],
 "metadata": {
  "kernelspec": {
   "display_name": "Python 3",
   "language": "python",
   "name": "python3"
  },
  "language_info": {
   "codemirror_mode": {
    "name": "ipython",
    "version": 3
   },
   "file_extension": ".py",
   "mimetype": "text/x-python",
   "name": "python",
   "nbconvert_exporter": "python",
   "pygments_lexer": "ipython3",
   "version": "3.10.9"
  }
 },
 "nbformat": 4,
 "nbformat_minor": 5
}
