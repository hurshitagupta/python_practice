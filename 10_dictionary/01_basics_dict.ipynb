{
 "cells": [
  {
   "cell_type": "markdown",
   "id": "b401a106",
   "metadata": {},
   "source": [
    "# Basics of Dictionary"
   ]
  },
  {
   "cell_type": "markdown",
   "id": "8ef25816",
   "metadata": {},
   "source": [
    "Creating a dictionary"
   ]
  },
  {
   "cell_type": "code",
   "execution_count": 4,
   "id": "54f33cf9",
   "metadata": {},
   "outputs": [
    {
     "name": "stdout",
     "output_type": "stream",
     "text": [
      "{'a': 'Apple', 'b': 'Ball', 'c': 'Cat'}\n",
      "{'name': 'Johny', 'age': 24, 'is_student': 'True', 'courses': ['Maths', 'Physics', 'Chemistry'], 'address': {'street': '123 main street', 'city': 'Delhi', 'Zip code': '12345'}}\n"
     ]
    }
   ],
   "source": [
    "my_dict = {\n",
    "    \"a\":\"Apple\",\n",
    "    \"b\":\"Ball\",\n",
    "    \"c\":\"Cat\"\n",
    "}\n",
    "print(my_dict)\n",
    "\n",
    "#dictionary with diff data types\n",
    "\n",
    "mixed_dict = {\n",
    "    \"name\":\"Johny\",\n",
    "    \"age\": 24,\n",
    "    \"is_student\":\"True\",\n",
    "    \"courses\": [\"Maths\",\"Physics\",\"Chemistry\"],\n",
    "    \"address\":{\n",
    "        \"street\":\"123 main street\",\n",
    "        \"city\": \"Delhi\",\n",
    "        \"Zip code\": \"12345\"\n",
    "    }\n",
    "}\n",
    "\n",
    "print(mixed_dict)"
   ]
  },
  {
   "cell_type": "markdown",
   "id": "5a8a7e46",
   "metadata": {},
   "source": [
    "Creating an empty dictionary"
   ]
  },
  {
   "cell_type": "code",
   "execution_count": 2,
   "id": "022ed85a",
   "metadata": {},
   "outputs": [
    {
     "name": "stdout",
     "output_type": "stream",
     "text": [
      "{}\n",
      "<class 'dict'>\n"
     ]
    }
   ],
   "source": [
    "empty_dict = {}\n",
    "print(empty_dict)\n",
    "print(type(empty_dict))"
   ]
  },
  {
   "cell_type": "markdown",
   "id": "34d7e1b3",
   "metadata": {},
   "source": [
    "Dictionary Constructor"
   ]
  },
  {
   "cell_type": "code",
   "execution_count": 5,
   "id": "9325a2ec",
   "metadata": {},
   "outputs": [
    {
     "name": "stdout",
     "output_type": "stream",
     "text": [
      "{}\n",
      "<class 'dict'>\n",
      "{'name': 'Johnny', 'age': 23, 'isStudent': True}\n"
     ]
    }
   ],
   "source": [
    "empty = dict()\n",
    "print(empty)\n",
    "print(type(empty))\n",
    "\n",
    "filled_dict = dict(name=\"Johnny\", age=23, isStudent = True)\n",
    "print(filled_dict)"
   ]
  },
  {
   "cell_type": "markdown",
   "id": "3ad3158e",
   "metadata": {},
   "source": [
    "Practice Question\n",
    "\n",
    "Imagine you are managing an inventory of products in a store.\n",
    "Create a Python program that initializes a dictionary to store the following information about products:\n",
    "\n",
    "ProductId as the key (an integer)\n",
    "\n",
    "Product name as the value (a string)\n",
    "\n",
    "Your program should:\n",
    "\n",
    "Create an empty dictionary.\n",
    "Prompt the user to enter details for at least 3 products.\n",
    "Populate the dictionary with the entered product Ids and names\n",
    "Display the final dictionary containing all product ids and names\n"
   ]
  },
  {
   "cell_type": "code",
   "execution_count": null,
   "id": "8168be76",
   "metadata": {},
   "outputs": [
    {
     "name": "stdout",
     "output_type": "stream",
     "text": [
      "{101: 'hairwash', 102: 'facewas', 103: 'bodywash'}\n"
     ]
    }
   ],
   "source": [
    "product_dict = {}\n",
    "\n",
    "for i in range(1,4):\n",
    "    product_id = int(input(\"Enter the product id: \"))\n",
    "    product_name = input(\"Enter the product name\")\n",
    "\n",
    "    # product_dict[product_id]=product_name\n",
    "\n",
    "    product_dict.update({product_id:product_name})\n",
    "\n",
    "print(product_dict)\n",
    "\n",
    "#there are two ways of adding the items to a dict "
   ]
  }
 ],
 "metadata": {
  "kernelspec": {
   "display_name": "Python 3",
   "language": "python",
   "name": "python3"
  },
  "language_info": {
   "codemirror_mode": {
    "name": "ipython",
    "version": 3
   },
   "file_extension": ".py",
   "mimetype": "text/x-python",
   "name": "python",
   "nbconvert_exporter": "python",
   "pygments_lexer": "ipython3",
   "version": "3.10.9"
  }
 },
 "nbformat": 4,
 "nbformat_minor": 5
}
