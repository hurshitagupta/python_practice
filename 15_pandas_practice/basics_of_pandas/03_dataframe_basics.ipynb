{
 "cells": [
  {
   "cell_type": "markdown",
   "id": "ee5f394c",
   "metadata": {},
   "source": [
    "DataFrames in Pandas"
   ]
  },
  {
   "cell_type": "markdown",
   "id": "5ca6c0a2",
   "metadata": {},
   "source": [
    "Creating a dataframe in pandas"
   ]
  },
  {
   "cell_type": "code",
   "execution_count": 2,
   "id": "a8d994e4",
   "metadata": {},
   "outputs": [
    {
     "name": "stdout",
     "output_type": "stream",
     "text": [
      "     Name  Maths  Science\n",
      "0   Aarav     98       90\n",
      "1    Riya     76       70\n",
      "2  Mayank     84       75\n",
      "3   Komal     82       86\n"
     ]
    }
   ],
   "source": [
    "import pandas as pd\n",
    "\n",
    "friends = pd.DataFrame({\"Name\":[\"Aarav\",\"Riya\",\"Mayank\",\"Komal\"],\"Maths\":[98,76,84,82],\"Science\":[90,70,75,86]})\n",
    "print(friends)"
   ]
  },
  {
   "cell_type": "markdown",
   "id": "f551f175",
   "metadata": {},
   "source": [
    "Accessing Elements in DataFrame"
   ]
  },
  {
   "cell_type": "markdown",
   "id": "345a1a1d",
   "metadata": {},
   "source": [
    "1. Get a column as a Series"
   ]
  },
  {
   "cell_type": "code",
   "execution_count": 3,
   "id": "f4298903",
   "metadata": {},
   "outputs": [
    {
     "name": "stdout",
     "output_type": "stream",
     "text": [
      "0     Aarav\n",
      "1      Riya\n",
      "2    Mayank\n",
      "3     Komal\n",
      "Name: Name, dtype: object\n"
     ]
    }
   ],
   "source": [
    "print(friends[\"Name\"])"
   ]
  },
  {
   "cell_type": "markdown",
   "id": "eb635496",
   "metadata": {},
   "source": [
    "2. Get Multiple Columns"
   ]
  },
  {
   "cell_type": "code",
   "execution_count": 4,
   "id": "0c4b85c7",
   "metadata": {},
   "outputs": [
    {
     "data": {
      "text/html": [
       "<div>\n",
       "<style scoped>\n",
       "    .dataframe tbody tr th:only-of-type {\n",
       "        vertical-align: middle;\n",
       "    }\n",
       "\n",
       "    .dataframe tbody tr th {\n",
       "        vertical-align: top;\n",
       "    }\n",
       "\n",
       "    .dataframe thead th {\n",
       "        text-align: right;\n",
       "    }\n",
       "</style>\n",
       "<table border=\"1\" class=\"dataframe\">\n",
       "  <thead>\n",
       "    <tr style=\"text-align: right;\">\n",
       "      <th></th>\n",
       "      <th>Maths</th>\n",
       "      <th>Science</th>\n",
       "    </tr>\n",
       "  </thead>\n",
       "  <tbody>\n",
       "    <tr>\n",
       "      <th>0</th>\n",
       "      <td>98</td>\n",
       "      <td>90</td>\n",
       "    </tr>\n",
       "    <tr>\n",
       "      <th>1</th>\n",
       "      <td>76</td>\n",
       "      <td>70</td>\n",
       "    </tr>\n",
       "    <tr>\n",
       "      <th>2</th>\n",
       "      <td>84</td>\n",
       "      <td>75</td>\n",
       "    </tr>\n",
       "    <tr>\n",
       "      <th>3</th>\n",
       "      <td>82</td>\n",
       "      <td>86</td>\n",
       "    </tr>\n",
       "  </tbody>\n",
       "</table>\n",
       "</div>"
      ],
      "text/plain": [
       "   Maths  Science\n",
       "0     98       90\n",
       "1     76       70\n",
       "2     84       75\n",
       "3     82       86"
      ]
     },
     "execution_count": 4,
     "metadata": {},
     "output_type": "execute_result"
    }
   ],
   "source": [
    "friends[[\"Maths\",\"Science\"]]"
   ]
  },
  {
   "cell_type": "markdown",
   "id": "1b3fcd27",
   "metadata": {},
   "source": [
    "3. Get rows using .iloc "
   ]
  },
  {
   "cell_type": "code",
   "execution_count": 5,
   "id": "0adc9fcc",
   "metadata": {},
   "outputs": [
    {
     "name": "stdout",
     "output_type": "stream",
     "text": [
      "Name       Aarav\n",
      "Maths         98\n",
      "Science       90\n",
      "Name: 0, dtype: object\n"
     ]
    }
   ],
   "source": [
    "print(friends.iloc[0])"
   ]
  },
  {
   "cell_type": "markdown",
   "id": "91a41bfd",
   "metadata": {},
   "source": [
    "4. Get rows using .loc"
   ]
  },
  {
   "cell_type": "code",
   "execution_count": null,
   "id": "30247cde",
   "metadata": {},
   "outputs": [
    {
     "name": "stdout",
     "output_type": "stream",
     "text": [
      "Name       Mayank\n",
      "Maths          84\n",
      "Science        75\n",
      "Name: F3, dtype: object\n"
     ]
    }
   ],
   "source": [
    "friends.index = [\"F1\",\"F2\",\"F3\",\"F4\"]\n",
    "\n",
    "print(friends.loc[\"F3\"])"
   ]
  },
  {
   "cell_type": "markdown",
   "id": "dc2782de",
   "metadata": {},
   "source": [
    "### Practice Task"
   ]
  },
  {
   "cell_type": "markdown",
   "id": "16e46a16",
   "metadata": {},
   "source": [
    "1. Create a DataFrame of 4 friends, with columns: Name, Fav Food, Fav Song\n",
    "data = {\n",
    "    \"Name\": [...],\n",
    "    \"Fav Food\": [...],\n",
    "    \"Fav Song\": [...]\n",
    "}\n",
    "\n",
    "2. Print the full DataFrame\n",
    "\n",
    "3. Access:\n",
    "\n",
    "    a. All Fav Food column\n",
    "\n",
    "    b. Row of your 3rd friend (using iloc)\n",
    "    \n",
    "    c. Both Fav Food + Fav Song columns together\n",
    "\n",
    "4. Set \"Name\" column as index and print data for one friend using loc\n"
   ]
  },
  {
   "cell_type": "code",
   "execution_count": 19,
   "id": "a0dfc428",
   "metadata": {},
   "outputs": [
    {
     "name": "stdout",
     "output_type": "stream",
     "text": [
      "     Name Fav Food      Fav Song\n",
      "0    Riya    Pizza      Memories\n",
      "1   Aarav   Burger    Photograph\n",
      "2   Komal  Noodles      Sapphire\n",
      "3  Mayank     Cake  Dance Monkey\n",
      "0      Pizza\n",
      "1     Burger\n",
      "2    Noodles\n",
      "3       Cake\n",
      "Name: Fav Food, dtype: object\n",
      "Name           Komal\n",
      "Fav Food     Noodles\n",
      "Fav Song    Sapphire\n",
      "Name: 2, dtype: object\n",
      "  Fav Food      Fav Song\n",
      "0    Pizza      Memories\n",
      "1   Burger    Photograph\n",
      "2  Noodles      Sapphire\n",
      "3     Cake  Dance Monkey\n",
      "Name             Aarav\n",
      "Fav Food        Burger\n",
      "Fav Song    Photograph\n",
      "Name: Aarav, dtype: object\n"
     ]
    }
   ],
   "source": [
    "import pandas as pd\n",
    "\n",
    "data = {\n",
    "    \"Name\": [\"Riya\",\"Aarav\",\"Komal\",\"Mayank\"],\n",
    "    \"Fav Food\": [\"Pizza\",\"Burger\",\"Noodles\",\"Cake\"],\n",
    "    \"Fav Song\" : [\"Memories\",\"Photograph\",\"Sapphire\",\"Dance Monkey\"]\n",
    "}\n",
    "\n",
    "df = pd.DataFrame(data)\n",
    "print(df)\n",
    "\n",
    "#accessing fav food column\n",
    "print(df[\"Fav Food\"])\n",
    "\n",
    "#row of 3rd friend using iloc\n",
    "print(df.iloc[2])\n",
    "\n",
    "#favfood and favsongs column together\n",
    "print(df[[\"Fav Food\",\"Fav Song\"]])\n",
    "\n",
    "#setting name column as index\n",
    "\n",
    "df.index = data[\"Name\"]\n",
    "print(df.loc[\"Aarav\"])\n",
    "\n"
   ]
  }
 ],
 "metadata": {
  "kernelspec": {
   "display_name": "Python 3",
   "language": "python",
   "name": "python3"
  },
  "language_info": {
   "codemirror_mode": {
    "name": "ipython",
    "version": 3
   },
   "file_extension": ".py",
   "mimetype": "text/x-python",
   "name": "python",
   "nbconvert_exporter": "python",
   "pygments_lexer": "ipython3",
   "version": "3.10.9"
  }
 },
 "nbformat": 4,
 "nbformat_minor": 5
}
