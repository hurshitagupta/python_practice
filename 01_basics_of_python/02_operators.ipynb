{
 "cells": [
  {
   "cell_type": "markdown",
   "id": "7acb765c",
   "metadata": {},
   "source": [
    "# Practice Questions for Operators in Python"
   ]
  },
  {
   "cell_type": "markdown",
   "id": "ef32f2c4",
   "metadata": {},
   "source": [
    "Q1. You have a data containing two record: \"Quantity\" and \"Price per unit\". How would you use arithmetic operators to calculate the total cost for each item, also calculate the total cost? \n",
    "\n",
    "- Product 1: Quantity-5, price per unit-rs.250\n",
    "- Product 2: Quantity-25, price per unit-rs.656 \n",
    "- Product 3: Quantity-34, price per unit-rs.274"
   ]
  },
  {
   "cell_type": "code",
   "execution_count": 2,
   "id": "d7fee92c",
   "metadata": {},
   "outputs": [
    {
     "name": "stdout",
     "output_type": "stream",
     "text": [
      "The total cost for product1 is:  1250\n",
      "The total cost for product2 is:  16400\n",
      "The total cost for product3 is:  9316\n",
      "The total cost to be paid:  26966\n"
     ]
    }
   ],
   "source": [
    "product1_qty = 5\n",
    "product1_price = 250\n",
    "\n",
    "product2_qty = 25\n",
    "product2_price = 656\n",
    "\n",
    "product3_qty = 34\n",
    "product3_price = 274\n",
    "\n",
    "cost_product1 = product1_qty*product1_price\n",
    "print(\"The total cost for product1 is: \",cost_product1)\n",
    "\n",
    "cost_product2 = product2_qty*product2_price\n",
    "print(\"The total cost for product2 is: \",cost_product2)\n",
    "\n",
    "cost_product3 = product3_qty*product3_price\n",
    "print(\"The total cost for product3 is: \",cost_product3)\n",
    "\n",
    "sum_total = cost_product1+cost_product2+cost_product3\n",
    "print(\"The total cost to be paid: \",sum_total)\n"
   ]
  },
  {
   "cell_type": "markdown",
   "id": "003e5a67",
   "metadata": {},
   "source": [
    "Q2. In a finance based organisation, the task is to calculate the SI given the principal amount, interest rate and time period. The interest rate is 8%, the principal amount is Rs. 15,00,000 and the time period is 3years. Calculate the simple interest.\n",
    "\n",
    "Also the threshold amount is Rs. 1,20,000. Please check if calculate interest is greater or less than the threshold amount."
   ]
  },
  {
   "cell_type": "code",
   "execution_count": 4,
   "id": "78874df0",
   "metadata": {},
   "outputs": [
    {
     "name": "stdout",
     "output_type": "stream",
     "text": [
      "The simple interest is: 360000.0\n",
      "The threshold amount is greater than the simple interest? False\n"
     ]
    }
   ],
   "source": [
    "interest_rate = 8\n",
    "principal_amt = 1500000\n",
    "time_period = 3\n",
    "\n",
    "SI = (principal_amt*interest_rate*time_period)/100\n",
    "print(\"The simple interest is:\",SI)\n",
    "\n",
    "threshold_amt = 120000\n",
    "check = threshold_amt>SI\n",
    "\n",
    "print(\"The threshold amount is greater than the simple interest?\",check)"
   ]
  },
  {
   "cell_type": "markdown",
   "id": "0671bd3e",
   "metadata": {},
   "source": [
    "Q3. Write a python program to calculate the area of a circle with radius of 12cm.\n"
   ]
  },
  {
   "cell_type": "code",
   "execution_count": 6,
   "id": "81884722",
   "metadata": {},
   "outputs": [
    {
     "name": "stdout",
     "output_type": "stream",
     "text": [
      "Area of the circle is:  452.16\n"
     ]
    }
   ],
   "source": [
    "radius = 12\n",
    "pi = 3.14\n",
    "\n",
    "area = pi*(radius**2)\n",
    "print(\"Area of the circle is: \",area)"
   ]
  }
 ],
 "metadata": {
  "kernelspec": {
   "display_name": "Python 3",
   "language": "python",
   "name": "python3"
  },
  "language_info": {
   "codemirror_mode": {
    "name": "ipython",
    "version": 3
   },
   "file_extension": ".py",
   "mimetype": "text/x-python",
   "name": "python",
   "nbconvert_exporter": "python",
   "pygments_lexer": "ipython3",
   "version": "3.10.9"
  }
 },
 "nbformat": 4,
 "nbformat_minor": 5
}
