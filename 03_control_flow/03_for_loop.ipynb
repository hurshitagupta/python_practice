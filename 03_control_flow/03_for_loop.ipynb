{
 "cells": [
  {
   "cell_type": "markdown",
   "id": "7bde6f99",
   "metadata": {},
   "source": [
    "# For loop\n"
   ]
  },
  {
   "cell_type": "markdown",
   "id": "fc7b6bd3",
   "metadata": {},
   "source": [
    "In python, a for loop is used to iterate over a sequence(such as list, tuple, string, dictionary, or range) and execute block of code for each item in the sequence"
   ]
  },
  {
   "cell_type": "code",
   "execution_count": 1,
   "id": "9a7bf5b0",
   "metadata": {},
   "outputs": [
    {
     "name": "stdout",
     "output_type": "stream",
     "text": [
      "1\n",
      "2\n",
      "3\n",
      "4\n",
      "5\n"
     ]
    }
   ],
   "source": [
    "numbers = [1,2,3,4,5]\n",
    "\n",
    "for i in numbers:\n",
    "    print(i)"
   ]
  },
  {
   "cell_type": "code",
   "execution_count": 2,
   "id": "5f5c4615",
   "metadata": {},
   "outputs": [
    {
     "name": "stdout",
     "output_type": "stream",
     "text": [
      "B\n",
      "a\n",
      "n\n",
      "a\n",
      "n\n",
      "a\n"
     ]
    }
   ],
   "source": [
    "fruit = \"Banana\"\n",
    "\n",
    "for char in fruit:\n",
    "    print(char)"
   ]
  },
  {
   "cell_type": "code",
   "execution_count": null,
   "id": "cb590aba",
   "metadata": {},
   "outputs": [
    {
     "name": "stdout",
     "output_type": "stream",
     "text": [
      "1\n",
      "2\n",
      "3\n",
      "4\n",
      "5\n",
      "6\n",
      "7\n",
      "8\n",
      "9\n",
      "10\n"
     ]
    }
   ],
   "source": [
    "for i in range(1,11):\n",
    "    print(i)\n",
    "\n",
    "#prints from 1-10"
   ]
  },
  {
   "cell_type": "markdown",
   "id": "cd7049ff",
   "metadata": {},
   "source": [
    "Ques. Use for loop to print the numbers from 1 to 25 , print the odd ones"
   ]
  },
  {
   "cell_type": "code",
   "execution_count": 5,
   "id": "9e124b5e",
   "metadata": {},
   "outputs": [
    {
     "name": "stdout",
     "output_type": "stream",
     "text": [
      "1\n",
      "3\n",
      "5\n",
      "7\n",
      "9\n",
      "11\n",
      "13\n",
      "15\n",
      "17\n",
      "19\n",
      "21\n",
      "23\n",
      "25\n"
     ]
    }
   ],
   "source": [
    "for i in range(1,26):\n",
    "    if(i%2 != 0):\n",
    "        print(i)\n",
    "    "
   ]
  },
  {
   "cell_type": "markdown",
   "id": "b0d57cb2",
   "metadata": {},
   "source": [
    "Ques. Take any number as an input from user and print its multiplication table upto 10."
   ]
  },
  {
   "cell_type": "code",
   "execution_count": 7,
   "id": "801c2239",
   "metadata": {},
   "outputs": [
    {
     "name": "stdout",
     "output_type": "stream",
     "text": [
      "2X1 = 2\n",
      "2X2 = 4\n",
      "2X3 = 6\n",
      "2X4 = 8\n",
      "2X5 = 10\n",
      "2X6 = 12\n",
      "2X7 = 14\n",
      "2X8 = 16\n",
      "2X9 = 18\n",
      "2X10 = 20\n"
     ]
    }
   ],
   "source": [
    "num = int(input(\"Enter any number: \"))\n",
    "\n",
    "for i in range(1,11):\n",
    "    print(f\"{num}X{i} = {num*i}\")\n",
    "    "
   ]
  },
  {
   "cell_type": "markdown",
   "id": "7d5fabfc",
   "metadata": {},
   "source": [
    "Ques. You are tasked with creating a program to assist shoppers in calculating their total bill at gocery store. The store offers discounts based on the total purchase amount. Your task is to implement a Python program that takes the proce of each item purchased and calculates the total bill, including any applicable discounts.\n",
    "\n",
    "The store offers the following discount rates based on the total purchase amount:\n",
    "\n",
    "- If the total purchase amount is 100 or more the customer recieves a 10% discount.\n",
    "- If the total purchase is between 50 and 99.99, the customer recieves a 5% discount.\n",
    "-If the total purchse amount is less than 50 no discount is applied\n",
    "\n",
    "WAP to prompt the user to enter the prices of items they purchased. Print out the subtotal, discount amoount and total bill after applying the discount.\n"
   ]
  },
  {
   "cell_type": "code",
   "execution_count": 3,
   "id": "a5024016",
   "metadata": {},
   "outputs": [
    {
     "name": "stdout",
     "output_type": "stream",
     "text": [
      "Discount you availed:  3.0\n",
      "Your total amount is  57.0\n"
     ]
    }
   ],
   "source": [
    "no_of_items = int(input(\"Enter the number of items you want to purchase: \"))\n",
    "i=1\n",
    "amount=0\n",
    "for i in range(1,no_of_items+1):\n",
    "    price = float(input(\"Enter price of the product: \"))\n",
    "    amount = amount+price\n",
    "\n",
    "    i = i+1\n",
    "\n",
    "if(amount>=100):\n",
    "    discount = amount*0.1\n",
    "    final_amount = amount-discount\n",
    "    print(\"Discount you availed: \",discount)\n",
    "    print(\"Your total amount is: \", final_amount)\n",
    "\n",
    "elif(amount<=99.99 and amount>50.00):\n",
    "    discount = amount*0.05\n",
    "    final_amount = amount-discount\n",
    "    print(\"Discount you availed: \",discount)\n",
    "    print(\"Your total amount is \", final_amount)\n",
    "\n",
    "else:\n",
    "    print(\"Your final amount is\", amount)"
   ]
  }
 ],
 "metadata": {
  "kernelspec": {
   "display_name": "Python 3",
   "language": "python",
   "name": "python3"
  },
  "language_info": {
   "codemirror_mode": {
    "name": "ipython",
    "version": 3
   },
   "file_extension": ".py",
   "mimetype": "text/x-python",
   "name": "python",
   "nbconvert_exporter": "python",
   "pygments_lexer": "ipython3",
   "version": "3.10.9"
  }
 },
 "nbformat": 4,
 "nbformat_minor": 5
}
