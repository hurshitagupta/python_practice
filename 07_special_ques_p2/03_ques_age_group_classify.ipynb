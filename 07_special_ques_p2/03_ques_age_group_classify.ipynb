{
 "cells": [
  {
   "cell_type": "markdown",
   "id": "ff73c60d",
   "metadata": {},
   "source": [
    "# Question\n",
    "Age Group Classification\n",
    "\n",
    "You are analyzing demographic data and want to classify people into different age groups. Create a program that:\n",
    "\n",
    "Asks the user to input the number of people.\n",
    "\n",
    "Asks the user to input ages of each person, storing them in a list.\n",
    "\n",
    "Classifies each person into one of the following:\n",
    "age groups: \"Child\" (age<18), \"Adult\" (18<=age<65) or \"Senior\" (age>= 65).\n",
    "\n",
    "Print out the number of people in each group.\n"
   ]
  },
  {
   "cell_type": "code",
   "execution_count": 2,
   "id": "49cd0fa5",
   "metadata": {},
   "outputs": [
    {
     "name": "stdout",
     "output_type": "stream",
     "text": [
      "[12, 34, 56, 32, 34, 90, 9, 21, 12, 45]\n",
      "The total number of children are:  3\n",
      "The total number of adults are:  6\n",
      "The total number of seniors are:  1\n"
     ]
    }
   ],
   "source": [
    "num_of_people = int(input(\"Enter the number of people: \"))\n",
    "\n",
    "age_list = []\n",
    "class_group = []\n",
    "\n",
    "for num in range(1,num_of_people+1):\n",
    "    age = int(input(f\"Enter the age of person{num}: \"))\n",
    "    age_list.append(age)\n",
    "\n",
    "    if(age<18):\n",
    "        class_group.append(\"Child\")\n",
    "    elif(18<=age<65):\n",
    "        class_group.append(\"Adult\")\n",
    "    else:\n",
    "        class_group.append(\"Senior\")\n",
    "\n",
    "count_child = 0\n",
    "count_adult = 0\n",
    "count_senior = 0\n",
    "\n",
    "for i in class_group:\n",
    "    if(i==\"Child\"):\n",
    "        count_child = count_child+1\n",
    "    elif(i==\"Adult\"):\n",
    "        count_adult = count_adult+1\n",
    "    else:\n",
    "        count_senior = count_senior+1\n",
    "print(age_list)\n",
    "print(\"The total number of children are: \", count_child)\n",
    "print(\"The total number of adults are: \", count_adult)\n",
    "print(\"The total number of seniors are: \", count_senior)\n",
    "\n"
   ]
  }
 ],
 "metadata": {
  "kernelspec": {
   "display_name": "Python 3",
   "language": "python",
   "name": "python3"
  },
  "language_info": {
   "codemirror_mode": {
    "name": "ipython",
    "version": 3
   },
   "file_extension": ".py",
   "mimetype": "text/x-python",
   "name": "python",
   "nbconvert_exporter": "python",
   "pygments_lexer": "ipython3",
   "version": "3.10.9"
  }
 },
 "nbformat": 4,
 "nbformat_minor": 5
}
