{
 "cells": [
  {
   "cell_type": "markdown",
   "id": "01d529f0",
   "metadata": {},
   "source": [
    "# More on Sets"
   ]
  },
  {
   "cell_type": "markdown",
   "id": "bc49dd12",
   "metadata": {},
   "source": [
    "Joining two sets"
   ]
  },
  {
   "cell_type": "code",
   "execution_count": 4,
   "id": "097c18c9",
   "metadata": {},
   "outputs": [
    {
     "name": "stdout",
     "output_type": "stream",
     "text": [
      "{1, 2, 3, 4.5, 'god', 'you', 'bless', 9.0, 'hi', 'hello'}\n"
     ]
    }
   ],
   "source": [
    "set1 = {\"hello\",\"hi\",1,2,3,9.0, 4.5}\n",
    "set2 = {\"god\",\"bless\",\"you\"}\n",
    "\n",
    "set3 = set1.union(set2)\n",
    "print(set3)\n"
   ]
  },
  {
   "cell_type": "markdown",
   "id": "cbe60f12",
   "metadata": {},
   "source": [
    "Maximum and Minimum Values"
   ]
  },
  {
   "cell_type": "code",
   "execution_count": 5,
   "id": "59edc6f7",
   "metadata": {},
   "outputs": [
    {
     "name": "stdout",
     "output_type": "stream",
     "text": [
      "989\n",
      "54\n"
     ]
    }
   ],
   "source": [
    "set4 = {900,76,54, 109, 432, 789, 543, 989, 123}\n",
    "\n",
    "print(max(set4)) # prints maximum value\n",
    "print(min(set4)) # prints minimum value"
   ]
  },
  {
   "cell_type": "markdown",
   "id": "09343fc7",
   "metadata": {},
   "source": [
    "Intersection"
   ]
  },
  {
   "cell_type": "code",
   "execution_count": null,
   "id": "70e0ac9d",
   "metadata": {},
   "outputs": [
    {
     "name": "stdout",
     "output_type": "stream",
     "text": [
      "{45, 54}\n"
     ]
    }
   ],
   "source": [
    "set1 = {23,45,67,54,34}\n",
    "set2 = {54,45,78,87,90}\n",
    "\n",
    "print(set1.intersection(set2))\n",
    "# it prints the elements that are present in both the sets"
   ]
  },
  {
   "cell_type": "markdown",
   "id": "f59f20f5",
   "metadata": {},
   "source": [
    "Difference"
   ]
  },
  {
   "cell_type": "code",
   "execution_count": null,
   "id": "27c7c589",
   "metadata": {},
   "outputs": [
    {
     "name": "stdout",
     "output_type": "stream",
     "text": [
      "{34, 67, 23}\n",
      "{90, 78, 87}\n"
     ]
    }
   ],
   "source": [
    "set1 = {23,45,67,54,34}\n",
    "set2 = {54,45,78,87,90}\n",
    "\n",
    "print(set1.difference(set2))\n",
    "print(set2.difference(set1))\n",
    "\n",
    "#prints the elements that are not present in the other set"
   ]
  }
 ],
 "metadata": {
  "kernelspec": {
   "display_name": "Python 3",
   "language": "python",
   "name": "python3"
  },
  "language_info": {
   "codemirror_mode": {
    "name": "ipython",
    "version": 3
   },
   "file_extension": ".py",
   "mimetype": "text/x-python",
   "name": "python",
   "nbconvert_exporter": "python",
   "pygments_lexer": "ipython3",
   "version": "3.10.9"
  }
 },
 "nbformat": 4,
 "nbformat_minor": 5
}
