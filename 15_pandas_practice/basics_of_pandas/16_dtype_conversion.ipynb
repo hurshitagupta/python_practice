{
 "cells": [
  {
   "cell_type": "markdown",
   "id": "485b843f",
   "metadata": {},
   "source": [
    "Data Type Conversions"
   ]
  },
  {
   "cell_type": "code",
   "execution_count": 13,
   "id": "042a6031",
   "metadata": {},
   "outputs": [
    {
     "name": "stdout",
     "output_type": "stream",
     "text": [
      "   Name Age         DOB Score    Fees Grade     City\n",
      "0  Amit  25  1998-01-01  85.5  ₹1,200     a   muMBai\n",
      "1  Riya  22  2001-07-15    91  ₹1,500     B    delhi\n",
      "2  John  27  1996-12-05    88    ₹950     C  KOLKATA\n",
      "3  Neha  24  2000-03-21   NaN  ₹1,000     d  ChEnNaI\n"
     ]
    }
   ],
   "source": [
    "import pandas as pd\n",
    "\n",
    "data = {\n",
    "    \"Name\": [\"Amit\", \"Riya\", \"John\", \"Neha\"],\n",
    "    \"Age\": [\"25\", \"22\", \"27\", \"24\"],\n",
    "    \"DOB\": [\"1998-01-01\", \"2001-07-15\", \"1996-12-05\", \"2000-03-21\"],\n",
    "    \"Score\": [\"85.5\", \"91\", \"88\", \"NaN\"],\n",
    "    \"Fees\": [\"₹1,200\", \"₹1,500\", \"₹950\", \"₹1,000\"],\n",
    "    \"Grade\": [\"a\", \"B\", \"C\", \"d\"],\n",
    "    \"City\": [\"muMBai\", \"delhi\", \"KOLKATA\", \"ChEnNaI\"]\n",
    "}\n",
    "\n",
    "df = pd.DataFrame(data)\n",
    "print(df)\n"
   ]
  },
  {
   "cell_type": "markdown",
   "id": "4f300348",
   "metadata": {},
   "source": [
    "Convert age column to integer type"
   ]
  },
  {
   "cell_type": "code",
   "execution_count": 4,
   "id": "441a9c4e",
   "metadata": {},
   "outputs": [
    {
     "name": "stdout",
     "output_type": "stream",
     "text": [
      "int64\n"
     ]
    }
   ],
   "source": [
    "df[\"Age\"] = df[\"Age\"].astype(int)\n",
    "print(df[\"Age\"].dtype)"
   ]
  },
  {
   "cell_type": "markdown",
   "id": "ec5a6713",
   "metadata": {},
   "source": [
    "Convert Grade column to uppercase string"
   ]
  },
  {
   "cell_type": "code",
   "execution_count": 9,
   "id": "dbae642e",
   "metadata": {},
   "outputs": [
    {
     "name": "stdout",
     "output_type": "stream",
     "text": [
      "   Name Age         DOB Score    Fees Grade\n",
      "0  Amit  25  1998-01-01  85.5  ₹1,200     A\n",
      "1  Riya  22  2001-07-15    91  ₹1,500     B\n",
      "2  John  27  1996-12-05    88    ₹950     C\n",
      "3  Neha  24  2000-03-21   NaN  ₹1,000     D\n"
     ]
    }
   ],
   "source": [
    "df[\"Grade\"] = df[\"Grade\"].str.upper()\n",
    "print(df)"
   ]
  },
  {
   "cell_type": "markdown",
   "id": "19919896",
   "metadata": {},
   "source": [
    "Convert city column to title case"
   ]
  },
  {
   "cell_type": "code",
   "execution_count": 15,
   "id": "efdb10d0",
   "metadata": {},
   "outputs": [
    {
     "name": "stdout",
     "output_type": "stream",
     "text": [
      "   Name Age         DOB Score    Fees Grade     City\n",
      "0  Amit  25  1998-01-01  85.5  ₹1,200     a   Mumbai\n",
      "1  Riya  22  2001-07-15    91  ₹1,500     B    Delhi\n",
      "2  John  27  1996-12-05    88    ₹950     C  Kolkata\n",
      "3  Neha  24  2000-03-21   NaN  ₹1,000     d  Chennai\n"
     ]
    }
   ],
   "source": [
    "df[\"City\"] = df.City.str.title()\n",
    "print(df)"
   ]
  },
  {
   "cell_type": "markdown",
   "id": "7fa41932",
   "metadata": {},
   "source": [
    "Removing unwanted characters from string columns"
   ]
  },
  {
   "cell_type": "code",
   "execution_count": null,
   "id": "9caee865",
   "metadata": {},
   "outputs": [
    {
     "name": "stdout",
     "output_type": "stream",
     "text": [
      "  Student      Fees  Fees_Clean\n",
      "0    Amit     ₹1000        1000\n",
      "1   Priya      $800         800\n",
      "2    Ravi    750 Rs         750\n",
      "3    Neha  USD 1200        1200\n"
     ]
    }
   ],
   "source": [
    "import pandas as pd\n",
    "\n",
    "data = {\n",
    "    \"Student\": [\"Amit\", \"Priya\", \"Ravi\", \"Neha\"],\n",
    "    \"Fees\": [\"₹1000\", \"$800\", \"750 Rs\", \"USD 1200\"]\n",
    "}\n",
    "df = pd.DataFrame(data)\n",
    "\n",
    "\n",
    "#extract only the numbers and convert them into integer\n",
    "\n",
    "# Extract digits from 'Fees' column\n",
    "df[\"Fees_Clean\"] = df[\"Fees\"].str.extract(r\"(\\d+)\")\n",
    "\n",
    "# Convert the new column to integer\n",
    "df[\"Fees_Clean\"] = df[\"Fees_Clean\"].astype(int)\n",
    "\n",
    "print(df)"
   ]
  },
  {
   "cell_type": "markdown",
   "id": "cb54c037",
   "metadata": {},
   "source": [
    "## Mini Challenge"
   ]
  },
  {
   "cell_type": "markdown",
   "id": "daa65db1",
   "metadata": {},
   "source": [
    "Clean & Convert Student Fee Data\n",
    "\n",
    "You're given a DataFrame with mixed fee formats and some missing values."
   ]
  },
  {
   "cell_type": "code",
   "execution_count": 40,
   "id": "1a6afc84",
   "metadata": {},
   "outputs": [
    {
     "name": "stdout",
     "output_type": "stream",
     "text": [
      "  Student       Fees\n",
      "0    Amit     ₹1,000\n",
      "1   Priya       $800\n",
      "2    Ravi     750 Rs\n",
      "3    Neha       None\n",
      "4    John  USD 1,500\n",
      "5    Sana        N/A\n"
     ]
    }
   ],
   "source": [
    "import pandas as pd\n",
    "\n",
    "data = {\n",
    "    \"Student\": [\"Amit\", \"Priya\", \"Ravi\", \"Neha\", \"John\", \"Sana\"],\n",
    "    \"Fees\": [\"₹1,000\", \"$800\", \"750 Rs\", None, \"USD 1,500\", \"N/A\"]\n",
    "}\n",
    "df = pd.DataFrame(data)\n",
    "print(df)\n",
    "\n",
    "df[\"Fees\"] = df[\"Fees\"].str.replace(\",\",\"\",regex=False)"
   ]
  },
  {
   "cell_type": "markdown",
   "id": "e8ca442d",
   "metadata": {},
   "source": [
    "Tasks:\n",
    "\n",
    "1. Clean the \"Fees\" column by:\n",
    "\n",
    "    - Removing commas\n",
    "\n",
    "    - Extracting numeric digits (like you did earlier)\n",
    "\n",
    "    - Replacing missing or unknown values (None, \"N/A\") with 0\n",
    "\n",
    "2. Convert the cleaned fees to integer type and store in a new column called \"Fees_Cleaned\".\n",
    "\n",
    "3. Print the cleaned DataFrame."
   ]
  },
  {
   "cell_type": "code",
   "execution_count": 42,
   "id": "95df24aa",
   "metadata": {},
   "outputs": [
    {
     "name": "stdout",
     "output_type": "stream",
     "text": [
      "  Student  Fees\n",
      "0    Amit  1000\n",
      "1   Priya   800\n",
      "2    Ravi   750\n",
      "3    Neha     0\n",
      "4    John  1500\n",
      "5    Sana     0\n",
      "  Student  Fees  Fees_Cleaned\n",
      "0    Amit  1000          1000\n",
      "1   Priya   800           800\n",
      "2    Ravi   750           750\n",
      "3    Neha     0             0\n",
      "4    John  1500          1500\n",
      "5    Sana     0             0\n"
     ]
    }
   ],
   "source": [
    "df[\"Fees\"] = df[\"Fees\"].str.extract(r\"(\\d+)\")\n",
    "df.fillna(0,inplace=True)\n",
    "print(df)\n",
    "\n",
    "df[\"Fees_Cleaned\"] = df[\"Fees\"].astype(int)\n",
    "print(df)"
   ]
  }
 ],
 "metadata": {
  "kernelspec": {
   "display_name": "Python 3",
   "language": "python",
   "name": "python3"
  },
  "language_info": {
   "codemirror_mode": {
    "name": "ipython",
    "version": 3
   },
   "file_extension": ".py",
   "mimetype": "text/x-python",
   "name": "python",
   "nbconvert_exporter": "python",
   "pygments_lexer": "ipython3",
   "version": "3.10.9"
  }
 },
 "nbformat": 4,
 "nbformat_minor": 5
}
