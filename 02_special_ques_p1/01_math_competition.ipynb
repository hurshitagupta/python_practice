{
 "cells": [
  {
   "cell_type": "markdown",
   "id": "5e2ebfb5",
   "metadata": {},
   "source": [
    "Question- You are developing a program for a Math competition where participants need to solve mathematical expression and provide the result.\n",
    "You want to use Python to automate the evaluation process.\n",
    "\n",
    "1. Take input from the participant to enter a mathematical expression\n",
    "2. Evaluate the expression entered by the participant and obtain the result\n",
    "3. Display the result to the participant"
   ]
  },
  {
   "cell_type": "code",
   "execution_count": 1,
   "id": "b6f3719f",
   "metadata": {},
   "outputs": [
    {
     "name": "stdout",
     "output_type": "stream",
     "text": [
      "32+45/2*3 = 99.5\n"
     ]
    }
   ],
   "source": [
    "exp = input(\"Enter the expression you want to evaluate: \")\n",
    "\n",
    "result = eval(exp)\n",
    "\n",
    "print(exp,\"=\",result)\n"
   ]
  }
 ],
 "metadata": {
  "kernelspec": {
   "display_name": "Python 3",
   "language": "python",
   "name": "python3"
  },
  "language_info": {
   "codemirror_mode": {
    "name": "ipython",
    "version": 3
   },
   "file_extension": ".py",
   "mimetype": "text/x-python",
   "name": "python",
   "nbconvert_exporter": "python",
   "pygments_lexer": "ipython3",
   "version": "3.10.9"
  }
 },
 "nbformat": 4,
 "nbformat_minor": 5
}
