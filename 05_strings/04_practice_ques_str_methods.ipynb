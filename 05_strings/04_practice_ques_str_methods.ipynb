{
 "cells": [
  {
   "cell_type": "markdown",
   "id": "c08985c9",
   "metadata": {},
   "source": [
    "Practice Question"
   ]
  },
  {
   "cell_type": "markdown",
   "id": "2509dbad",
   "metadata": {},
   "source": [
    "Write a python program that accomplishes the following tasks:\n",
    "\n",
    "1. Concatenate the strings \"Hello\" and \"World\"\n",
    "2. Find the length of the resulting string from the concatenation\n",
    "3. Extract the substring \"world\" from the concatenated string\n",
    "4. Reverse the substring obtained in the previous step\n",
    "5. Convert the reversed substring to the uppercase\n",
    "6. Replace the letter \"L\" with \"X\" in the reversed and uppercase substring."
   ]
  },
  {
   "cell_type": "code",
   "execution_count": 2,
   "id": "0f8cddd7",
   "metadata": {},
   "outputs": [
    {
     "name": "stdout",
     "output_type": "stream",
     "text": [
      "Concatenation of two strings:  HelloWorld\n",
      "Length of concatenated string:  10\n",
      "Extracted substr:  World\n",
      "Reversed str:  dlroW\n",
      "Converted to uppercase:  DLROW\n",
      "After replacing:  DXROW\n"
     ]
    }
   ],
   "source": [
    "a = \"Hello\"\n",
    "b = \"World\"\n",
    "concatenated_str = a+b\n",
    "\n",
    "print(\"Concatenation of two strings: \", concatenated_str)\n",
    "print(\"Length of concatenated string: \",len(concatenated_str))\n",
    "\n",
    "extract_substr = concatenated_str[5:]\n",
    "print(\"Extracted substr: \",extract_substr)\n",
    "\n",
    "reverse = extract_substr[::-1]\n",
    "print(\"Reversed str: \", reverse)\n",
    "\n",
    "uppercase = reverse.upper()\n",
    "print(\"Converted to uppercase: \",uppercase)\n",
    "\n",
    "replacing = uppercase.replace(\"L\",\"X\")\n",
    "print(\"After replacing: \",replacing)\n"
   ]
  }
 ],
 "metadata": {
  "kernelspec": {
   "display_name": "Python 3",
   "language": "python",
   "name": "python3"
  },
  "language_info": {
   "codemirror_mode": {
    "name": "ipython",
    "version": 3
   },
   "file_extension": ".py",
   "mimetype": "text/x-python",
   "name": "python",
   "nbconvert_exporter": "python",
   "pygments_lexer": "ipython3",
   "version": "3.10.9"
  }
 },
 "nbformat": 4,
 "nbformat_minor": 5
}
