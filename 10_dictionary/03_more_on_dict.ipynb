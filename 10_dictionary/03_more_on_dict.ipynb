{
 "cells": [
  {
   "cell_type": "markdown",
   "id": "f1ab81a6",
   "metadata": {},
   "source": [
    "More on dictionary"
   ]
  },
  {
   "cell_type": "markdown",
   "id": "f02a16db",
   "metadata": {},
   "source": [
    "Membership testing(in keys)"
   ]
  },
  {
   "cell_type": "code",
   "execution_count": 1,
   "id": "5a65d34c",
   "metadata": {},
   "outputs": [
    {
     "name": "stdout",
     "output_type": "stream",
     "text": [
      "True\n",
      "False\n",
      "False\n"
     ]
    }
   ],
   "source": [
    "person = {\n",
    "    \"name\": \"John\",\n",
    "    \"age\":23,\n",
    "    \"city\":\"Delhi\"\n",
    "}\n",
    "\n",
    "print(\"name\" in person)\n",
    "print(\"email\" in person)\n",
    "print(\"john\" in person)"
   ]
  },
  {
   "cell_type": "markdown",
   "id": "d9d6051e",
   "metadata": {},
   "source": [
    "Nested Dictionary"
   ]
  },
  {
   "cell_type": "code",
   "execution_count": 2,
   "id": "d4511848",
   "metadata": {},
   "outputs": [
    {
     "name": "stdout",
     "output_type": "stream",
     "text": [
      "{'emp1': {'name': 'John', 'age': 21}, 'emp2': {'name': 'Bob', 'age': 23}, 'emp3': {'name': 'Alice', 'age': 20}}\n",
      "<class 'dict'>\n"
     ]
    }
   ],
   "source": [
    "employees = {\n",
    "    \"emp1\": {\"name\":\"John\", \"age\":21},\n",
    "    \"emp2\":{\"name\":\"Bob\",\"age\":23},\n",
    "    \"emp3\":{\"name\":\"Alice\",\"age\":20},\n",
    "}\n",
    "\n",
    "print(employees)\n",
    "print(type(employees))"
   ]
  },
  {
   "cell_type": "markdown",
   "id": "44d42f47",
   "metadata": {},
   "source": [
    "accessing the values in nested dict"
   ]
  },
  {
   "cell_type": "code",
   "execution_count": 3,
   "id": "cc2ba2da",
   "metadata": {},
   "outputs": [
    {
     "name": "stdout",
     "output_type": "stream",
     "text": [
      "{'name': 'John', 'age': 21}\n",
      "John\n",
      "23\n"
     ]
    }
   ],
   "source": [
    "employees = {\n",
    "    \"emp1\": {\"name\":\"John\", \"age\":21},\n",
    "    \"emp2\":{\"name\":\"Bob\",\"age\":23},\n",
    "    \"emp3\":{\"name\":\"Alice\",\"age\":20},\n",
    "}\n",
    "\n",
    "print(employees[\"emp1\"])\n",
    "print(employees[\"emp1\"][\"name\"])\n",
    "print(employees[\"emp2\"][\"age\"])"
   ]
  },
  {
   "cell_type": "markdown",
   "id": "049d113a",
   "metadata": {},
   "source": [
    "Ques. Create a dictionary book_ratings with the following initial data:\n",
    "\n",
    "- \"Python programming\": 4.5\n",
    "- \"Data Science Handbook\": 4.8\n",
    "- \"Machine learning basics\": 4.2\n",
    "\n",
    "Check if \"Python programming\" is in the book_ratings, print \"found\" if it exists otherwise print \"not found\"\n",
    "\n",
    "Use a method to get all the keys from book_ratings and store them in a list titles. Print it."
   ]
  },
  {
   "cell_type": "code",
   "execution_count": 5,
   "id": "e63b65fe",
   "metadata": {},
   "outputs": [
    {
     "name": "stdout",
     "output_type": "stream",
     "text": [
      "Found\n",
      "['Python programming', 'Data science handbook', 'Machine learning basics']\n"
     ]
    }
   ],
   "source": [
    "book_ratings = {\n",
    "    \"Python programming\": 4.5,\n",
    "    \"Data science handbook\": 4.8,\n",
    "    \"Machine learning basics\": 4.2\n",
    "}\n",
    "\n",
    "if(\"Python programming\" in book_ratings):\n",
    "    print(\"Found\")\n",
    "else:\n",
    "    print(\"Not found\")\n",
    "\n",
    "titles = list(book_ratings.keys())\n",
    "print(titles)"
   ]
  },
  {
   "cell_type": "markdown",
   "id": "1dd657b1",
   "metadata": {},
   "source": [
    "Ques. Create a dictionary fruit_stock with the following items:\n",
    "\n",
    "- \"apple\" : 10,\n",
    "- \"banana\" : 15,\n",
    "- \"orange\" : 8.\n",
    "- \"grape\" : 20\n",
    "\n",
    "Print each fruit along with its stock count in the format \"Fruit\":\"Stock\" using a loop."
   ]
  },
  {
   "cell_type": "code",
   "execution_count": 7,
   "id": "be19765a",
   "metadata": {},
   "outputs": [
    {
     "name": "stdout",
     "output_type": "stream",
     "text": [
      "Fruit: apple, Stock:10\n",
      "Fruit: banana, Stock:15\n",
      "Fruit: orange, Stock:8\n",
      "Fruit: grape, Stock:20\n"
     ]
    }
   ],
   "source": [
    "fruit_stock = {\n",
    "    \"apple\" : 10,\n",
    "    \"banana\" : 15,\n",
    "    \"orange\" : 8,\n",
    "    \"grape\" : 20\n",
    "}\n",
    "\n",
    "for i in fruit_stock:\n",
    "    print(f\"Fruit: {i}, Stock:{fruit_stock[i]}\")"
   ]
  }
 ],
 "metadata": {
  "kernelspec": {
   "display_name": "Python 3",
   "language": "python",
   "name": "python3"
  },
  "language_info": {
   "codemirror_mode": {
    "name": "ipython",
    "version": 3
   },
   "file_extension": ".py",
   "mimetype": "text/x-python",
   "name": "python",
   "nbconvert_exporter": "python",
   "pygments_lexer": "ipython3",
   "version": "3.10.9"
  }
 },
 "nbformat": 4,
 "nbformat_minor": 5
}
