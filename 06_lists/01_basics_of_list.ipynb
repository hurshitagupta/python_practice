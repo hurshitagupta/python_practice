{
 "cells": [
  {
   "cell_type": "markdown",
   "id": "2eb36f9d",
   "metadata": {},
   "source": [
    "Basics of List"
   ]
  },
  {
   "cell_type": "markdown",
   "id": "749dcb96",
   "metadata": {},
   "source": [
    "Creating a list"
   ]
  },
  {
   "cell_type": "code",
   "execution_count": 5,
   "id": "97c8d9d1",
   "metadata": {},
   "outputs": [
    {
     "name": "stdout",
     "output_type": "stream",
     "text": [
      "[23, 45, 'hello world', 89.5]\n",
      "<class 'list'>\n"
     ]
    }
   ],
   "source": [
    "my_list = [23,45,\"hello world\",89.5]\n",
    "\n",
    "print(my_list)\n",
    "print(type(my_list))"
   ]
  },
  {
   "cell_type": "markdown",
   "id": "0c3aeee9",
   "metadata": {},
   "source": [
    "Creating an empty list"
   ]
  },
  {
   "cell_type": "code",
   "execution_count": 6,
   "id": "56ea9c31",
   "metadata": {},
   "outputs": [
    {
     "name": "stdout",
     "output_type": "stream",
     "text": [
      "<class 'list'>\n"
     ]
    }
   ],
   "source": [
    "empty = []\n",
    "\n",
    "print(type(empty))"
   ]
  },
  {
   "cell_type": "markdown",
   "id": "6aa1254b",
   "metadata": {},
   "source": [
    "List Constructor"
   ]
  },
  {
   "cell_type": "code",
   "execution_count": null,
   "id": "c96bbe1b",
   "metadata": {},
   "outputs": [
    {
     "name": "stdout",
     "output_type": "stream",
     "text": [
      "[2, 3, 4, 5]\n",
      "[]\n"
     ]
    }
   ],
   "source": [
    "list1 = list([2,3,4,5])\n",
    "empty_list = list()\n",
    "\n",
    "print(list1)\n",
    "print(empty_list)  #an empty list using list constructor"
   ]
  },
  {
   "cell_type": "markdown",
   "id": "922a64b3",
   "metadata": {},
   "source": [
    "Indexing"
   ]
  },
  {
   "cell_type": "code",
   "execution_count": 12,
   "id": "1e7d6c5e",
   "metadata": {},
   "outputs": [
    {
     "name": "stdout",
     "output_type": "stream",
     "text": [
      "cat\n",
      "rat\n",
      "rat\n",
      "cat\n"
     ]
    }
   ],
   "source": [
    "\n",
    "#Positive Indexing (It starts with 0)\n",
    "list1 = [\"cat\",\"bat\",\"mat\",\"rat\"]\n",
    "\n",
    "print(list1[0]) #extracting 1st element\n",
    "print(list1[3]) #extracting 4th element\n",
    "\n",
    "#Negative Indexing (It starts with -1)\n",
    "\n",
    "print(list1[-1]) #extracting last element\n",
    "print(list1[-4]) #extracting 4th element from end"
   ]
  },
  {
   "cell_type": "markdown",
   "id": "51ad33c1",
   "metadata": {},
   "source": [
    "Slicing"
   ]
  },
  {
   "cell_type": "code",
   "execution_count": 17,
   "id": "1a015c8b",
   "metadata": {},
   "outputs": [
    {
     "name": "stdout",
     "output_type": "stream",
     "text": [
      "[23, 45, 32, 67, 89]\n",
      "[34, 90, 74, 21]\n",
      "[23, 45, 32, 67, 89, 34, 90, 74, 21]\n",
      "[90, 74]\n",
      "[32, 67, 89, 34, 90, 74, 21]\n"
     ]
    }
   ],
   "source": [
    "list = [23,45,32,67,89,34,90,74,21]\n",
    "\n",
    "print(list[0:5]) #extracts from start to 4th element\n",
    "print(list[5:]) #extracts from 6th element to end\n",
    "print(list[:]) #prints the list from start to beginning\n",
    "\n",
    "print(list[-3:-1])\n",
    "print(list[-7:])\n"
   ]
  },
  {
   "cell_type": "markdown",
   "id": "86054e5c",
   "metadata": {},
   "source": [
    "Slicing list with jump"
   ]
  },
  {
   "cell_type": "code",
   "execution_count": 16,
   "id": "9a9ecd4e",
   "metadata": {},
   "outputs": [
    {
     "name": "stdout",
     "output_type": "stream",
     "text": [
      "[45, 67]\n",
      "[23, 67, 90]\n",
      "[21, 74, 90, 34, 89, 67, 32, 45, 23]\n"
     ]
    }
   ],
   "source": [
    "list1 = [23,45,32,67,89,34,90,74,21]\n",
    "\n",
    "print(list1[1:5:2]) #it will skip an element \n",
    "print(list1[::3]) #it will print the whole list but skips 2elements after printing one element\n",
    "\n",
    "print(list1[::-1]) #reverse the list"
   ]
  },
  {
   "cell_type": "markdown",
   "id": "89a64fb4",
   "metadata": {},
   "source": [
    "Practice Question\n",
    "\n",
    "Ques. Given the list scores = [55,89,76,64,93,50,72]\n",
    "Write a python expression to create a new list that contains only the scores that are above 70."
   ]
  },
  {
   "cell_type": "code",
   "execution_count": 20,
   "id": "caa6cc2d",
   "metadata": {},
   "outputs": [
    {
     "name": "stdout",
     "output_type": "stream",
     "text": [
      "[89, 76, 93, 72]\n"
     ]
    }
   ],
   "source": [
    "list_scores = [55,89,76,64,93,50,72]\n",
    "\n",
    "new_list = []\n",
    "\n",
    "for score in list_scores:\n",
    "    if(score>=70):\n",
    "        new_list.append(score)\n",
    "\n",
    "print(new_list)   "
   ]
  },
  {
   "cell_type": "markdown",
   "id": "06432513",
   "metadata": {},
   "source": [
    "Ques. Given the list data - [1,2,3,4,5,6,7,8,9,10] write a python expression to get the sum of the first five elements and another expression to reverse the entire list."
   ]
  },
  {
   "cell_type": "code",
   "execution_count": 23,
   "id": "84972db3",
   "metadata": {},
   "outputs": [
    {
     "name": "stdout",
     "output_type": "stream",
     "text": [
      "The sum of first five elements is:  15\n",
      "Reversed list: [10, 9, 8, 7, 6, 5, 4, 3, 2, 1]\n",
      "Reversed list: [5, 4, 3, 2, 1]\n"
     ]
    }
   ],
   "source": [
    "data = [1,2,3,4,5,6,7,8,9,10]\n",
    "\n",
    "# extracting the first five elements in a new list\n",
    "five_elem = data[:5]\n",
    "\n",
    "#calculating the sum of first 5 numbers\n",
    "print(\"The sum of first five elements is: \",sum(five_elem))\n",
    "\n",
    "#to reverse the list\n",
    "\n",
    "print(\"Reversed list:\",data[::-1])\n",
    "print(\"Reversed list:\",five_elem[::-1])\n"
   ]
  },
  {
   "cell_type": "markdown",
   "id": "c9de3124",
   "metadata": {},
   "source": [
    "Ques. Given the list numbers = [1,2,3,4,5,6,7,8,9,10], Write Python expressions to: Create a new list with first half and second half swapped. Print the sum of last three elements\n",
    "\n",
    "expected output = [6,7,8,9,10,1,2,3,4,5]\n"
   ]
  },
  {
   "cell_type": "code",
   "execution_count": 27,
   "id": "9140391a",
   "metadata": {},
   "outputs": [
    {
     "name": "stdout",
     "output_type": "stream",
     "text": [
      "[6, 7, 8, 9, 10, 1, 2, 3, 4, 5]\n",
      "Sum of last three elems: 27\n"
     ]
    }
   ],
   "source": [
    "list_num = [1,2,3,4,5,6,7,8,9,10]\n",
    "\n",
    "first_half = [1,2,3,4,5]\n",
    "second_half = [6,7,8,9,10]\n",
    "\n",
    "new_list = second_half+first_half\n",
    "print(new_list)\n",
    "\n",
    "last_3_elem = list_num[-3:]\n",
    "print(\"Sum of last three elems:\",sum(last_3_elem))"
   ]
  }
 ],
 "metadata": {
  "kernelspec": {
   "display_name": "Python 3",
   "language": "python",
   "name": "python3"
  },
  "language_info": {
   "codemirror_mode": {
    "name": "ipython",
    "version": 3
   },
   "file_extension": ".py",
   "mimetype": "text/x-python",
   "name": "python",
   "nbconvert_exporter": "python",
   "pygments_lexer": "ipython3",
   "version": "3.10.9"
  }
 },
 "nbformat": 4,
 "nbformat_minor": 5
}
