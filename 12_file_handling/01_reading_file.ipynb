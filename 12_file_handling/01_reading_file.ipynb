{
 "cells": [
  {
   "cell_type": "markdown",
   "id": "3d8fa78d",
   "metadata": {},
   "source": [
    "File Handling in Python"
   ]
  },
  {
   "cell_type": "markdown",
   "id": "69beb627",
   "metadata": {},
   "source": [
    "Reading a File"
   ]
  },
  {
   "cell_type": "code",
   "execution_count": 2,
   "id": "995e12be",
   "metadata": {},
   "outputs": [
    {
     "name": "stdout",
     "output_type": "stream",
     "text": [
      "Python is an interpreted, object-oriented, high-level programming language with dynamic semantics. \n",
      "Its high-level built in data structures, combined with dynamic typing and dynamic binding, make it very attractive for Rapid Application Development, as well as for use as a scripting or glue language to connect existing components together. \n",
      "Python's simple, easy to learn syntax emphasizes readability and therefore reduces the cost of program maintenance. Python supports modules and packages, which encourages program modularity and code reuse.\n",
      " The Python interpreter and the extensive standard library are available in source or binary form without charge for all major platforms, and can be freely distributed.\n",
      "\n",
      "Often, programmers fall in love with Python because of the increased productivity it provides.\n",
      "Since there is no compilation step, the edit-test-debug cycle is incredibly fast. Debugging Python programs is easy: a bug or bad input will never cause a segmentation fault. Instead, when the interpreter discovers an error, it raises an exception. \n",
      "When the program doesn't catch the exception, the interpreter prints a stack trace. A source level debugger allows inspection of local and global variables, evaluation of arbitrary expressions, setting breakpoints, stepping through the code a line at a time, and so on. \n",
      "The debugger is written in Python itself, testifying to Python's introspective power. On the other hand, often the quickest way to debug a program is to add a few print statements to the source: the fast edit-test-debug cycle makes this simple approach very effective.\n",
      "<class 'str'>\n"
     ]
    }
   ],
   "source": [
    "# first we will open the file and provide the file name and mode type as arguments\n",
    "\n",
    "f = open(\"./01_example_file/demo_file.txt\",\"r\")\n",
    "\n",
    "#now read the data\n",
    "data = f.read()\n",
    "\n",
    "#print the data in the file\n",
    "print(data)\n",
    "print(type(data))\n",
    "\n",
    "#close the file after reading\n",
    "f.close()"
   ]
  },
  {
   "cell_type": "markdown",
   "id": "4d2e14a5",
   "metadata": {},
   "source": [
    "Reading the file line by line"
   ]
  },
  {
   "cell_type": "code",
   "execution_count": null,
   "id": "07c469b0",
   "metadata": {},
   "outputs": [
    {
     "name": "stdout",
     "output_type": "stream",
     "text": [
      "Python is an interpreted, object-oriented, high-level programming language with dynamic semantics.\n",
      "\n"
     ]
    }
   ],
   "source": [
    "#opening the file\n",
    "\n",
    "f = open(\"./01_example_file/demo_file.txt\",\"r\")\n",
    "\n",
    "#reading the data line by line\n",
    "\n",
    "line1 = f.readline()\n",
    "print(line1)\n",
    "\n",
    "#closing the file\n",
    "f.close()\n"
   ]
  },
  {
   "cell_type": "markdown",
   "id": "0a048446",
   "metadata": {},
   "source": [
    "Reading exact number of characters from a file"
   ]
  },
  {
   "cell_type": "code",
   "execution_count": null,
   "id": "3d6ea19d",
   "metadata": {},
   "outputs": [
    {
     "name": "stdout",
     "output_type": "stream",
     "text": [
      "Python is \n"
     ]
    }
   ],
   "source": [
    "#open the file\n",
    "\n",
    "f = open(\"./01_example_file/demo_file.txt\",\"r\")\n",
    "\n",
    "#read the data by character count\n",
    "\n",
    "ten_char = f.read(10)\n",
    "\n",
    "#printing the data\n",
    "print(ten_char)\n",
    "\n",
    "#closing the file\n",
    "f.close()"
   ]
  }
 ],
 "metadata": {
  "kernelspec": {
   "display_name": "Python 3",
   "language": "python",
   "name": "python3"
  },
  "language_info": {
   "codemirror_mode": {
    "name": "ipython",
    "version": 3
   },
   "file_extension": ".py",
   "mimetype": "text/x-python",
   "name": "python",
   "nbconvert_exporter": "python",
   "pygments_lexer": "ipython3",
   "version": "3.10.9"
  }
 },
 "nbformat": 4,
 "nbformat_minor": 5
}
