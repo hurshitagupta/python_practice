{
 "cells": [
  {
   "cell_type": "markdown",
   "id": "4246bde1",
   "metadata": {},
   "source": [
    "Question. You are working on a project to analyze stock market data. Create variables to store the stock symbol, current price, and percentage change in price. Then calculate the new price after a 10% increase using arithmetic operators. Finally, prompt the user to enter their budget and convert it into float and compare it with the new price"
   ]
  },
  {
   "cell_type": "code",
   "execution_count": 2,
   "id": "71e6dc52",
   "metadata": {},
   "outputs": [
    {
     "name": "stdout",
     "output_type": "stream",
     "text": [
      "The new price of the stock is:  110.0\n",
      "User budget is greater than the new price:  True\n"
     ]
    }
   ],
   "source": [
    "stock_symbol = \"Tata Salt\"\n",
    "current_price = 100\n",
    "percentage_change = 10\n",
    "\n",
    "new_price = current_price + (current_price*(10/100))\n",
    "print(\"The new price of the stock is: \",new_price)\n",
    "\n",
    "user_budget = float(input(\"Enter your budget: \"))\n",
    "\n",
    "result = user_budget>new_price\n",
    "print(\"User budget is greater than the new price: \",result)\n",
    "\n"
   ]
  }
 ],
 "metadata": {
  "kernelspec": {
   "display_name": "Python 3",
   "language": "python",
   "name": "python3"
  },
  "language_info": {
   "codemirror_mode": {
    "name": "ipython",
    "version": 3
   },
   "file_extension": ".py",
   "mimetype": "text/x-python",
   "name": "python",
   "nbconvert_exporter": "python",
   "pygments_lexer": "ipython3",
   "version": "3.10.9"
  }
 },
 "nbformat": 4,
 "nbformat_minor": 5
}
