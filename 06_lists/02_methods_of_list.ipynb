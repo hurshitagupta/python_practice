{
 "cells": [
  {
   "cell_type": "markdown",
   "id": "28b92332",
   "metadata": {},
   "source": [
    "List Methods"
   ]
  },
  {
   "cell_type": "markdown",
   "id": "cd077e13",
   "metadata": {},
   "source": [
    "Length function"
   ]
  },
  {
   "cell_type": "code",
   "execution_count": 2,
   "id": "afa8ecef",
   "metadata": {},
   "outputs": [
    {
     "name": "stdout",
     "output_type": "stream",
     "text": [
      "10\n"
     ]
    }
   ],
   "source": [
    "list1 = [1,2,3,4,5,6,7,8,9,10]\n",
    "\n",
    "print(len(list1))"
   ]
  },
  {
   "cell_type": "markdown",
   "id": "b3beb263",
   "metadata": {},
   "source": [
    "Changing elements in list"
   ]
  },
  {
   "cell_type": "code",
   "execution_count": 3,
   "id": "0f30c743",
   "metadata": {},
   "outputs": [
    {
     "name": "stdout",
     "output_type": "stream",
     "text": [
      "[1, 2, 7, 4, 5]\n"
     ]
    }
   ],
   "source": [
    "my_list = [1,2,3,4,5]\n",
    "\n",
    "\n",
    "#changing the 3rd elem\n",
    "my_list[2] = 7\n",
    "print(my_list)"
   ]
  },
  {
   "cell_type": "markdown",
   "id": "e8468287",
   "metadata": {},
   "source": [
    "Changing a range of elements"
   ]
  },
  {
   "cell_type": "code",
   "execution_count": 4,
   "id": "6e993a2a",
   "metadata": {},
   "outputs": [
    {
     "name": "stdout",
     "output_type": "stream",
     "text": [
      "['hello', 'world', 'python', 15, 16, 17, 18, 19, 20]\n"
     ]
    }
   ],
   "source": [
    "a = [12,13,14,15,16,17,18,19,20]\n",
    "\n",
    "#chaning first 3 values\n",
    "a[:3] = [\"hello\",\"world\",\"python\"]\n",
    "\n",
    "print(a)"
   ]
  },
  {
   "cell_type": "markdown",
   "id": "792edd25",
   "metadata": {},
   "source": [
    "Adding list items"
   ]
  },
  {
   "cell_type": "code",
   "execution_count": 5,
   "id": "022efff5",
   "metadata": {},
   "outputs": [
    {
     "name": "stdout",
     "output_type": "stream",
     "text": [
      "[1, 2, 3, 4, 5, 6, 7, 8, 9, 10, 11]\n"
     ]
    }
   ],
   "source": [
    "a = [1,2,3,4,5,6,7,8,9,10]\n",
    "\n",
    "#always adds the item at last\n",
    "a.append(11)\n",
    "print(a)"
   ]
  },
  {
   "cell_type": "markdown",
   "id": "d894a384",
   "metadata": {},
   "source": [
    "Removing the items"
   ]
  },
  {
   "cell_type": "code",
   "execution_count": 6,
   "id": "59618e0c",
   "metadata": {},
   "outputs": [
    {
     "name": "stdout",
     "output_type": "stream",
     "text": [
      "[1, 2, 4, 5]\n"
     ]
    }
   ],
   "source": [
    "a = [1,2,3,4,5]\n",
    "\n",
    "#removes an element from the list\n",
    "a.remove(3)\n",
    "print(a)"
   ]
  },
  {
   "cell_type": "markdown",
   "id": "31560599",
   "metadata": {},
   "source": [
    "Joining 2 lists"
   ]
  },
  {
   "cell_type": "code",
   "execution_count": 7,
   "id": "d0de1480",
   "metadata": {},
   "outputs": [
    {
     "name": "stdout",
     "output_type": "stream",
     "text": [
      "[1, 2, 3, 4, 5, 6, 7, 8, 9, 10]\n"
     ]
    }
   ],
   "source": [
    "l1 = [1,2,3,4,5]\n",
    "l2 = [6,7,8,9,10]\n",
    "\n",
    "#this concatenates 2 lists just like strings\n",
    "print(l1+l2)"
   ]
  },
  {
   "cell_type": "markdown",
   "id": "0c7cdea5",
   "metadata": {},
   "source": [
    "Checking if a list contains an item"
   ]
  },
  {
   "cell_type": "code",
   "execution_count": 9,
   "id": "467a86d9",
   "metadata": {},
   "outputs": [
    {
     "name": "stdout",
     "output_type": "stream",
     "text": [
      "False\n",
      "True\n"
     ]
    }
   ],
   "source": [
    "l1 = [1,2,3,4,56,7,8]\n",
    "\n",
    "#in is used to check if an element exists in a list or not\n",
    "print(6 in l1)\n",
    "print(56 in l1)"
   ]
  }
 ],
 "metadata": {
  "kernelspec": {
   "display_name": "Python 3",
   "language": "python",
   "name": "python3"
  },
  "language_info": {
   "codemirror_mode": {
    "name": "ipython",
    "version": 3
   },
   "file_extension": ".py",
   "mimetype": "text/x-python",
   "name": "python",
   "nbconvert_exporter": "python",
   "pygments_lexer": "ipython3",
   "version": "3.10.9"
  }
 },
 "nbformat": 4,
 "nbformat_minor": 5
}
