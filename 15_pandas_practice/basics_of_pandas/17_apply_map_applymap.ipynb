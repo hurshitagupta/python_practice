{
 "cells": [
  {
   "cell_type": "markdown",
   "id": "7d84b0d2",
   "metadata": {},
   "source": [
    "Map - Used on Series only"
   ]
  },
  {
   "cell_type": "code",
   "execution_count": null,
   "id": "f79ca68d",
   "metadata": {},
   "outputs": [
    {
     "name": "stdout",
     "output_type": "stream",
     "text": [
      "    Name  Age     City\n",
      "0   Amit   25    Delhi\n",
      "1  Priya   30   Mumbai\n",
      "2   Ravi   22  Kolkata\n",
      "0     amit\n",
      "1    priya\n",
      "2     ravi\n",
      "Name: Name, dtype: object\n"
     ]
    }
   ],
   "source": [
    "import pandas as pd\n",
    "\n",
    "df = pd.DataFrame({\n",
    "    'Name': ['Amit', 'Priya', 'Ravi'],\n",
    "    'Age': [25, 30, 22],\n",
    "    'City': ['Delhi', 'Mumbai', 'Kolkata']\n",
    "})\n",
    "\n",
    "print(df)\n",
    "\n",
    "#convert the names into lowercase\n",
    "print(df[\"Name\"].map(str.lower))\n",
    "\n"
   ]
  },
  {
   "cell_type": "markdown",
   "id": "f2082361",
   "metadata": {},
   "source": [
    "Applymap - Used on dataframe"
   ]
  },
  {
   "cell_type": "code",
   "execution_count": 13,
   "id": "0f77eff6",
   "metadata": {},
   "outputs": [
    {
     "name": "stdout",
     "output_type": "stream",
     "text": [
      "    Name  Age     City\n",
      "0   Amit   25    Delhi\n",
      "1  Priya   30   Mumbai\n",
      "2   Ravi   22  Kolkata\n",
      "    Name Age     City\n",
      "0   AMIT  25    DELHI\n",
      "1  PRIYA  30   MUMBAI\n",
      "2   RAVI  22  KOLKATA\n"
     ]
    },
    {
     "name": "stderr",
     "output_type": "stream",
     "text": [
      "C:\\Users\\Hurshita Gupta\\AppData\\Local\\Temp\\ipykernel_16808\\2803959538.py:12: FutureWarning: DataFrame.applymap has been deprecated. Use DataFrame.map instead.\n",
      "  df = df.applymap(lambda x: str(x).upper())\n"
     ]
    }
   ],
   "source": [
    "import pandas as pd\n",
    "\n",
    "df = pd.DataFrame({\n",
    "    'Name': ['Amit', 'Priya', 'Ravi'],\n",
    "    'Age': [25, 30, 22],\n",
    "    'City': ['Delhi', 'Mumbai', 'Kolkata']\n",
    "})\n",
    "\n",
    "print(df)\n",
    "\n",
    "#convert the names into lowercase\n",
    "df = df.applymap(lambda x: str(x).upper())\n",
    "print(df)"
   ]
  },
  {
   "cell_type": "markdown",
   "id": "9e9c431a",
   "metadata": {},
   "source": [
    "Apply - Used on both dataframe and series"
   ]
  },
  {
   "cell_type": "code",
   "execution_count": null,
   "id": "f0d33ae7",
   "metadata": {},
   "outputs": [
    {
     "name": "stdout",
     "output_type": "stream",
     "text": [
      "    Name  Age     City\n",
      "0   Amit   25    Delhi\n",
      "1  Priya   30   Mumbai\n",
      "2   Ravi   22  Kolkata\n",
      "0    26\n",
      "1    31\n",
      "2    23\n",
      "Name: Age, dtype: int64\n"
     ]
    }
   ],
   "source": [
    "import pandas as pd\n",
    "\n",
    "df = pd.DataFrame({\n",
    "    'Name': ['Amit', 'Priya', 'Ravi'],\n",
    "    'Age': [25, 30, 22],\n",
    "    'City': ['Delhi', 'Mumbai', 'Kolkata']\n",
    "})\n",
    "\n",
    "print(df)\n",
    "\n",
    "#on series:\n",
    "print(df[\"Age\"].apply(lambda x : x+1))\n",
    "\n",
    "#on whole dataframe:\n",
    "df.apply(lambda row: row['Age'] + row['Salary'], axis=1)\n",
    "print(df.apply(lambda row:row[\"Age\"] + row[\"Salary\"], axis=1))"
   ]
  }
 ],
 "metadata": {
  "kernelspec": {
   "display_name": "Python 3",
   "language": "python",
   "name": "python3"
  },
  "language_info": {
   "codemirror_mode": {
    "name": "ipython",
    "version": 3
   },
   "file_extension": ".py",
   "mimetype": "text/x-python",
   "name": "python",
   "nbconvert_exporter": "python",
   "pygments_lexer": "ipython3",
   "version": "3.10.9"
  }
 },
 "nbformat": 4,
 "nbformat_minor": 5
}
