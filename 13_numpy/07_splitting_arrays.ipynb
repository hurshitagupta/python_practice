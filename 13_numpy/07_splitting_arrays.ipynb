{
 "cells": [
  {
   "cell_type": "markdown",
   "id": "cfc9eb89",
   "metadata": {},
   "source": [
    "Splitting arrays in NumPy"
   ]
  },
  {
   "cell_type": "markdown",
   "id": "ea58b976",
   "metadata": {},
   "source": [
    "A. Splitting 1-D array "
   ]
  },
  {
   "cell_type": "markdown",
   "id": "38d2b5f0",
   "metadata": {},
   "source": [
    "1. split() - It splits the array into equal parts"
   ]
  },
  {
   "cell_type": "code",
   "execution_count": 5,
   "id": "2e0e45b8",
   "metadata": {},
   "outputs": [
    {
     "name": "stdout",
     "output_type": "stream",
     "text": [
      "[array([1, 2]), array([3, 4]), array([5, 6])]\n"
     ]
    }
   ],
   "source": [
    "import numpy as np\n",
    "\n",
    "arr1 = np.array([1,2,3,4,5,6])\n",
    "new_arr = np.split(arr1,3)\n",
    "print(new_arr)"
   ]
  },
  {
   "cell_type": "markdown",
   "id": "32c05ca8",
   "metadata": {},
   "source": [
    "B. Splitting 2D arrays"
   ]
  },
  {
   "cell_type": "markdown",
   "id": "ad60cd57",
   "metadata": {},
   "source": [
    "1. vsplit() - splits the array vertically"
   ]
  },
  {
   "cell_type": "code",
   "execution_count": 7,
   "id": "d44bfef8",
   "metadata": {},
   "outputs": [
    {
     "name": "stdout",
     "output_type": "stream",
     "text": [
      "[array([[10, 20, 30],\n",
      "       [40, 50, 60]]), array([[ 70,  80,  90],\n",
      "       [100, 110, 120]])]\n"
     ]
    }
   ],
   "source": [
    "import numpy as np\n",
    "\n",
    "arr2 = np.array([[10,20,30],[40,50,60],[70,80,90],[100,110,120]])\n",
    "\n",
    "arr3 = np.vsplit(arr2,2)\n",
    "print(arr3)"
   ]
  },
  {
   "cell_type": "markdown",
   "id": "8160f7f1",
   "metadata": {},
   "source": [
    "2. hsplit() - splits the array horizontally"
   ]
  },
  {
   "cell_type": "code",
   "execution_count": 10,
   "id": "47f1d932",
   "metadata": {},
   "outputs": [
    {
     "name": "stdout",
     "output_type": "stream",
     "text": [
      "[array([[ 1,  2],\n",
      "       [ 4,  5],\n",
      "       [ 7,  8],\n",
      "       [10, 11]])]\n"
     ]
    }
   ],
   "source": [
    "import numpy as np\n",
    "\n",
    "arr1 = np.array([[1,2],[4,5],[7,8],[10,11]])\n",
    "\n",
    "arr2 = np.hsplit(arr1,1)\n",
    "print(arr2)"
   ]
  }
 ],
 "metadata": {
  "kernelspec": {
   "display_name": "Python 3",
   "language": "python",
   "name": "python3"
  },
  "language_info": {
   "codemirror_mode": {
    "name": "ipython",
    "version": 3
   },
   "file_extension": ".py",
   "mimetype": "text/x-python",
   "name": "python",
   "nbconvert_exporter": "python",
   "pygments_lexer": "ipython3",
   "version": "3.10.9"
  }
 },
 "nbformat": 4,
 "nbformat_minor": 5
}
