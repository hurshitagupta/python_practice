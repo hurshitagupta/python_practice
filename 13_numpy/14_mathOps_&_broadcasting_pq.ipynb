{
 "cells": [
  {
   "cell_type": "markdown",
   "id": "b884c7a7",
   "metadata": {},
   "source": [
    "#### PRACTICE QUESTIONS (PART-4)"
   ]
  },
  {
   "cell_type": "markdown",
   "id": "bf86d987",
   "metadata": {},
   "source": [
    "Q1: Create an array of 10 random floats from 1–100, rounded to 2 decimal places\n",
    "\n",
    "Q2: Add 10 to every element\n",
    "\n",
    "Q3: Replace all values > 90 with 90\n",
    "\n",
    "Q4: Multiply every even index by 2 \n",
    "\n",
    "Q5: Create a 2D array of shape (3, 4), add a 1D array of 4 elements to it using broadcasting"
   ]
  },
  {
   "cell_type": "code",
   "execution_count": null,
   "id": "457b9d92",
   "metadata": {},
   "outputs": [
    {
     "name": "stdout",
     "output_type": "stream",
     "text": [
      "[44.11 65.41 56.64 90.62 25.62 38.87 44.41  6.4  44.49 98.06]\n",
      "[ 54.11  75.41  66.64 100.62  35.62  48.87  54.41  16.4   54.49 108.06]\n",
      "[54.11 75.41 66.64 90.   35.62 48.87 54.41 16.4  54.49 90.  ]\n",
      "[108.22 133.28  71.24 108.82 108.98]\n",
      "[[ 1  2  3  4]\n",
      " [ 5  6  7  8]\n",
      " [ 9 10 11 12]]\n",
      "[[ 2  4  6  8]\n",
      " [ 6  8 10 12]\n",
      " [10 12 14 16]]\n"
     ]
    }
   ],
   "source": [
    "import numpy as np\n",
    "\n",
    "#q1 - creating an array from 1-100 of 10 random floats\n",
    "float_arr = 99 * np.random.random_sample(size=10)  + 1\n",
    "# print(float_arr)\n",
    "\n",
    "#rounding the array's value upto 2\n",
    "arr = np.round(float_arr,2)\n",
    "print(arr)\n",
    "\n",
    "#q2 - add 10 to every element\n",
    "arr_add = arr + 10\n",
    "print(arr_add)\n",
    "\n",
    "#q3 - replace all values > 90 with 90\n",
    "arr_add[arr_add > 90] = 90\n",
    "print(arr_add)\n",
    "\n",
    "#q4 - multiply every even index by 2\n",
    "print(arr_add[::2]*2)\n",
    "\n",
    "#q5 - creating a 2D array of shape (3,4)\n",
    "arr_2d = np.arange(1,13).reshape(3,4)\n",
    "print(arr_2d)\n",
    "\n",
    "# creating 1D array of 4 elements\n",
    "arr_1d = np.array([1,2,3,4])\n",
    "\n",
    "#adding both arrays(broadcasting)\n",
    "resulting_arr = arr_2d + arr_1d\n",
    "print(resulting_arr)"
   ]
  }
 ],
 "metadata": {
  "kernelspec": {
   "display_name": "Python 3",
   "language": "python",
   "name": "python3"
  },
  "language_info": {
   "codemirror_mode": {
    "name": "ipython",
    "version": 3
   },
   "file_extension": ".py",
   "mimetype": "text/x-python",
   "name": "python",
   "nbconvert_exporter": "python",
   "pygments_lexer": "ipython3",
   "version": "3.10.9"
  }
 },
 "nbformat": 4,
 "nbformat_minor": 5
}
