{
 "cells": [
  {
   "cell_type": "markdown",
   "id": "f85b48e1",
   "metadata": {},
   "source": [
    "### DICE ROLL SIMULATOR "
   ]
  },
  {
   "cell_type": "markdown",
   "id": "9802b9e7",
   "metadata": {},
   "source": [
    "1. Building the simulator using **only python** (no numpy used)"
   ]
  },
  {
   "cell_type": "code",
   "execution_count": 30,
   "id": "62b3ac68",
   "metadata": {},
   "outputs": [
    {
     "name": "stdout",
     "output_type": "stream",
     "text": [
      "Total: 2 ; Count: 281\n",
      "Total: 3 ; Count: 540\n",
      "Total: 4 ; Count: 812\n",
      "Total: 5 ; Count: 1142\n",
      "Total: 6 ; Count: 1337\n",
      "Total: 7 ; Count: 1626\n",
      "Total: 8 ; Count: 1380\n",
      "Total: 9 ; Count: 1141\n",
      "Total: 10 ; Count: 858\n",
      "Total: 11 ; Count: 573\n",
      "Total: 12 ; Count: 310\n"
     ]
    }
   ],
   "source": [
    "import random as r\n",
    "#creating an empty list that will store the total of 2 dice rolls\n",
    "dice_nums = []\n",
    "\n",
    "# start a for loop ad repeat it until 10,000 times\n",
    "for i in range(1,10001):\n",
    "    num1 = r.randint(1,6) #this will generate any random number from 1-6\n",
    "    # print(num1)\n",
    "    num2 = r.randint(1,6)\n",
    "    # print(num2)\n",
    "    sum = num1+num2 #adding both the numbers two get the total \n",
    "    # print(sum)\n",
    "    dice_nums.append(sum) #adding the total of each dice roll into the dice_nums list\n",
    "\n",
    "# print(dice_nums)\n",
    "\n",
    "#creating an empty dict to store the count of each number(value) and number(key), eg: 2:128 which means that 2 have came up 128 times\n",
    "dice_dict = {2:0,3:0,4:0,5:0,6:0,7:0,8:0,9:0,10:0,11:0,12:0}\n",
    "\n",
    "#checking and counting how many times the number have appeared\n",
    "for val in dice_nums:\n",
    "    if(val==2): #for 2\n",
    "        dice_dict[val] += 1\n",
    "    elif(val==3): #for 3\n",
    "        dice_dict[val] += 1\n",
    "    elif(val==4): #for 4\n",
    "        dice_dict[val] += 1\n",
    "    elif(val==5): #for 5\n",
    "        dice_dict[val] += 1\n",
    "    elif(val==6): #for 6\n",
    "        dice_dict[val] += 1\n",
    "    elif(val==7): #for 7\n",
    "        dice_dict[val] += 1\n",
    "    elif(val==8): #for8\n",
    "        dice_dict[val] += 1\n",
    "    elif(val==9): #for9\n",
    "        dice_dict[val] += 1\n",
    "    elif(val==10): #for10\n",
    "        dice_dict[val] += 1\n",
    "    elif(val==11): #for11\n",
    "        dice_dict[val] += 1\n",
    "    else: #for12\n",
    "        dice_dict[val] += 1\n",
    "\n",
    "# print(dice_dict)\n",
    "\n",
    "for item in dice_dict:\n",
    "    print(\"Total:\",item,\";\",\"Count:\",dice_dict[item])"
   ]
  },
  {
   "cell_type": "markdown",
   "id": "a6781ced",
   "metadata": {},
   "source": [
    "2. Building same dice roll simulator using **NumPy**."
   ]
  },
  {
   "cell_type": "code",
   "execution_count": 31,
   "id": "18dbf6aa",
   "metadata": {},
   "outputs": [
    {
     "name": "stdout",
     "output_type": "stream",
     "text": [
      "[ 9 10  6 ...  6  5  6]\n",
      "[ 2  3  4  5  6  7  8  9 10 11 12] [ 279  515  888 1081 1377 1697 1394 1107  824  582  256]\n",
      "Total: 2 ; Count: 279\n",
      "Total: 3 ; Count: 515\n",
      "Total: 4 ; Count: 888\n",
      "Total: 5 ; Count: 1081\n",
      "Total: 6 ; Count: 1377\n",
      "Total: 7 ; Count: 1697\n",
      "Total: 8 ; Count: 1394\n",
      "Total: 9 ; Count: 1107\n",
      "Total: 10 ; Count: 824\n",
      "Total: 11 ; Count: 582\n",
      "Total: 12 ; Count: 256\n"
     ]
    }
   ],
   "source": [
    "import numpy as np\n",
    "\n",
    "die1 = np.random.randint(1,7,size=10000)\n",
    "die2 = np.random.randint(1,7,size=10000)\n",
    "\n",
    "total = die1+die2\n",
    "print(total)\n",
    "\n",
    "values,counts = np.unique(total,return_counts=True)\n",
    "print(values,counts)\n",
    "\n",
    "for i,j in zip(values,counts):\n",
    "    print(\"Total:\",i,\";\",\"Count:\",j)\n"
   ]
  }
 ],
 "metadata": {
  "kernelspec": {
   "display_name": "Python 3",
   "language": "python",
   "name": "python3"
  },
  "language_info": {
   "codemirror_mode": {
    "name": "ipython",
    "version": 3
   },
   "file_extension": ".py",
   "mimetype": "text/x-python",
   "name": "python",
   "nbconvert_exporter": "python",
   "pygments_lexer": "ipython3",
   "version": "3.10.9"
  }
 },
 "nbformat": 4,
 "nbformat_minor": 5
}
