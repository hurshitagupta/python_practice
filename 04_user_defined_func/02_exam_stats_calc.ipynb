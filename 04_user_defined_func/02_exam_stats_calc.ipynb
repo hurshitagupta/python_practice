{
 "cells": [
  {
   "cell_type": "markdown",
   "id": "443d8057",
   "metadata": {},
   "source": [
    "# Practice Question"
   ]
  },
  {
   "cell_type": "markdown",
   "id": "72a01731",
   "metadata": {},
   "source": [
    "Write a user defined function to process the exam score and calculate the following statistics:\n",
    "\n",
    "- The average exam score\n",
    "- The highest exam score\n",
    "- The lowest exam score\n",
    "- The number of students who passed the exam (assuming pass score is 80 or above)\n",
    "- The number of students whp failed the exam\n",
    "\n",
    "exam_scores = [85.92,78,90,88,95,82,79,87,91]\n"
   ]
  },
  {
   "cell_type": "code",
   "execution_count": 3,
   "id": "328b9d6b",
   "metadata": {},
   "outputs": [
    {
     "name": "stdout",
     "output_type": "stream",
     "text": [
      "The average score is:  86.7\n",
      "The highest score is:  95\n",
      "The lowest score is:  78\n",
      "The number of students who passed are:  8\n",
      "The number of students who failed are:  2\n"
     ]
    }
   ],
   "source": [
    "exam_scores=[85,92,78,90,88,95,82,79,87,91]\n",
    "\n",
    "def exam_stats():\n",
    "    average_score=sum(exam_scores)/len(exam_scores)\n",
    "    # print(\"The average score is: \",average_score)\n",
    "\n",
    "    highest_score=max(exam_scores)\n",
    "    # print(\"The highest score is: \",highest_score)\n",
    "\n",
    "    lowest_score=min(exam_scores)\n",
    "    # print(\"The lowest exam score is: \",lowest_score)\n",
    "\n",
    "    count_of_students_passed=0\n",
    "    for i in exam_scores:\n",
    "        if(i>=80):\n",
    "            count_of_students_passed = count_of_students_passed+1\n",
    "        \n",
    "    # print(\"The number of students passed are: \",count_of_students_passed)\n",
    "\n",
    "    total_students = len(exam_scores)\n",
    "    no_of_students_failed = total_students-count_of_students_passed\n",
    "    # print(\"Number of students failed are: \",no_of_students_failed)\n",
    "\n",
    "\n",
    "    return average_score, highest_score, lowest_score, count_of_students_passed, no_of_students_failed\n",
    "\n",
    "a = exam_stats()\n",
    "\n",
    "print(\"The average score is: \",a[0])\n",
    "print(\"The highest score is: \",a[1])\n",
    "print(\"The lowest score is: \",a[2])\n",
    "print(\"The number of students who passed are: \",a[3])\n",
    "print(\"The number of students who failed are: \",a[4])"
   ]
  }
 ],
 "metadata": {
  "kernelspec": {
   "display_name": "Python 3",
   "language": "python",
   "name": "python3"
  },
  "language_info": {
   "codemirror_mode": {
    "name": "ipython",
    "version": 3
   },
   "file_extension": ".py",
   "mimetype": "text/x-python",
   "name": "python",
   "nbconvert_exporter": "python",
   "pygments_lexer": "ipython3",
   "version": "3.10.9"
  }
 },
 "nbformat": 4,
 "nbformat_minor": 5
}
