{
 "cells": [
  {
   "cell_type": "markdown",
   "id": "dfd4b9e2",
   "metadata": {},
   "source": [
    "Question. You are analyzing a dataset containing information about house prices in a city. Each record includes details such as house size(in square feet), number of bedrooms and price\n",
    "\n",
    "You want to perform various calculations and manipulations on this dataset using Pyhton.\n",
    "\n",
    "1) Ask the user 1&2 to enter house size, number of rooms they want and check the data type user has entered.\n",
    "\n",
    "2) Calculate the price of house, if per sq feet is Rs.5000\n",
    "\n",
    "3) Threshold price is 25Lakh Rs, check whether user is paying the price above threshold price"
   ]
  },
  {
   "cell_type": "code",
   "execution_count": 3,
   "id": "f1375e4e",
   "metadata": {},
   "outputs": [
    {
     "name": "stdout",
     "output_type": "stream",
     "text": [
      "Data type for house size entered by user1 is:  <class 'float'>\n",
      "Data type for house size entered by user2 is:  <class 'float'>\n",
      "The house price of user1 is:  12500000.0\n",
      "The house price of user2 is:  7500000.0\n",
      "User1 is paying more than the threshold:  True\n",
      "User2 is paying more than the threshold:  True\n"
     ]
    }
   ],
   "source": [
    "house_size1 = float(input(\"Enter the house size: \"))\n",
    "num_of_rooms1 = int(input(\"Enter the number of rooms: \"))\n",
    "\n",
    "house_size2 = float(input(\"Enter the house size: \"))\n",
    "num_of_rooms2 = int(input(\"Enter the number of rooms: \"))\n",
    "\n",
    "print(\"Data type for house size entered by user1 is: \", type(house_size1))\n",
    "print(\"Data type for house size entered by user2 is: \", type(house_size2))\n",
    "\n",
    "price_of_house1 = house_size1*5000\n",
    "price_of_house2 = house_size2*5000\n",
    "\n",
    "print(\"The house price of user1 is: \",price_of_house1)\n",
    "print(\"The house price of user2 is: \",price_of_house2)\n",
    "\n",
    "threshold_price = 2500000\n",
    "\n",
    "user1_price = price_of_house1>threshold_price\n",
    "user2_price = price_of_house2>threshold_price\n",
    "\n",
    "print(\"User1 is paying more than the threshold: \",user1_price)\n",
    "print(\"User2 is paying more than the threshold: \",user2_price)"
   ]
  }
 ],
 "metadata": {
  "kernelspec": {
   "display_name": "Python 3",
   "language": "python",
   "name": "python3"
  },
  "language_info": {
   "codemirror_mode": {
    "name": "ipython",
    "version": 3
   },
   "file_extension": ".py",
   "mimetype": "text/x-python",
   "name": "python",
   "nbconvert_exporter": "python",
   "pygments_lexer": "ipython3",
   "version": "3.10.9"
  }
 },
 "nbformat": 4,
 "nbformat_minor": 5
}
