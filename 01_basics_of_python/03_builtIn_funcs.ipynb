{
 "cells": [
  {
   "cell_type": "markdown",
   "id": "14c32fe2",
   "metadata": {},
   "source": [
    "# Questions for Built In Functions"
   ]
  },
  {
   "cell_type": "markdown",
   "id": "b0860ef7",
   "metadata": {},
   "source": [
    "Q1. In a game application, the player's score is stored as a floating point number. However, for leaderboard display, you need to convert the score to an integer.\n",
    "\n",
    "How would you convert the player's score from floating point to integer? \n",
    "\n",
    "Player score = 1234.56"
   ]
  },
  {
   "cell_type": "code",
   "execution_count": 1,
   "id": "00aad151",
   "metadata": {},
   "outputs": [
    {
     "name": "stdout",
     "output_type": "stream",
     "text": [
      "The integer value for the player score will be: 1234\n"
     ]
    }
   ],
   "source": [
    "player_score = 1234.56\n",
    "\n",
    "#to convert from float to int\n",
    "int_player_score = int(player_score)\n",
    "print(\"The integer value for the player score will be:\",int_player_score)"
   ]
  },
  {
   "cell_type": "markdown",
   "id": "e1a184f1",
   "metadata": {},
   "source": [
    "Q2. In a CRM system for a retail company, you have a database containing customer records. How would you find the total number of customers in the database allowing the company to track its customer base?\n",
    "\n",
    "customer_database = [\n",
    "    (1,\"John Doe\",\"john@example.com\"),\n",
    "    (2,\"Jane Smith\",\"jane@example.com\"),\n",
    "    (3,\"ALice Johnson\",\"alice@example.com\")\n",
    "]\n",
    "\n"
   ]
  },
  {
   "cell_type": "code",
   "execution_count": 2,
   "id": "b3b2e5a4",
   "metadata": {},
   "outputs": [
    {
     "name": "stdout",
     "output_type": "stream",
     "text": [
      "The total number of records in the customer database are:  3\n"
     ]
    }
   ],
   "source": [
    "customer_database = [\n",
    "    (1,\"John Doe\",\"john@example.com\"),\n",
    "    (2,\"Jane Smith\",\"jane@example.com\"),\n",
    "    (3,\"ALice Johnson\",\"alice@example.com\")\n",
    "]\n",
    "\n",
    "print(\"The total number of records in the customer database are:\",len(customer_database))"
   ]
  },
  {
   "cell_type": "markdown",
   "id": "30f1511b",
   "metadata": {},
   "source": [
    "Q3. You are developing a financial application that calculates simple interest. The principal amount is Rs.250000, the interest rate is 9.3456%, and the time period is 3years. \n",
    "\n",
    "Calculate the Simple interest and the final value should be an integer"
   ]
  },
  {
   "cell_type": "code",
   "execution_count": 3,
   "id": "c29056ca",
   "metadata": {},
   "outputs": [
    {
     "name": "stdout",
     "output_type": "stream",
     "text": [
      "The simple interest is:  70092\n"
     ]
    }
   ],
   "source": [
    "principal_amt = 250000\n",
    "interest_rate = 9.3456\n",
    "time_period = 3\n",
    "\n",
    "SI = (principal_amt*interest_rate*time_period)/100\n",
    "\n",
    "int_SI = int(SI)\n",
    "print(\"The simple interest is:\", int_SI)"
   ]
  },
  {
   "cell_type": "markdown",
   "id": "b003152b",
   "metadata": {},
   "source": [
    "Q4. You are working at a travel company, responsible for managing passenger information. Due to a technical glitch in the booking system, some passengers ages were mistakenly recorded as negative. However, age cannot be negative and its essential to correct this data inconsistency.\n",
    "\n",
    "age = -34"
   ]
  },
  {
   "cell_type": "code",
   "execution_count": 4,
   "id": "be94a4c7",
   "metadata": {},
   "outputs": [
    {
     "name": "stdout",
     "output_type": "stream",
     "text": [
      "Age:  34\n"
     ]
    }
   ],
   "source": [
    "#absoulte function will be used to correct this mistake\n",
    "\n",
    "age = -34\n",
    "print(\"Age:\",abs(age))"
   ]
  },
  {
   "cell_type": "markdown",
   "id": "1bcdbe2c",
   "metadata": {},
   "source": [
    "Q5. Get two numbers from the user and calculate their sum"
   ]
  },
  {
   "cell_type": "code",
   "execution_count": 5,
   "id": "06abaedc",
   "metadata": {},
   "outputs": [
    {
     "name": "stdout",
     "output_type": "stream",
     "text": [
      "The sum of two numbers is:  56\n"
     ]
    }
   ],
   "source": [
    "num1 = int(input(\"Enter numner1: \"))\n",
    "num2 = int(input(\"Enter number2: \"))\n",
    "\n",
    "sum = num1+num2\n",
    "print(\"The sum of two numbers is: \",sum)"
   ]
  },
  {
   "cell_type": "markdown",
   "id": "fdfd0efd",
   "metadata": {},
   "source": [
    "Q6. As part of your role in a data driven project, you need to take input from the user for their age, weight and height.\n",
    "However there is an issue that the user has entered their age as a negative number.\n",
    "\n",
    "You need to correct the age of the user, and after correcting the age, calculate their BMR.\n",
    "\n",
    "Ensure that the final answer of BMR is an integer\n",
    "\n",
    "BMR: 88.362 + (13.397* weight in kg) + (4.799* height in cm) - (5.677 * age in years)"
   ]
  },
  {
   "cell_type": "code",
   "execution_count": 6,
   "id": "3f5d175e",
   "metadata": {},
   "outputs": [
    {
     "name": "stdout",
     "output_type": "stream",
     "text": [
      "The BMR is: 1316\n"
     ]
    }
   ],
   "source": [
    "age = int(input(\"Enter your age: \"))\n",
    "weight = float(input(\"Enter your weight: \"))\n",
    "height = float(input(\"Enter your height: \"))\n",
    "\n",
    "correct_age = abs(age)\n",
    "\n",
    "BMR = 88.362 + (13.397* weight) + (4.799* height) - (5.677 * correct_age)\n",
    "print(\"The BMR is:\",int(BMR))"
   ]
  },
  {
   "cell_type": "markdown",
   "id": "fb665015",
   "metadata": {},
   "source": [
    "Q7. Write a python code for hostel students, ask them to mention their course name and age, for 5 students and calculate their abg age."
   ]
  },
  {
   "cell_type": "code",
   "execution_count": 8,
   "id": "318a891d",
   "metadata": {},
   "outputs": [
    {
     "name": "stdout",
     "output_type": "stream",
     "text": [
      "The average age is:  28.0\n"
     ]
    }
   ],
   "source": [
    "course_name_1 = input(\"Enter your course name: \")\n",
    "age_1 = int(input(\"Enter your age: \"))\n",
    "\n",
    "course_name_2 = input(\"Enter your course name: \")\n",
    "age_2 = int(input(\"Enter your age: \"))\n",
    "\n",
    "course_name_3 = input(\"Enter your course name: \")\n",
    "age_3 = int(input(\"Enter your age: \"))\n",
    "\n",
    "course_name_4 = input(\"Enter your course name: \")\n",
    "age_4 = int(input(\"Enter your age: \"))\n",
    "\n",
    "course_name_5 = input(\"Enter your course name: \")\n",
    "age_5 = int(input(\"Enter your age: \"))\n",
    "\n",
    "avg_age = (age_1+age_2+age_3+age_4+age_5)/5\n",
    "\n",
    "print(\"The average age is: \", avg_age)"
   ]
  }
 ],
 "metadata": {
  "kernelspec": {
   "display_name": "Python 3",
   "language": "python",
   "name": "python3"
  },
  "language_info": {
   "codemirror_mode": {
    "name": "ipython",
    "version": 3
   },
   "file_extension": ".py",
   "mimetype": "text/x-python",
   "name": "python",
   "nbconvert_exporter": "python",
   "pygments_lexer": "ipython3",
   "version": "3.10.9"
  }
 },
 "nbformat": 4,
 "nbformat_minor": 5
}
