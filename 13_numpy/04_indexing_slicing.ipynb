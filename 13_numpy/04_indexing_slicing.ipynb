{
 "cells": [
  {
   "cell_type": "markdown",
   "id": "adc92137",
   "metadata": {},
   "source": [
    "Indexing in NumPy arrays"
   ]
  },
  {
   "cell_type": "markdown",
   "id": "bc72e655",
   "metadata": {},
   "source": [
    "Positive Indexing"
   ]
  },
  {
   "cell_type": "code",
   "execution_count": 4,
   "id": "fb20bf95",
   "metadata": {},
   "outputs": [
    {
     "name": "stdout",
     "output_type": "stream",
     "text": [
      "10\n",
      "30\n",
      "50\n"
     ]
    }
   ],
   "source": [
    "import numpy as np\n",
    "\n",
    "arr1 = np.array([10,20,30,40,50])\n",
    "print(arr1[0]) #accessing the first element\n",
    "print(arr1[2]) #accessing the third element\n",
    "print(arr1[4]) #accessing last element"
   ]
  },
  {
   "cell_type": "markdown",
   "id": "d940c43d",
   "metadata": {},
   "source": [
    "Negative Indexing"
   ]
  },
  {
   "cell_type": "code",
   "execution_count": 5,
   "id": "aea13dd5",
   "metadata": {},
   "outputs": [
    {
     "name": "stdout",
     "output_type": "stream",
     "text": [
      "60\n",
      "90\n"
     ]
    }
   ],
   "source": [
    "import numpy as np\n",
    "\n",
    "arr2 = np.array([90,80,70,60])\n",
    "print(arr2[-1]) #accessing last element\n",
    "print(arr2[-4]) #accessing first element"
   ]
  },
  {
   "cell_type": "markdown",
   "id": "1540fc5d",
   "metadata": {},
   "source": [
    "Fancy Indexing"
   ]
  },
  {
   "cell_type": "code",
   "execution_count": 9,
   "id": "7a00deef",
   "metadata": {},
   "outputs": [
    {
     "name": "stdout",
     "output_type": "stream",
     "text": [
      "[10 50 30]\n"
     ]
    }
   ],
   "source": [
    "arr = np.array([10,20,30,40,50])\n",
    "print(arr[[0,4,2]])"
   ]
  },
  {
   "cell_type": "markdown",
   "id": "096b7632",
   "metadata": {},
   "source": [
    "Slicing in NumPy Arrays"
   ]
  },
  {
   "cell_type": "code",
   "execution_count": 6,
   "id": "fca3ba11",
   "metadata": {},
   "outputs": [
    {
     "name": "stdout",
     "output_type": "stream",
     "text": [
      "[40 50 60]\n",
      "[30 40 50 60 70]\n",
      "[50 60 70]\n",
      "[30 40 50 60 70]\n",
      "[30 50 70]\n"
     ]
    }
   ],
   "source": [
    "import numpy as np\n",
    "arr3 = np.array([30,40,50,60,70])\n",
    "\n",
    "print(arr3[1:4]) #prints 2&3 element \n",
    "print(arr3[:5]) #prints element from start to 4th pos\n",
    "print(arr3[2:]) #prints element from 2nd pos to end\n",
    "print(arr3[:]) #prints whole array\n",
    "print(arr3[::2]) #prints whole array eliminating every 2nd element\n"
   ]
  },
  {
   "cell_type": "markdown",
   "id": "369ca31a",
   "metadata": {},
   "source": [
    "Reversing the array"
   ]
  },
  {
   "cell_type": "code",
   "execution_count": 7,
   "id": "40a455ec",
   "metadata": {},
   "outputs": [
    {
     "name": "stdout",
     "output_type": "stream",
     "text": [
      "[70 50 30 10]\n"
     ]
    }
   ],
   "source": [
    "arr4 = np.array([10,30,50,70])\n",
    "\n",
    "print(arr4[::-1])"
   ]
  }
 ],
 "metadata": {
  "kernelspec": {
   "display_name": "Python 3",
   "language": "python",
   "name": "python3"
  },
  "language_info": {
   "codemirror_mode": {
    "name": "ipython",
    "version": 3
   },
   "file_extension": ".py",
   "mimetype": "text/x-python",
   "name": "python",
   "nbconvert_exporter": "python",
   "pygments_lexer": "ipython3",
   "version": "3.10.9"
  }
 },
 "nbformat": 4,
 "nbformat_minor": 5
}
