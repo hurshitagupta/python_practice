{
 "cells": [
  {
   "cell_type": "markdown",
   "id": "8c3f8560",
   "metadata": {},
   "source": [
    "#### SUDOKU VALIDATOR"
   ]
  },
  {
   "cell_type": "markdown",
   "id": "42b8a8f8",
   "metadata": {},
   "source": [
    "**What's This Project About?**\n",
    "\n",
    "You're given a completed 9×9 Sudoku board.\n",
    "\n",
    "**Your task**: Check if it's a valid solution "
   ]
  },
  {
   "cell_type": "code",
   "execution_count": null,
   "id": "b84825c1",
   "metadata": {},
   "outputs": [
    {
     "name": "stdout",
     "output_type": "stream",
     "text": [
      "[1 8 4 2 3 9 7 6 1]\n",
      "Invalid row\n",
      "[1 1 9 3 6 4 8 2 7]\n",
      "Invalid column\n",
      "[[1 2 3]\n",
      " [1 8 4]\n",
      " [9 6 7]]\n",
      "This box contains an error.\n",
      "Thanks for playing!🚀💗\n"
     ]
    }
   ],
   "source": [
    "import numpy as np\n",
    "\n",
    "#hard-coding the sudoku value (9*9 - 2D)\n",
    "board = np.array([[1,2,3,6,7,8,9,4,5],[1,8,4,2,3,9,7,6,1],[9,6,7,1,4,5,3,2,8],[3,7,2,4,6,1,5,8,9],[6,9,1,5,8,3,2,7,4],[4,5,8,7,9,2,6,1,3],[8,3,6,9,2,4,1,5,7],[2,1,9,8,5,7,4,3,6],[7,4,5,3,1,6,8,9,2]])\n",
    "# print(board)\n",
    "\n",
    "#looping through the rows for validation\n",
    "for row in board:\n",
    "    valid_row = np.unique(row)\n",
    "    if np.array_equal(valid_row, np.arange(1, 10)):\n",
    "        continue\n",
    "    else:\n",
    "        print(row)\n",
    "        print(\"Invalid row\")\n",
    "\n",
    "\n",
    "#looping through the columns for validation\n",
    "for col in range(9):\n",
    "    column = board[:,col]\n",
    "    valid_col = np.unique(column)\n",
    "    if np.array_equal(valid_col, np.arange(1,10)):\n",
    "        continue\n",
    "    else:\n",
    "        print(column)\n",
    "        print(\"Invalid column\")\n",
    "\n",
    "\n",
    "#looping through rows and columns, all box(3*3)\n",
    "for row in [0,3,6]:\n",
    "    \n",
    "    for col in [0,3,6]:\n",
    "        \n",
    "        box = board[row:row+3,col:col+3]\n",
    "        # print(box)\n",
    "        box_1d = box.flatten() #converting the 2D box into 1d\n",
    "        final_box = np.unique(box_1d) #converting the 1d into ordered array [ 1 2 3 4 5 6 7 8 9]\n",
    "        if np.array_equal(final_box,np.arange(1,10)): #checking if the box = [1 2 3 4 5 6 7 8 9]\n",
    "            count = 0\n",
    "            continue\n",
    "        else:\n",
    "            print(box)\n",
    "            print(\"This box contains an error.\") \n",
    "            break\n",
    "\n",
    "print(\"Thanks for playing!🚀💗\")\n"
   ]
  }
 ],
 "metadata": {
  "kernelspec": {
   "display_name": "Python 3",
   "language": "python",
   "name": "python3"
  },
  "language_info": {
   "codemirror_mode": {
    "name": "ipython",
    "version": 3
   },
   "file_extension": ".py",
   "mimetype": "text/x-python",
   "name": "python",
   "nbconvert_exporter": "python",
   "pygments_lexer": "ipython3",
   "version": "3.10.9"
  }
 },
 "nbformat": 4,
 "nbformat_minor": 5
}
