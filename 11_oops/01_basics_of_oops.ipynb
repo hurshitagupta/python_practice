{
 "cells": [
  {
   "cell_type": "markdown",
   "id": "9e33c69c",
   "metadata": {},
   "source": [
    "Basics of OOPS"
   ]
  },
  {
   "cell_type": "markdown",
   "id": "bf41e6a2",
   "metadata": {},
   "source": [
    "Creating a class"
   ]
  },
  {
   "cell_type": "code",
   "execution_count": 3,
   "id": "17d2226a",
   "metadata": {},
   "outputs": [],
   "source": [
    "#use class keyword to create a class\n",
    "class Pet:\n",
    "\n",
    "    def care(self): #user define func\n",
    "        print(\"Take care of the pet!\")"
   ]
  },
  {
   "cell_type": "markdown",
   "id": "73df0909",
   "metadata": {},
   "source": [
    "Creating an object"
   ]
  },
  {
   "cell_type": "code",
   "execution_count": null,
   "id": "fc54990d",
   "metadata": {},
   "outputs": [
    {
     "name": "stdout",
     "output_type": "stream",
     "text": [
      "Take care of the pet!\n"
     ]
    }
   ],
   "source": [
    "#creating the object: (object name is buddy)\n",
    "buddy = Pet() \n",
    "\n",
    "#object helps in calling the functions made in class\n",
    "buddy.care()"
   ]
  },
  {
   "cell_type": "markdown",
   "id": "7e6e656f",
   "metadata": {},
   "source": [
    "Attributes in OOPS"
   ]
  },
  {
   "cell_type": "code",
   "execution_count": 5,
   "id": "1f127924",
   "metadata": {},
   "outputs": [
    {
     "name": "stdout",
     "output_type": "stream",
     "text": [
      "The white Toyota car is starting.\n"
     ]
    }
   ],
   "source": [
    "#creating the class\n",
    "class Car:\n",
    "    def start(self):\n",
    "        print(f\"The {self.color} {self.model} car is starting.\")\n",
    "\n",
    "\n",
    "#creating an object\n",
    "car1 = Car()\n",
    "car1.model = \"Toyota\"  #assigning the value to attribute model\n",
    "car1.color = \"white\"\n",
    "\n",
    "#calling method\n",
    "car1.start()"
   ]
  },
  {
   "cell_type": "markdown",
   "id": "0c63f015",
   "metadata": {},
   "source": [
    "__init__ function"
   ]
  },
  {
   "cell_type": "code",
   "execution_count": 6,
   "id": "e7604df1",
   "metadata": {},
   "outputs": [
    {
     "name": "stdout",
     "output_type": "stream",
     "text": [
      "The White Toyota car is starting.\n"
     ]
    }
   ],
   "source": [
    "#creating the class\n",
    "class Car:\n",
    "    def __init__(self,model,color): #init calls the func directly\n",
    "        self.model = model\n",
    "        self.color = color\n",
    "    \n",
    "    def start(self):\n",
    "        print(f\"The {self.color} {self.model} car is starting.\")\n",
    "\n",
    "#Creating an object\n",
    "\n",
    "car1 = Car(\"Toyota\",\"White\")  #assigning the values of attribute\n",
    "\n",
    "#calling the method\n",
    "\n",
    "car1.start()"
   ]
  }
 ],
 "metadata": {
  "kernelspec": {
   "display_name": "Python 3",
   "language": "python",
   "name": "python3"
  },
  "language_info": {
   "codemirror_mode": {
    "name": "ipython",
    "version": 3
   },
   "file_extension": ".py",
   "mimetype": "text/x-python",
   "name": "python",
   "nbconvert_exporter": "python",
   "pygments_lexer": "ipython3",
   "version": "3.10.9"
  }
 },
 "nbformat": 4,
 "nbformat_minor": 5
}
