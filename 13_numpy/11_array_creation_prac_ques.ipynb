{
 "cells": [
  {
   "cell_type": "markdown",
   "id": "d9813475",
   "metadata": {},
   "source": [
    "#### Practice Questions (Part-1)"
   ]
  },
  {
   "cell_type": "markdown",
   "id": "5fad3a3f",
   "metadata": {},
   "source": [
    "Q1: Create a 1D array of even numbers from 10 to 50\n",
    "\n",
    "Q2: Create a 5x3 array filled with number 7\n",
    "\n",
    "Q3: Create an array of 20 random integers from 100–999 and reshape it into 4x5\n",
    "\n",
    "Q4: How would you create a 3D array (2 blocks, each 3x3)?"
   ]
  },
  {
   "cell_type": "code",
   "execution_count": 11,
   "id": "4e212ee5",
   "metadata": {},
   "outputs": [
    {
     "name": "stdout",
     "output_type": "stream",
     "text": [
      "[10 12 14 16 18 20 22 24 26 28 30 32 34 36 38 40 42 44 46 48 50]\n",
      "[[7 7 7]\n",
      " [7 7 7]\n",
      " [7 7 7]\n",
      " [7 7 7]\n",
      " [7 7 7]]\n",
      "[[420 569 870 564 169]\n",
      " [662 756 316 469 552]\n",
      " [100 564 347 120 412]\n",
      " [722 270 748 453 491]]\n",
      "[[[6 3 5]\n",
      "  [8 3 6]\n",
      "  [7 3 7]]\n",
      "\n",
      " [[5 2 3]\n",
      "  [9 6 7]\n",
      "  [9 8 9]]]\n"
     ]
    }
   ],
   "source": [
    "import numpy as np\n",
    "\n",
    "# creating 1d array of even numbers from 10-50\n",
    "even_nums = np.arange(10,51,2)\n",
    "print(even_nums)\n",
    "\n",
    "# creating 5X3 array filled with 7\n",
    "array_7 = np.full((5,3),7)\n",
    "print(array_7)\n",
    "\n",
    "# creating an array of 20 radom integers from 100-999 \n",
    "rand_arr = np.random.randint(100,1000, size=20)\n",
    "\n",
    "#reshaping it into 4X5\n",
    "resized_arr = rand_arr.reshape(4,5)\n",
    "print(resized_arr)\n",
    "\n",
    "#creating a 3D array (2 blocks - 3X3)\n",
    "arr_3d = np.random.randint(1,11, size=(2,3,3))\n",
    "print(arr_3d)"
   ]
  }
 ],
 "metadata": {
  "kernelspec": {
   "display_name": "Python 3",
   "language": "python",
   "name": "python3"
  },
  "language_info": {
   "codemirror_mode": {
    "name": "ipython",
    "version": 3
   },
   "file_extension": ".py",
   "mimetype": "text/x-python",
   "name": "python",
   "nbconvert_exporter": "python",
   "pygments_lexer": "ipython3",
   "version": "3.10.9"
  }
 },
 "nbformat": 4,
 "nbformat_minor": 5
}
