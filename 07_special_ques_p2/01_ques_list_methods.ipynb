{
 "cells": [
  {
   "cell_type": "markdown",
   "id": "bf57fc34",
   "metadata": {},
   "source": [
    "# Question:\n",
    "\n",
    "a. Create a list named data_poits containing integers representing data values: [10,20,30,40,50]\n",
    "\n",
    "b. Add the value 60 to the end of the list\n",
    "\n",
    "c. Insert the value 5 at the beginning of the list\n",
    "\n",
    "d. Remove the value 30 from the list\n",
    "\n",
    "e. Print the modified list"
   ]
  },
  {
   "cell_type": "code",
   "execution_count": 1,
   "id": "b3961444",
   "metadata": {},
   "outputs": [
    {
     "name": "stdout",
     "output_type": "stream",
     "text": [
      "The modified list is:  [5, 10, 20, 40, 50, 60]\n"
     ]
    }
   ],
   "source": [
    "data_list = [10,20,30,40,50]\n",
    "\n",
    "data_list.append(60)\n",
    "data_list.insert(0,5)\n",
    "data_list.remove(30)\n",
    "print(\"The modified list is: \", data_list)"
   ]
  }
 ],
 "metadata": {
  "kernelspec": {
   "display_name": "Python 3",
   "language": "python",
   "name": "python3"
  },
  "language_info": {
   "codemirror_mode": {
    "name": "ipython",
    "version": 3
   },
   "file_extension": ".py",
   "mimetype": "text/x-python",
   "name": "python",
   "nbconvert_exporter": "python",
   "pygments_lexer": "ipython3",
   "version": "3.10.9"
  }
 },
 "nbformat": 4,
 "nbformat_minor": 5
}
