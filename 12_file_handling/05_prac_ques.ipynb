{
 "cells": [
  {
   "cell_type": "markdown",
   "id": "3aeff9e0",
   "metadata": {},
   "source": [
    "Practice Questions"
   ]
  },
  {
   "cell_type": "markdown",
   "id": "3f7ef57e",
   "metadata": {},
   "source": [
    "Q1. Create a new file \"practice.txt\" using python. Add the following data in it:\n",
    "\n",
    "Hi everyone\n",
    "\n",
    "we are learning file i/o \n",
    "\n",
    "using Java\n",
    "\n",
    "I like programming in python\n"
   ]
  },
  {
   "cell_type": "code",
   "execution_count": 8,
   "id": "3386efc6",
   "metadata": {},
   "outputs": [],
   "source": [
    "with open(\"practice.txt\",\"w\") as f:\n",
    "    f.write(\"\"\"Hi everyone\n",
    "we are learning file i/o\n",
    "using Java\n",
    "I like programming in python\"\"\")\n",
    "    \n"
   ]
  },
  {
   "cell_type": "markdown",
   "id": "afe782ec",
   "metadata": {},
   "source": [
    "WAF that replace occurrence of \"java\" with \"python\" in above file."
   ]
  },
  {
   "cell_type": "code",
   "execution_count": 10,
   "id": "324a5eba",
   "metadata": {},
   "outputs": [
    {
     "name": "stdout",
     "output_type": "stream",
     "text": [
      "Hi everyone\n",
      "we are learning file i/o\n",
      "using Python\n",
      "I like programming in python\n"
     ]
    }
   ],
   "source": [
    "def make_change():\n",
    "\n",
    "    with open(\"practice.txt\",\"r\") as f:\n",
    "\n",
    "        data = f.read()\n",
    "        changes = data.replace(\"Java\",\"Python\")\n",
    "        print(changes)\n",
    "\n",
    "    with open(\"practice.txt\",\"w\") as f:\n",
    "        f.write(changes)\n",
    "\n",
    "make_change()\n"
   ]
  },
  {
   "cell_type": "markdown",
   "id": "e16684db",
   "metadata": {},
   "source": [
    "Search if the word \"learning\" exists in the file or not."
   ]
  },
  {
   "cell_type": "code",
   "execution_count": 5,
   "id": "6a977dc6",
   "metadata": {},
   "outputs": [
    {
     "name": "stdout",
     "output_type": "stream",
     "text": [
      "True\n"
     ]
    }
   ],
   "source": [
    "with open(\"practice.txt\",\"r\") as f:\n",
    "\n",
    "    data = f.read()\n",
    "    print(\"learning\" in data)"
   ]
  },
  {
   "cell_type": "markdown",
   "id": "b8af5c0d",
   "metadata": {},
   "source": [
    "Q2. WAF to find in which line of the file does the word \"learning\" occur first. Print -1 if word not found."
   ]
  },
  {
   "cell_type": "code",
   "execution_count": 23,
   "id": "c2b907bc",
   "metadata": {},
   "outputs": [
    {
     "name": "stdout",
     "output_type": "stream",
     "text": [
      "line 2\n"
     ]
    }
   ],
   "source": [
    "def finding_line():\n",
    "\n",
    "    word = \"learning\"\n",
    "    data = True\n",
    "    line_no = 1\n",
    "    with open(\"practice.txt\",\"r\") as f:\n",
    "        while data:\n",
    "            data = f.readline()\n",
    "            if word in data:\n",
    "                print(\"line\",line_no)\n",
    "                return\n",
    "            line_no += 1\n",
    "        \n",
    "    return -1\n",
    "finding_line()\n",
    "    "
   ]
  },
  {
   "cell_type": "markdown",
   "id": "9fd4fbfb",
   "metadata": {},
   "source": [
    "Q3. From a file containing numbers seperated by comma, print the count of even numbers"
   ]
  },
  {
   "cell_type": "code",
   "execution_count": 38,
   "id": "0cc7f1c6",
   "metadata": {},
   "outputs": [
    {
     "name": "stdout",
     "output_type": "stream",
     "text": [
      "total count: 3\n"
     ]
    }
   ],
   "source": [
    "with open(\"number.txt\",\"r\") as f:\n",
    "\n",
    "    data = f.read()\n",
    "    count = 0\n",
    "    nums = data.split(\",\")\n",
    "    for val in nums:\n",
    "        if(int(val)%2 == 0):\n",
    "            count = count+1\n",
    "        \n",
    "    print(\"total count:\",count)\n",
    "  "
   ]
  }
 ],
 "metadata": {
  "kernelspec": {
   "display_name": "Python 3",
   "language": "python",
   "name": "python3"
  },
  "language_info": {
   "codemirror_mode": {
    "name": "ipython",
    "version": 3
   },
   "file_extension": ".py",
   "mimetype": "text/x-python",
   "name": "python",
   "nbconvert_exporter": "python",
   "pygments_lexer": "ipython3",
   "version": "3.10.9"
  }
 },
 "nbformat": 4,
 "nbformat_minor": 5
}
