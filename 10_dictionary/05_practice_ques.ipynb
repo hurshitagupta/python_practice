{
 "cells": [
  {
   "cell_type": "markdown",
   "id": "8ce62352",
   "metadata": {},
   "source": [
    "# Practice Questions"
   ]
  },
  {
   "cell_type": "markdown",
   "id": "56f69018",
   "metadata": {},
   "source": [
    "Q1. Write a python script to concatenate the following dictionaries to create a new one."
   ]
  },
  {
   "cell_type": "code",
   "execution_count": 2,
   "id": "356bb92a",
   "metadata": {},
   "outputs": [
    {
     "name": "stdout",
     "output_type": "stream",
     "text": [
      "{'name': 'john', 'age': 23}\n",
      "{'name': 'john', 'age': 23, 'gender': 'male', 'email': 'john@example.com'}\n"
     ]
    }
   ],
   "source": [
    "dict1 = {\n",
    "    \"name\":\"john\",\n",
    "    \"age\":23\n",
    "}\n",
    "\n",
    "dict2 = {\n",
    "    \"gender\":\"male\",\n",
    "    \"email\":\"john@example.com\"\n",
    "}\n",
    "dict3 = {}\n",
    "for i in (dict1,dict2):\n",
    "    dict3.update(i)\n",
    "    print(dict3)"
   ]
  },
  {
   "cell_type": "markdown",
   "id": "a9a649d1",
   "metadata": {},
   "source": [
    "Ques. Print a dictionary where the keys are numbers between 1 and 15 and the values are square of keys."
   ]
  },
  {
   "cell_type": "code",
   "execution_count": 3,
   "id": "92c471bd",
   "metadata": {},
   "outputs": [
    {
     "name": "stdout",
     "output_type": "stream",
     "text": [
      "{1: 1, 2: 4, 3: 9, 4: 16, 5: 25, 6: 36, 7: 49, 8: 64, 9: 81, 10: 100, 11: 121, 12: 144, 13: 169, 14: 196, 15: 225}\n"
     ]
    }
   ],
   "source": [
    "dict1 = {}\n",
    "\n",
    "for i in range(1,16):\n",
    "    dict1[i]=i**2\n",
    "\n",
    "print(dict1)"
   ]
  },
  {
   "cell_type": "markdown",
   "id": "8b7e4253",
   "metadata": {},
   "source": [
    "Ques. Make a user defined function and check whether a given key exists in a dictionary"
   ]
  },
  {
   "cell_type": "code",
   "execution_count": null,
   "id": "f4440ba2",
   "metadata": {},
   "outputs": [
    {
     "name": "stdout",
     "output_type": "stream",
     "text": [
      "Key not found\n"
     ]
    }
   ],
   "source": [
    "d = {1:10, 2:20, 3:30, 4:40, 5:50}\n",
    "\n",
    "key_check = int(input(\"enter the key you want to check: \"))\n",
    "\n",
    "def is_key_present(key_check):\n",
    "    found = 0\n",
    "    for keys in d:\n",
    "        if(keys==key_check):\n",
    "            found = 1\n",
    "    if(found==1):\n",
    "        return \"Key found\"\n",
    "    else:\n",
    "        return \"Key not found\"\n",
    "\n",
    "output = is_key_present(key_check)\n",
    "print(output)"
   ]
  }
 ],
 "metadata": {
  "kernelspec": {
   "display_name": "Python 3",
   "language": "python",
   "name": "python3"
  },
  "language_info": {
   "codemirror_mode": {
    "name": "ipython",
    "version": 3
   },
   "file_extension": ".py",
   "mimetype": "text/x-python",
   "name": "python",
   "nbconvert_exporter": "python",
   "pygments_lexer": "ipython3",
   "version": "3.10.9"
  }
 },
 "nbformat": 4,
 "nbformat_minor": 5
}
