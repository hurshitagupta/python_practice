{
 "cells": [
  {
   "cell_type": "markdown",
   "id": "8292b917",
   "metadata": {},
   "source": [
    "Text Filtering in Pandas"
   ]
  },
  {
   "cell_type": "code",
   "execution_count": 1,
   "id": "52ce2fa9",
   "metadata": {},
   "outputs": [
    {
     "name": "stdout",
     "output_type": "stream",
     "text": [
      "     Name      Mood\n",
      "0    Riya     Happy\n",
      "1   Aarav      Lazy\n",
      "2   Komal   Excited\n",
      "3  Mayank     Bored\n",
      "4   Priya  Cheerful\n"
     ]
    }
   ],
   "source": [
    "import pandas as pd\n",
    "\n",
    "df = pd.DataFrame({\n",
    "    \"Name\": [\"Riya\", \"Aarav\", \"Komal\", \"Mayank\", \"Priya\"],\n",
    "    \"Mood\": [\"Happy\", \"Lazy\", \"Excited\", \"Bored\", \"Cheerful\"]\n",
    "})\n",
    "\n",
    "print(df)"
   ]
  },
  {
   "cell_type": "markdown",
   "id": "5e2ebb57",
   "metadata": {},
   "source": [
    "1. Check if a text exists inside a column : Shows names that have “ya” in them (like Riya, Mayank, Priya)."
   ]
  },
  {
   "cell_type": "code",
   "execution_count": 2,
   "id": "a79e8db7",
   "metadata": {},
   "outputs": [
    {
     "name": "stdout",
     "output_type": "stream",
     "text": [
      "     Name      Mood\n",
      "0    Riya     Happy\n",
      "3  Mayank     Bored\n",
      "4   Priya  Cheerful\n"
     ]
    }
   ],
   "source": [
    "contains_ya = df[df[\"Name\"].str.contains(\"ya\")]\n",
    "print(contains_ya)"
   ]
  },
  {
   "cell_type": "markdown",
   "id": "3abbbeeb",
   "metadata": {},
   "source": [
    "2. Check if the word starts or ends with something"
   ]
  },
  {
   "cell_type": "code",
   "execution_count": 6,
   "id": "1971b76a",
   "metadata": {},
   "outputs": [
    {
     "name": "stdout",
     "output_type": "stream",
     "text": [
      "   Name   Mood\n",
      "0  Riya  Happy\n",
      "    Name   Mood\n",
      "0   Riya  Happy\n",
      "1  Aarav   Lazy\n"
     ]
    }
   ],
   "source": [
    "h_start = df[df[\"Mood\"].str.startswith(\"H\")]\n",
    "y_end = df[df[\"Mood\"].str.endswith(\"y\")]\n",
    "print(h_start)\n",
    "print(y_end)"
   ]
  },
  {
   "cell_type": "markdown",
   "id": "a0018044",
   "metadata": {},
   "source": [
    "3. Convert whole column to lowercase / uppercase (cleaning)"
   ]
  },
  {
   "cell_type": "code",
   "execution_count": 7,
   "id": "3fd7c790",
   "metadata": {},
   "outputs": [
    {
     "name": "stdout",
     "output_type": "stream",
     "text": [
      "     Name      Mood\n",
      "0    RIYA     happy\n",
      "1   AARAV      lazy\n",
      "2   KOMAL   excited\n",
      "3  MAYANK     bored\n",
      "4   PRIYA  cheerful\n"
     ]
    }
   ],
   "source": [
    "df[\"Mood\"] = df[\"Mood\"].str.lower()\n",
    "df[\"Name\"] = df[\"Name\"].str.upper()\n",
    "\n",
    "print(df)"
   ]
  },
  {
   "cell_type": "markdown",
   "id": "2c496f10",
   "metadata": {},
   "source": [
    "4. Replace a word or part of it\n",
    "\n"
   ]
  },
  {
   "cell_type": "code",
   "execution_count": 8,
   "id": "2ed7805f",
   "metadata": {},
   "outputs": [
    {
     "name": "stdout",
     "output_type": "stream",
     "text": [
      "     Name      Mood\n",
      "0    RIYA     happy\n",
      "1   AARAV     tired\n",
      "2   KOMAL   excited\n",
      "3  MAYANK     bored\n",
      "4   PRIYA  cheerful\n"
     ]
    }
   ],
   "source": [
    "df[\"Mood\"] = df[\"Mood\"].str.replace(\"lazy\",\"tired\", case=False)\n",
    "print(df)"
   ]
  },
  {
   "cell_type": "markdown",
   "id": "99305fd8",
   "metadata": {},
   "source": [
    "### Practice Tasks"
   ]
  },
  {
   "cell_type": "markdown",
   "id": "26d5ae69",
   "metadata": {},
   "source": [
    "Filter all names that contain the letters \"ya\"\n",
    "\n",
    "Show only rows where mood starts with \"H\"\n",
    "\n",
    "Convert all moods to lowercase and print the new DataFrame\n",
    "\n",
    "Replace “Lazy” mood with “Sleepy”\n",
    "\n",
    "Filter names that end with \"a\""
   ]
  },
  {
   "cell_type": "code",
   "execution_count": 19,
   "id": "28e03768",
   "metadata": {},
   "outputs": [
    {
     "name": "stdout",
     "output_type": "stream",
     "text": [
      "0      Riya\n",
      "3    Mayank\n",
      "4     Priya\n",
      "Name: Name, dtype: object\n",
      "   Name   Mood\n",
      "0  Riya  Happy\n",
      "0       happy\n",
      "1        lazy\n",
      "2     excited\n",
      "3       bored\n",
      "4    cheerful\n",
      "Name: Mood, dtype: object\n",
      "0       Happy\n",
      "1      Sleepy\n",
      "2     Excited\n",
      "3       Bored\n",
      "4    Cheerful\n",
      "Name: Mood, dtype: object\n",
      "    Name      Mood\n",
      "0   Riya     Happy\n",
      "4  Priya  Cheerful\n"
     ]
    }
   ],
   "source": [
    "import pandas as pd\n",
    "\n",
    "df = pd.DataFrame({\n",
    "    \"Name\": [\"Riya\", \"Aarav\", \"Komal\", \"Mayank\", \"Priya\"],\n",
    "    \"Mood\": [\"Happy\", \"Lazy\", \"Excited\", \"Bored\", \"Cheerful\"]\n",
    "})\n",
    "\n",
    "#Filter all names that contain the letters \"ya\"\n",
    "\n",
    "contains_ya = df[df[\"Name\"].str.contains(\"ya\")]\n",
    "print(contains_ya[\"Name\"])\n",
    "\n",
    "# Show only rows where mood starts with \"H\"\n",
    "\n",
    "starts_h = df[df[\"Mood\"].str.startswith(\"H\")]\n",
    "print(starts_h)\n",
    "\n",
    "# Convert all moods to lowercase and print the new DataFrame\n",
    "\n",
    "lower_moods = df[\"Mood\"].str.lower()\n",
    "print(lower_moods)\n",
    "\n",
    "# Replace “Lazy” mood with “Sleepy”\n",
    "\n",
    "lazy_to_sleepy = df[\"Mood\"].str.replace(\"Lazy\",\"Sleepy\")\n",
    "print(lazy_to_sleepy)\n",
    "\n",
    "# Filter names that end with \"a\"\n",
    "\n",
    "ends_a = df[df[\"Name\"].str.endswith(\"a\")]\n",
    "print(ends_a)"
   ]
  }
 ],
 "metadata": {
  "kernelspec": {
   "display_name": "Python 3",
   "language": "python",
   "name": "python3"
  },
  "language_info": {
   "codemirror_mode": {
    "name": "ipython",
    "version": 3
   },
   "file_extension": ".py",
   "mimetype": "text/x-python",
   "name": "python",
   "nbconvert_exporter": "python",
   "pygments_lexer": "ipython3",
   "version": "3.10.9"
  }
 },
 "nbformat": 4,
 "nbformat_minor": 5
}
