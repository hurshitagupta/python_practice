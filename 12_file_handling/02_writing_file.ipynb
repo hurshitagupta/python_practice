{
 "cells": [
  {
   "cell_type": "markdown",
   "id": "97be656e",
   "metadata": {},
   "source": [
    "Writing a file in python"
   ]
  },
  {
   "cell_type": "code",
   "execution_count": 1,
   "id": "3a1802ca",
   "metadata": {},
   "outputs": [],
   "source": [
    "#open the file first and set mode to \"w\"\n",
    "\n",
    "f = open(\"./02_example_files/demo_file.txt\",\"w\") #write mode overwrites the whole text that exists earlier\n",
    "\n",
    "#write to file\n",
    "\n",
    "f.write(\"Hi, I have overwritten the file!\")\n",
    "\n",
    "#close the file\n",
    "f.close()\n",
    "\n",
    "#if you will check your file it have been overwritten with the text you had given"
   ]
  },
  {
   "cell_type": "markdown",
   "id": "60e2cafa",
   "metadata": {},
   "source": [
    "What happens, if you have given a file name that does not exists in \"w\" mode?"
   ]
  },
  {
   "cell_type": "code",
   "execution_count": 2,
   "id": "9d54e409",
   "metadata": {},
   "outputs": [],
   "source": [
    "#open the file\n",
    "\n",
    "f = open(\"./02_example_files/sample.txt\",\"w\") #sample.txt file doesnot exists\n",
    "\n",
    "#write to it\n",
    "f.write(\"Hi, I am learning file handling in python\")\n",
    "\n",
    "#close file\n",
    "f.close()"
   ]
  },
  {
   "cell_type": "markdown",
   "id": "8e7846e8",
   "metadata": {},
   "source": [
    "If you run the above code you will see that a new text file is automatically created with the name that you had given (if it didn't existed) and it will write the text you have provided into the file."
   ]
  },
  {
   "cell_type": "markdown",
   "id": "70ebca73",
   "metadata": {},
   "source": [
    "Append Mode\n",
    "\n",
    "This mode is used when we do not want to overwrite rather we want to add something in our file."
   ]
  },
  {
   "cell_type": "code",
   "execution_count": 4,
   "id": "dcb6ad90",
   "metadata": {},
   "outputs": [],
   "source": [
    "#open the file\n",
    "f = open(\"./02_example_files/demo_file.txt\",\"a\")\n",
    "\n",
    "#append the data\n",
    "f.write(\" Hi, I am added.\") #data will be added towards the end of the file\n",
    "\n",
    "#close the file\n",
    "f.close()"
   ]
  },
  {
   "cell_type": "markdown",
   "id": "e83bb620",
   "metadata": {},
   "source": [
    "What happens, if you have given a file name that does not exists in \"a\" mode?"
   ]
  },
  {
   "cell_type": "code",
   "execution_count": 3,
   "id": "6ce94341",
   "metadata": {},
   "outputs": [],
   "source": [
    "#open the file\n",
    "\n",
    "f = open(\"./02_example_files/sample1.txt\",\"a\") #sample1.txt file doesnot exists\n",
    "\n",
    "#write to it\n",
    "f.write(\"Hi, I am being added\")\n",
    "\n",
    "#close file\n",
    "f.close()"
   ]
  },
  {
   "cell_type": "markdown",
   "id": "8a7a7c92",
   "metadata": {},
   "source": [
    "If you run the above code you will see that a new text file is automatically created with the name that you had given (if it didn't existed) and it will append the text you have provided into the file."
   ]
  }
 ],
 "metadata": {
  "kernelspec": {
   "display_name": "Python 3",
   "language": "python",
   "name": "python3"
  },
  "language_info": {
   "codemirror_mode": {
    "name": "ipython",
    "version": 3
   },
   "file_extension": ".py",
   "mimetype": "text/x-python",
   "name": "python",
   "nbconvert_exporter": "python",
   "pygments_lexer": "ipython3",
   "version": "3.10.9"
  }
 },
 "nbformat": 4,
 "nbformat_minor": 5
}
