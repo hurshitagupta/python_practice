{
 "cells": [
  {
   "cell_type": "markdown",
   "id": "98cc115e",
   "metadata": {},
   "source": [
    "#### PRACTICE QUESTIONS (PART-5)"
   ]
  },
  {
   "cell_type": "markdown",
   "id": "47ffb2c8",
   "metadata": {},
   "source": [
    "Q1: Create a 4x4 array of random integers between 1–100\n",
    "\n",
    "Q2: Calculate the mean of each row\n",
    "\n",
    "Q3: Find the max of each column\n",
    "\n",
    "Q4: Count how many values in total are > 50\n",
    "\n",
    "Q5: What is the standard deviation of the entire array?\n",
    "\n",
    "Q6: What is the median of each row?"
   ]
  },
  {
   "cell_type": "code",
   "execution_count": 9,
   "id": "602404e6",
   "metadata": {},
   "outputs": [
    {
     "name": "stdout",
     "output_type": "stream",
     "text": [
      "Original array:\n",
      " [[65 30 39 18]\n",
      " [84 82 44  6]\n",
      " [90  9  1 80]\n",
      " [99 94 53  1]]\n",
      "Row wise mean: [38.   54.   45.   61.75]\n",
      "Maximum of each column: [99 94 53 80]\n",
      "8 values in total are greater than 50\n",
      "Standard Deviation: 34.68558553275409\n",
      "Row wise median: [34.5 63.  44.5 73.5]\n"
     ]
    }
   ],
   "source": [
    "import numpy as np\n",
    "\n",
    "#creating a 4X4 array of random integers(1-100)\n",
    "arr_2d = np.random.randint(1,101,size=16).reshape(4,4)\n",
    "print(\"Original array:\\n\",arr_2d)\n",
    "\n",
    "# calculating mean of each row\n",
    "mean_row = np.mean(arr_2d,axis=1)\n",
    "print(\"Row wise mean:\",mean_row)\n",
    "\n",
    "# finding maximum of each column\n",
    "max = np.max(arr_2d, axis=0)\n",
    "print(\"Maximum of each column:\",max)\n",
    "\n",
    "# counting how many values in total are >50\n",
    "count = np.sum(arr_2d > 50)\n",
    "print(count,\"values in total are greater than 50\")\n",
    "\n",
    "# std deviation of the whole array\n",
    "std_dev = np.std(arr_2d)\n",
    "print(\"Standard Deviation:\",std_dev)\n",
    "\n",
    "# median of each row\n",
    "median = np.median(arr_2d,axis=1)\n",
    "print(\"Row wise median:\",median)"
   ]
  }
 ],
 "metadata": {
  "kernelspec": {
   "display_name": "Python 3",
   "language": "python",
   "name": "python3"
  },
  "language_info": {
   "codemirror_mode": {
    "name": "ipython",
    "version": 3
   },
   "file_extension": ".py",
   "mimetype": "text/x-python",
   "name": "python",
   "nbconvert_exporter": "python",
   "pygments_lexer": "ipython3",
   "version": "3.10.9"
  }
 },
 "nbformat": 4,
 "nbformat_minor": 5
}
