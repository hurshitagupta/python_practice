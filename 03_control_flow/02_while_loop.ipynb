{
 "cells": [
  {
   "cell_type": "markdown",
   "id": "702bdad6",
   "metadata": {},
   "source": [
    "# While Loop"
   ]
  },
  {
   "cell_type": "markdown",
   "id": "c218cfcf",
   "metadata": {},
   "source": [
    "Ques1. Write a program to print all the even numbers between 1 and 50 using a while loop"
   ]
  },
  {
   "cell_type": "code",
   "execution_count": 3,
   "id": "7920904e",
   "metadata": {},
   "outputs": [
    {
     "name": "stdout",
     "output_type": "stream",
     "text": [
      "2\n",
      "4\n",
      "6\n",
      "8\n",
      "10\n",
      "12\n",
      "14\n",
      "16\n",
      "18\n",
      "20\n",
      "22\n",
      "24\n",
      "26\n",
      "28\n",
      "30\n",
      "32\n",
      "34\n",
      "36\n",
      "38\n",
      "40\n",
      "42\n",
      "44\n",
      "46\n",
      "48\n",
      "50\n"
     ]
    }
   ],
   "source": [
    "i = 1\n",
    "while i <= 50:\n",
    "    if(i%2==0):\n",
    "        print(i)\n",
    "    \n",
    "    i = i+1"
   ]
  },
  {
   "cell_type": "markdown",
   "id": "2b072102",
   "metadata": {},
   "source": [
    "Ques2. You are tasked with validating user input for email addresses. WAP that prompts the user to enter an email address.\n",
    "\n",
    "Use a while loop to iterate through the input and check if the email address contains an \"@\" symbol and a \".\" symbol. If the email address does not meet these criteria, print \"Invalid email address format. Please try again\" otherwise print \"Email address validation passed\""
   ]
  },
  {
   "cell_type": "code",
   "execution_count": 6,
   "id": "a5caa28c",
   "metadata": {},
   "outputs": [
    {
     "name": "stdout",
     "output_type": "stream",
     "text": [
      "Your email id is not valid. Please try again later.\n",
      "Email address validation passed\n"
     ]
    }
   ],
   "source": [
    "email = input(\"Enter your email: \")\n",
    "flag = False\n",
    "\n",
    "while not flag:\n",
    "    if \"@\" in email and \".\" in email:\n",
    "        print(\"Email address validation passed\")\n",
    "\n",
    "        flag = True\n",
    "    else:\n",
    "        print(\"Your email id is not valid. Please try again later.\")\n",
    "        email = input(\"Enter your email: \")\n",
    "\n"
   ]
  }
 ],
 "metadata": {
  "kernelspec": {
   "display_name": "Python 3",
   "language": "python",
   "name": "python3"
  },
  "language_info": {
   "codemirror_mode": {
    "name": "ipython",
    "version": 3
   },
   "file_extension": ".py",
   "mimetype": "text/x-python",
   "name": "python",
   "nbconvert_exporter": "python",
   "pygments_lexer": "ipython3",
   "version": "3.10.9"
  }
 },
 "nbformat": 4,
 "nbformat_minor": 5
}
