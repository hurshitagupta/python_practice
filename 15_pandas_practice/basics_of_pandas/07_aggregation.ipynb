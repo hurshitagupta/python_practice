{
 "cells": [
  {
   "cell_type": "markdown",
   "id": "7011eb89",
   "metadata": {},
   "source": [
    "Aggregation in Pandas"
   ]
  },
  {
   "cell_type": "markdown",
   "id": "415bb058",
   "metadata": {},
   "source": [
    "Example: "
   ]
  },
  {
   "cell_type": "code",
   "execution_count": 2,
   "id": "34f443ec",
   "metadata": {},
   "outputs": [
    {
     "name": "stdout",
     "output_type": "stream",
     "text": [
      "           Price        Quantity      Total Sales\n",
      "            mean    max      sum mean         sum\n",
      "Product                                          \n",
      "Laptop   77500.0  80000        3  1.5      230000\n",
      "Phone    29000.0  30000        5  2.5      146000\n",
      "Speaker   7000.0   7000        5  5.0       35000\n",
      "Tablet   20000.0  20000        4  4.0       80000\n"
     ]
    }
   ],
   "source": [
    "import pandas as pd\n",
    "\n",
    "df = pd.DataFrame({\n",
    "    \"Product\": [\"Laptop\", \"Phone\", \"Laptop\", \"Tablet\", \"Phone\", \"Speaker\"],\n",
    "    \"Price\": [75000, 30000, 80000, 20000, 28000, 7000],\n",
    "    \"Quantity\": [2, 3, 1, 4, 2, 5]\n",
    "})\n",
    "\n",
    "# Create Total Sales\n",
    "df[\"Total Sales\"] = df[\"Price\"] * df[\"Quantity\"]\n",
    "\n",
    "# Group by Product and apply multiple aggregations\n",
    "result = df.groupby(\"Product\").agg({\n",
    "    \"Price\": [\"mean\", \"max\"],\n",
    "    \"Quantity\": [\"sum\", \"mean\"],\n",
    "    \"Total Sales\": \"sum\"\n",
    "})\n",
    "\n",
    "print(result)\n"
   ]
  },
  {
   "cell_type": "markdown",
   "id": "8feeb729",
   "metadata": {},
   "source": [
    "### Practice Question"
   ]
  },
  {
   "cell_type": "markdown",
   "id": "c87b0cc1",
   "metadata": {},
   "source": [
    "Q1. Group by \"Product\" and calculate:\n",
    "\n",
    "Average price\n",
    "\n",
    "Total quantity\n",
    "\n"
   ]
  },
  {
   "cell_type": "code",
   "execution_count": 4,
   "id": "174793fb",
   "metadata": {},
   "outputs": [
    {
     "name": "stdout",
     "output_type": "stream",
     "text": [
      "                Price  Quantity\n",
      "Product                        \n",
      "Keyboard  1150.000000        12\n",
      "Monitor   7000.000000         2\n",
      "Mouse      523.333333        24\n"
     ]
    }
   ],
   "source": [
    "import pandas as pd\n",
    "\n",
    "df = pd.DataFrame({\n",
    "    \"Product\": [\"Mouse\", \"Keyboard\", \"Mouse\", \"Monitor\", \"Keyboard\", \"Mouse\"],\n",
    "    \"Price\": [500, 1200, 550, 7000, 1100, 520],\n",
    "    \"Quantity\": [10, 5, 8, 2, 7, 6]\n",
    "})\n",
    "\n",
    "\n",
    "result = df.groupby(\"Product\").agg({\n",
    "    \"Price\": \"mean\",\n",
    "    \"Quantity\" : \"sum\"\n",
    "})\n",
    "\n",
    "print(result)"
   ]
  },
  {
   "cell_type": "markdown",
   "id": "01ed07b5",
   "metadata": {},
   "source": [
    "Q2. Add a new column \"Total Sales\" (Price × Quantity),\n",
    "\n",
    "Then group by \"Product\" and find:\n",
    "\n",
    "Total sales per product\n",
    "\n",
    "Maximum sale made in a single entry (per product)"
   ]
  },
  {
   "cell_type": "code",
   "execution_count": null,
   "id": "19bc2872",
   "metadata": {},
   "outputs": [],
   "source": [
    "import pandas as pd\n",
    "\n",
    "df = pd.DataFrame({\n",
    "    \"Product\": [\"Mouse\", \"Keyboard\", \"Mouse\", \"Monitor\", \"Keyboard\", \"Mouse\"],\n",
    "    \"Price\": [500, 1200, 550, 7000, 1100, 520],\n",
    "    \"Quantity\": [10, 5, 8, 2, 7, 6]\n",
    "})\n",
    "\n",
    "df[\"Total Sales\"] = df[\"Price\"] * df[\"Quantity\"]\n",
    "print(df)\n",
    "\n",
    "result = df.groupby(\"Product\").agg({\n",
    "    \"Total Sales\": \"sum\",\n",
    "    \"Quantity\" : \"max\"\n",
    "})\n",
    "\n",
    "print(result)"
   ]
  },
  {
   "cell_type": "markdown",
   "id": "72085a26",
   "metadata": {},
   "source": [
    "Q3. For each product, show:\n",
    "\n",
    "Minimum price\n",
    "\n",
    "Maximum quantity\n",
    "\n",
    "Average total sales"
   ]
  },
  {
   "cell_type": "code",
   "execution_count": 19,
   "id": "1b4ad854",
   "metadata": {},
   "outputs": [
    {
     "name": "stdout",
     "output_type": "stream",
     "text": [
      "    Product  Price  Quantity  Total Sales\n",
      "0     Mouse    500        10         5000\n",
      "1  Keyboard   1200         5         6000\n",
      "2     Mouse    550         8         4400\n",
      "3   Monitor   7000         2        14000\n",
      "4  Keyboard   1100         7         7700\n",
      "5     Mouse    520         6         3120\n",
      "          Price  Quantity   Total Sales\n",
      "Product                                \n",
      "Keyboard   1100         7   6850.000000\n",
      "Monitor    7000         2  14000.000000\n",
      "Mouse       500        10   4173.333333\n"
     ]
    }
   ],
   "source": [
    "import pandas as pd\n",
    "\n",
    "df = pd.DataFrame({\n",
    "    \"Product\": [\"Mouse\", \"Keyboard\", \"Mouse\", \"Monitor\", \"Keyboard\", \"Mouse\"],\n",
    "    \"Price\": [500, 1200, 550, 7000, 1100, 520],\n",
    "    \"Quantity\": [10, 5, 8, 2, 7, 6]\n",
    "})\n",
    "\n",
    "df[\"Total Sales\"] = df[\"Price\"] * df[\"Quantity\"]\n",
    "print(df)\n",
    "\n",
    "result = df.groupby(\"Product\").agg({\n",
    "    \"Price\":\"min\",\n",
    "    \"Quantity\": \"max\",\n",
    "    \"Total Sales\": \"mean\"\n",
    "})\n",
    "\n",
    "print(result)"
   ]
  }
 ],
 "metadata": {
  "kernelspec": {
   "display_name": "Python 3",
   "language": "python",
   "name": "python3"
  },
  "language_info": {
   "codemirror_mode": {
    "name": "ipython",
    "version": 3
   },
   "file_extension": ".py",
   "mimetype": "text/x-python",
   "name": "python",
   "nbconvert_exporter": "python",
   "pygments_lexer": "ipython3",
   "version": "3.10.9"
  }
 },
 "nbformat": 4,
 "nbformat_minor": 5
}
