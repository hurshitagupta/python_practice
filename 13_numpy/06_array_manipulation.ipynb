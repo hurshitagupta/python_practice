{
 "cells": [
  {
   "cell_type": "markdown",
   "id": "3528c2ca",
   "metadata": {},
   "source": [
    "#### Array Manipulation in NumPy"
   ]
  },
  {
   "cell_type": "markdown",
   "id": "f2d2a3e7",
   "metadata": {},
   "source": [
    "Inserting an element in 1D array"
   ]
  },
  {
   "cell_type": "code",
   "execution_count": 36,
   "id": "178d728c",
   "metadata": {},
   "outputs": [
    {
     "name": "stdout",
     "output_type": "stream",
     "text": [
      "[10 20 30]\n",
      "[40 10 20 30]\n"
     ]
    }
   ],
   "source": [
    "import numpy as np\n",
    "\n",
    "arr1 = np.array([10,20,30])\n",
    "print(arr1)\n",
    "\n",
    "#we need to create a new array as arrays are of fixed length\n",
    "#using insert func to add an elem\n",
    "# syntax = np.insert(arr_name, pos, val, axis=None)\n",
    "\n",
    "new_arr1 = np.insert(arr1, 0, 40, axis=None)\n",
    "print(new_arr1)"
   ]
  },
  {
   "cell_type": "markdown",
   "id": "c438cf68",
   "metadata": {},
   "source": [
    "Inserting an element in 2D array"
   ]
  },
  {
   "cell_type": "markdown",
   "id": "a0c7ca46",
   "metadata": {},
   "source": [
    "1. When axis is 0 (Row)"
   ]
  },
  {
   "cell_type": "code",
   "execution_count": 37,
   "id": "f567f7b9",
   "metadata": {},
   "outputs": [
    {
     "name": "stdout",
     "output_type": "stream",
     "text": [
      "[[1 2]\n",
      " [3 4]\n",
      " [5 6]]\n",
      "[[1 2]\n",
      " [7 8]\n",
      " [3 4]\n",
      " [5 6]]\n"
     ]
    }
   ],
   "source": [
    "import numpy as np\n",
    "\n",
    "arr2d = np.array([[1,2],[3,4],[5,6]]) \n",
    "print(arr2d)\n",
    "\n",
    "#creating a new array \n",
    "new_arr2d = np.insert(arr2d, 1, [7,8], axis=0) #axis=0 means, row will be inserted\n",
    "print(new_arr2d)"
   ]
  },
  {
   "cell_type": "markdown",
   "id": "917d8e1f",
   "metadata": {},
   "source": [
    "2. When axis is 1(Column)"
   ]
  },
  {
   "cell_type": "code",
   "execution_count": 38,
   "id": "45256672",
   "metadata": {},
   "outputs": [
    {
     "name": "stdout",
     "output_type": "stream",
     "text": [
      "[[1 2]\n",
      " [3 4]\n",
      " [5 6]]\n",
      "[[1 7 2]\n",
      " [3 8 4]\n",
      " [5 9 6]]\n"
     ]
    }
   ],
   "source": [
    "import numpy as np\n",
    "arr2d = np.array([[1,2],[3,4],[5,6]])\n",
    "print(arr2d)\n",
    "\n",
    "new_2darray = np.insert(arr2d, 1, [7,8,9], axis=1) #axis 1 means column\n",
    "print(new_2darray)"
   ]
  },
  {
   "cell_type": "markdown",
   "id": "3cff79d3",
   "metadata": {},
   "source": [
    "Appending an element in 1D array"
   ]
  },
  {
   "cell_type": "code",
   "execution_count": 39,
   "id": "b067d8c6",
   "metadata": {},
   "outputs": [
    {
     "name": "stdout",
     "output_type": "stream",
     "text": [
      "[1 2 3 4 5 6]\n",
      "[1 2 3 4 5 6 7]\n"
     ]
    }
   ],
   "source": [
    "import numpy as np\n",
    "\n",
    "arr1 = np.array([1,2,3,4,5,6])\n",
    "arr2 = np.append(arr1, 7, axis=None)\n",
    "\n",
    "print(arr1)\n",
    "print(arr2)"
   ]
  },
  {
   "cell_type": "markdown",
   "id": "03cb24f6",
   "metadata": {},
   "source": [
    "Appending an element in a 2D array\n"
   ]
  },
  {
   "cell_type": "markdown",
   "id": "e64cded9",
   "metadata": {},
   "source": [
    "1. When axis=1 :"
   ]
  },
  {
   "cell_type": "code",
   "execution_count": 40,
   "id": "451d51ab",
   "metadata": {},
   "outputs": [
    {
     "name": "stdout",
     "output_type": "stream",
     "text": [
      "[[1 2]\n",
      " [3 4]]\n",
      "[[1 2 5]\n",
      " [3 4 7]]\n"
     ]
    }
   ],
   "source": [
    "import numpy as np\n",
    "\n",
    "arr_2d = np.array([[1,2],[3,4]])\n",
    "new_arr_2d = np.append(arr_2d, [[5],[7]], axis=1)\n",
    "print(arr_2d)\n",
    "print(new_arr_2d)"
   ]
  },
  {
   "cell_type": "markdown",
   "id": "4c19caba",
   "metadata": {},
   "source": [
    "2. When axis=0:"
   ]
  },
  {
   "cell_type": "code",
   "execution_count": 41,
   "id": "a5b125af",
   "metadata": {},
   "outputs": [
    {
     "name": "stdout",
     "output_type": "stream",
     "text": [
      "[[1 2]\n",
      " [3 4]]\n",
      "[[1 2]\n",
      " [3 4]\n",
      " [5 6]]\n"
     ]
    }
   ],
   "source": [
    "import numpy as np\n",
    "\n",
    "arr = np.array([[1,2],[3,4]])\n",
    "print(arr)\n",
    "\n",
    "new_arr = np.append(arr, [[5,6]], axis=0)\n",
    "print(new_arr)"
   ]
  },
  {
   "cell_type": "markdown",
   "id": "f440d803",
   "metadata": {},
   "source": [
    "Concatenate 2 arrays (one dimensional)"
   ]
  },
  {
   "cell_type": "code",
   "execution_count": 42,
   "id": "d4a5c1df",
   "metadata": {},
   "outputs": [
    {
     "name": "stdout",
     "output_type": "stream",
     "text": [
      "[1 2 3 4 5 6]\n"
     ]
    }
   ],
   "source": [
    "import numpy as np\n",
    "\n",
    "arr1 = np.array([1,2,3])\n",
    "arr2 = np.array([4,5,6])\n",
    "\n",
    "arr3 = np.concatenate((arr1,arr2), axis=0)\n",
    "print(arr3)"
   ]
  },
  {
   "cell_type": "markdown",
   "id": "710a0ee2",
   "metadata": {},
   "source": [
    "Concatenate 2 arrays (2 Dimensional)"
   ]
  },
  {
   "cell_type": "markdown",
   "id": "2bce7241",
   "metadata": {},
   "source": [
    "1. When axis=0"
   ]
  },
  {
   "cell_type": "code",
   "execution_count": 43,
   "id": "5ec6da39",
   "metadata": {},
   "outputs": [
    {
     "name": "stdout",
     "output_type": "stream",
     "text": [
      "[[1 2]\n",
      " [3 4]\n",
      " [5 6]\n",
      " [7 8]]\n"
     ]
    }
   ],
   "source": [
    "import numpy as np\n",
    "\n",
    "arr1 = np.array([[1,2],[3,4]])\n",
    "arr2 = np.array([[5,6],[7,8]])\n",
    "\n",
    "arr3 = np.concatenate((arr1,arr2),axis=0)\n",
    "print(arr3)"
   ]
  },
  {
   "cell_type": "markdown",
   "id": "33e9a99a",
   "metadata": {},
   "source": [
    "2. When axis=1"
   ]
  },
  {
   "cell_type": "code",
   "execution_count": 44,
   "id": "982d1c66",
   "metadata": {},
   "outputs": [
    {
     "name": "stdout",
     "output_type": "stream",
     "text": [
      "[[10 20 50 60]\n",
      " [30 40 70 80]]\n"
     ]
    }
   ],
   "source": [
    "import numpy as np\n",
    "\n",
    "arr1 = np.array([[10,20],[30,40]])\n",
    "arr2 = np.array([[50,60],[70,80]])\n",
    "\n",
    "#concatenating 2 arrays at axis 1\n",
    "arr3 = np.concatenate((arr1,arr2),axis=1)\n",
    "print(arr3)"
   ]
  },
  {
   "cell_type": "markdown",
   "id": "edf4235f",
   "metadata": {},
   "source": [
    "Removing an element in 1D array"
   ]
  },
  {
   "cell_type": "code",
   "execution_count": 45,
   "id": "1c6ba676",
   "metadata": {},
   "outputs": [
    {
     "name": "stdout",
     "output_type": "stream",
     "text": [
      "[1 2 4 5 6]\n"
     ]
    }
   ],
   "source": [
    "import numpy as np\n",
    "\n",
    "arr = np.array([1,2,30,4,5,6])\n",
    "updated_arr = np.delete(arr,2,axis=None)\n",
    "\n",
    "print(updated_arr)\n"
   ]
  },
  {
   "cell_type": "markdown",
   "id": "1debbed2",
   "metadata": {},
   "source": [
    "Removing an element in 2D array"
   ]
  },
  {
   "cell_type": "markdown",
   "id": "dd8c0964",
   "metadata": {},
   "source": [
    "1. When axis=0\n"
   ]
  },
  {
   "cell_type": "code",
   "execution_count": 46,
   "id": "476a80b9",
   "metadata": {},
   "outputs": [
    {
     "name": "stdout",
     "output_type": "stream",
     "text": [
      "[[40 50 60]]\n"
     ]
    }
   ],
   "source": [
    "import numpy as np\n",
    "\n",
    "arr1 = np.array([[1,2,3],[40,50,60]])\n",
    "\n",
    "new_arr = np.delete(arr1, 0, axis=0)\n",
    "print(new_arr)"
   ]
  },
  {
   "cell_type": "markdown",
   "id": "872ee503",
   "metadata": {},
   "source": [
    "2. When axis=1"
   ]
  },
  {
   "cell_type": "code",
   "execution_count": 48,
   "id": "8610d814",
   "metadata": {},
   "outputs": [
    {
     "name": "stdout",
     "output_type": "stream",
     "text": [
      "[[ 1  3]\n",
      " [ 4  6]\n",
      " [ 7  9]\n",
      " [10 12]]\n"
     ]
    }
   ],
   "source": [
    "import numpy as np\n",
    "\n",
    "arr2 = np.array([[1,2,3],[4,5,6],[7,8,9],[10,11,12]])\n",
    "\n",
    "updated_arr = np.delete(arr2, 1, axis=1)\n",
    "print(updated_arr)"
   ]
  },
  {
   "cell_type": "markdown",
   "id": "df16d14f",
   "metadata": {},
   "source": [
    "Stacking in 1D array"
   ]
  },
  {
   "cell_type": "markdown",
   "id": "6c11d6aa",
   "metadata": {},
   "source": [
    "1. vstack()"
   ]
  },
  {
   "cell_type": "code",
   "execution_count": 50,
   "id": "3e09562d",
   "metadata": {},
   "outputs": [
    {
     "name": "stdout",
     "output_type": "stream",
     "text": [
      "[[ 1  2  3  4  5]\n",
      " [ 7  8  9 10 11]]\n"
     ]
    }
   ],
   "source": [
    "import numpy as np\n",
    "\n",
    "arr1 = np.array([1,2,3,4,5])\n",
    "arr2 = np.array([7,8,9,10,11])\n",
    "\n",
    "arr3 = np.vstack((arr1,arr2))\n",
    "print(arr3)"
   ]
  },
  {
   "cell_type": "markdown",
   "id": "7483e04b",
   "metadata": {},
   "source": [
    "2. hstack()"
   ]
  },
  {
   "cell_type": "code",
   "execution_count": 51,
   "id": "024e4497",
   "metadata": {},
   "outputs": [
    {
     "name": "stdout",
     "output_type": "stream",
     "text": [
      "[1 2 3 4 5 6]\n"
     ]
    }
   ],
   "source": [
    "import numpy as np\n",
    "\n",
    "arr1 = np.array([1,2,3])\n",
    "arr2 = np.array([4,5,6])\n",
    "\n",
    "arr3 = np.hstack((arr1,arr2))\n",
    "print(arr3)"
   ]
  },
  {
   "cell_type": "markdown",
   "id": "9e30f078",
   "metadata": {},
   "source": [
    "Stacking in 2D array"
   ]
  },
  {
   "cell_type": "markdown",
   "id": "9eee7337",
   "metadata": {},
   "source": [
    "1. vstack()"
   ]
  },
  {
   "cell_type": "code",
   "execution_count": 52,
   "id": "4e3263f1",
   "metadata": {},
   "outputs": [
    {
     "name": "stdout",
     "output_type": "stream",
     "text": [
      "[[1 2]\n",
      " [3 4]\n",
      " [5 6]\n",
      " [7 8]]\n"
     ]
    }
   ],
   "source": [
    "import numpy as np\n",
    "\n",
    "arr1 = np.array([[1,2],[3,4]])\n",
    "arr2 = np.array([[5,6],[7,8]])\n",
    "\n",
    "#vertical stacking on 2d array\n",
    "\n",
    "arr3 = np.vstack((arr1,arr2))\n",
    "print(arr3)"
   ]
  },
  {
   "cell_type": "markdown",
   "id": "b380faed",
   "metadata": {},
   "source": [
    "2. hstack()"
   ]
  },
  {
   "cell_type": "code",
   "execution_count": 53,
   "id": "d74cb9b0",
   "metadata": {},
   "outputs": [
    {
     "name": "stdout",
     "output_type": "stream",
     "text": [
      "[[10 20 50 60]\n",
      " [30 40 70 80]]\n"
     ]
    }
   ],
   "source": [
    "import numpy as np\n",
    "\n",
    "arr1 = np.array([[10,20],[30,40]])\n",
    "arr2 = np.array([[50,60],[70,80]])\n",
    "\n",
    "arr3 = np.hstack((arr1,arr2))\n",
    "print(arr3)"
   ]
  }
 ],
 "metadata": {
  "kernelspec": {
   "display_name": "Python 3",
   "language": "python",
   "name": "python3"
  },
  "language_info": {
   "codemirror_mode": {
    "name": "ipython",
    "version": 3
   },
   "file_extension": ".py",
   "mimetype": "text/x-python",
   "name": "python",
   "nbconvert_exporter": "python",
   "pygments_lexer": "ipython3",
   "version": "3.10.9"
  }
 },
 "nbformat": 4,
 "nbformat_minor": 5
}
