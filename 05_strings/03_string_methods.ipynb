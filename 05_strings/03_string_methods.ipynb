{
 "cells": [
  {
   "cell_type": "markdown",
   "id": "0e456aa2",
   "metadata": {},
   "source": [
    "# String Methods"
   ]
  },
  {
   "cell_type": "markdown",
   "id": "9f29fa62",
   "metadata": {},
   "source": [
    "Length function"
   ]
  },
  {
   "cell_type": "code",
   "execution_count": 1,
   "id": "458e5711",
   "metadata": {},
   "outputs": [
    {
     "name": "stdout",
     "output_type": "stream",
     "text": [
      "23\n"
     ]
    }
   ],
   "source": [
    "a = \"Hi i am learning python\"\n",
    "\n",
    "print(len(a))"
   ]
  },
  {
   "cell_type": "markdown",
   "id": "e1399a73",
   "metadata": {},
   "source": [
    "Upper Method"
   ]
  },
  {
   "cell_type": "code",
   "execution_count": 2,
   "id": "5817d226",
   "metadata": {},
   "outputs": [
    {
     "name": "stdout",
     "output_type": "stream",
     "text": [
      "HI I AM LEARNING PYTHON\n"
     ]
    }
   ],
   "source": [
    "a = \"Hi i am learning python\"\n",
    "\n",
    "print(a.upper())"
   ]
  },
  {
   "cell_type": "markdown",
   "id": "3bcfb65f",
   "metadata": {},
   "source": [
    "Lower Method"
   ]
  },
  {
   "cell_type": "code",
   "execution_count": 3,
   "id": "692418db",
   "metadata": {},
   "outputs": [
    {
     "name": "stdout",
     "output_type": "stream",
     "text": [
      "hi there, hope you are doing fine\n"
     ]
    }
   ],
   "source": [
    "a = \"Hi There, Hope You Are Doing Fine\"\n",
    "\n",
    "print(a.lower())"
   ]
  },
  {
   "cell_type": "markdown",
   "id": "9ef0c63b",
   "metadata": {},
   "source": [
    "String Concatenation"
   ]
  },
  {
   "cell_type": "code",
   "execution_count": 5,
   "id": "04820ca3",
   "metadata": {},
   "outputs": [
    {
     "name": "stdout",
     "output_type": "stream",
     "text": [
      "HelloWorld\n",
      "Hello World\n"
     ]
    }
   ],
   "source": [
    "a = \"Hello\"\n",
    "b = \"World\"\n",
    "\n",
    "print(a+b)\n",
    "print(a+\" \"+b)"
   ]
  },
  {
   "cell_type": "markdown",
   "id": "caf5dc8e",
   "metadata": {},
   "source": [
    "String Multiplication"
   ]
  },
  {
   "cell_type": "code",
   "execution_count": 6,
   "id": "85455484",
   "metadata": {},
   "outputs": [
    {
     "name": "stdout",
     "output_type": "stream",
     "text": [
      "HelloHelloHello\n"
     ]
    }
   ],
   "source": [
    "a = \"Hello\"\n",
    " \n",
    "print(a * 3)\n"
   ]
  },
  {
   "cell_type": "markdown",
   "id": "8147551d",
   "metadata": {},
   "source": [
    "Replace method"
   ]
  },
  {
   "cell_type": "code",
   "execution_count": 7,
   "id": "9fb33d9c",
   "metadata": {},
   "outputs": [
    {
     "name": "stdout",
     "output_type": "stream",
     "text": [
      "Hello world, I am learning strings\n"
     ]
    }
   ],
   "source": [
    "a = \"Hello world, I am learning python\"\n",
    "\n",
    "print(a.replace(\"python\",\"strings\"))"
   ]
  },
  {
   "cell_type": "markdown",
   "id": "b80d7bde",
   "metadata": {},
   "source": [
    "Index method"
   ]
  },
  {
   "cell_type": "code",
   "execution_count": 9,
   "id": "694a701d",
   "metadata": {},
   "outputs": [
    {
     "name": "stdout",
     "output_type": "stream",
     "text": [
      "2\n",
      "1\n"
     ]
    }
   ],
   "source": [
    "a = \"Hey there\"\n",
    "\n",
    "print(a.index(\"y\"))\n",
    "print(a.index(\"e\"))"
   ]
  },
  {
   "cell_type": "markdown",
   "id": "ad1b833b",
   "metadata": {},
   "source": [
    "Find method"
   ]
  },
  {
   "cell_type": "code",
   "execution_count": 11,
   "id": "4e7e73aa",
   "metadata": {},
   "outputs": [
    {
     "name": "stdout",
     "output_type": "stream",
     "text": [
      "-1\n",
      "9\n"
     ]
    }
   ],
   "source": [
    "a = \"Learning Python\"\n",
    "\n",
    "print(a.find(\"p\"))\n",
    "print(a.find(\"P\"))"
   ]
  }
 ],
 "metadata": {
  "kernelspec": {
   "display_name": "Python 3",
   "language": "python",
   "name": "python3"
  },
  "language_info": {
   "codemirror_mode": {
    "name": "ipython",
    "version": 3
   },
   "file_extension": ".py",
   "mimetype": "text/x-python",
   "name": "python",
   "nbconvert_exporter": "python",
   "pygments_lexer": "ipython3",
   "version": "3.10.9"
  }
 },
 "nbformat": 4,
 "nbformat_minor": 5
}
