{
 "cells": [
  {
   "cell_type": "markdown",
   "id": "53f686fd",
   "metadata": {},
   "source": [
    "# Question1:\n",
    "String methods:\n",
    "\n",
    "a. Create a string variable sentence with any sentence of your choice.\n",
    "\n",
    "b. Convert the sentence into uppercase.\n",
    "\n",
    "c. Split the sentence into list of words.\n",
    "\n",
    "d. Join the words in the list using a space as the seperator\n",
    "\n",
    "e. Print the modified sentence"
   ]
  },
  {
   "cell_type": "code",
   "execution_count": null,
   "id": "578d68e3",
   "metadata": {},
   "outputs": [
    {
     "name": "stdout",
     "output_type": "stream",
     "text": [
      "Old Is Gold\n"
     ]
    }
   ],
   "source": [
    "my_sentence = \"Old Is Gold\"\n",
    "\n",
    "#converting into uppercase-\n",
    "print(my_sentence.upper())\n",
    "\n",
    "#splitting the sentence into list of words-\n",
    "new_list = my_sentence.split(sep=\" \")\n",
    "\n",
    "#joining the words with \" \"(space)\n",
    "new_string = \" \".join(new_list)\n",
    "\n",
    "#printing the final result\n",
    "print(my_sentence)\n",
    "\n"
   ]
  },
  {
   "cell_type": "markdown",
   "id": "058531a6",
   "metadata": {},
   "source": [
    "# Question2:\n",
    "List Sorting:\n",
    "\n",
    "a. Create a list named ages containing integers representing ages of individuals \n",
    "\n",
    "b. Sort the list in ascending order.\n",
    "\n",
    "c. Sort the list in descending order.\n",
    "\n",
    "d. Print the sorted lists.\n"
   ]
  },
  {
   "cell_type": "code",
   "execution_count": 11,
   "id": "5ccf6a21",
   "metadata": {},
   "outputs": [
    {
     "name": "stdout",
     "output_type": "stream",
     "text": [
      "[9, 11, 21, 23, 34, 45, 66]\n",
      "[66, 45, 34, 23, 21, 11, 9]\n"
     ]
    }
   ],
   "source": [
    "ages = [23, 45, 11, 9, 34, 66, 21]\n",
    "\n",
    "#this will sort the list in asc order:\n",
    "ages.sort()\n",
    "print(ages)\n",
    "\n",
    "#this will sort the list in desc order:\n",
    "ages.sort(reverse=True)\n",
    "print(ages)"
   ]
  }
 ],
 "metadata": {
  "kernelspec": {
   "display_name": "Python 3",
   "language": "python",
   "name": "python3"
  },
  "language_info": {
   "codemirror_mode": {
    "name": "ipython",
    "version": 3
   },
   "file_extension": ".py",
   "mimetype": "text/x-python",
   "name": "python",
   "nbconvert_exporter": "python",
   "pygments_lexer": "ipython3",
   "version": "3.10.9"
  }
 },
 "nbformat": 4,
 "nbformat_minor": 5
}
