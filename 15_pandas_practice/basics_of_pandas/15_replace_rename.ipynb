{
 "cells": [
  {
   "cell_type": "markdown",
   "id": "e9e341d2",
   "metadata": {},
   "source": [
    "Renaming Inconsistent Values"
   ]
  },
  {
   "cell_type": "code",
   "execution_count": 21,
   "id": "930aff3d",
   "metadata": {},
   "outputs": [
    {
     "name": "stdout",
     "output_type": "stream",
     "text": [
      "    Name  Gender    Score\n",
      "0   Amit    Male       85\n",
      "1  Priya       F        ?\n",
      "2   John       M       90\n",
      "3   Neha  Female       88\n",
      "4   Ravi     n/a  unknown\n"
     ]
    }
   ],
   "source": [
    "import pandas as pd\n",
    "\n",
    "data = {\n",
    "    'Name': ['Amit', 'Priya', 'John', 'Neha', 'Ravi'],\n",
    "    'Gender': ['Male', 'F', 'M', 'Female', 'n/a'],\n",
    "    'Score': [85, '?', 90, 88, 'unknown']\n",
    "}\n",
    "\n",
    "df = pd.DataFrame(data)\n",
    "print(df)"
   ]
  },
  {
   "cell_type": "markdown",
   "id": "36f673e0",
   "metadata": {},
   "source": [
    "Replace one specific value"
   ]
  },
  {
   "cell_type": "code",
   "execution_count": 22,
   "id": "b73bb67d",
   "metadata": {},
   "outputs": [
    {
     "name": "stdout",
     "output_type": "stream",
     "text": [
      "    Name  Gender    Score\n",
      "0   Amit    Male       85\n",
      "1  Priya       F        0\n",
      "2   John       M       90\n",
      "3   Neha  Female       88\n",
      "4   Ravi     n/a  unknown\n"
     ]
    }
   ],
   "source": [
    "print(df.replace(\"?\",0))"
   ]
  },
  {
   "cell_type": "markdown",
   "id": "459954d4",
   "metadata": {},
   "source": [
    "Replacing more than one values at once"
   ]
  },
  {
   "cell_type": "code",
   "execution_count": 23,
   "id": "16e5003c",
   "metadata": {},
   "outputs": [
    {
     "name": "stdout",
     "output_type": "stream",
     "text": [
      "    Name   Gender    Score\n",
      "0   Amit     Male       85\n",
      "1  Priya   Female        0\n",
      "2   John     Male       90\n",
      "3   Neha   Female       88\n",
      "4   Ravi  Unknown  unknown\n"
     ]
    }
   ],
   "source": [
    "print(df.replace({\"M\":\"Male\",\"F\":\"Female\",\"?\":0,\"n/a\":\"Unknown\"}))"
   ]
  },
  {
   "cell_type": "markdown",
   "id": "a89c5316",
   "metadata": {},
   "source": [
    "### Practice Tasks"
   ]
  },
  {
   "cell_type": "markdown",
   "id": "54ecd376",
   "metadata": {},
   "source": [
    "Q1: Replace '?' and 'unknown' in the 'Score' column with 0\n",
    "\n",
    "Q2: Standardize 'Gender' column by replacing 'F' → 'Female', 'M' → 'Male', 'n/a' → 'Other'"
   ]
  },
  {
   "cell_type": "code",
   "execution_count": 24,
   "id": "c8212328",
   "metadata": {},
   "outputs": [
    {
     "name": "stdout",
     "output_type": "stream",
     "text": [
      "int64\n",
      "0      Male\n",
      "1    Female\n",
      "2      Male\n",
      "3    Female\n",
      "4     Other\n",
      "Name: Gender, dtype: object\n"
     ]
    },
    {
     "name": "stderr",
     "output_type": "stream",
     "text": [
      "C:\\Users\\Hurshita Gupta\\AppData\\Local\\Temp\\ipykernel_15428\\581619031.py:12: FutureWarning: A value is trying to be set on a copy of a DataFrame or Series through chained assignment using an inplace method.\n",
      "The behavior will change in pandas 3.0. This inplace method will never work because the intermediate object on which we are setting values always behaves as a copy.\n",
      "\n",
      "For example, when doing 'df[col].method(value, inplace=True)', try using 'df.method({col: value}, inplace=True)' or df[col] = df[col].method(value) instead, to perform the operation inplace on the original object.\n",
      "\n",
      "\n",
      "  df[\"Score\"].replace({\"?\":0,\"unknown\":0},inplace=True)\n",
      "C:\\Users\\Hurshita Gupta\\AppData\\Local\\Temp\\ipykernel_15428\\581619031.py:12: FutureWarning: Downcasting behavior in `replace` is deprecated and will be removed in a future version. To retain the old behavior, explicitly call `result.infer_objects(copy=False)`. To opt-in to the future behavior, set `pd.set_option('future.no_silent_downcasting', True)`\n",
      "  df[\"Score\"].replace({\"?\":0,\"unknown\":0},inplace=True)\n"
     ]
    }
   ],
   "source": [
    "import pandas as pd\n",
    "\n",
    "data = {\n",
    "    'Name': ['Amit', 'Priya', 'John', 'Neha', 'Ravi'],\n",
    "    'Gender': ['Male', 'F', 'M', 'Female', 'n/a'],\n",
    "    'Score': [85, '?', 90, 88, 'unknown']\n",
    "}\n",
    "\n",
    "df = pd.DataFrame(data)\n",
    "\n",
    "#ques 1\n",
    "df[\"Score\"].replace({\"?\":0,\"unknown\":0},inplace=True)\n",
    "print(df['Score'].dtype)\n",
    "# df[\"Score\"] = score\n",
    "# print(df['Score'].astype(int))\n",
    "\n",
    "#ques 2\n",
    "print(df[\"Gender\"].replace({\"F\":\"Female\",\"M\":\"Male\",\"n/a\":\"Other\"}))"
   ]
  },
  {
   "cell_type": "markdown",
   "id": "5e1dccfd",
   "metadata": {},
   "source": [
    "Renaming"
   ]
  },
  {
   "cell_type": "markdown",
   "id": "f3421616",
   "metadata": {},
   "source": [
    "Renaming the columns"
   ]
  },
  {
   "cell_type": "code",
   "execution_count": 25,
   "id": "cde312c2",
   "metadata": {},
   "outputs": [
    {
     "name": "stdout",
     "output_type": "stream",
     "text": [
      "       Std Name  Maths   Eng  Sci\n",
      "st_001     Amit      85   88   82\n",
      "st_002    Priya      90   92   89\n",
      "st_003     John      78   80   85\n"
     ]
    }
   ],
   "source": [
    "import pandas as pd\n",
    "\n",
    "data = {\n",
    "    \"Std Name\": [\"Amit\", \"Priya\", \"John\"],\n",
    "    \"Maths \": [85, 90, 78],\n",
    "    \"Eng\": [88, 92, 80],\n",
    "    \"Sci\": [82, 89, 85]\n",
    "}\n",
    "\n",
    "df = pd.DataFrame(data, index=[\"st_001\", \"st_002\", \"st_003\"])\n",
    "print(df)\n"
   ]
  },
  {
   "cell_type": "markdown",
   "id": "82b25ceb",
   "metadata": {},
   "source": [
    "### Practice Tasks"
   ]
  },
  {
   "cell_type": "markdown",
   "id": "99b82a65",
   "metadata": {},
   "source": [
    "Q1. Rename \"Std Name\" to \"Name\"\n",
    "\n",
    "Q2. Rename \"Maths \" to \"Maths\" (remove the space)\n",
    "\n",
    "Q3. Rename \"Eng\" and \"Sci\" to \"English\" and \"Science\"\n",
    "\n",
    "Q4. Rename index \"st_001\" → \"S1\", \"st_002\" → \"S2\", and \"st_003\" → \"S3\"\n",
    "\n",
    "Q5. Reset the index (convert row labels to default numbers)"
   ]
  },
  {
   "cell_type": "code",
   "execution_count": 36,
   "id": "a45cd17f",
   "metadata": {},
   "outputs": [
    {
     "name": "stdout",
     "output_type": "stream",
     "text": [
      "         Name  Math  English  Science\n",
      "st_001   Amit    85       88       82\n",
      "st_002  Priya    90       92       89\n",
      "st_003   John    78       80       85\n",
      "         Name  Math  English  Science\n",
      "st_001   Amit    85       88       82\n",
      "st_002  Priya    90       92       89\n",
      "st_003   John    78       80       85\n",
      "         Name  Math  English  Science\n",
      "st_001   Amit    85       88       82\n",
      "st_002  Priya    90       92       89\n",
      "st_003   John    78       80       85\n",
      "     Name  Math  English  Science\n",
      "S1   Amit    85       88       82\n",
      "S2  Priya    90       92       89\n",
      "S3   John    78       80       85\n",
      "    Name  Math  English  Science\n",
      "0   Amit    85       88       82\n",
      "1  Priya    90       92       89\n",
      "2   John    78       80       85\n"
     ]
    }
   ],
   "source": [
    "#q1 - change std name to name\n",
    "df.rename(columns={\"Std Name\":\"Name\"},inplace=True)\n",
    "print(df)\n",
    "\n",
    "#q2 - remove space from maths\n",
    "df.rename(columns={\"Maths \":\"Math\"},inplace=True)\n",
    "print(df)\n",
    "\n",
    "#q3 - rename eng and sci\n",
    "df.rename(columns={\"Eng\":\"English\",\"Sci\":\"Science\"},inplace=True)\n",
    "print(df)\n",
    "\n",
    "#q4 - rename index st_001 to s1\n",
    "df.rename({\"st_001\":\"S1\",\"st_002\":\"S2\",\"st_003\":\"S3\"},axis=0,inplace=True)\n",
    "print(df)\n",
    "\n",
    "#q5 - reset the index\n",
    "print(df.reset_index(drop=True))"
   ]
  },
  {
   "cell_type": "code",
   "execution_count": null,
   "id": "0f09a3d7",
   "metadata": {},
   "outputs": [],
   "source": [
    "df.rename(index={\"stud_2\":\"Student 2\"}, columns={\"Eng\":\"English\",\"Maths\":\"Math\"})"
   ]
  }
 ],
 "metadata": {
  "kernelspec": {
   "display_name": "Python 3",
   "language": "python",
   "name": "python3"
  },
  "language_info": {
   "codemirror_mode": {
    "name": "ipython",
    "version": 3
   },
   "file_extension": ".py",
   "mimetype": "text/x-python",
   "name": "python",
   "nbconvert_exporter": "python",
   "pygments_lexer": "ipython3",
   "version": "3.10.9"
  }
 },
 "nbformat": 4,
 "nbformat_minor": 5
}
