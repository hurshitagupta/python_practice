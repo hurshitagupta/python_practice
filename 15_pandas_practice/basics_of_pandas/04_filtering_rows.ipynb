{
 "cells": [
  {
   "cell_type": "markdown",
   "id": "85237133",
   "metadata": {},
   "source": [
    "Filtering Rows in Pandas"
   ]
  },
  {
   "cell_type": "code",
   "execution_count": 4,
   "id": "ea64ca07",
   "metadata": {},
   "outputs": [
    {
     "name": "stdout",
     "output_type": "stream",
     "text": [
      "     Name Fav Food      Fav Song\n",
      "0    Riya    Pizza      Memories\n",
      "1   Aarav   Burger    Photograph\n",
      "2   Komal    Pizza      Sapphire\n",
      "3  Mayank     Cake  Dance Monkey\n",
      "4    Riya   Burger    Photograph\n"
     ]
    }
   ],
   "source": [
    "import pandas as pd\n",
    "\n",
    "data = {\n",
    "    \"Name\": [\"Riya\", \"Aarav\", \"Komal\", \"Mayank\", \"Riya\"],\n",
    "    \"Fav Food\": [\"Pizza\", \"Burger\", \"Pizza\", \"Cake\", \"Burger\"],\n",
    "    \"Fav Song\": [\"Memories\", \"Photograph\", \"Sapphire\", \"Dance Monkey\", \"Photograph\"]\n",
    "}\n",
    "\n",
    "df = pd.DataFrame(data)\n",
    "print(df)"
   ]
  },
  {
   "cell_type": "markdown",
   "id": "62bbda34",
   "metadata": {},
   "source": [
    "Access the name of those people who loves Pizza"
   ]
  },
  {
   "cell_type": "code",
   "execution_count": 5,
   "id": "a021ef59",
   "metadata": {},
   "outputs": [
    {
     "name": "stdout",
     "output_type": "stream",
     "text": [
      "    Name Fav Food  Fav Song\n",
      "0   Riya    Pizza  Memories\n",
      "2  Komal    Pizza  Sapphire\n"
     ]
    }
   ],
   "source": [
    "pizza_lovers = df[df[\"Fav Food\"] == \"Pizza\"]\n",
    "print(pizza_lovers)"
   ]
  },
  {
   "cell_type": "markdown",
   "id": "bc77cc90",
   "metadata": {},
   "source": [
    "People who love Burger or Cake"
   ]
  },
  {
   "cell_type": "code",
   "execution_count": 7,
   "id": "15b2d389",
   "metadata": {},
   "outputs": [
    {
     "name": "stdout",
     "output_type": "stream",
     "text": [
      "     Name Fav Food      Fav Song\n",
      "1   Aarav   Burger    Photograph\n",
      "3  Mayank     Cake  Dance Monkey\n",
      "4    Riya   Burger    Photograph\n"
     ]
    }
   ],
   "source": [
    "cake_or_burger = df[(df[\"Fav Food\"] == \"Cake\") | (df[\"Fav Food\"] == \"Burger\")]\n",
    "print(cake_or_burger)"
   ]
  },
  {
   "cell_type": "markdown",
   "id": "3fddcfcf",
   "metadata": {},
   "source": [
    "Friends named Riya and loves Burger"
   ]
  },
  {
   "cell_type": "code",
   "execution_count": 9,
   "id": "781451ef",
   "metadata": {},
   "outputs": [
    {
     "name": "stdout",
     "output_type": "stream",
     "text": [
      "   Name Fav Food    Fav Song\n",
      "4  Riya   Burger  Photograph\n"
     ]
    }
   ],
   "source": [
    "riya_burger = df[(df[\"Name\"] == \"Riya\") & (df[\"Fav Food\"] == \"Burger\")]\n",
    "print(riya_burger)"
   ]
  },
  {
   "cell_type": "markdown",
   "id": "30101e6a",
   "metadata": {},
   "source": [
    "People whose Fav song is either Photograph or Memories"
   ]
  },
  {
   "cell_type": "code",
   "execution_count": 13,
   "id": "84f04a91",
   "metadata": {},
   "outputs": [
    {
     "name": "stdout",
     "output_type": "stream",
     "text": [
      "    Name Fav Food    Fav Song\n",
      "0   Riya    Pizza    Memories\n",
      "1  Aarav   Burger  Photograph\n",
      "4   Riya   Burger  Photograph\n"
     ]
    }
   ],
   "source": [
    "fav_song =df[df[\"Fav Song\"].isin([\"Photograph\",\"Memories\"])]\n",
    "print(fav_song)"
   ]
  },
  {
   "cell_type": "markdown",
   "id": "f4ddff5f",
   "metadata": {},
   "source": [
    "Show rows where Fav Food is \"Burger\""
   ]
  },
  {
   "cell_type": "code",
   "execution_count": 14,
   "id": "150b0dc6",
   "metadata": {},
   "outputs": [
    {
     "name": "stdout",
     "output_type": "stream",
     "text": [
      "    Name Fav Food    Fav Song\n",
      "1  Aarav   Burger  Photograph\n",
      "4   Riya   Burger  Photograph\n"
     ]
    }
   ],
   "source": [
    "burger = df[df[\"Fav Food\"] == \"Burger\"]\n",
    "print(burger)"
   ]
  },
  {
   "cell_type": "markdown",
   "id": "ed0ada09",
   "metadata": {},
   "source": [
    "Show rows where Name is \"Riya\""
   ]
  },
  {
   "cell_type": "code",
   "execution_count": 15,
   "id": "09e15be5",
   "metadata": {},
   "outputs": [
    {
     "name": "stdout",
     "output_type": "stream",
     "text": [
      "   Name Fav Food    Fav Song\n",
      "0  Riya    Pizza    Memories\n",
      "4  Riya   Burger  Photograph\n"
     ]
    }
   ],
   "source": [
    "name_is_riya = df[df[\"Name\"] == \"Riya\"]\n",
    "print(name_is_riya)"
   ]
  },
  {
   "cell_type": "markdown",
   "id": "9c06a832",
   "metadata": {},
   "source": [
    "Show rows where Fav Song is either \"Sapphire\" or \"Dance Monkey\""
   ]
  },
  {
   "cell_type": "code",
   "execution_count": 16,
   "id": "1d35e0d1",
   "metadata": {},
   "outputs": [
    {
     "name": "stdout",
     "output_type": "stream",
     "text": [
      "     Name Fav Food      Fav Song\n",
      "2   Komal    Pizza      Sapphire\n",
      "3  Mayank     Cake  Dance Monkey\n"
     ]
    }
   ],
   "source": [
    "fav_songs = df[df[\"Fav Song\"].isin([\"Dance Monkey\",\"Sapphire\"])]\n",
    "print(fav_songs)"
   ]
  },
  {
   "cell_type": "markdown",
   "id": "c8601701",
   "metadata": {},
   "source": [
    "Show rows where Name is \"Komal\" and Fav Food is \"Pizza\""
   ]
  },
  {
   "cell_type": "code",
   "execution_count": 17,
   "id": "21cfaca0",
   "metadata": {},
   "outputs": [
    {
     "name": "stdout",
     "output_type": "stream",
     "text": [
      "    Name Fav Food  Fav Song\n",
      "2  Komal    Pizza  Sapphire\n"
     ]
    }
   ],
   "source": [
    "komal_pizza = df[(df[\"Name\"]==\"Komal\") & (df[\"Fav Food\"]==\"Pizza\")]\n",
    "print(komal_pizza)"
   ]
  },
  {
   "cell_type": "markdown",
   "id": "f4fa9118",
   "metadata": {},
   "source": [
    "### Practice Tasks"
   ]
  },
  {
   "cell_type": "markdown",
   "id": "f58dfcc3",
   "metadata": {},
   "source": [
    "Add 2 columns named \"Age\" and \"Mood\" to your current DataFrame df and perform the following tasks:\n",
    "\n",
    "Show only rows where age is greater than 20.\n",
    "\n",
    "Show name and mood of people whose fav food is not Burger.\n",
    "\n",
    "Filter rows where mood is either Happy or Excited.\n",
    "\n",
    "Update Komal’s mood to “Sleepy”."
   ]
  },
  {
   "cell_type": "code",
   "execution_count": 48,
   "id": "7f03c763",
   "metadata": {},
   "outputs": [
    {
     "name": "stdout",
     "output_type": "stream",
     "text": [
      "     Name Fav Food      Fav Song  Age      Mood\n",
      "0    Riya    Pizza      Memories   19     Happy\n",
      "1   Aarav   Burger    Photograph   22      Lazy\n",
      "2   Komal    Pizza      Sapphire   18   Excited\n",
      "3  Mayank     Cake  Dance Monkey   25     Bored\n",
      "4    Riya   Burger    Photograph   21  Cheerful\n",
      "     Name Fav Food      Fav Song  Age      Mood\n",
      "1   Aarav   Burger    Photograph   22      Lazy\n",
      "3  Mayank     Cake  Dance Monkey   25     Bored\n",
      "4    Riya   Burger    Photograph   21  Cheerful\n",
      "     Name Fav Food      Fav Song  Age     Mood\n",
      "0    Riya    Pizza      Memories   19    Happy\n",
      "2   Komal    Pizza      Sapphire   18  Excited\n",
      "3  Mayank     Cake  Dance Monkey   25    Bored\n",
      "    Name Fav Food  Fav Song  Age     Mood\n",
      "0   Riya    Pizza  Memories   19    Happy\n",
      "2  Komal    Pizza  Sapphire   18  Excited\n",
      "     Name Fav Food      Fav Song  Age      Mood\n",
      "0    Riya    Pizza      Memories   19     Happy\n",
      "1   Aarav   Burger    Photograph   22      Lazy\n",
      "2   Komal    Pizza      Sapphire   18    Sleepy\n",
      "3  Mayank     Cake  Dance Monkey   25     Bored\n",
      "4    Riya   Burger    Photograph   21  Cheerful\n"
     ]
    }
   ],
   "source": [
    "#adding two columns age and mood\n",
    "\n",
    "df[\"Age\"] = [19,22,18,25,21]\n",
    "df[\"Mood\"] = [\"Happy\", \"Lazy\", \"Excited\", \"Bored\", \"Cheerful\"]\n",
    "\n",
    "print(df)\n",
    "\n",
    "# Show only rows where age is greater than 20.\n",
    "\n",
    "age_20 = df[df[\"Age\"] > 20]\n",
    "print(age_20)\n",
    "\n",
    "# Show name and mood of people whose fav food is not Burger.\n",
    "\n",
    "not_burger = df[df[\"Fav Food\"] != \"Burger\"]\n",
    "print(not_burger)\n",
    "\n",
    "# Filter rows where mood is either Happy or Excited.\n",
    "\n",
    "happy_excited = df[df[\"Mood\"].isin([\"Happy\",\"Excited\"])]\n",
    "print(happy_excited)\n",
    "\n",
    "# Update Komal’s mood to “Sleepy”.\n",
    "\n",
    "df.loc[df[\"Name\"] == \"Komal\", \"Mood\"] = \"Sleepy\"\n",
    "print(df)"
   ]
  }
 ],
 "metadata": {
  "kernelspec": {
   "display_name": "Python 3",
   "language": "python",
   "name": "python3"
  },
  "language_info": {
   "codemirror_mode": {
    "name": "ipython",
    "version": 3
   },
   "file_extension": ".py",
   "mimetype": "text/x-python",
   "name": "python",
   "nbconvert_exporter": "python",
   "pygments_lexer": "ipython3",
   "version": "3.10.9"
  }
 },
 "nbformat": 4,
 "nbformat_minor": 5
}
