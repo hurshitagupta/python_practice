{
 "cells": [
  {
   "cell_type": "markdown",
   "id": "57ba2b1c",
   "metadata": {},
   "source": [
    "### Groupby in Pandas"
   ]
  },
  {
   "cell_type": "markdown",
   "id": "1d088272",
   "metadata": {},
   "source": [
    "Practice Questions : "
   ]
  },
  {
   "cell_type": "markdown",
   "id": "5b3846b1",
   "metadata": {},
   "source": [
    "Group by Product and find the total Price per product.\n",
    "\n",
    "Group by Product and calculate the average Quantity per product.\n",
    "\n",
    "Group by Product and find the total sales (Price × Quantity).\n",
    "\n",
    "Find the highest sale amount (Total Sales) per product using groupby."
   ]
  },
  {
   "cell_type": "code",
   "execution_count": 7,
   "id": "797b4599",
   "metadata": {},
   "outputs": [
    {
     "name": "stdout",
     "output_type": "stream",
     "text": [
      "   Product  Price  Quantity\n",
      "0   Laptop  75000         2\n",
      "1    Phone  30000         3\n",
      "2   Laptop  80000         1\n",
      "3   Tablet  20000         4\n",
      "4    Phone  28000         2\n",
      "5  Speaker   7000         5\n",
      "Product\n",
      "Laptop     155000\n",
      "Phone       58000\n",
      "Speaker      7000\n",
      "Tablet      20000\n",
      "Name: Price, dtype: int64\n",
      "Product\n",
      "Laptop     1.5\n",
      "Phone      2.5\n",
      "Speaker    5.0\n",
      "Tablet     4.0\n",
      "Name: Quantity, dtype: float64\n",
      "   Product  Price  Quantity  Total Sales\n",
      "0   Laptop  75000         2       150000\n",
      "1    Phone  30000         3        90000\n",
      "2   Laptop  80000         1        80000\n",
      "3   Tablet  20000         4        80000\n",
      "4    Phone  28000         2        56000\n",
      "5  Speaker   7000         5        35000\n",
      "Product\n",
      "Laptop     230000\n",
      "Phone      146000\n",
      "Speaker     35000\n",
      "Tablet      80000\n",
      "Name: Total Sales, dtype: int64\n",
      "Product\n",
      "Laptop     150000\n",
      "Phone       90000\n",
      "Speaker     35000\n",
      "Tablet      80000\n",
      "Name: Total Sales, dtype: int64\n"
     ]
    }
   ],
   "source": [
    "import pandas as pd\n",
    "\n",
    "df = pd.DataFrame({\n",
    "    \"Product\": [\"Laptop\", \"Phone\", \"Laptop\", \"Tablet\", \"Phone\", \"Speaker\"],\n",
    "    \"Price\": [75000, 30000, 80000, 20000, 28000, 7000],\n",
    "    \"Quantity\": [2, 3, 1, 4, 2, 5]\n",
    "})\n",
    "\n",
    "print(df)\n",
    "\n",
    "# Group by Product and find the total Price per product.\n",
    "\n",
    "sum = df.groupby(\"Product\")[\"Price\"].sum()\n",
    "print(sum)\n",
    "\n",
    "# Group by Product and calculate the average Quantity per product.\n",
    "\n",
    "avg = df.groupby(\"Product\")[\"Quantity\"].mean()\n",
    "print(avg)\n",
    "\n",
    "# Group by Product and find the total sales (Price × Quantity).\n",
    "\n",
    "df[\"Total Sales\"] = df[\"Price\"]*df[\"Quantity\"]\n",
    "print(df)\n",
    "\n",
    "ts = df.groupby(\"Product\")[\"Total Sales\"].sum()\n",
    "print(ts)\n",
    "\n",
    "# Find the highest sale amount (Total Sales) per product using groupby.\n",
    "\n",
    "max_amt = df.groupby(\"Product\")[\"Total Sales\"].max()\n",
    "print(max_amt)"
   ]
  }
 ],
 "metadata": {
  "kernelspec": {
   "display_name": "Python 3",
   "language": "python",
   "name": "python3"
  },
  "language_info": {
   "codemirror_mode": {
    "name": "ipython",
    "version": 3
   },
   "file_extension": ".py",
   "mimetype": "text/x-python",
   "name": "python",
   "nbconvert_exporter": "python",
   "pygments_lexer": "ipython3",
   "version": "3.10.9"
  }
 },
 "nbformat": 4,
 "nbformat_minor": 5
}
