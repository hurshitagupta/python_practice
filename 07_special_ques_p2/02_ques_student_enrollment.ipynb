{
 "cells": [
  {
   "cell_type": "markdown",
   "id": "a5d597b9",
   "metadata": {},
   "source": [
    "# Question\n",
    "Student Enrollment Status\n",
    "\n",
    "You are managing student enrollment for a course and want to determine their enrollment status based on their course credits. Create a program that:\n",
    "\n",
    "1) asks the user to input the number of students\n",
    "2) asks the user to input the course credits for each student, storing them in a list.\n",
    "3) determine the enrollment status for each student:\n",
    "\"Full Time\" if course credits are greater than or equal to 12\n",
    "\"Part Time\" if course credits are less than 12\n",
    "4) print out the enrollment status for each student\n"
   ]
  },
  {
   "cell_type": "code",
   "execution_count": 5,
   "id": "431810bb",
   "metadata": {},
   "outputs": [
    {
     "name": "stdout",
     "output_type": "stream",
     "text": [
      "[20, 67, 21, 10, 4]\n",
      "['Full-Time', 'Full-Time', 'Full-Time', 'Part-time', 'Part-time']\n"
     ]
    }
   ],
   "source": [
    "num_of_students = int(input(\"Enter the number of students: \"))\n",
    "\n",
    "list_of_course_credits = []\n",
    "enrollment_status_list = []\n",
    "for student in range(1,num_of_students+1):\n",
    "    course_credit = int(input(f\"Enter the course credit for student{student}\"))\n",
    "    list_of_course_credits.append(course_credit)\n",
    "    if course_credit>= 12:\n",
    "        enrollment_status_list.append(\"Full-Time\")\n",
    "    else:\n",
    "        enrollment_status_list.append(\"Part-time\")\n",
    "\n",
    "print(list_of_course_credits)\n",
    "print(enrollment_status_list)\n",
    "\n"
   ]
  }
 ],
 "metadata": {
  "kernelspec": {
   "display_name": "Python 3",
   "language": "python",
   "name": "python3"
  },
  "language_info": {
   "codemirror_mode": {
    "name": "ipython",
    "version": 3
   },
   "file_extension": ".py",
   "mimetype": "text/x-python",
   "name": "python",
   "nbconvert_exporter": "python",
   "pygments_lexer": "ipython3",
   "version": "3.10.9"
  }
 },
 "nbformat": 4,
 "nbformat_minor": 5
}
