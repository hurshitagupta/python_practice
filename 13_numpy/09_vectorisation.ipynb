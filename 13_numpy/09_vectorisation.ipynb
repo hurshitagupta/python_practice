{
 "cells": [
  {
   "cell_type": "markdown",
   "id": "c6cda884",
   "metadata": {},
   "source": [
    "#### Vectorisation"
   ]
  },
  {
   "cell_type": "markdown",
   "id": "bc8bcafe",
   "metadata": {},
   "source": [
    "NumPy vectorization involves performing mathematical operations on entire arrays, eliminating the need to loop through individual elements."
   ]
  },
  {
   "cell_type": "markdown",
   "id": "dcaa787d",
   "metadata": {},
   "source": [
    "Adding two arrays"
   ]
  },
  {
   "cell_type": "code",
   "execution_count": 18,
   "id": "c86b70d0",
   "metadata": {},
   "outputs": [
    {
     "name": "stdout",
     "output_type": "stream",
     "text": [
      "[ 60  80 100 120]\n"
     ]
    }
   ],
   "source": [
    "import numpy as np\n",
    "\n",
    "arr1 = np.array([10,20,30,40])\n",
    "arr2 = np.array([50,60,70,80])\n",
    "\n",
    "#printing the sum of 2 arrays-\n",
    "print(arr1+arr2)"
   ]
  },
  {
   "cell_type": "markdown",
   "id": "4e252a3d",
   "metadata": {},
   "source": [
    "Multiplying array with a single element"
   ]
  },
  {
   "cell_type": "code",
   "execution_count": 19,
   "id": "b5504f80",
   "metadata": {},
   "outputs": [
    {
     "name": "stdout",
     "output_type": "stream",
     "text": [
      "[ 2  4  6  8 10]\n"
     ]
    }
   ],
   "source": [
    "import numpy as np\n",
    "\n",
    "arr3 = np.array([1,2,3,4,5])\n",
    "arr4 = arr3*2 #multiplies all the elements in arr3 with 2\n",
    "\n",
    "print(arr4)"
   ]
  },
  {
   "cell_type": "markdown",
   "id": "b51bf341",
   "metadata": {},
   "source": [
    "Dividing the whole array with single element"
   ]
  },
  {
   "cell_type": "code",
   "execution_count": 20,
   "id": "71364f7a",
   "metadata": {},
   "outputs": [
    {
     "name": "stdout",
     "output_type": "stream",
     "text": [
      "[ 5. 10. 15.]\n"
     ]
    }
   ],
   "source": [
    "import numpy as np\n",
    "\n",
    "arr5 = np.array([10,20,30])\n",
    "arr6 = arr5/2 #divides all the elements of arr5 with 2\n",
    "\n",
    "print(arr6)"
   ]
  },
  {
   "cell_type": "markdown",
   "id": "f7e43079",
   "metadata": {},
   "source": [
    "Subtracting the array using single element"
   ]
  },
  {
   "cell_type": "code",
   "execution_count": 21,
   "id": "86ba93f0",
   "metadata": {},
   "outputs": [
    {
     "name": "stdout",
     "output_type": "stream",
     "text": [
      "[ 1  4  9 16]\n"
     ]
    }
   ],
   "source": [
    "import numpy as np\n",
    "\n",
    "arr = np.array([1,2,3,4])\n",
    "resluting_array = arr**2 #it will provide the square of elements in array\n",
    "\n",
    "print(resluting_array)"
   ]
  }
 ],
 "metadata": {
  "kernelspec": {
   "display_name": "Python 3",
   "language": "python",
   "name": "python3"
  },
  "language_info": {
   "codemirror_mode": {
    "name": "ipython",
    "version": 3
   },
   "file_extension": ".py",
   "mimetype": "text/x-python",
   "name": "python",
   "nbconvert_exporter": "python",
   "pygments_lexer": "ipython3",
   "version": "3.10.9"
  }
 },
 "nbformat": 4,
 "nbformat_minor": 5
}
