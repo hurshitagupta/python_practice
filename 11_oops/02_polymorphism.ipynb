{
 "cells": [
  {
   "cell_type": "markdown",
   "id": "7edb4e70",
   "metadata": {},
   "source": [
    "Polymorphism"
   ]
  },
  {
   "cell_type": "markdown",
   "id": "15d39b89",
   "metadata": {},
   "source": [
    "In Python, polymorphism enables us to write more flexible and reusable code by allowing objects of different classes to be treated as objects of a common superclass. This fundamental OOP principle makes code more modular, extensible, and easier to maintain.\n"
   ]
  },
  {
   "cell_type": "code",
   "execution_count": null,
   "id": "503ee4af",
   "metadata": {},
   "outputs": [
    {
     "name": "stdout",
     "output_type": "stream",
     "text": [
      "the bird is flying.\n",
      "The aeroplane is flying.\n"
     ]
    }
   ],
   "source": [
    "#creating class bird\n",
    "class Bird:\n",
    "\n",
    "    def fly(self):\n",
    "        print(\"the bird is flying.\")\n",
    "\n",
    "#creating class aeroplane\n",
    "class Aeroplane:\n",
    "\n",
    "    def fly(self):\n",
    "        print(\"The aeroplane is flying.\")\n",
    "\n",
    "#creating object for Bird class\n",
    "\n",
    "eagle = Bird()\n",
    "\n",
    "#creating object for aeroplane class\n",
    "\n",
    "indigo = Aeroplane()\n",
    "\n",
    "#calling the methods for each class with their respective objects\n",
    "\n",
    "eagle.fly()\n",
    "indigo.fly()\n",
    "#method name is same but does their respective function as defined in each class\n"
   ]
  },
  {
   "cell_type": "markdown",
   "id": "3cae0f33",
   "metadata": {},
   "source": [
    "Runtime Polymorphism"
   ]
  },
  {
   "cell_type": "code",
   "execution_count": 4,
   "id": "ecd2d5ca",
   "metadata": {},
   "outputs": [
    {
     "name": "stdout",
     "output_type": "stream",
     "text": [
      "animals make different types of sound..\n",
      "dogs bark.\n",
      "cat meows.\n"
     ]
    }
   ],
   "source": [
    "#this is the parent class from which children will inherit\n",
    "class Animal:\n",
    "\n",
    "    def sound(self):\n",
    "        print(\"animals make different types of sound..\")\n",
    "\n",
    "\n",
    "#child class1 (inherits from animal)\n",
    "class Dog(Animal):\n",
    "\n",
    "    def sound(self): #func is overrided\n",
    "        print(\"dogs bark.\")\n",
    "\n",
    "#child class2 (inherits from animal)\n",
    "class Cat(Animal):\n",
    "\n",
    "    def sound(self): #func is overrided\n",
    "        print(\"cat meows.\")\n",
    "\n",
    "#creating the objects\n",
    "animal = Animal() #obj for Animal class\n",
    "dog = Dog() #obj for Dog class\n",
    "cat = Cat() #obj for Cat class\n",
    "\n",
    "#calling the methods\n",
    "animal.sound()\n",
    "dog.sound()\n",
    "cat.sound()\n",
    "\n",
    "\n"
   ]
  },
  {
   "cell_type": "markdown",
   "id": "396c2049",
   "metadata": {},
   "source": [
    "Compile Time Polymorphism"
   ]
  },
  {
   "cell_type": "code",
   "execution_count": 6,
   "id": "f03f2fbd",
   "metadata": {},
   "outputs": [
    {
     "name": "stdout",
     "output_type": "stream",
     "text": [
      "12\n",
      "9\n"
     ]
    }
   ],
   "source": [
    "#creating class\n",
    "class Caluclator:\n",
    "\n",
    "    def add(self,a,b,c=7):\n",
    "        print(a+b+c)\n",
    "\n",
    "#creating object\n",
    "calc = Caluclator()\n",
    "\n",
    "#calling the method\n",
    "calc.add(2,3) #c will be 7 as default value is given\n",
    "calc.add(2,3,4) #c will be 4"
   ]
  },
  {
   "cell_type": "markdown",
   "id": "de5720bb",
   "metadata": {},
   "source": [
    "practice example: "
   ]
  },
  {
   "cell_type": "code",
   "execution_count": 7,
   "id": "967deb3c",
   "metadata": {},
   "outputs": [
    {
     "name": "stdout",
     "output_type": "stream",
     "text": [
      "playing media\n",
      "playing audio\n",
      "playing video\n"
     ]
    }
   ],
   "source": [
    "\n",
    "#creating classes\n",
    "class Media_player:\n",
    "\n",
    "    def play(self):\n",
    "        print(\"playing media\")\n",
    "\n",
    "\n",
    "class Audio_player(Media_player):\n",
    "\n",
    "    def play(self):\n",
    "        print(\"playing audio\")\n",
    "\n",
    "class Video_player(Media_player):\n",
    "    def play(self):\n",
    "        print(\"playing video\")\n",
    "\n",
    "#creating objects\n",
    "\n",
    "media = Media_player()\n",
    "audio = Audio_player()\n",
    "video = Video_player()\n",
    "\n",
    "#calling method\n",
    "\n",
    "media.play()\n",
    "audio.play()\n",
    "video.play()"
   ]
  }
 ],
 "metadata": {
  "kernelspec": {
   "display_name": "Python 3",
   "language": "python",
   "name": "python3"
  },
  "language_info": {
   "codemirror_mode": {
    "name": "ipython",
    "version": 3
   },
   "file_extension": ".py",
   "mimetype": "text/x-python",
   "name": "python",
   "nbconvert_exporter": "python",
   "pygments_lexer": "ipython3",
   "version": "3.10.9"
  }
 },
 "nbformat": 4,
 "nbformat_minor": 5
}
