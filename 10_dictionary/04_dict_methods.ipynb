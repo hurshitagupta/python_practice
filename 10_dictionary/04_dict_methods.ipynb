{
 "cells": [
  {
   "cell_type": "markdown",
   "id": "603a5dab",
   "metadata": {},
   "source": [
    "Dictionary Methods"
   ]
  },
  {
   "cell_type": "markdown",
   "id": "4fd58bc6",
   "metadata": {},
   "source": [
    "Length method"
   ]
  },
  {
   "cell_type": "code",
   "execution_count": 1,
   "id": "9379cdd7",
   "metadata": {},
   "outputs": [
    {
     "name": "stdout",
     "output_type": "stream",
     "text": [
      "4\n"
     ]
    }
   ],
   "source": [
    "dict1 = {\n",
    "    \"name\": \"John\",\n",
    "    \"id\":101,\n",
    "    \"color\":\"blue\",\n",
    "    \"year\":2003\n",
    "}\n",
    "\n",
    "print(len(dict1))"
   ]
  },
  {
   "cell_type": "markdown",
   "id": "cb3be829",
   "metadata": {},
   "source": [
    "Keys method"
   ]
  },
  {
   "cell_type": "code",
   "execution_count": 2,
   "id": "1c990d52",
   "metadata": {},
   "outputs": [
    {
     "name": "stdout",
     "output_type": "stream",
     "text": [
      "dict_keys(['name', 'id', 'color', 'year'])\n"
     ]
    }
   ],
   "source": [
    "dict1 = {\n",
    "    \"name\": \"John\",\n",
    "    \"id\":101,\n",
    "    \"color\":\"blue\",\n",
    "    \"year\":2003\n",
    "}\n",
    "\n",
    "print(dict1.keys())"
   ]
  },
  {
   "cell_type": "markdown",
   "id": "c7d8c9cc",
   "metadata": {},
   "source": [
    "Values method"
   ]
  },
  {
   "cell_type": "code",
   "execution_count": 3,
   "id": "1aa09725",
   "metadata": {},
   "outputs": [
    {
     "name": "stdout",
     "output_type": "stream",
     "text": [
      "dict_values(['apple', 'banana', 'cat', 'dog'])\n"
     ]
    }
   ],
   "source": [
    "dict2 = {\n",
    "    \"A\":\"apple\",\n",
    "    \"B\":\"banana\",\n",
    "    \"C\":\"cat\",\n",
    "    \"D\":\"dog\"\n",
    "}\n",
    "\n",
    "print(dict2.values())"
   ]
  },
  {
   "cell_type": "markdown",
   "id": "28868f8d",
   "metadata": {},
   "source": [
    "Changing values in dict"
   ]
  },
  {
   "cell_type": "code",
   "execution_count": 5,
   "id": "911768b4",
   "metadata": {},
   "outputs": [
    {
     "name": "stdout",
     "output_type": "stream",
     "text": [
      "{'name': 'priya', 'age': 23, 'country': 'bharat'}\n",
      "{'name': 'priya', 'age': 30, 'country': 'bharat'}\n"
     ]
    }
   ],
   "source": [
    "a = {\n",
    "    \"name\":\"priya\",\n",
    "    \"age\":23,\n",
    "    \"country\":\"india\"\n",
    "}\n",
    "\n",
    "a[\"country\"]=\"bharat\"\n",
    "print(a)\n",
    "a[\"age\"]=30\n",
    "print(a)"
   ]
  },
  {
   "cell_type": "markdown",
   "id": "efc2e0a3",
   "metadata": {},
   "source": [
    "Adding items in dict"
   ]
  },
  {
   "cell_type": "code",
   "execution_count": 6,
   "id": "29ff4811",
   "metadata": {},
   "outputs": [
    {
     "name": "stdout",
     "output_type": "stream",
     "text": [
      "{'name': 'john', 'age': 23, 'id': 104}\n",
      "{'name': 'john', 'age': 23, 'id': 104, 'city': 'New Delhi', 'phone_number': '8907654231'}\n"
     ]
    }
   ],
   "source": [
    "dict1 = {\n",
    "    \"name\":\"john\",\n",
    "    \"age\":23,\n",
    "    \"id\":104\n",
    "}\n",
    "print(dict1)\n",
    "dict1[\"city\"]= \"New Delhi\"\n",
    "dict1[\"phone_number\"] = \"8907654231\"\n",
    "print(dict1)"
   ]
  },
  {
   "cell_type": "markdown",
   "id": "b794c20a",
   "metadata": {},
   "source": [
    "Update Method"
   ]
  },
  {
   "cell_type": "code",
   "execution_count": 7,
   "id": "58cc4dd2",
   "metadata": {},
   "outputs": [
    {
     "name": "stdout",
     "output_type": "stream",
     "text": [
      "{'name': 'John', 'age': 23, 'id': 104, 'country': 'India', 'gender': 'Male', 'email': 'john@example.com'}\n"
     ]
    }
   ],
   "source": [
    "dict1 = {\n",
    "    \"name\":\"John\",\n",
    "    \"age\":23,\n",
    "    \"id\":104,\n",
    "    \"country\":\"India\",\n",
    "    \"gender\":\"Male\"\n",
    "}\n",
    "\n",
    "dict1.update({\"email\":\"john@example.com\"})\n",
    "print(dict1)"
   ]
  },
  {
   "cell_type": "markdown",
   "id": "88a9825b",
   "metadata": {},
   "source": [
    "Removing item in dictionary"
   ]
  },
  {
   "cell_type": "code",
   "execution_count": null,
   "id": "fbde5040",
   "metadata": {},
   "outputs": [
    {
     "name": "stdout",
     "output_type": "stream",
     "text": [
      "{'name': 'John', 'age': 23, 'id': 104, 'country': 'India'}\n",
      "{'name': 'John', 'id': 104, 'country': 'India'}\n"
     ]
    }
   ],
   "source": [
    "person = {\n",
    "    \"name\":\"John\",\n",
    "    \"age\":23,\n",
    "    \"id\":104,\n",
    "    \"country\":\"India\",\n",
    "    \"gender\":\"Male\"\n",
    "}\n",
    "\n",
    "#first method using pop\n",
    "person.pop(\"gender\")\n",
    "print(person)\n",
    "\n",
    "#second method using del keyword\n",
    "del person[\"age\"]\n",
    "print(person)"
   ]
  },
  {
   "cell_type": "markdown",
   "id": "f1d48f51",
   "metadata": {},
   "source": [
    "Clear method"
   ]
  },
  {
   "cell_type": "code",
   "execution_count": 11,
   "id": "6d485f1c",
   "metadata": {},
   "outputs": [
    {
     "name": "stdout",
     "output_type": "stream",
     "text": [
      "{}\n"
     ]
    }
   ],
   "source": [
    "a = {\n",
    "    \"a\": \"apple\",\n",
    "    \"b\":\"ball\",\n",
    "    \"c\":\"cat\",\n",
    "    \"d\":\"dog\"\n",
    "}\n",
    "\n",
    "a.clear()\n",
    "print(a)"
   ]
  }
 ],
 "metadata": {
  "kernelspec": {
   "display_name": "Python 3",
   "language": "python",
   "name": "python3"
  },
  "language_info": {
   "codemirror_mode": {
    "name": "ipython",
    "version": 3
   },
   "file_extension": ".py",
   "mimetype": "text/x-python",
   "name": "python",
   "nbconvert_exporter": "python",
   "pygments_lexer": "ipython3",
   "version": "3.10.9"
  }
 },
 "nbformat": 4,
 "nbformat_minor": 5
}
