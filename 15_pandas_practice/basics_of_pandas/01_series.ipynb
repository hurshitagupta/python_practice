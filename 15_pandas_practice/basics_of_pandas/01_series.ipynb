{
 "cells": [
  {
   "cell_type": "markdown",
   "id": "766d7b75",
   "metadata": {},
   "source": [
    "### Series in Pandas"
   ]
  },
  {
   "cell_type": "markdown",
   "id": "25a01423",
   "metadata": {},
   "source": [
    "Creating series in pandas\n"
   ]
  },
  {
   "cell_type": "code",
   "execution_count": 6,
   "id": "f50f4210",
   "metadata": {},
   "outputs": [
    {
     "name": "stdout",
     "output_type": "stream",
     "text": [
      "0      .py\n",
      "1    .java\n",
      "2       .c\n",
      "3     .cpp\n",
      "4      .js\n",
      "dtype: object\n"
     ]
    }
   ],
   "source": [
    "import pandas as pd\n",
    "\n",
    "series = pd.Series([\".py\",\".java\",\".c\",\".cpp\",\".js\"])\n",
    "print(series)\n"
   ]
  },
  {
   "cell_type": "markdown",
   "id": "6413ac07",
   "metadata": {},
   "source": [
    "Labelling the indexes of Series"
   ]
  },
  {
   "cell_type": "code",
   "execution_count": 7,
   "id": "3e29ec7f",
   "metadata": {},
   "outputs": [
    {
     "name": "stdout",
     "output_type": "stream",
     "text": [
      "Python          .py\n",
      "Java          .java\n",
      "C                .c\n",
      "C++            .cpp\n",
      "Javascript      .js\n",
      "dtype: object\n"
     ]
    }
   ],
   "source": [
    "series.index = [\"Python\",\"Java\",\"C\",\"C++\",\"Javascript\"]\n",
    "print(series)"
   ]
  },
  {
   "cell_type": "markdown",
   "id": "586aa7e9",
   "metadata": {},
   "source": [
    "Naming the series"
   ]
  },
  {
   "cell_type": "code",
   "execution_count": 4,
   "id": "fb5d5123",
   "metadata": {},
   "outputs": [
    {
     "name": "stdout",
     "output_type": "stream",
     "text": [
      ".py          Python\n",
      ".java          Java\n",
      ".c                C\n",
      ".cpp            C++\n",
      ".js      Javascript\n",
      "Name: Programming Languages with extensions, dtype: object\n"
     ]
    }
   ],
   "source": [
    "series.name = \"Programming Languages with extensions\"\n",
    "print(series)"
   ]
  },
  {
   "cell_type": "markdown",
   "id": "e7f7ad32",
   "metadata": {},
   "source": [
    "Providing all the things at once in Series"
   ]
  },
  {
   "cell_type": "code",
   "execution_count": 8,
   "id": "6faeac2b",
   "metadata": {},
   "outputs": [
    {
     "name": "stdout",
     "output_type": "stream",
     "text": [
      "Red        Apple\n",
      "Yellow    Banana\n",
      "Green     Grapes\n",
      "Orange    Orange\n",
      "Name: Fruits with their color names, dtype: object\n"
     ]
    }
   ],
   "source": [
    "import pandas as pd\n",
    "\n",
    "fruit_color = pd.Series([\"Apple\",\"Banana\",\"Grapes\",\"Orange\"],\n",
    "                         index=[\"Red\",\"Yellow\",\"Green\",\"Orange\"],\n",
    "                         name=\"Fruits with their color names\")\n",
    "print(fruit_color)"
   ]
  },
  {
   "cell_type": "markdown",
   "id": "aca09b45",
   "metadata": {},
   "source": [
    "Providing the index and values of series as a dictionary"
   ]
  },
  {
   "cell_type": "code",
   "execution_count": 9,
   "id": "40f1c582",
   "metadata": {},
   "outputs": [
    {
     "name": "stdout",
     "output_type": "stream",
     "text": [
      "Solid               Ice\n",
      "Liquid            Water\n",
      "Gas       Water Vapours\n",
      "Name: Different States of Water, dtype: object\n"
     ]
    }
   ],
   "source": [
    "import pandas as pd\n",
    "\n",
    "series = pd.Series({\"Solid\":\"Ice\",\"Liquid\":\"Water\",\"Gas\":\"Water Vapours\"}, name=\"Different States of Water\")\n",
    "print(series)\n"
   ]
  },
  {
   "cell_type": "markdown",
   "id": "b564a0c9",
   "metadata": {},
   "source": [
    "Key properties of Series"
   ]
  },
  {
   "cell_type": "code",
   "execution_count": 21,
   "id": "849f78ab",
   "metadata": {},
   "outputs": [
    {
     "name": "stdout",
     "output_type": "stream",
     "text": [
      "Solid               Ice\n",
      "Liquid            Water\n",
      "Gas       Water Vapours\n",
      "Name: Different States of Water, dtype: object\n",
      "(3,)\n",
      "object\n",
      "['Ice' 'Water' 'Water Vapours']\n",
      "object\n",
      "<class 'numpy.ndarray'>\n"
     ]
    }
   ],
   "source": [
    "val = series.values\n",
    "dtype = series.dtype\n",
    "labels = series.index\n",
    "shape = series.shape\n",
    "\n",
    "print(series)\n",
    "\n",
    "print(shape)\n",
    "print(labels.dtype)\n",
    "print(val)\n",
    "print(dtype)\n",
    "\n",
    "print(type(val))"
   ]
  },
  {
   "cell_type": "markdown",
   "id": "93acdfb8",
   "metadata": {},
   "source": [
    "Creating an empty Series"
   ]
  },
  {
   "cell_type": "code",
   "execution_count": 19,
   "id": "6bda5a93",
   "metadata": {},
   "outputs": [
    {
     "name": "stdout",
     "output_type": "stream",
     "text": [
      "Series([], dtype: object)\n"
     ]
    }
   ],
   "source": [
    "import pandas as pd\n",
    "\n",
    "s1 = pd.Series()\n",
    "print(s1)\n"
   ]
  },
  {
   "cell_type": "markdown",
   "id": "b66c39f0",
   "metadata": {},
   "source": [
    "### Practice Task"
   ]
  },
  {
   "cell_type": "markdown",
   "id": "1acbf3be",
   "metadata": {},
   "source": [
    "Create a Series of your 5 fav foods, index them as Day1 to Day5\n",
    "\n",
    "Access food on Day3\n",
    "\n",
    "Print just the values and just the indexes separately\n",
    "\n",
    "Add a .name to the Series: \"My Comfort Food\""
   ]
  },
  {
   "cell_type": "code",
   "execution_count": 25,
   "id": "e983909f",
   "metadata": {},
   "outputs": [
    {
     "name": "stdout",
     "output_type": "stream",
     "text": [
      "Day1           Burger\n",
      "Day2            Pizza\n",
      "Day3            Momos\n",
      "Day4       Rajma Rice\n",
      "Day5    Chole Bhature\n",
      "dtype: object\n",
      "Momos\n",
      "Values: ['Burger' 'Pizza' 'Momos' 'Rajma Rice' 'Chole Bhature']\n",
      "Index: Index(['Day1', 'Day2', 'Day3', 'Day4', 'Day5'], dtype='object')\n",
      "Day1           Burger\n",
      "Day2            Pizza\n",
      "Day3            Momos\n",
      "Day4       Rajma Rice\n",
      "Day5    Chole Bhature\n",
      "Name: My Comfort Food, dtype: object\n"
     ]
    }
   ],
   "source": [
    "import pandas as pd\n",
    "\n",
    "food = pd.Series({\"Day1\":\"Burger\",\"Day2\":\"Pizza\",\"Day3\":\"Momos\",\"Day4\":\"Rajma Rice\",\"Day5\":\"Chole Bhature\"})\n",
    "print(food)\n",
    "\n",
    "day3 = food[\"Day3\"]\n",
    "print(day3)\n",
    "\n",
    "values = food.values\n",
    "print(\"Values:\",values)\n",
    "\n",
    "index = food.index\n",
    "print(\"Index:\",index)\n",
    "\n",
    "food.name = \"My Comfort Food\"\n",
    "print(food)"
   ]
  }
 ],
 "metadata": {
  "kernelspec": {
   "display_name": "Python 3",
   "language": "python",
   "name": "python3"
  },
  "language_info": {
   "codemirror_mode": {
    "name": "ipython",
    "version": 3
   },
   "file_extension": ".py",
   "mimetype": "text/x-python",
   "name": "python",
   "nbconvert_exporter": "python",
   "pygments_lexer": "ipython3",
   "version": "3.10.9"
  }
 },
 "nbformat": 4,
 "nbformat_minor": 5
}
