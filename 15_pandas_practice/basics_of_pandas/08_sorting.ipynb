{
 "cells": [
  {
   "cell_type": "markdown",
   "id": "08d1764b",
   "metadata": {},
   "source": [
    "### Sorting in Pandas"
   ]
  },
  {
   "cell_type": "code",
   "execution_count": 7,
   "id": "4de43c61",
   "metadata": {},
   "outputs": [
    {
     "name": "stdout",
     "output_type": "stream",
     "text": [
      "   Product  Price  Rating\n",
      "0   Laptop  75000     4.2\n",
      "1    Phone  30000     4.5\n",
      "2   Tablet  20000     3.8\n",
      "3  Monitor  12000     4.1\n",
      "4  Speaker   7000     3.5\n"
     ]
    }
   ],
   "source": [
    "import pandas as pd\n",
    "\n",
    "df = pd.DataFrame({\n",
    "    \"Product\": [\"Laptop\", \"Phone\", \"Tablet\", \"Monitor\", \"Speaker\"],\n",
    "    \"Price\": [75000, 30000, 20000, 12000, 7000],\n",
    "    \"Rating\": [4.2, 4.5, 3.8, 4.1, 3.5]\n",
    "})\n",
    "\n",
    "print(df)"
   ]
  },
  {
   "cell_type": "markdown",
   "id": "9245eb4e",
   "metadata": {},
   "source": [
    "df.sort_index()"
   ]
  },
  {
   "cell_type": "code",
   "execution_count": 8,
   "id": "b4499c48",
   "metadata": {},
   "outputs": [
    {
     "name": "stdout",
     "output_type": "stream",
     "text": [
      "   Product  Price  Rating\n",
      "4  Speaker   7000     3.5\n",
      "3  Monitor  12000     4.1\n",
      "2   Tablet  20000     3.8\n",
      "1    Phone  30000     4.5\n",
      "0   Laptop  75000     4.2\n"
     ]
    }
   ],
   "source": [
    "# sorts the index in descending value\n",
    "\n",
    "print(df.sort_index(ascending=False))"
   ]
  },
  {
   "cell_type": "markdown",
   "id": "ef431f9d",
   "metadata": {},
   "source": [
    "df.sort_values()"
   ]
  },
  {
   "cell_type": "code",
   "execution_count": 10,
   "id": "ab77e5a6",
   "metadata": {},
   "outputs": [
    {
     "name": "stdout",
     "output_type": "stream",
     "text": [
      "   Product  Price  Rating\n",
      "4  Speaker   7000     3.5\n",
      "3  Monitor  12000     4.1\n",
      "2   Tablet  20000     3.8\n",
      "1    Phone  30000     4.5\n",
      "0   Laptop  75000     4.2\n"
     ]
    }
   ],
   "source": [
    "#sorts the values based on price in ascending order\n",
    "\n",
    "print(df.sort_values(\"Price\"))\n"
   ]
  },
  {
   "cell_type": "markdown",
   "id": "282d160d",
   "metadata": {},
   "source": [
    "df.sort_values(ascending=False)"
   ]
  },
  {
   "cell_type": "code",
   "execution_count": 11,
   "id": "718ba52d",
   "metadata": {},
   "outputs": [
    {
     "name": "stdout",
     "output_type": "stream",
     "text": [
      "   Product  Price  Rating\n",
      "0   Laptop  75000     4.2\n",
      "1    Phone  30000     4.5\n",
      "2   Tablet  20000     3.8\n",
      "3  Monitor  12000     4.1\n",
      "4  Speaker   7000     3.5\n"
     ]
    }
   ],
   "source": [
    "# sorts the values based on price in descending order\n",
    "\n",
    "print(df.sort_values(\"Price\",ascending=False))"
   ]
  },
  {
   "cell_type": "markdown",
   "id": "fcfb91d1",
   "metadata": {},
   "source": [
    "sorting the values based on 2 or more columns"
   ]
  },
  {
   "cell_type": "code",
   "execution_count": 14,
   "id": "7d33581c",
   "metadata": {},
   "outputs": [
    {
     "name": "stdout",
     "output_type": "stream",
     "text": [
      "   Product  Price  Rating\n",
      "4  Speaker   7000     3.5\n",
      "2   Tablet  20000     3.8\n",
      "3  Monitor  12000     4.1\n",
      "0   Laptop  75000     4.2\n",
      "1    Phone  30000     4.5\n",
      "   Product  Price  Rating\n",
      "1    Phone  30000     4.5\n",
      "0   Laptop  75000     4.2\n",
      "3  Monitor  12000     4.1\n",
      "2   Tablet  20000     3.8\n",
      "4  Speaker   7000     3.5\n"
     ]
    }
   ],
   "source": [
    "print(df.sort_values([\"Rating\",\"Price\"]))\n",
    "print(df.sort_values([\"Rating\",\"Price\"],ascending=False))"
   ]
  }
 ],
 "metadata": {
  "kernelspec": {
   "display_name": "Python 3",
   "language": "python",
   "name": "python3"
  },
  "language_info": {
   "codemirror_mode": {
    "name": "ipython",
    "version": 3
   },
   "file_extension": ".py",
   "mimetype": "text/x-python",
   "name": "python",
   "nbconvert_exporter": "python",
   "pygments_lexer": "ipython3",
   "version": "3.10.9"
  }
 },
 "nbformat": 4,
 "nbformat_minor": 5
}
