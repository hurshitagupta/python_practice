{
 "cells": [
  {
   "cell_type": "markdown",
   "id": "2bd3395a",
   "metadata": {},
   "source": [
    "Practice Questions"
   ]
  },
  {
   "cell_type": "markdown",
   "id": "7b987b40",
   "metadata": {},
   "source": [
    "Ques1. Task: Data Cleaning\n",
    "\n",
    "You have a list responses containing responses from a survey. However, some responses are recorded as empty strings due to data entry errors. Your task us to remove theses empty responses from the list.\n",
    "\n",
    "Write a python code to remove all empty responses from the response_list.\n",
    "\n",
    "responses = [\"Yes\",\"\",\"No\",\"\",\"Maybe\",\"\",\"\",\"Yes\"]\n"
   ]
  },
  {
   "cell_type": "code",
   "execution_count": 2,
   "id": "1cda59c6",
   "metadata": {},
   "outputs": [
    {
     "name": "stdout",
     "output_type": "stream",
     "text": [
      "Processed data: ['Yes', 'No', 'Maybe', 'Yes']\n"
     ]
    }
   ],
   "source": [
    "responses = [\"Yes\",\"\",\"No\",\"\",\"Maybe\",\"\",\"\",\"Yes\"]\n",
    "clean_list = [] #created an empty list to store the correct responses\n",
    "\n",
    "for response in responses:\n",
    "    if(response != \"\"):\n",
    "        clean_list.append(response)\n",
    "\n",
    "print(\"Processed data:\",clean_list)"
   ]
  },
  {
   "cell_type": "markdown",
   "id": "b7c75218",
   "metadata": {},
   "source": [
    "Ques2. Data Analysis Senario:\n",
    "You have two lists containing exam scores of students from two different classes.The lists are class1_Scores and class2_scores. You need to analyze the performance of the classes by calculating the average score for each class.\n",
    "\n",
    "Write python code to calculate the average score for each class.\n",
    "\n",
    "class1_scores = [95,90,88,92,78]\n",
    "class2_scores = [75,82,80,85,79]\n"
   ]
  },
  {
   "cell_type": "code",
   "execution_count": 5,
   "id": "d3ebb770",
   "metadata": {},
   "outputs": [
    {
     "name": "stdout",
     "output_type": "stream",
     "text": [
      "Average score of class1: 88.6\n",
      "Average score of class1: 80.2\n"
     ]
    }
   ],
   "source": [
    "class1_scores = [95,90,88,92,78]\n",
    "class2_scores = [75,82,80,85,79]\n",
    "\n",
    "def avg_score(scores):\n",
    "    sum  = 0\n",
    "    for i in scores:\n",
    "        sum = sum+i\n",
    "        avg = sum/len(scores)\n",
    "\n",
    "    return avg\n",
    "\n",
    "avg1 = avg_score(class1_scores)\n",
    "avg2 = avg_score(class2_scores)\n",
    "\n",
    "print(\"Average score of class1:\",avg1)\n",
    "print(\"Average score of class1:\",avg2)"
   ]
  },
  {
   "cell_type": "markdown",
   "id": "00026e07",
   "metadata": {},
   "source": [
    "Ques. Given two lists \n",
    "list1 = [[1,2],[3,4],[5,6]] and list2 = [[7,8],[9,10]], concatenate them into a single list of lists"
   ]
  },
  {
   "cell_type": "code",
   "execution_count": 2,
   "id": "44cc9620",
   "metadata": {},
   "outputs": [
    {
     "name": "stdout",
     "output_type": "stream",
     "text": [
      "[[1, 2], [3, 4], [5, 6], [7, 8], [9, 10]]\n"
     ]
    }
   ],
   "source": [
    "list1 = [[1,2],[3,4],[5,6]]\n",
    "list2 = [[7,8],[9,10]]\n",
    "\n",
    "#Using \"+\" operator to concatenate\n",
    "list3 = list1 + list2\n",
    "print(list3)"
   ]
  }
 ],
 "metadata": {
  "kernelspec": {
   "display_name": "Python 3",
   "language": "python",
   "name": "python3"
  },
  "language_info": {
   "codemirror_mode": {
    "name": "ipython",
    "version": 3
   },
   "file_extension": ".py",
   "mimetype": "text/x-python",
   "name": "python",
   "nbconvert_exporter": "python",
   "pygments_lexer": "ipython3",
   "version": "3.10.9"
  }
 },
 "nbformat": 4,
 "nbformat_minor": 5
}
