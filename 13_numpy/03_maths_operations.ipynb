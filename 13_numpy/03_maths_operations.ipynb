{
 "cells": [
  {
   "cell_type": "markdown",
   "id": "268d8caf",
   "metadata": {},
   "source": [
    "##### Mathematical Operations on NumPy Arrays"
   ]
  },
  {
   "cell_type": "markdown",
   "id": "390aefc4",
   "metadata": {},
   "source": [
    "Basic Arithmetic operations on NumPy: "
   ]
  },
  {
   "cell_type": "code",
   "execution_count": 1,
   "id": "ca62ff47",
   "metadata": {},
   "outputs": [
    {
     "name": "stdout",
     "output_type": "stream",
     "text": [
      "Initial array: [10 20 30 40 50]\n",
      "After addition: [14 24 34 44 54]\n",
      "After subtraction [ 8 18 28 38 48]\n",
      "After multiplication [ 30  60  90 120 150]\n",
      "After divison: [ 5. 10. 15. 20. 25.]\n",
      "After squarinq: [ 100  400  900 1600 2500]\n",
      "%3 gives: [1 2 0 1 2]\n",
      "//2 gives: [ 5 10 15 20 25]\n"
     ]
    }
   ],
   "source": [
    "import numpy as np\n",
    "\n",
    "arr1 = np.array([10,20,30,40,50])\n",
    "print(\"Initial array:\",arr1)\n",
    "\n",
    "#addition\n",
    "print(\"After addition:\",arr1 + 4)\n",
    "\n",
    "#subtraction\n",
    "print(\"After subtraction\",arr1 - 2)\n",
    "\n",
    "#multiplication\n",
    "print(\"After multiplication\",arr1*3)\n",
    "\n",
    "#division\n",
    "print(\"After divison:\",arr1/2)\n",
    "\n",
    "#exponentiation\n",
    "print(\"After squarinq:\",arr1**2)\n",
    "\n",
    "#modulous\n",
    "print(\"%3 gives:\",arr1%3)\n",
    "\n",
    "#floor division\n",
    "print(\"//2 gives:\",arr1//2)"
   ]
  },
  {
   "cell_type": "markdown",
   "id": "1c7f4a59",
   "metadata": {},
   "source": [
    "##### Aggregation Function on Arrays"
   ]
  },
  {
   "cell_type": "markdown",
   "id": "c647dc4d",
   "metadata": {},
   "source": [
    "1. SUM function"
   ]
  },
  {
   "cell_type": "code",
   "execution_count": 2,
   "id": "6ce96381",
   "metadata": {},
   "outputs": [
    {
     "name": "stdout",
     "output_type": "stream",
     "text": [
      "100\n"
     ]
    }
   ],
   "source": [
    "arr1 = np.array([10,20,30,40])\n",
    "\n",
    "print(np.sum(arr1))"
   ]
  },
  {
   "cell_type": "markdown",
   "id": "01b45d33",
   "metadata": {},
   "source": [
    "2. MAX function"
   ]
  },
  {
   "cell_type": "code",
   "execution_count": 3,
   "id": "823fbd55",
   "metadata": {},
   "outputs": [
    {
     "name": "stdout",
     "output_type": "stream",
     "text": [
      "50\n"
     ]
    }
   ],
   "source": [
    "arr1 = np.array([10,20,30,40,50])\n",
    "\n",
    "print(np.max(arr1))"
   ]
  },
  {
   "cell_type": "markdown",
   "id": "ce8d5703",
   "metadata": {},
   "source": [
    "3. MIN function"
   ]
  },
  {
   "cell_type": "code",
   "execution_count": 4,
   "id": "af92a024",
   "metadata": {},
   "outputs": [
    {
     "name": "stdout",
     "output_type": "stream",
     "text": [
      "50\n"
     ]
    }
   ],
   "source": [
    "arr1 = np.array([50,60,70,80,90])\n",
    "\n",
    "print(np.min(arr1))"
   ]
  },
  {
   "cell_type": "markdown",
   "id": "6e396559",
   "metadata": {},
   "source": [
    "4. STD function (used to calculate standard deviation)"
   ]
  },
  {
   "cell_type": "code",
   "execution_count": 5,
   "id": "133ede3e",
   "metadata": {},
   "outputs": [
    {
     "name": "stdout",
     "output_type": "stream",
     "text": [
      "11.180339887498949\n"
     ]
    }
   ],
   "source": [
    "arr1 = np.array([10,20,30,40])\n",
    "\n",
    "print(np.std(arr1))"
   ]
  },
  {
   "cell_type": "markdown",
   "id": "e872e253",
   "metadata": {},
   "source": [
    "5. MEAN function (used to calculate the average)"
   ]
  },
  {
   "cell_type": "code",
   "execution_count": 6,
   "id": "cc1dee5f",
   "metadata": {},
   "outputs": [
    {
     "name": "stdout",
     "output_type": "stream",
     "text": [
      "70.0\n"
     ]
    }
   ],
   "source": [
    "arr1 = np.array([90,80,70,60,50])\n",
    "\n",
    "print(np.mean(arr1))"
   ]
  },
  {
   "cell_type": "markdown",
   "id": "a816058c",
   "metadata": {},
   "source": [
    "6. VAR function (used to calculate the variance)"
   ]
  },
  {
   "cell_type": "code",
   "execution_count": 7,
   "id": "92f4d615",
   "metadata": {},
   "outputs": [
    {
     "name": "stdout",
     "output_type": "stream",
     "text": [
      "125.0\n"
     ]
    }
   ],
   "source": [
    "arr1 = np.array([10,20,30,40])\n",
    "\n",
    "print(np.var(arr1))"
   ]
  }
 ],
 "metadata": {
  "kernelspec": {
   "display_name": "Python 3",
   "language": "python",
   "name": "python3"
  },
  "language_info": {
   "codemirror_mode": {
    "name": "ipython",
    "version": 3
   },
   "file_extension": ".py",
   "mimetype": "text/x-python",
   "name": "python",
   "nbconvert_exporter": "python",
   "pygments_lexer": "ipython3",
   "version": "3.10.9"
  }
 },
 "nbformat": 4,
 "nbformat_minor": 5
}
