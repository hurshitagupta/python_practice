{
 "cells": [
  {
   "cell_type": "markdown",
   "id": "b8a4c910",
   "metadata": {},
   "source": [
    "# TUPLES"
   ]
  },
  {
   "cell_type": "markdown",
   "id": "34b8fbd5",
   "metadata": {},
   "source": [
    "Creating Tuples"
   ]
  },
  {
   "cell_type": "code",
   "execution_count": 4,
   "id": "4103f9ac",
   "metadata": {},
   "outputs": [
    {
     "name": "stdout",
     "output_type": "stream",
     "text": [
      "<class 'tuple'>\n"
     ]
    }
   ],
   "source": [
    "a = (10,20,30,40)\n",
    "print(type(a))"
   ]
  },
  {
   "cell_type": "markdown",
   "id": "de7a0fef",
   "metadata": {},
   "source": [
    "Empty tuple"
   ]
  },
  {
   "cell_type": "code",
   "execution_count": 5,
   "id": "28722688",
   "metadata": {},
   "outputs": [
    {
     "name": "stdout",
     "output_type": "stream",
     "text": [
      "<class 'tuple'>\n"
     ]
    }
   ],
   "source": [
    "tup = ()\n",
    "print(type(tup))"
   ]
  },
  {
   "cell_type": "markdown",
   "id": "6d3ddc23",
   "metadata": {},
   "source": [
    "Single element in a tuple"
   ]
  },
  {
   "cell_type": "code",
   "execution_count": 6,
   "id": "043470d6",
   "metadata": {},
   "outputs": [
    {
     "name": "stdout",
     "output_type": "stream",
     "text": [
      "<class 'tuple'>\n"
     ]
    }
   ],
   "source": [
    "tup = (5,)\n",
    "print(type(tup))"
   ]
  },
  {
   "cell_type": "markdown",
   "id": "7b0bf1ee",
   "metadata": {},
   "source": [
    "A tuple with mixed data types"
   ]
  },
  {
   "cell_type": "code",
   "execution_count": 8,
   "id": "db6eec96",
   "metadata": {},
   "outputs": [
    {
     "name": "stdout",
     "output_type": "stream",
     "text": [
      "<class 'tuple'>\n"
     ]
    }
   ],
   "source": [
    "tup1 = (1, \"hello\", True, 90.5)\n",
    "print(type(tup1))"
   ]
  },
  {
   "cell_type": "markdown",
   "id": "af7b511f",
   "metadata": {},
   "source": [
    "Nested tuples"
   ]
  },
  {
   "cell_type": "code",
   "execution_count": 9,
   "id": "63255abc",
   "metadata": {},
   "outputs": [
    {
     "name": "stdout",
     "output_type": "stream",
     "text": [
      "<class 'tuple'>\n"
     ]
    }
   ],
   "source": [
    "mix_tuple = (\"cat\", 55.2,(10,20,30))\n",
    "print(type(a))\n"
   ]
  },
  {
   "cell_type": "markdown",
   "id": "932ede38",
   "metadata": {},
   "source": [
    "Can a tuple store list?"
   ]
  },
  {
   "cell_type": "code",
   "execution_count": null,
   "id": "cb1f1c6d",
   "metadata": {},
   "outputs": [
    {
     "name": "stdout",
     "output_type": "stream",
     "text": [
      "<class 'tuple'>\n"
     ]
    }
   ],
   "source": [
    "tup_list = ([10,20],[30,40,50],[60,70,80,90])\n",
    "print(type(tup_list))\n",
    "\n",
    "#yes it can store list as well"
   ]
  },
  {
   "cell_type": "markdown",
   "id": "2eca49ca",
   "metadata": {},
   "source": [
    "Tuple Constructor"
   ]
  },
  {
   "cell_type": "code",
   "execution_count": 11,
   "id": "fa41c253",
   "metadata": {},
   "outputs": [
    {
     "name": "stdout",
     "output_type": "stream",
     "text": [
      "()\n",
      "<class 'tuple'>\n"
     ]
    }
   ],
   "source": [
    "empty = tuple()\n",
    "print(empty)\n",
    "print(type(empty))"
   ]
  },
  {
   "cell_type": "markdown",
   "id": "b033b24e",
   "metadata": {},
   "source": [
    "Converting list into a tuple"
   ]
  },
  {
   "cell_type": "code",
   "execution_count": 12,
   "id": "dc9ebc49",
   "metadata": {},
   "outputs": [
    {
     "name": "stdout",
     "output_type": "stream",
     "text": [
      "<class 'list'>\n",
      "<class 'tuple'>\n"
     ]
    }
   ],
   "source": [
    "my_list = [10,20,\"hi\",90.5]\n",
    "print(type(my_list))\n",
    "tup_list = tuple(my_list)\n",
    "print(type(tup_list))"
   ]
  },
  {
   "cell_type": "markdown",
   "id": "b9711f70",
   "metadata": {},
   "source": [
    "Coverting a string into tuple"
   ]
  },
  {
   "cell_type": "code",
   "execution_count": 13,
   "id": "f6388b23",
   "metadata": {},
   "outputs": [
    {
     "name": "stdout",
     "output_type": "stream",
     "text": [
      "('H', 'e', 'l', 'l', 'o')\n",
      "<class 'tuple'>\n"
     ]
    }
   ],
   "source": [
    "str = \"Hello\"\n",
    "tup1 = tuple(str)\n",
    "print(tup1)\n",
    "print(type(tup1))"
   ]
  },
  {
   "cell_type": "markdown",
   "id": "8802b54f",
   "metadata": {},
   "source": [
    "Converting a dictionary into tuple\n"
   ]
  },
  {
   "cell_type": "code",
   "execution_count": 14,
   "id": "bcf47a61",
   "metadata": {},
   "outputs": [
    {
     "name": "stdout",
     "output_type": "stream",
     "text": [
      "{'a': 10, 'b': 20, 'c': 30}\n",
      "<class 'dict'>\n",
      "('a', 'b', 'c')\n",
      "<class 'tuple'>\n"
     ]
    }
   ],
   "source": [
    "dic = {\"a\":10, \"b\":20, \"c\":30}\n",
    "print(dic)\n",
    "print(type(dic))\n",
    "\n",
    "#converting into tuple\n",
    "tup = tuple(dic)\n",
    "print(tup)\n",
    "print(type(tup))"
   ]
  },
  {
   "cell_type": "markdown",
   "id": "aa1d2388",
   "metadata": {},
   "source": [
    "Converting a set into tuple"
   ]
  },
  {
   "cell_type": "code",
   "execution_count": 15,
   "id": "d56a5852",
   "metadata": {},
   "outputs": [
    {
     "name": "stdout",
     "output_type": "stream",
     "text": [
      "{1, 2, 3, 4, 5}\n",
      "<class 'set'>\n",
      "(1, 2, 3, 4, 5)\n",
      "<class 'tuple'>\n"
     ]
    }
   ],
   "source": [
    "set1 = {1,2,3,4,5}\n",
    "print(set1)\n",
    "print(type(set1))\n",
    "\n",
    "#converting into tuple:\n",
    "tup1 = tuple(set1)\n",
    "print(tup1)\n",
    "print(type(tup1))\n"
   ]
  }
 ],
 "metadata": {
  "kernelspec": {
   "display_name": "Python 3",
   "language": "python",
   "name": "python3"
  },
  "language_info": {
   "codemirror_mode": {
    "name": "ipython",
    "version": 3
   },
   "file_extension": ".py",
   "mimetype": "text/x-python",
   "name": "python",
   "nbconvert_exporter": "python",
   "pygments_lexer": "ipython3",
   "version": "3.10.9"
  }
 },
 "nbformat": 4,
 "nbformat_minor": 5
}
