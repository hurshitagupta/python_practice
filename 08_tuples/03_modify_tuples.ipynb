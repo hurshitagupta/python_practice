{
 "cells": [
  {
   "cell_type": "markdown",
   "id": "7a2c672e",
   "metadata": {},
   "source": [
    "Converting tuple into list"
   ]
  },
  {
   "cell_type": "code",
   "execution_count": 10,
   "id": "e70605b5",
   "metadata": {},
   "outputs": [
    {
     "name": "stdout",
     "output_type": "stream",
     "text": [
      "<class 'tuple'>\n",
      "<class 'list'>\n",
      "['data', 'science', 'python', 'programming']\n"
     ]
    }
   ],
   "source": [
    "tup1 = (\"data\",\"science\",\"python\",\"programming\")\n",
    "print(type(tup1))\n",
    "\n",
    "list1 = list(tup1)\n",
    "print(type(list1))\n",
    "print(list1)"
   ]
  },
  {
   "cell_type": "markdown",
   "id": "47cd0dd2",
   "metadata": {},
   "source": [
    "Adding and removing the items"
   ]
  },
  {
   "cell_type": "code",
   "execution_count": 11,
   "id": "2fe443ad",
   "metadata": {},
   "outputs": [
    {
     "name": "stdout",
     "output_type": "stream",
     "text": [
      "before adding:  [10, 20, 30, 40, 50, 60]\n",
      "after adding:  [10, 20, 30, 40, 50, 60, 80]\n",
      "before removing:  [10, 20, 30, 40, 50, 60, 80]\n",
      "after removing:  [10, 20, 30, 50, 60, 80]\n",
      "(10, 20, 30, 50, 60, 80)\n"
     ]
    }
   ],
   "source": [
    "a = (10,20,30, 40, 50,60)\n",
    "# a.append(80) this will produce an error as we can not directly modify the tuple so we will first convert it into a list and then modify it.\n",
    "\n",
    "list_a = list(a)\n",
    "print(\"before adding: \",list_a)\n",
    "list_a.append(80)\n",
    "print(\"after adding: \",list_a)\n",
    "\n",
    "#to remove the item\n",
    "print(\"before removing: \",list_a)\n",
    "list_a.remove(40)\n",
    "print(\"after removing: \",list_a)\n",
    "\n",
    "tup_a = tuple(list_a)\n",
    "print(tup_a)\n"
   ]
  },
  {
   "cell_type": "markdown",
   "id": "8480e7b2",
   "metadata": {},
   "source": [
    "Changing the item in a tuple"
   ]
  },
  {
   "cell_type": "code",
   "execution_count": 12,
   "id": "80e2ad28",
   "metadata": {},
   "outputs": [
    {
     "name": "stdout",
     "output_type": "stream",
     "text": [
      "<class 'list'>\n",
      "('apple', 'banana', 'guava', 'litchi', 'mango')\n"
     ]
    }
   ],
   "source": [
    "tup = (\"apple\",\"banana\",\"cherry\",\"litchi\",\"mango\")\n",
    "\n",
    "list_tup = list(tup)\n",
    "print(type(list_tup)) #to check if it have been converted into a tuple\n",
    "\n",
    "#to modify cherry into guava\n",
    "list_tup[2] = \"guava\"\n",
    "\n",
    "tup = tuple(list_tup)\n",
    "print(tup)"
   ]
  },
  {
   "cell_type": "markdown",
   "id": "912f387d",
   "metadata": {},
   "source": [
    "Joining two tuples"
   ]
  },
  {
   "cell_type": "code",
   "execution_count": 13,
   "id": "0a8d05e8",
   "metadata": {},
   "outputs": [
    {
     "name": "stdout",
     "output_type": "stream",
     "text": [
      "('hello', 'world', 'welcome', 'to', 'python', 'programming')\n"
     ]
    }
   ],
   "source": [
    "tup1 = (\"hello\",\"world\")\n",
    "tup2 = (\"welcome\",\"to\",\"python\",\"programming\")\n",
    "tup1 += tup2\n",
    "print(tup1)"
   ]
  },
  {
   "cell_type": "markdown",
   "id": "c5c00f37",
   "metadata": {},
   "source": [
    "Deleting a tuple"
   ]
  },
  {
   "cell_type": "code",
   "execution_count": 14,
   "id": "7f76c05a",
   "metadata": {},
   "outputs": [],
   "source": [
    "tup1 = (\"Hello\",\"World\",\"Data\",\"Analytics\",\"Science\",\"Engineering\")\n",
    "#del tup1 (this will delete all the items)"
   ]
  },
  {
   "cell_type": "markdown",
   "id": "65ee792f",
   "metadata": {},
   "source": [
    "Multiplying tuples"
   ]
  },
  {
   "cell_type": "code",
   "execution_count": 15,
   "id": "962a3dbb",
   "metadata": {},
   "outputs": [
    {
     "name": "stdout",
     "output_type": "stream",
     "text": [
      "('hello', 'world', 'hello', 'world')\n"
     ]
    }
   ],
   "source": [
    "tup1 = (\"hello\",\"world\")\n",
    "multiply_tup = tup1*2\n",
    "print(multiply_tup)"
   ]
  }
 ],
 "metadata": {
  "kernelspec": {
   "display_name": "Python 3",
   "language": "python",
   "name": "python3"
  },
  "language_info": {
   "codemirror_mode": {
    "name": "ipython",
    "version": 3
   },
   "file_extension": ".py",
   "mimetype": "text/x-python",
   "name": "python",
   "nbconvert_exporter": "python",
   "pygments_lexer": "ipython3",
   "version": "3.10.9"
  }
 },
 "nbformat": 4,
 "nbformat_minor": 5
}
