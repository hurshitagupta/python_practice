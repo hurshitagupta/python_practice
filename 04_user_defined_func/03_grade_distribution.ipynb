{
 "cells": [
  {
   "cell_type": "markdown",
   "id": "be413a81",
   "metadata": {},
   "source": [
    "# Practice Question "
   ]
  },
  {
   "cell_type": "markdown",
   "id": "d7e340d1",
   "metadata": {},
   "source": [
    "Question. You are given a dataset of student grades and need to determine the grade distribution.\n",
    "\n",
    "Write a python function that takes a list of integers representing student grades(0-100). Use a loop to count the number of grades in each grade category:\n",
    "\n",
    "\"A\" (90-100), \"B\" (80-89), \"C\" (70-79), \"D\" (60-69) and \"F\" (below 60).\n",
    "Return a dictionary with the counts of each grade category"
   ]
  },
  {
   "cell_type": "code",
   "execution_count": 1,
   "id": "9b546069",
   "metadata": {},
   "outputs": [
    {
     "name": "stdout",
     "output_type": "stream",
     "text": [
      "[78, 89]\n",
      "{'A': 0, 'B': 1, 'C': 1, 'D': 0, 'F': 0}\n"
     ]
    }
   ],
   "source": [
    "grades_list = []\n",
    "\n",
    "grades = int(input(\"Enter your marks\"))\n",
    "grades_list.append(grades)\n",
    "choice = input(\"Enter 'y' to add more marks and 'n' to stop: \")\n",
    "while(choice==\"y\"):\n",
    "    \n",
    "    grades = int(input(\"Enter your marks\"))\n",
    "    grades_list.append(grades)\n",
    "    choice = input(\"Enter 'y' to add more marks and 'n' to stop: \")\n",
    "\n",
    "print(grades_list)\n",
    "def grade_data():\n",
    "    a_grade_count = 0\n",
    "    b_grade_count = 0\n",
    "    c_grade_count = 0\n",
    "    d_grade_count = 0\n",
    "    f_grade_count = 0\n",
    "    for i in grades_list:\n",
    "        \n",
    "        if(i>=90):\n",
    "            a_grade_count = a_grade_count+1\n",
    "    \n",
    "        elif(i>=80 and i<90):\n",
    "            b_grade_count = b_grade_count+1\n",
    "            \n",
    "        elif(i>=70 and i<80):\n",
    "            c_grade_count = c_grade_count+1\n",
    "\n",
    "        elif(i>=60 and i<70):\n",
    "            d_grade_count = d_grade_count+1\n",
    "            \n",
    "        else:\n",
    "            f_grade_count= f_grade_count+1\n",
    "            \n",
    "    \n",
    "    return(a_grade_count,b_grade_count,c_grade_count,d_grade_count,f_grade_count)\n",
    "\n",
    "\n",
    "\n",
    "a_grade_count,b_grade_count,c_grade_count,d_grade_count,f_grade_count = grade_data()\n",
    "print({\n",
    "    \"A\": a_grade_count,\n",
    "    \"B\":b_grade_count,\n",
    "    \"C\":c_grade_count,\n",
    "    \"D\":d_grade_count,\n",
    "    \"F\":f_grade_count\n",
    "})"
   ]
  }
 ],
 "metadata": {
  "kernelspec": {
   "display_name": "Python 3",
   "language": "python",
   "name": "python3"
  },
  "language_info": {
   "codemirror_mode": {
    "name": "ipython",
    "version": 3
   },
   "file_extension": ".py",
   "mimetype": "text/x-python",
   "name": "python",
   "nbconvert_exporter": "python",
   "pygments_lexer": "ipython3",
   "version": "3.10.9"
  }
 },
 "nbformat": 4,
 "nbformat_minor": 5
}
