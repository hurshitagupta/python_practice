{
 "cells": [
  {
   "cell_type": "markdown",
   "id": "d192097d",
   "metadata": {},
   "source": [
    "# If statement\n"
   ]
  },
  {
   "cell_type": "code",
   "execution_count": 2,
   "id": "7437310d",
   "metadata": {},
   "outputs": [
    {
     "name": "stdout",
     "output_type": "stream",
     "text": [
      "If Statement example \n"
     ]
    }
   ],
   "source": [
    "i = 20\n",
    "\n",
    "if i<10:\n",
    "    print(\"20 is greater than 10\")\n",
    "    \n",
    "print(\"If Statement example \")"
   ]
  },
  {
   "cell_type": "markdown",
   "id": "7634bb90",
   "metadata": {},
   "source": [
    "Practice Question: \n",
    "\n",
    "Develop a temperature converter in Python for a cold storage that converts temperature between C and F scales. The program should take a temperature value and a unit (C or F) as input.\n",
    "If the temperature is less than 15 degrees Celsius, inform the user that the temperature is not convinient.\n",
    "If the temperature is between 24 to 28 degrees Celsius, inform the user that the temperature is convinient."
   ]
  },
  {
   "cell_type": "code",
   "execution_count": 5,
   "id": "e58470b7",
   "metadata": {},
   "outputs": [
    {
     "name": "stdout",
     "output_type": "stream",
     "text": [
      "The temperature is convinient\n"
     ]
    }
   ],
   "source": [
    "temp = float(input(\"Enter the temperature: \"))\n",
    "\n",
    "if temp<15 :\n",
    "    print(\"The temperature is not convinient\")\n",
    "if temp>24 and temp<28 :\n",
    "    print(\"The temperature is convinient\")\n"
   ]
  },
  {
   "cell_type": "markdown",
   "id": "0666e48c",
   "metadata": {},
   "source": [
    "# If-Else Statement"
   ]
  },
  {
   "cell_type": "markdown",
   "id": "d2e869d1",
   "metadata": {},
   "source": [
    "Question1 - Write a program whether a person is eligible for voting or not\n"
   ]
  },
  {
   "cell_type": "code",
   "execution_count": 9,
   "id": "4bd71705",
   "metadata": {},
   "outputs": [
    {
     "name": "stdout",
     "output_type": "stream",
     "text": [
      "You are eligible to vote.\n"
     ]
    }
   ],
   "source": [
    "age = int(input(\"Enter your age: \"))\n",
    "\n",
    "if age>=18 :\n",
    "    print(\"You are eligible to vote.\")\n",
    "else:\n",
    "    print(\"You are not eligible to vote.\")"
   ]
  },
  {
   "cell_type": "markdown",
   "id": "7602facd",
   "metadata": {},
   "source": [
    "Question2 - You are tasked with developing a Python program to manage employee salaries for a company. Your program should calculate the net salary of each employee based on their base salary, deductions, and bonuses, Additionally, employees who have been with the company for more than 5 years are eligible for an additional loyalty bonus, 8% of salary. Deductions of tax will be 12%.\n",
    "\n",
    "Write a python script that prompts the user to input the following information for each employee:\n",
    "\n",
    "- Base salary\n",
    "- Years of service\n",
    "\n",
    "After calculating the net salary, the program should print a summary for each employee including their base salary, deductions, bonuses, loyalty bonus (if applicable and net salary)\n",
    "\n",
    "\n"
   ]
  },
  {
   "cell_type": "code",
   "execution_count": 11,
   "id": "0004309b",
   "metadata": {},
   "outputs": [
    {
     "name": "stdout",
     "output_type": "stream",
     "text": [
      "The net salary to be paid is:  19200.0\n"
     ]
    }
   ],
   "source": [
    "base_salary = int(input(\"Enter the employee's base salary: \"))\n",
    "years_of_service = int(input(\"Enter the year count employee has been providing his service: \"))\n",
    "\n",
    "tax_deductions = base_salary*(12/100)\n",
    "bonus = base_salary*(8/100)\n",
    "\n",
    "if years_of_service>5:\n",
    "    net_salary = (base_salary+bonus)-tax_deductions\n",
    "    print(\"The net salary to be paid is: \",net_salary)\n",
    "else:\n",
    "    net_salary = base_salary-tax_deductions\n",
    "    print(\"The net salary to be paid is: \",net_salary)"
   ]
  },
  {
   "cell_type": "markdown",
   "id": "25646e63",
   "metadata": {},
   "source": [
    "# If-elif-else"
   ]
  },
  {
   "cell_type": "markdown",
   "id": "777753da",
   "metadata": {},
   "source": [
    "Question3 - WAP that prompts the user to input a city and displays the famous monument of that city.\n",
    "\n",
    "- Mumbai : Gateway of India\n",
    "- Kolkata : Victoria Memorial\n",
    "- Chennai : Botanical Garden\n",
    "- Pune: Shaniwar Wada\n",
    "\n",
    "Write a python script to implement this functionality"
   ]
  },
  {
   "cell_type": "code",
   "execution_count": 13,
   "id": "8ae99762",
   "metadata": {},
   "outputs": [
    {
     "name": "stdout",
     "output_type": "stream",
     "text": [
      "You have entered some different city\n"
     ]
    }
   ],
   "source": [
    "city = input(\"Enter your city name: \")\n",
    "\n",
    "if city==\"Mumbai\" :\n",
    "    print(\"The famous monument to visit is Gateway of India\")\n",
    "elif city==\"Kolkata\":\n",
    "    print(\"The famous monument to visit is Victorial Memorial\")\n",
    "elif city==\"Chennai\":\n",
    "    print(\"The famous monument to visit is Botanical Garden\")\n",
    "elif city==\"Pune\":\n",
    "    print(\"The famous monument to visit is Shaniwar Wada\")\n",
    "else:\n",
    "    print(\"You have entered some different city\")\n"
   ]
  }
 ],
 "metadata": {
  "kernelspec": {
   "display_name": "Python 3",
   "language": "python",
   "name": "python3"
  },
  "language_info": {
   "codemirror_mode": {
    "name": "ipython",
    "version": 3
   },
   "file_extension": ".py",
   "mimetype": "text/x-python",
   "name": "python",
   "nbconvert_exporter": "python",
   "pygments_lexer": "ipython3",
   "version": "3.10.9"
  }
 },
 "nbformat": 4,
 "nbformat_minor": 5
}
