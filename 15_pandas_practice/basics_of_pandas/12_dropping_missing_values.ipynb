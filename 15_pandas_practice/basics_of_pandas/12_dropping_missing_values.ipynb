{
 "cells": [
  {
   "cell_type": "markdown",
   "id": "9f724bd1",
   "metadata": {},
   "source": [
    "Dropping Missing Values in Pandas"
   ]
  },
  {
   "cell_type": "code",
   "execution_count": 1,
   "id": "1436d7dd",
   "metadata": {},
   "outputs": [
    {
     "name": "stdout",
     "output_type": "stream",
     "text": [
      "    Name   Age     City\n",
      "0   Amit  25.0    Delhi\n",
      "1  Priya   NaN   Mumbai\n",
      "2   John  22.0      NaN\n",
      "3    NaN  28.0  Chennai\n",
      "4   Neha  30.0      NaN\n",
      "5   Ravi   NaN  Kolkata\n",
      "6    NaN  27.0    Delhi\n"
     ]
    }
   ],
   "source": [
    "import pandas as pd\n",
    "import numpy as np\n",
    "\n",
    "data = {\n",
    "    'Name': ['Amit', 'Priya', 'John', np.nan, 'Neha', 'Ravi', np.nan],\n",
    "    'Age': [25, np.nan, 22, 28, 30, np.nan, 27],\n",
    "    'City': ['Delhi', 'Mumbai', np.nan, 'Chennai', np.nan, 'Kolkata', 'Delhi']\n",
    "}\n",
    "\n",
    "df = pd.DataFrame(data)\n",
    "print(df)\n"
   ]
  },
  {
   "cell_type": "markdown",
   "id": "0312f651",
   "metadata": {},
   "source": [
    "Step1 : Detecting the missing values first"
   ]
  },
  {
   "cell_type": "code",
   "execution_count": 2,
   "id": "3127fcf3",
   "metadata": {},
   "outputs": [
    {
     "name": "stdout",
     "output_type": "stream",
     "text": [
      "Name    2\n",
      "Age     2\n",
      "City    2\n",
      "dtype: int64\n"
     ]
    }
   ],
   "source": [
    "print(df.isna().sum())"
   ]
  },
  {
   "cell_type": "markdown",
   "id": "19738d71",
   "metadata": {},
   "source": [
    "Step2 : Deleting the null values"
   ]
  },
  {
   "cell_type": "code",
   "execution_count": 5,
   "id": "08328a75",
   "metadata": {},
   "outputs": [
    {
     "name": "stdout",
     "output_type": "stream",
     "text": [
      "   Name   Age   City\n",
      "0  Amit  25.0  Delhi\n"
     ]
    }
   ],
   "source": [
    "clear = df.dropna()\n",
    "print(clear)"
   ]
  },
  {
   "cell_type": "markdown",
   "id": "c08c72fd",
   "metadata": {},
   "source": [
    "### Practice Task"
   ]
  },
  {
   "cell_type": "markdown",
   "id": "33d2caae",
   "metadata": {},
   "source": [
    "Q1. Count how many missing values are there in each column of this DataFrame\n",
    "\n",
    "Q2. Drop only the rows where both 'Name' and 'Score' are missing.\n",
    "\n",
    "Q3. Drop all columns where even one NaN exists.\n",
    "\n",
    "Q4. Create a copy of the DataFrame and drop all rows where Subject is missing.\n",
    "\n",
    "Q5. Find the percentage of missing values in each column (rounded to 2 decimals)."
   ]
  },
  {
   "cell_type": "code",
   "execution_count": null,
   "id": "686e7e16",
   "metadata": {},
   "outputs": [
    {
     "name": "stdout",
     "output_type": "stream",
     "text": [
      "Name       2\n",
      "Score      1\n",
      "Subject    1\n",
      "dtype: int64\n",
      "    Name  Score\n",
      "0  Aryan   90.0\n",
      "1   None   88.0\n",
      "2  Megha    NaN\n",
      "3   Riya   75.0\n",
      "4   None   65.0\n",
      "Empty DataFrame\n",
      "Columns: []\n",
      "Index: [0, 1, 2, 3, 4]\n",
      "    Name  Score  Subject\n",
      "0  Aryan   90.0     Math\n",
      "1   None   88.0  Science\n",
      "2  Megha    NaN  English\n",
      "4   None   65.0     Math\n",
      "Name       40.0\n",
      "Score      20.0\n",
      "Subject    20.0\n",
      "dtype: float64\n"
     ]
    }
   ],
   "source": [
    "import pandas as pd\n",
    "\n",
    "data = {\n",
    "    'Name': ['Aryan', None, 'Megha', 'Riya', None],\n",
    "    'Score': [90, 88, None, 75, 65],\n",
    "    'Subject': ['Math', 'Science', 'English', None, 'Math']\n",
    "}\n",
    "df = pd.DataFrame(data)\n",
    "\n",
    "\n",
    "#q1 calculating the total missing values in each column\n",
    "print(df.isna().sum())\n",
    "\n",
    "#q2 drop the columns where both name and score are missing\n",
    "print(df.dropna(subset=[\"Name\",\"Score\"],how=\"all\"))\n",
    "\n",
    "#q3 drop all columns where even one NaN exists\n",
    "print(df.dropna(axis=1))\n",
    "\n",
    "#q4 create a copy of df and drop the rows where subject is missing\n",
    "result = df.copy()\n",
    "print(result.dropna(subset=\"Subject\"))\n",
    "\n",
    "#q5 percentage of missing value in each column\n",
    "percent_missing = (df.isna().sum() / len(df)) * 100\n",
    "print(percent_missing.round(2))"
   ]
  }
 ],
 "metadata": {
  "kernelspec": {
   "display_name": "Python 3",
   "language": "python",
   "name": "python3"
  },
  "language_info": {
   "codemirror_mode": {
    "name": "ipython",
    "version": 3
   },
   "file_extension": ".py",
   "mimetype": "text/x-python",
   "name": "python",
   "nbconvert_exporter": "python",
   "pygments_lexer": "ipython3",
   "version": "3.10.9"
  }
 },
 "nbformat": 4,
 "nbformat_minor": 5
}
