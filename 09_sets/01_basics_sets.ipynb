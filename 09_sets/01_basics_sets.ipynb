{
 "cells": [
  {
   "cell_type": "markdown",
   "id": "d415e341",
   "metadata": {},
   "source": [
    "# SETS"
   ]
  },
  {
   "cell_type": "markdown",
   "id": "bd7204e5",
   "metadata": {},
   "source": [
    "Creating a set"
   ]
  },
  {
   "cell_type": "code",
   "execution_count": 4,
   "id": "1ae4408f",
   "metadata": {},
   "outputs": [
    {
     "name": "stdout",
     "output_type": "stream",
     "text": [
      "{32, 50, 40, 60, 30}\n",
      "<class 'set'>\n",
      "{40, 10, 20, 30}\n"
     ]
    }
   ],
   "source": [
    "set1 = {30,40,50,60,32}\n",
    "print(set1)\n",
    "print(type(set1))\n",
    "\n",
    "set2 = set([10,20,30,40])\n",
    "print(set2)"
   ]
  },
  {
   "cell_type": "markdown",
   "id": "34a5aebc",
   "metadata": {},
   "source": [
    "Creating an empty set"
   ]
  },
  {
   "cell_type": "code",
   "execution_count": 3,
   "id": "24279844",
   "metadata": {},
   "outputs": [
    {
     "name": "stdout",
     "output_type": "stream",
     "text": [
      "<class 'set'>\n"
     ]
    }
   ],
   "source": [
    "empty = set()\n",
    "print(type(empty))\n"
   ]
  },
  {
   "cell_type": "markdown",
   "id": "ddbf3fbb",
   "metadata": {},
   "source": [
    "Properties of set"
   ]
  },
  {
   "cell_type": "markdown",
   "id": "6ab58201",
   "metadata": {},
   "source": [
    "1. UNORDERED"
   ]
  },
  {
   "cell_type": "code",
   "execution_count": null,
   "id": "0d0a8db1",
   "metadata": {},
   "outputs": [
    {
     "name": "stdout",
     "output_type": "stream",
     "text": [
      "{34, 24, 56, 12, 45}\n"
     ]
    }
   ],
   "source": [
    "\n",
    "#This property means that it is not necessary that the elements will be printed int the exact order as we have written therefore it is unordered.\n",
    "#Due to this property of sets we cannot perform slicing or indexing either.\n",
    "\n",
    "mySet = {12,24,34,45,56}\n",
    "print(mySet)\n",
    "\n"
   ]
  },
  {
   "cell_type": "markdown",
   "id": "a4b48c58",
   "metadata": {},
   "source": [
    "2. UNIQUE ELEMENTS"
   ]
  },
  {
   "cell_type": "code",
   "execution_count": null,
   "id": "d8c6b710",
   "metadata": {},
   "outputs": [
    {
     "name": "stdout",
     "output_type": "stream",
     "text": [
      "{34, 3, 5, 43, 12, 13, 78, 76, 21, 54, 23, 26}\n"
     ]
    }
   ],
   "source": [
    "my_set = {3,5,78,54,13,26,43,43,23,34,43,21,12,76,78}\n",
    "print(my_set) \n",
    "\n",
    "#this eliminates the duplicate values and provides only unique ones."
   ]
  },
  {
   "cell_type": "markdown",
   "id": "9e557888",
   "metadata": {},
   "source": [
    "3. ITERABLE\n"
   ]
  },
  {
   "cell_type": "code",
   "execution_count": null,
   "id": "a576d910",
   "metadata": {},
   "outputs": [
    {
     "name": "stdout",
     "output_type": "stream",
     "text": [
      "23\n",
      "89\n",
      "90\n",
      "76\n",
      "45\n"
     ]
    }
   ],
   "source": [
    "set1 = {23, 45, 76, 89, 90}\n",
    "for i in set1 :\n",
    "    print(i)\n",
    "\n",
    "#this means we can iterate over a set but again the order is jumbled"
   ]
  },
  {
   "cell_type": "markdown",
   "id": "2e50f539",
   "metadata": {},
   "source": [
    "4. HASHABLE ELEMENTS"
   ]
  },
  {
   "cell_type": "code",
   "execution_count": null,
   "id": "4db7be8b",
   "metadata": {},
   "outputs": [
    {
     "name": "stdout",
     "output_type": "stream",
     "text": [
      "{True, 2, 3.8, 90, (89, 32, 12, 3.0), (89+7j)}\n"
     ]
    }
   ],
   "source": [
    "# this means that lists and dictionaries can not become an element of a set\n",
    "\n",
    "set1 = {2,3.8,90,(89,32,12,3.0),89+7j,True}\n",
    "print(set1)\n",
    "\n",
    "set2 = {{\"a\":\"apple\",\"b\":\"ball\"},False, 90, 67.4}\n",
    "# print(set2) this will produce an error because of dict\n",
    "\n",
    "set3 = {90,87,56,[96,83,23]}\n",
    "# print(set3) this will also produce an error due to list"
   ]
  }
 ],
 "metadata": {
  "kernelspec": {
   "display_name": "Python 3",
   "language": "python",
   "name": "python3"
  },
  "language_info": {
   "codemirror_mode": {
    "name": "ipython",
    "version": 3
   },
   "file_extension": ".py",
   "mimetype": "text/x-python",
   "name": "python",
   "nbconvert_exporter": "python",
   "pygments_lexer": "ipython3",
   "version": "3.10.9"
  }
 },
 "nbformat": 4,
 "nbformat_minor": 5
}
