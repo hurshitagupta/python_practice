{
 "cells": [
  {
   "cell_type": "markdown",
   "id": "664b727d",
   "metadata": {},
   "source": [
    "#### Broadcasting in NumPy "
   ]
  },
  {
   "cell_type": "markdown",
   "id": "4a369f33",
   "metadata": {},
   "source": [
    "NumPy broadcasting is a mechanism that allows NumPy to perform arithmetic operations on arrays of different shapes and sizes"
   ]
  },
  {
   "cell_type": "code",
   "execution_count": 3,
   "id": "b510c35e",
   "metadata": {},
   "outputs": [
    {
     "name": "stdout",
     "output_type": "stream",
     "text": [
      "[ 90.  166.5 207.   49.5 126. ]\n"
     ]
    }
   ],
   "source": [
    "#Example of Broadcasting:\n",
    "import numpy as np\n",
    "\n",
    "#made an array of grocery price items\n",
    "price_of_items = np.array([100,185,230,55,140])\n",
    "\n",
    "#discount applied to each item is 10%\n",
    "discount_applied = 10\n",
    "\n",
    "#making a new array to store the final price of the items once the discount is applied:\n",
    "final_price_check = price_of_items - (price_of_items* (discount_applied/100))\n",
    "print(final_price_check)\n"
   ]
  },
  {
   "cell_type": "markdown",
   "id": "966ceda3",
   "metadata": {},
   "source": [
    "How numpy handles calculations on different shapes and sizes"
   ]
  },
  {
   "cell_type": "markdown",
   "id": "7c7d6056",
   "metadata": {},
   "source": [
    "1. Matching Dimension"
   ]
  },
  {
   "cell_type": "code",
   "execution_count": null,
   "id": "e21624d6",
   "metadata": {},
   "outputs": [
    {
     "name": "stdout",
     "output_type": "stream",
     "text": [
      "[ 60  80 100 120]\n"
     ]
    }
   ],
   "source": [
    "import numpy as np\n",
    "\n",
    "arr1 = np.array([10,20,30,40])\n",
    "arr2 = np.array([50,60,70,80])\n",
    "\n",
    "arr3 = arr1 + arr2\n",
    "print(arr3)\n",
    "\n",
    "#this basically adds the corresponding elements with each other"
   ]
  },
  {
   "cell_type": "markdown",
   "id": "9140d758",
   "metadata": {},
   "source": [
    "2. Expanding single elements"
   ]
  },
  {
   "cell_type": "code",
   "execution_count": null,
   "id": "6f736207",
   "metadata": {},
   "outputs": [
    {
     "name": "stdout",
     "output_type": "stream",
     "text": [
      "[13 23 33 43 53]\n"
     ]
    }
   ],
   "source": [
    "arr = np.array([10,20,30,40,50])\n",
    "elem = 3\n",
    "\n",
    "#adds 3 in each element of arr array\n",
    "new_arr = arr + elem\n",
    "print(new_arr)"
   ]
  },
  {
   "cell_type": "code",
   "execution_count": null,
   "id": "22a64444",
   "metadata": {},
   "outputs": [],
   "source": [
    "arr_5_elem = np.array([10,20,30,40,50])\n",
    "arr_3_elem  = np.array([90,80,70])\n",
    "\n",
    "#adding 2 arrays of diff size\n",
    "new_arr = arr_3_elem+arr_5_elem\n",
    "print(new_arr) #this will give an error"
   ]
  },
  {
   "cell_type": "markdown",
   "id": "5afbaa87",
   "metadata": {},
   "source": [
    "Braodcasting from 1d to 2d"
   ]
  },
  {
   "cell_type": "code",
   "execution_count": null,
   "id": "2812fbe6",
   "metadata": {},
   "outputs": [
    {
     "name": "stdout",
     "output_type": "stream",
     "text": [
      "[[11 22 33]\n",
      " [41 52 63]]\n"
     ]
    }
   ],
   "source": [
    "import numpy as np\n",
    "\n",
    "#creating a 2d array\n",
    "arr_2d = np.array([[10,20,30],[40,50,60]])\n",
    "arr_1d = np.array([1,2,3])\n",
    "\n",
    "#add the two arrays\n",
    "new_arr = arr_2d+arr_1d\n",
    "print(new_arr)\n",
    "\n",
    "#(matches the dimension - case1)"
   ]
  },
  {
   "cell_type": "markdown",
   "id": "3245b440",
   "metadata": {},
   "source": [
    "Broadcasting from 1d to 2d (incompatible size/shape)"
   ]
  },
  {
   "cell_type": "code",
   "execution_count": null,
   "id": "1f8d8427",
   "metadata": {},
   "outputs": [
    {
     "name": "stdout",
     "output_type": "stream",
     "text": [
      "[[10 20 30]\n",
      " [40 50 60]]\n",
      "[[11 22 33]\n",
      " [44 55 66]]\n"
     ]
    }
   ],
   "source": [
    "import numpy as np\n",
    "\n",
    "#two-dimeansional array\n",
    "arr1 = np.array([[1,2,3],[4,5,6]])\n",
    "\n",
    "#one-dimensional array\n",
    "arr2 = np.array([10,20,30,40,50,60])\n",
    "\n",
    "#adding the two arrays\n",
    "total = arr1+arr2\n",
    "# print(total)\n",
    "#(if you will run this code then it will provide an error because of incompatible shapes)\n",
    "\n",
    "#reshaping the arr2 \n",
    "arr2 = np.reshape(arr2,(2,3))\n",
    "print(arr2)\n",
    "\n",
    "#adding the two arrays\n",
    "total = arr1+arr2\n",
    "print(total)\n"
   ]
  }
 ],
 "metadata": {
  "kernelspec": {
   "display_name": "Python 3",
   "language": "python",
   "name": "python3"
  },
  "language_info": {
   "codemirror_mode": {
    "name": "ipython",
    "version": 3
   },
   "file_extension": ".py",
   "mimetype": "text/x-python",
   "name": "python",
   "nbconvert_exporter": "python",
   "pygments_lexer": "ipython3",
   "version": "3.10.9"
  }
 },
 "nbformat": 4,
 "nbformat_minor": 5
}
