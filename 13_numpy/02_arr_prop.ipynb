{
 "cells": [
  {
   "cell_type": "markdown",
   "id": "7ed09b24",
   "metadata": {},
   "source": [
    "Numpy Array Properties"
   ]
  },
  {
   "cell_type": "markdown",
   "id": "6caf121f",
   "metadata": {},
   "source": [
    "Checking the \"shape\" of the array"
   ]
  },
  {
   "cell_type": "code",
   "execution_count": 2,
   "id": "165b8e21",
   "metadata": {},
   "outputs": [
    {
     "name": "stdout",
     "output_type": "stream",
     "text": [
      "(3, 2)\n"
     ]
    }
   ],
   "source": [
    "import numpy as np #(this is needed)\n",
    "arr = np.array([[1,2],\n",
    "                [3,4],\n",
    "                [5,6]])\n",
    "\n",
    "print(np.shape(arr))"
   ]
  },
  {
   "cell_type": "markdown",
   "id": "14ecaab1",
   "metadata": {},
   "source": [
    "Checking the total numbers of elements in an array"
   ]
  },
  {
   "cell_type": "code",
   "execution_count": 3,
   "id": "5bb9e0d4",
   "metadata": {},
   "outputs": [
    {
     "name": "stdout",
     "output_type": "stream",
     "text": [
      "Total number of elements: 9\n"
     ]
    }
   ],
   "source": [
    "arr = np.array([[10,20,30],[40,50,60],[70,80,90]])\n",
    "\n",
    "print(\"Total number of elements:\",np.size(arr))"
   ]
  },
  {
   "cell_type": "markdown",
   "id": "bb115755",
   "metadata": {},
   "source": [
    "Checking the dimensions of an array"
   ]
  },
  {
   "cell_type": "code",
   "execution_count": 10,
   "id": "25945e66",
   "metadata": {},
   "outputs": [
    {
     "name": "stdout",
     "output_type": "stream",
     "text": [
      "This is a 2 dimensional array\n",
      "This is a 1 dimensional array\n",
      "This is a 4 dimensional array\n"
     ]
    }
   ],
   "source": [
    "arr = np.array([[1,2,4],[5,6,8],[9,10,12]])\n",
    "print(\"This is a\",np.ndim(arr),\"dimensional array\")\n",
    "\n",
    "arr2 = np.array([1,2,3,4,5])\n",
    "print(\"This is a\",np.ndim(arr2),\"dimensional array\")\n",
    "\n",
    "arr3 = np.array([[[[1,2],[3,4],[5,6],[7,8]]]])\n",
    "print(\"This is a\",np.ndim(arr3),\"dimensional array\")"
   ]
  },
  {
   "cell_type": "markdown",
   "id": "edef59dc",
   "metadata": {},
   "source": [
    "Finding the data type of the elements in an array"
   ]
  },
  {
   "cell_type": "code",
   "execution_count": 12,
   "id": "f96e0d76",
   "metadata": {},
   "outputs": [
    {
     "name": "stdout",
     "output_type": "stream",
     "text": [
      "int64\n"
     ]
    }
   ],
   "source": [
    "arr1 = np.array([1,2,3,4,5])\n",
    "print(arr1.dtype)"
   ]
  },
  {
   "cell_type": "markdown",
   "id": "ba5beab6",
   "metadata": {},
   "source": [
    "Data conversion in numpy"
   ]
  },
  {
   "cell_type": "code",
   "execution_count": 13,
   "id": "d3d5edd8",
   "metadata": {},
   "outputs": [
    {
     "name": "stdout",
     "output_type": "stream",
     "text": [
      "Original: float64\n",
      "After conversion: int64\n"
     ]
    }
   ],
   "source": [
    "arr1 = np.array([1,2,3,4.5])\n",
    "int_arr = arr1.astype(int)\n",
    "\n",
    "print(\"Original:\",arr1.dtype)\n",
    "print(\"After conversion:\",int_arr.dtype)"
   ]
  }
 ],
 "metadata": {
  "kernelspec": {
   "display_name": "Python 3",
   "language": "python",
   "name": "python3"
  },
  "language_info": {
   "codemirror_mode": {
    "name": "ipython",
    "version": 3
   },
   "file_extension": ".py",
   "mimetype": "text/x-python",
   "name": "python",
   "nbconvert_exporter": "python",
   "pygments_lexer": "ipython3",
   "version": "3.10.9"
  }
 },
 "nbformat": 4,
 "nbformat_minor": 5
}
