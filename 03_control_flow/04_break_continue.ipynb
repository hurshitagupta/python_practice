{
 "cells": [
  {
   "cell_type": "markdown",
   "id": "099649b3",
   "metadata": {},
   "source": [
    "# Break \n"
   ]
  },
  {
   "cell_type": "markdown",
   "id": "a57c030a",
   "metadata": {},
   "source": [
    "We use the break statement with the for loop to terminate the loop when certain condition is met."
   ]
  },
  {
   "cell_type": "code",
   "execution_count": 2,
   "id": "9fa856b0",
   "metadata": {},
   "outputs": [
    {
     "name": "stdout",
     "output_type": "stream",
     "text": [
      "0\n",
      "1\n",
      "2\n"
     ]
    }
   ],
   "source": [
    "for i in range(5):\n",
    "    if i==3:\n",
    "        break\n",
    "    print(i)"
   ]
  },
  {
   "cell_type": "markdown",
   "id": "5183edd9",
   "metadata": {},
   "source": [
    "# Continue"
   ]
  },
  {
   "cell_type": "markdown",
   "id": "0db22ee8",
   "metadata": {},
   "source": [
    "The continue statement is used to skip the currenet iteration of the loop and the control flow of the program goes to the next iteration"
   ]
  },
  {
   "cell_type": "code",
   "execution_count": 3,
   "id": "eabcdcc3",
   "metadata": {},
   "outputs": [
    {
     "name": "stdout",
     "output_type": "stream",
     "text": [
      "0\n",
      "1\n",
      "3\n",
      "4\n"
     ]
    }
   ],
   "source": [
    "for i in range(5):\n",
    "    if(i==2):\n",
    "        continue\n",
    "    print(i)"
   ]
  }
 ],
 "metadata": {
  "kernelspec": {
   "display_name": "Python 3",
   "language": "python",
   "name": "python3"
  },
  "language_info": {
   "codemirror_mode": {
    "name": "ipython",
    "version": 3
   },
   "file_extension": ".py",
   "mimetype": "text/x-python",
   "name": "python",
   "nbconvert_exporter": "python",
   "pygments_lexer": "ipython3",
   "version": "3.10.9"
  }
 },
 "nbformat": 4,
 "nbformat_minor": 5
}
