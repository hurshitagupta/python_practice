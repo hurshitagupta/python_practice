{
 "cells": [
  {
   "cell_type": "markdown",
   "id": "288437b5",
   "metadata": {},
   "source": [
    "Advanced Filtering And Conditioning"
   ]
  },
  {
   "cell_type": "code",
   "execution_count": 2,
   "id": "0acc8d77",
   "metadata": {},
   "outputs": [
    {
     "name": "stdout",
     "output_type": "stream",
     "text": [
      "   Product     Category  Price  Quantity\n",
      "0   Laptop  Electronics  75000         2\n",
      "1    Phone  Electronics  30000         3\n",
      "2   Tablet  Electronics  20000         1\n",
      "3  Monitor  Electronics  12000         4\n",
      "4    Phone  Electronics  28000         2\n",
      "5  Speaker        Audio   7000         5\n",
      "6   Laptop  Electronics  80000         1\n",
      "7   Tablet  Electronics  22000         3\n",
      "8  Monitor  Electronics  13000         2\n",
      "9  Speaker        Audio   7500         4\n"
     ]
    }
   ],
   "source": [
    "import pandas as pd\n",
    "\n",
    "data = {\n",
    "    \"Product\": [\"Laptop\", \"Phone\", \"Tablet\", \"Monitor\", \"Phone\", \"Speaker\", \"Laptop\", \"Tablet\", \"Monitor\", \"Speaker\"],\n",
    "    \"Category\": [\"Electronics\", \"Electronics\", \"Electronics\", \"Electronics\", \"Electronics\", \"Audio\", \"Electronics\", \"Electronics\", \"Electronics\", \"Audio\"],\n",
    "    \"Price\": [75000, 30000, 20000, 12000, 28000, 7000, 80000, 22000, 13000, 7500],\n",
    "    \"Quantity\": [2, 3, 1, 4, 2, 5, 1, 3, 2, 4]\n",
    "}\n",
    "df = pd.DataFrame(data)\n",
    "print(df)"
   ]
  },
  {
   "cell_type": "markdown",
   "id": "d3f19f4c",
   "metadata": {},
   "source": [
    "Practice Tasks"
   ]
  },
  {
   "cell_type": "markdown",
   "id": "c6dc5f75",
   "metadata": {},
   "source": [
    "Q1. Filter rows where Price is greater than 50,000\n",
    "\n",
    "Q2. Filter rows where Quantity is between 2 and 4 (inclusive)\n",
    "\n",
    "Q3. Show all products in the “Audio” category\n",
    "\n",
    "Q4. Show all products where Product is either ‘Phone’ or ‘Laptop’\n",
    "\n",
    "Q5. Show products whose name starts with the letter ‘T’"
   ]
  },
  {
   "cell_type": "code",
   "execution_count": 13,
   "id": "fc97e0ad",
   "metadata": {},
   "outputs": [
    {
     "name": "stdout",
     "output_type": "stream",
     "text": [
      "  Product     Category  Price  Quantity\n",
      "0  Laptop  Electronics  75000         2\n",
      "6  Laptop  Electronics  80000         1\n",
      "   Product     Category  Price  Quantity\n",
      "0   Laptop  Electronics  75000         2\n",
      "1    Phone  Electronics  30000         3\n",
      "3  Monitor  Electronics  12000         4\n",
      "4    Phone  Electronics  28000         2\n",
      "7   Tablet  Electronics  22000         3\n",
      "8  Monitor  Electronics  13000         2\n",
      "9  Speaker        Audio   7500         4\n",
      "5    Speaker\n",
      "9    Speaker\n",
      "Name: Product, dtype: object\n",
      "  Product     Category  Price  Quantity\n",
      "0  Laptop  Electronics  75000         2\n",
      "1   Phone  Electronics  30000         3\n",
      "4   Phone  Electronics  28000         2\n",
      "6  Laptop  Electronics  80000         1\n",
      "  Product     Category  Price  Quantity\n",
      "2  Tablet  Electronics  20000         1\n",
      "7  Tablet  Electronics  22000         3\n"
     ]
    }
   ],
   "source": [
    "#q1 - filter rows where Price is greater than 50,000\n",
    "price_above_50k = df[df[\"Price\"] > 50000]\n",
    "print(price_above_50k)\n",
    "\n",
    "#q2 - Filter rows where Quantity is between 2 and 4 (inclusive)\n",
    "qty = df[df[\"Quantity\"].between(2,4)]\n",
    "print(qty)\n",
    "\n",
    "#q3 - Show all products in the “Audio” category\n",
    "audio_category = df[df[\"Category\"] == \"Audio\"]\n",
    "print(audio_category[\"Product\"])\n",
    "\n",
    "#q4 - Show all products where Product is either ‘Phone’ or ‘Laptop’\n",
    "phone_or_laptop = df[df[\"Product\"].isin([\"Phone\",\"Laptop\"])]\n",
    "print(phone_or_laptop)\n",
    "\n",
    "#q5 - Show products whose name starts with the letter ‘T’\n",
    "product_start_T = df[df[\"Product\"].str.startswith(\"T\")]\n",
    "print(product_start_T)\n"
   ]
  }
 ],
 "metadata": {
  "kernelspec": {
   "display_name": "Python 3",
   "language": "python",
   "name": "python3"
  },
  "language_info": {
   "codemirror_mode": {
    "name": "ipython",
    "version": 3
   },
   "file_extension": ".py",
   "mimetype": "text/x-python",
   "name": "python",
   "nbconvert_exporter": "python",
   "pygments_lexer": "ipython3",
   "version": "3.10.9"
  }
 },
 "nbformat": 4,
 "nbformat_minor": 5
}
