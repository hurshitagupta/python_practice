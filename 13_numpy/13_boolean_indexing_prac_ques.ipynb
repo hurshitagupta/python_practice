{
 "cells": [
  {
   "cell_type": "markdown",
   "id": "7235589c",
   "metadata": {},
   "source": [
    "#### Practice Questions (Part-3)"
   ]
  },
  {
   "cell_type": "markdown",
   "id": "ba8c65bd",
   "metadata": {},
   "source": [
    "Q1: Create a new 1D array of 15 random integers from 1 to 100\n",
    "\n",
    "Q2: Print all even numbers from it\n",
    "\n",
    "Q3: Replace all numbers < 50 with 0\n",
    "\n",
    "Q4: Count how many numbers are now 0\n",
    "\n",
    "Q5: Find the indexes of all values > 90"
   ]
  },
  {
   "cell_type": "code",
   "execution_count": 14,
   "id": "d1a18e03",
   "metadata": {},
   "outputs": [
    {
     "name": "stdout",
     "output_type": "stream",
     "text": [
      "[91 92 46 47 15 48 74 13 98 64 91 91 52 13  1]\n",
      "[92 46 48 74 98 64 52]\n",
      "[91 92  0  0  0  0 74  0 98 64 91 91 52  0  0]\n",
      "7\n",
      "(array([ 0,  1,  8, 10, 11]),)\n"
     ]
    }
   ],
   "source": [
    "import numpy as np\n",
    "\n",
    "#creating 1D array of random 15 integers\n",
    "arr = np.random.randint(1,101,size=15)\n",
    "print(arr)\n",
    "\n",
    "#printing all even numbers\n",
    "print(arr[arr % 2 == 0])\n",
    "\n",
    "#replacing numbers less than 50 with 0\n",
    "arr[arr < 50] = 0\n",
    "print(arr)\n",
    "\n",
    "#counting how many 0's are there in the modified array\n",
    "print(np.sum(arr == 0))\n",
    "\n",
    "#finding the indexes where value is > 90\n",
    "\n",
    "indexes = np.where(arr > 90)\n",
    "print(indexes)"
   ]
  }
 ],
 "metadata": {
  "kernelspec": {
   "display_name": "Python 3",
   "language": "python",
   "name": "python3"
  },
  "language_info": {
   "codemirror_mode": {
    "name": "ipython",
    "version": 3
   },
   "file_extension": ".py",
   "mimetype": "text/x-python",
   "name": "python",
   "nbconvert_exporter": "python",
   "pygments_lexer": "ipython3",
   "version": "3.10.9"
  }
 },
 "nbformat": 4,
 "nbformat_minor": 5
}
