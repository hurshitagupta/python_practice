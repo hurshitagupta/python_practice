{
 "cells": [
  {
   "cell_type": "markdown",
   "id": "adf3a2d7",
   "metadata": {},
   "source": [
    "# Strings"
   ]
  },
  {
   "cell_type": "markdown",
   "id": "2d48917c",
   "metadata": {},
   "source": [
    "Creating strings in python"
   ]
  },
  {
   "cell_type": "code",
   "execution_count": 1,
   "id": "1176b7cf",
   "metadata": {},
   "outputs": [
    {
     "name": "stdout",
     "output_type": "stream",
     "text": [
      "Learning python\n",
      "<class 'str'>\n"
     ]
    }
   ],
   "source": [
    "a = \"Learning python\"\n",
    "print(a)\n",
    "print(type(a))"
   ]
  },
  {
   "cell_type": "markdown",
   "id": "38e40e34",
   "metadata": {},
   "source": [
    "Creating multiline strings"
   ]
  },
  {
   "cell_type": "code",
   "execution_count": 2,
   "id": "bd60bb7a",
   "metadata": {},
   "outputs": [
    {
     "name": "stdout",
     "output_type": "stream",
     "text": [
      "Hello learners\n",
      "I am learning multiline strings\n",
      "Hope you enjoy\n",
      "<class 'str'>\n"
     ]
    }
   ],
   "source": [
    "message = \"\"\"Hello learners\n",
    "I am learning multiline strings\n",
    "Hope you enjoy\"\"\"\n",
    "\n",
    "print(message)\n",
    "print(type(message))"
   ]
  },
  {
   "cell_type": "markdown",
   "id": "d8078a39",
   "metadata": {},
   "source": [
    "Indexing of strings"
   ]
  },
  {
   "cell_type": "code",
   "execution_count": 5,
   "id": "94b259d7",
   "metadata": {},
   "outputs": [
    {
     "name": "stdout",
     "output_type": "stream",
     "text": [
      "H\n",
      "d\n"
     ]
    }
   ],
   "source": [
    "a = \"Hello World\"\n",
    "\n",
    "print(a[0]) #printing the first letter\n",
    "print(a[-1]) #printing the last letter\n"
   ]
  },
  {
   "cell_type": "markdown",
   "id": "361270f6",
   "metadata": {},
   "source": [
    "Slicing of Strings"
   ]
  },
  {
   "cell_type": "code",
   "execution_count": null,
   "id": "f1bba1ea",
   "metadata": {},
   "outputs": [
    {
     "name": "stdout",
     "output_type": "stream",
     "text": [
      "am\n",
      "I am lea\n",
      " learning python\n",
      "I am \n",
      "I am learning python\n"
     ]
    }
   ],
   "source": [
    "a = \"I am learning python\"\n",
    "\n",
    "print(a[2:4]) #printing \"am\"\n",
    "print(a[0:8])\n",
    "print(a[4:])\n",
    "print(a[:5])\n",
    "print(a[:]) #printing full string\n"
   ]
  },
  {
   "cell_type": "markdown",
   "id": "e1214e5d",
   "metadata": {},
   "source": [
    "Slicing with jump"
   ]
  },
  {
   "cell_type": "code",
   "execution_count": 12,
   "id": "3a61efd1",
   "metadata": {},
   "outputs": [
    {
     "name": "stdout",
     "output_type": "stream",
     "text": [
      "Ia e\n",
      "Imengyo\n"
     ]
    }
   ],
   "source": [
    "a = \"I am learning python\"\n",
    "\n",
    "print(a[0:8:2])\n",
    "print(a[::3])"
   ]
  },
  {
   "cell_type": "markdown",
   "id": "601dd95b",
   "metadata": {},
   "source": [
    "Negative slicing"
   ]
  },
  {
   "cell_type": "code",
   "execution_count": 14,
   "id": "c3d3ac84",
   "metadata": {},
   "outputs": [
    {
     "name": "stdout",
     "output_type": "stream",
     "text": [
      " learning py\n",
      "a er\n"
     ]
    }
   ],
   "source": [
    "a = \"I am learning python\"\n",
    "\n",
    "print(a[-16:-4])\n",
    "print(a[-18:-10:2])"
   ]
  }
 ],
 "metadata": {
  "kernelspec": {
   "display_name": "Python 3",
   "language": "python",
   "name": "python3"
  },
  "language_info": {
   "codemirror_mode": {
    "name": "ipython",
    "version": 3
   },
   "file_extension": ".py",
   "mimetype": "text/x-python",
   "name": "python",
   "nbconvert_exporter": "python",
   "pygments_lexer": "ipython3",
   "version": "3.10.9"
  }
 },
 "nbformat": 4,
 "nbformat_minor": 5
}
