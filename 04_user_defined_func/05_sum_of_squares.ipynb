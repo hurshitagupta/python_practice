{
 "cells": [
  {
   "cell_type": "markdown",
   "id": "38cb7b6d",
   "metadata": {},
   "source": [
    "# Practice Question"
   ]
  },
  {
   "cell_type": "markdown",
   "id": "f304c934",
   "metadata": {},
   "source": [
    "Question. You are tasked with creating a program to calculate the sum of squares of the first n natural numbers, where n is entered by the user.\n",
    "\n",
    "Write Python code to prompt the user to enter a positive integer n. Use a loop to calculate the sum of squares of the first n natural numbers.\n",
    "\n",
    "Define a user defined function to encapsulate the sum of squares calculation logic and call this function with the user's input"
   ]
  },
  {
   "cell_type": "code",
   "execution_count": 1,
   "id": "69b3d16a",
   "metadata": {},
   "outputs": [
    {
     "name": "stdout",
     "output_type": "stream",
     "text": [
      "The square sum is:  102510\n"
     ]
    }
   ],
   "source": [
    "num = int(input(\"Enter the positive number: \"))\n",
    "\n",
    "def square_sum():\n",
    "    sum=0\n",
    "\n",
    "    for i in range(num+1):\n",
    "        sum = sum + i**2\n",
    "\n",
    "    return sum\n",
    "\n",
    "final_output =square_sum()\n",
    "print(\"The square sum is: \",final_output)"
   ]
  }
 ],
 "metadata": {
  "kernelspec": {
   "display_name": "Python 3",
   "language": "python",
   "name": "python3"
  },
  "language_info": {
   "codemirror_mode": {
    "name": "ipython",
    "version": 3
   },
   "file_extension": ".py",
   "mimetype": "text/x-python",
   "name": "python",
   "nbconvert_exporter": "python",
   "pygments_lexer": "ipython3",
   "version": "3.10.9"
  }
 },
 "nbformat": 4,
 "nbformat_minor": 5
}
