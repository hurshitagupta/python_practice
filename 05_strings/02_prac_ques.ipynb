{
 "cells": [
  {
   "cell_type": "markdown",
   "id": "95dcb29a",
   "metadata": {},
   "source": [
    "Practice Question\n",
    "\n",
    "WAP to reverse the string \"Honesty is the best policy\"\n"
   ]
  },
  {
   "cell_type": "code",
   "execution_count": 2,
   "id": "9c66ce94",
   "metadata": {},
   "outputs": [
    {
     "name": "stdout",
     "output_type": "stream",
     "text": [
      "ycilop tseb eht si ytsenoH\n"
     ]
    }
   ],
   "source": [
    "string = \"Honesty is the best policy\"\n",
    "\n",
    "print(string[::-1])"
   ]
  },
  {
   "cell_type": "markdown",
   "id": "2c58c648",
   "metadata": {},
   "source": [
    "Write a python function that takes a string as input and returns the substring from the 3rd to the 8th character."
   ]
  },
  {
   "cell_type": "code",
   "execution_count": null,
   "id": "afdd4ad0",
   "metadata": {},
   "outputs": [
    {
     "name": "stdout",
     "output_type": "stream",
     "text": [
      "Resultant substring:   i am h\n"
     ]
    }
   ],
   "source": [
    "str_input = input(\"Enter a string: \")\n",
    "\n",
    "def extracting_string_parts(str_input):\n",
    "\n",
    "    extracted = str_input[2:9]\n",
    "\n",
    "    return extracted\n",
    "\n",
    "output = extracting_string_parts(str_input)\n",
    "print(\"Resultant substring:\",output)\n"
   ]
  },
  {
   "cell_type": "markdown",
   "id": "4077db93",
   "metadata": {},
   "source": [
    "Write a python function that takes a date string in the format \"YYYY-MM-DD\" and return a tuple containing the year, month and day as integers\n",
    "\n",
    "Example input : \"2024-05-26\"\n",
    "\n",
    "Expected Output: (2024,05,26)"
   ]
  },
  {
   "cell_type": "code",
   "execution_count": 1,
   "id": "871f9c5e",
   "metadata": {},
   "outputs": [
    {
     "name": "stdout",
     "output_type": "stream",
     "text": [
      "('2025', '06', '23')\n"
     ]
    }
   ],
   "source": [
    "date_input = input(\"Enter the date: \")\n",
    "\n",
    "def date_formatting(date_input):\n",
    "    year =  date_input[0:4]\n",
    "    month = date_input[5:7]\n",
    "    day = date_input[8:10]\n",
    "\n",
    "    return(year,month,day)\n",
    "\n",
    "output = date_formatting(date_input)\n",
    "print(output)"
   ]
  }
 ],
 "metadata": {
  "kernelspec": {
   "display_name": "Python 3",
   "language": "python",
   "name": "python3"
  },
  "language_info": {
   "codemirror_mode": {
    "name": "ipython",
    "version": 3
   },
   "file_extension": ".py",
   "mimetype": "text/x-python",
   "name": "python",
   "nbconvert_exporter": "python",
   "pygments_lexer": "ipython3",
   "version": "3.10.9"
  }
 },
 "nbformat": 4,
 "nbformat_minor": 5
}
