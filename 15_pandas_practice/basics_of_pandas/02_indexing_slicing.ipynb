{
 "cells": [
  {
   "cell_type": "markdown",
   "id": "f5d6c6ea",
   "metadata": {},
   "source": [
    "Indexing and Slicing in Series"
   ]
  },
  {
   "cell_type": "markdown",
   "id": "46924dee",
   "metadata": {},
   "source": [
    "Indexing"
   ]
  },
  {
   "cell_type": "code",
   "execution_count": null,
   "id": "9dd8ae23",
   "metadata": {},
   "outputs": [
    {
     "name": "stdout",
     "output_type": "stream",
     "text": [
      "Day1            Pizza\n",
      "Day2            Pasta\n",
      "Day3           Burger\n",
      "Day4       Rajma Rice\n",
      "Day5    Chole Bhature\n",
      "dtype: object\n"
     ]
    }
   ],
   "source": [
    "import pandas as pd\n",
    "\n",
    "food = pd.Series({\"Day1\":\"Pizza\",\"Day2\":\"Pasta\",\"Day3\":\"Burger\",\"Day4\":\"Rajma Rice\",\"Day5\":\"Chole Bhature\"})\n",
    "print(food)\n"
   ]
  },
  {
   "cell_type": "markdown",
   "id": "b5cc0727",
   "metadata": {},
   "source": [
    "1. Position Based Indexing (use iloc(integer location))"
   ]
  },
  {
   "cell_type": "code",
   "execution_count": 3,
   "id": "0f863b40",
   "metadata": {},
   "outputs": [
    {
     "name": "stdout",
     "output_type": "stream",
     "text": [
      "Pizza\n",
      "Chole Bhature\n",
      "Pizza\n",
      "Chole Bhature\n"
     ]
    },
    {
     "name": "stderr",
     "output_type": "stream",
     "text": [
      "C:\\Users\\Hurshita Gupta\\AppData\\Local\\Temp\\ipykernel_13856\\3898989382.py:2: FutureWarning: Series.__getitem__ treating keys as positions is deprecated. In a future version, integer keys will always be treated as labels (consistent with DataFrame behavior). To access a value by position, use `ser.iloc[pos]`\n",
      "  print(food[0])\n",
      "C:\\Users\\Hurshita Gupta\\AppData\\Local\\Temp\\ipykernel_13856\\3898989382.py:5: FutureWarning: Series.__getitem__ treating keys as positions is deprecated. In a future version, integer keys will always be treated as labels (consistent with DataFrame behavior). To access a value by position, use `ser.iloc[pos]`\n",
      "  print(food[-1])\n"
     ]
    }
   ],
   "source": [
    "#extracting first element\n",
    "print(food[0])\n",
    "\n",
    "#extracting last element\n",
    "print(food[-1])\n",
    "\n",
    "#using iloc(integer location)\n",
    "print(food.iloc[0])\n",
    "print(food.iloc[-1])\n"
   ]
  },
  {
   "cell_type": "markdown",
   "id": "bb3bb19f",
   "metadata": {},
   "source": [
    "Label Based Indexing"
   ]
  },
  {
   "cell_type": "code",
   "execution_count": 5,
   "id": "159f870c",
   "metadata": {},
   "outputs": [
    {
     "name": "stdout",
     "output_type": "stream",
     "text": [
      "Burger\n",
      "Pasta\n"
     ]
    }
   ],
   "source": [
    "#extracting 3rd day value\n",
    "print(food[\"Day3\"])\n",
    "\n",
    "#we can also use loc to access the values\n",
    "print(food.loc[\"Day2\"])\n"
   ]
  },
  {
   "cell_type": "markdown",
   "id": "d426947c",
   "metadata": {},
   "source": [
    "Slicing"
   ]
  },
  {
   "cell_type": "markdown",
   "id": "c8e61d37",
   "metadata": {},
   "source": [
    "1. Integer Based Slicing"
   ]
  },
  {
   "cell_type": "code",
   "execution_count": 8,
   "id": "e0a5729c",
   "metadata": {},
   "outputs": [
    {
     "name": "stdout",
     "output_type": "stream",
     "text": [
      "Day1    Pizza\n",
      "Day2    Pasta\n",
      "dtype: object\n",
      "Day3        Burger\n",
      "Day4    Rajma Rice\n",
      "dtype: object\n"
     ]
    }
   ],
   "source": [
    "print(food.iloc[0:2])\n",
    "#it will not print the value for 2nd index as it is explicit , just like python\n",
    "\n",
    "\n",
    "#it supports negative slicing too\n",
    "print(food.iloc[-3:-1])\n"
   ]
  },
  {
   "cell_type": "markdown",
   "id": "9db4c934",
   "metadata": {},
   "source": [
    "2. Label Based Slicing"
   ]
  },
  {
   "cell_type": "code",
   "execution_count": null,
   "id": "5e426790",
   "metadata": {},
   "outputs": [
    {
     "name": "stdout",
     "output_type": "stream",
     "text": [
      "Day1         Pizza\n",
      "Day2         Pasta\n",
      "Day3        Burger\n",
      "Day4    Rajma Rice\n",
      "dtype: object\n"
     ]
    }
   ],
   "source": [
    "print(food.loc[\"Day1\":\"Day4\"])\n",
    "#remember! : label based slicing does print the value of upper limit as it is implicit\n"
   ]
  },
  {
   "cell_type": "markdown",
   "id": "c919abff",
   "metadata": {},
   "source": [
    "Modifying the Values in Series"
   ]
  },
  {
   "cell_type": "code",
   "execution_count": 13,
   "id": "613413dd",
   "metadata": {},
   "outputs": [
    {
     "name": "stdout",
     "output_type": "stream",
     "text": [
      "Day1           Pulses\n",
      "Day2            Pasta\n",
      "Day3           Burger\n",
      "Day4       Rajma Rice\n",
      "Day5    Chole Bhature\n",
      "dtype: object\n",
      "Day1           Pulses\n",
      "Day2            Pasta\n",
      "Day3           Burger\n",
      "Day4       Rajma Rice\n",
      "Day5    Chole Bhature\n",
      "dtype: object\n",
      "Day1           Pulses\n",
      "Day2          Noodles\n",
      "Day3           Burger\n",
      "Day4       Rajma Rice\n",
      "Day5    Chole Bhature\n",
      "dtype: object\n"
     ]
    }
   ],
   "source": [
    "print(food)\n",
    "\n",
    "#modifying the value for Day1\n",
    "food[\"Day1\"] = \"Pulses\"\n",
    "print(food)\n",
    "\n",
    "#modifying the value for Day2\n",
    "food.iloc[1] = \"Noodles\"\n",
    "print(food)"
   ]
  },
  {
   "cell_type": "markdown",
   "id": "8388f096",
   "metadata": {},
   "source": [
    "Adding a new entry in Series"
   ]
  },
  {
   "cell_type": "code",
   "execution_count": 16,
   "id": "b30eca6b",
   "metadata": {},
   "outputs": [
    {
     "name": "stdout",
     "output_type": "stream",
     "text": [
      "Day1           Pulses\n",
      "Day2          Noodles\n",
      "Day3           Burger\n",
      "Day4       Rajma Rice\n",
      "Day5    Chole Bhature\n",
      "Day6     Bread Butter\n",
      "dtype: object\n"
     ]
    }
   ],
   "source": [
    "food[\"Day6\"] = \"Bread Butter\"\n",
    "print(food)\n"
   ]
  },
  {
   "cell_type": "markdown",
   "id": "917cf83a",
   "metadata": {},
   "source": [
    "Deleting an entry from the Series"
   ]
  },
  {
   "cell_type": "code",
   "execution_count": 19,
   "id": "07ada124",
   "metadata": {},
   "outputs": [
    {
     "name": "stdout",
     "output_type": "stream",
     "text": [
      "Day2          Noodles\n",
      "Day3           Burger\n",
      "Day4       Rajma Rice\n",
      "Day5    Chole Bhature\n",
      "Day6     Bread Butter\n",
      "dtype: object\n"
     ]
    }
   ],
   "source": [
    "food.drop(\"Day1\", inplace=True)\n",
    "print(food)"
   ]
  },
  {
   "cell_type": "markdown",
   "id": "e68649ab",
   "metadata": {},
   "source": [
    "### Practice Task"
   ]
  },
  {
   "cell_type": "markdown",
   "id": "12a61154",
   "metadata": {},
   "source": [
    "1. Create a Series of 5 fav songs with Day1-Day5 as index\n",
    "songs = pd.Series([...], index=[...])\n",
    "\n",
    "2. Access:\n",
    "\n",
    "    a. Song on Day3 (by label)\n",
    "\n",
    "    b. Song at position 2 (by number)\n",
    "\n",
    "3. Slice:\n",
    "\n",
    "    a. From Day2 to Day4 (label-based)\n",
    "\n",
    "    b. From 1 to 4 (position-based)\n",
    "\n",
    "4. Modify the song on Day1 to something else\n",
    "\n",
    "5. Add a new Day6 with a new song\n",
    "\n",
    "6. Drop Day4"
   ]
  },
  {
   "cell_type": "code",
   "execution_count": 22,
   "id": "97267922",
   "metadata": {},
   "outputs": [
    {
     "name": "stdout",
     "output_type": "stream",
     "text": [
      "Day1      Sapphire\n",
      "Day2       Perfect\n",
      "Day3    Photograph\n",
      "Day4      Memories\n",
      "Day5    Dandelions\n",
      "dtype: object\n",
      "Photograph\n",
      "Perfect\n",
      "Day2       Perfect\n",
      "Day3    Photograph\n",
      "Day4      Memories\n",
      "dtype: object\n",
      "Day1      Sapphire\n",
      "Day2       Perfect\n",
      "Day3    Photograph\n",
      "Day4      Memories\n",
      "dtype: object\n",
      "Day1    Wavin Flag\n",
      "Day2       Perfect\n",
      "Day3    Photograph\n",
      "Day4      Memories\n",
      "Day5    Dandelions\n",
      "dtype: object\n",
      "Day1      Wavin Flag\n",
      "Day2         Perfect\n",
      "Day3      Photograph\n",
      "Day4        Memories\n",
      "Day5      Dandelions\n",
      "Day6    Dance Monkey\n",
      "dtype: object\n",
      "Day1      Wavin Flag\n",
      "Day2         Perfect\n",
      "Day3      Photograph\n",
      "Day5      Dandelions\n",
      "Day6    Dance Monkey\n",
      "dtype: object\n"
     ]
    }
   ],
   "source": [
    "import pandas as pd\n",
    "\n",
    "songs = pd.Series({\"Day1\":\"Sapphire\",\"Day2\":\"Perfect\",\"Day3\":\"Photograph\",\"Day4\":\"Memories\",\"Day5\":\"Dandelions\"})\n",
    "\n",
    "print(songs)\n",
    "\n",
    "#task 2 - accessing elements\n",
    "\n",
    "print(songs[\"Day3\"])\n",
    "print(songs.iloc[1])\n",
    "\n",
    "#task3 - slicing\n",
    "\n",
    "print(songs[\"Day2\":\"Day4\"])\n",
    "print(songs[0:4])\n",
    "\n",
    "#task4 - modifying\n",
    "\n",
    "songs[\"Day1\"] = \"Wavin Flag\"\n",
    "print(songs)\n",
    "\n",
    "#task5 - adding a new song\n",
    "\n",
    "songs[\"Day6\"] = \"Dance Monkey\"\n",
    "print(songs)\n",
    "\n",
    "#task 6 - drop day4\n",
    "\n",
    "songs.drop(\"Day4\",inplace=True)\n",
    "print(songs)"
   ]
  }
 ],
 "metadata": {
  "kernelspec": {
   "display_name": "Python 3",
   "language": "python",
   "name": "python3"
  },
  "language_info": {
   "codemirror_mode": {
    "name": "ipython",
    "version": 3
   },
   "file_extension": ".py",
   "mimetype": "text/x-python",
   "name": "python",
   "nbconvert_exporter": "python",
   "pygments_lexer": "ipython3",
   "version": "3.10.9"
  }
 },
 "nbformat": 4,
 "nbformat_minor": 5
}
