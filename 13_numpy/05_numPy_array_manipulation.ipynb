{
 "cells": [
  {
   "cell_type": "markdown",
   "id": "3262794d",
   "metadata": {},
   "source": [
    "Boolean Masking/ Filtering"
   ]
  },
  {
   "cell_type": "markdown",
   "id": "e949bd0e",
   "metadata": {},
   "source": [
    "###### This helps in filtering the data through conditions"
   ]
  },
  {
   "cell_type": "code",
   "execution_count": 1,
   "id": "e194da64",
   "metadata": {},
   "outputs": [
    {
     "name": "stdout",
     "output_type": "stream",
     "text": [
      "[40 50]\n"
     ]
    }
   ],
   "source": [
    "import numpy as np\n",
    "arr = np.array([10,20,30,40,50])\n",
    "\n",
    "print(arr[arr>30])"
   ]
  },
  {
   "cell_type": "markdown",
   "id": "d62713cc",
   "metadata": {},
   "source": [
    "Reshaping -> converting a 1D into 2D or NDarray"
   ]
  },
  {
   "cell_type": "code",
   "execution_count": 1,
   "id": "bd5a8786",
   "metadata": {},
   "outputs": [
    {
     "name": "stdout",
     "output_type": "stream",
     "text": [
      "[[1 2 3]\n",
      " [4 5 6]]\n"
     ]
    }
   ],
   "source": [
    "import numpy as np\n",
    "\n",
    "arr1 = np.array([1,2,3,4,5,6])\n",
    "\n",
    "print(arr1.reshape(2,3))"
   ]
  },
  {
   "cell_type": "markdown",
   "id": "0f86e80c",
   "metadata": {},
   "source": [
    "Ravel -> converts 2D/ND array into 1D (makes a  view)"
   ]
  },
  {
   "cell_type": "code",
   "execution_count": 2,
   "id": "d7e0a84f",
   "metadata": {},
   "outputs": [
    {
     "name": "stdout",
     "output_type": "stream",
     "text": [
      "[1 2 3 4 5 6]\n"
     ]
    }
   ],
   "source": [
    "import numpy as np\n",
    "\n",
    "# create a 2D array\n",
    "\n",
    "arr2 = np.array([[1,2,3],[4,5,6]])\n",
    "print(arr2.ravel())"
   ]
  },
  {
   "cell_type": "markdown",
   "id": "9dd2d8de",
   "metadata": {},
   "source": [
    "Flatten -> converts 2D/ND into 1D (makes a copy)"
   ]
  },
  {
   "cell_type": "code",
   "execution_count": 3,
   "id": "d8bbb6a4",
   "metadata": {},
   "outputs": [
    {
     "name": "stdout",
     "output_type": "stream",
     "text": [
      "[10 20 30 40 50 60]\n"
     ]
    }
   ],
   "source": [
    "import numpy as np\n",
    "\n",
    "#create a 2D array\n",
    "arr_2d = np.array([[10,20,30],[40,50,60]])\n",
    "print(arr_2d.flatten())"
   ]
  }
 ],
 "metadata": {
  "kernelspec": {
   "display_name": "Python 3",
   "language": "python",
   "name": "python3"
  },
  "language_info": {
   "codemirror_mode": {
    "name": "ipython",
    "version": 3
   },
   "file_extension": ".py",
   "mimetype": "text/x-python",
   "name": "python",
   "nbconvert_exporter": "python",
   "pygments_lexer": "ipython3",
   "version": "3.10.9"
  }
 },
 "nbformat": 4,
 "nbformat_minor": 5
}
