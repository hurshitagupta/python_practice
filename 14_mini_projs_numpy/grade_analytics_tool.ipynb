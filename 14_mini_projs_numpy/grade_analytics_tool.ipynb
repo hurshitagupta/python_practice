{
 "cells": [
  {
   "cell_type": "markdown",
   "id": "5b603c1a",
   "metadata": {},
   "source": [
    "### GRADE ANALYTICS TOOL\n"
   ]
  },
  {
   "cell_type": "markdown",
   "id": "89dd56d1",
   "metadata": {},
   "source": [
    "Goal: You’re given a bunch of student marks (like a teacher’s record), and you have to:\n",
    "\n",
    "- Analyze the marks\n",
    "- Find stats like average, highest, lowest, etc.\n",
    "- How many students got above 90\n",
    "- How many failed (<40)\n",
    "- How many are in the range (60-79) ?\n",
    "- Number of students who passed?\n",
    "- Grade distribution\n",
    "\n"
   ]
  },
  {
   "cell_type": "code",
   "execution_count": null,
   "id": "5786beb1",
   "metadata": {},
   "outputs": [
    {
     "name": "stdout",
     "output_type": "stream",
     "text": [
      "Grade Analytics Summary                               \n",
      "-----------------------                                         \n",
      "Average Marks: 70.0                           \n",
      "Highest Marks: 96                                  \n",
      "Lowest Marks: 32                                  \n",
      "90+ scorers: 3                                        \n",
      "Students (60-79): 4             \n",
      "                                \n",
      "🟢 Pass: 14   🔴 Fail: 1 \n",
      "\n",
      "************************\n",
      "\n",
      "🎯Grade Distribution:\n",
      "------------------------\n",
      "A-Grade(90-100) : 3 \n",
      "B-Grade(80-89) : 3\n",
      "C-Grade(70-79) : 2\n",
      "D-Grade(60-69) : 2\n",
      "E-Grade(41-59) : 4\n",
      "F-Grade(<40) : 1\n",
      "\n",
      "\n"
     ]
    }
   ],
   "source": [
    "import numpy as np\n",
    "\n",
    "#Recording the student's marks\n",
    "stu_marks = np.array([96,83,72,85,65,56,61,32,54,49,93,55,78,81,90])\n",
    "\n",
    "#Finding the stats \n",
    "\n",
    "#average-\n",
    "average_of_stu_marks = np.mean(stu_marks)\n",
    "\n",
    "#maximum-\n",
    "max_stu_marks = np.max(stu_marks)\n",
    "\n",
    "#minimum\n",
    "min_stu_marks = np.min(stu_marks)\n",
    "\n",
    "#students who secured more than 90 or equal to 90\n",
    "a_scorer = np.sum(stu_marks >= 90)\n",
    "\n",
    "#students who failed\n",
    "failures = np.sum(stu_marks < 40)\n",
    "\n",
    "#students who fall in range of 60-79\n",
    "stu_in_range = (stu_marks>=60) & (stu_marks<79)\n",
    "\n",
    "#grade distribution\n",
    "b_scorer = (stu_marks >= 80) & (stu_marks <= 89)\n",
    "c_scorer = (stu_marks >= 70) & (stu_marks <= 79)\n",
    "d_scorer = (stu_marks >= 60) & (stu_marks <= 69)\n",
    "e_scorer = (stu_marks >= 41) & (stu_marks <= 59)\n",
    "\n",
    "print(f\"\"\"Grade Analytics Summary                               \n",
    "-----------------------                                         \n",
    "Average Marks: {average_of_stu_marks}                           \n",
    "Highest Marks: {max_stu_marks}                                  \n",
    "Lowest Marks: {min_stu_marks}                                  \n",
    "90+ scorers: {a_scorer}                                        \n",
    "Students (60-79): {np.sum(stu_in_range)}             \n",
    "                                \n",
    "🟢 Pass: {len(stu_marks)-failures}   🔴 Fail: {failures} \n",
    "\n",
    "************************\n",
    "\n",
    "🎯 Grade Distribution:\n",
    "------------------------\n",
    "A-Grade(90-100) : {a_scorer} \n",
    "B-Grade(80-89) : {np.sum(b_scorer)}\n",
    "C-Grade(70-79) : {np.sum(c_scorer)}\n",
    "D-Grade(60-69) : {np.sum(d_scorer)}\n",
    "E-Grade(41-59) : {np.sum(e_scorer)}\n",
    "F-Grade(<40) : {failures}\n",
    "\n",
    "\"\"\")\n"
   ]
  }
 ],
 "metadata": {
  "kernelspec": {
   "display_name": "Python 3",
   "language": "python",
   "name": "python3"
  },
  "language_info": {
   "codemirror_mode": {
    "name": "ipython",
    "version": 3
   },
   "file_extension": ".py",
   "mimetype": "text/x-python",
   "name": "python",
   "nbconvert_exporter": "python",
   "pygments_lexer": "ipython3",
   "version": "3.10.9"
  }
 },
 "nbformat": 4,
 "nbformat_minor": 5
}
