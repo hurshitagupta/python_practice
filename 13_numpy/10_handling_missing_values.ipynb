{
 "cells": [
  {
   "cell_type": "markdown",
   "id": "0215c2a7",
   "metadata": {},
   "source": [
    "#### Handling missing values in numPy"
   ]
  },
  {
   "cell_type": "markdown",
   "id": "95f1b780",
   "metadata": {},
   "source": [
    "1. isnan() - Checks if an array holds any NaN value, if yes then it returns True"
   ]
  },
  {
   "cell_type": "code",
   "execution_count": 1,
   "id": "6d9200d8",
   "metadata": {},
   "outputs": [
    {
     "name": "stdout",
     "output_type": "stream",
     "text": [
      "[False False  True False False  True]\n"
     ]
    }
   ],
   "source": [
    "import numpy as np\n",
    "\n",
    "arr1 = np.array([1,2,np.nan,4,5,np.nan])\n",
    "\n",
    "print(np.isnan(arr1))"
   ]
  },
  {
   "cell_type": "markdown",
   "id": "367042f7",
   "metadata": {},
   "source": [
    "2. nan_to_num() - Converts the NaN value to a number, 0 by default"
   ]
  },
  {
   "cell_type": "code",
   "execution_count": 8,
   "id": "7aa81429",
   "metadata": {},
   "outputs": [
    {
     "name": "stdout",
     "output_type": "stream",
     "text": [
      "[  1.   2. 100.   4.   5. 100.]\n"
     ]
    }
   ],
   "source": [
    "import numpy as np\n",
    "\n",
    "arr2 = np.array([1,2,np.nan,4,5,np.nan])\n",
    "arr3  = np.nan_to_num(arr2,nan=100)\n",
    "print(arr3)\n"
   ]
  },
  {
   "cell_type": "markdown",
   "id": "b974bec1",
   "metadata": {},
   "source": [
    "3. isinf() - checks if the array holds infinite value, if yes then returns True"
   ]
  },
  {
   "cell_type": "code",
   "execution_count": 9,
   "id": "b571d8f8",
   "metadata": {},
   "outputs": [
    {
     "name": "stdout",
     "output_type": "stream",
     "text": [
      "[False False  True False False]\n"
     ]
    }
   ],
   "source": [
    "import numpy as np\n",
    "\n",
    "arr1 = np.array([10,20,np.inf,40,50])\n",
    "\n",
    "print(np.isinf(arr1))"
   ]
  },
  {
   "cell_type": "markdown",
   "id": "503f9780",
   "metadata": {},
   "source": [
    "4. Converting the infinite value into positive int or negative int"
   ]
  },
  {
   "cell_type": "code",
   "execution_count": 15,
   "id": "eead52f7",
   "metadata": {},
   "outputs": [
    {
     "name": "stdout",
     "output_type": "stream",
     "text": [
      "Array with NaN values: [False False False False False False  True False]\n",
      "The cleaned array after converting NaN to num is: [    1.     2. -1000.     3.     4.  1000.    10.     5.]\n"
     ]
    }
   ],
   "source": [
    "import numpy as np\n",
    "\n",
    "arr1 = np.array([1,2,-np.inf,3,4,np.inf,np.nan,5])\n",
    "#first check if the array contains any NaN value\n",
    "print(\"Array with NaN values:\",np.isnan(arr1))\n",
    "\n",
    "#if yes, then now convert the nan value into positive integer or negative integer as per the need.\n",
    "cleaned_arr = np.nan_to_num(arr1, nan=10, posinf=1000, neginf=-1000)\n",
    "print(\"The cleaned array after converting NaN to num is:\",cleaned_arr)\n"
   ]
  }
 ],
 "metadata": {
  "kernelspec": {
   "display_name": "Python 3",
   "language": "python",
   "name": "python3"
  },
  "language_info": {
   "codemirror_mode": {
    "name": "ipython",
    "version": 3
   },
   "file_extension": ".py",
   "mimetype": "text/x-python",
   "name": "python",
   "nbconvert_exporter": "python",
   "pygments_lexer": "ipython3",
   "version": "3.10.9"
  }
 },
 "nbformat": 4,
 "nbformat_minor": 5
}
